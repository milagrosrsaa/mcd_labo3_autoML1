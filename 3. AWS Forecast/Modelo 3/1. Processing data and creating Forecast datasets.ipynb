{
 "cells": [
  {
   "cell_type": "markdown",
   "metadata": {},
   "source": [
    "<center>\n",
    "  <h2>Trabajo Laboratorio de Implementación III - MCD Virtual Cohorte 2022</h2>\n",
    "  <h3>Forecasting para una Empresa de Consumo Masivo</h3>\n",
    "  <h4>Preprocesamiento de datos y creación de datasets para forecast</h4>\n",
    "</center>"
   ]
  },
  {
   "cell_type": "code",
   "execution_count": 1,
   "metadata": {},
   "outputs": [],
   "source": [
    "# Importación librerias\n",
    "\n",
    "# !pip install awswrangler\n",
    "# !pip install boto3\n",
    "import boto3\n",
    "import awswrangler as wr\n",
    "import pandas as pd\n",
    "import numpy as np\n",
    "import warnings\n",
    "from datetime import datetime\n",
    "from dateutil.relativedelta import relativedelta\n",
    "warnings.filterwarnings(\"ignore\")"
   ]
  },
  {
   "cell_type": "code",
   "execution_count": 2,
   "metadata": {},
   "outputs": [
    {
     "name": "stdout",
     "output_type": "stream",
     "text": [
      "Fecha inicio historia 2017-01-01 00:00:00\n",
      "Fecha fin historia 2019-12-01 00:00:00\n",
      "Fecha futura (related time series) 2020-02-01 00:00:00\n"
     ]
    }
   ],
   "source": [
    "# Definición fechas\n",
    "\n",
    "date_start=datetime.strptime('2017-01-01', '%Y-%m-%d')\n",
    "date_end=datetime.strptime('2019-12-01', '%Y-%m-%d')\n",
    "forecast_length = 2\n",
    "date_future=date_end+relativedelta(months=forecast_length)\n",
    "years=range(2018, 2020)\n",
    "\n",
    "print(f\"Fecha inicio historia {date_start}\")\n",
    "print(f\"Fecha fin historia {date_end}\")\n",
    "print(f\"Fecha futura (related time series) {date_future}\")\n",
    "\n",
    "# Versión modelo\n",
    "data_version = '3'\n",
    "grouped_cols = \"product_id\"\n",
    "grouped_cols_name = \"product\""
   ]
  },
  {
   "cell_type": "code",
   "execution_count": 3,
   "metadata": {},
   "outputs": [],
   "source": [
    "# Conexiones AWS\n",
    "\n",
    "account_id=boto3.client('sts').get_caller_identity().get('Account')\n",
    "session = boto3.Session() \n",
    "forecast = session.client(service_name='forecast')\n",
    "region = forecast.meta.region_name\n",
    "forecastquery = session.client(service_name='forecastquery')"
   ]
  },
  {
   "cell_type": "code",
   "execution_count": 5,
   "metadata": {},
   "outputs": [],
   "source": [
    "# Buckets de datos\n",
    "\n",
    "target_s3_path=f's3://datasets-forecast-account1/modelo-{data_version}-forecast-{grouped_cols_name}/target/df_ventas_{grouped_cols_name}.csv'\n",
    "items_s3_path=f's3://datasets-forecast-account1/modelo-{data_version}-forecast-{grouped_cols_name}/product/df_products.csv'\n",
    "related_s3_path=f's3://datasets-forecast-account1/modelo-{data_version}-forecast-{grouped_cols_name}/related/df_related_{grouped_cols_name}.csv'"
   ]
  },
  {
   "cell_type": "code",
   "execution_count": 7,
   "metadata": {},
   "outputs": [],
   "source": [
    "# Verificar comunicación con Amazon Forecast\n",
    "assert forecast.list_predictors()"
   ]
  },
  {
   "cell_type": "markdown",
   "metadata": {},
   "source": [
    "### Procesamiento de datos de ventas"
   ]
  },
  {
   "cell_type": "markdown",
   "metadata": {},
   "source": [
    "- Skus a predecir"
   ]
  },
  {
   "cell_type": "code",
   "execution_count": 8,
   "metadata": {},
   "outputs": [],
   "source": [
    "skus_a_predecir = pd.read_csv(\"C:/Users/usuario/otros/Desktop\\MCD/6 Labo III/Forecasting Problem/Datasets/productos_a_predecir.txt\", delimiter='\\t')\n",
    "skus_a_predecir = skus_a_predecir.product_id.to_list()"
   ]
  },
  {
   "cell_type": "markdown",
   "metadata": {},
   "source": [
    "- Datos de ventas"
   ]
  },
  {
   "cell_type": "code",
   "execution_count": 9,
   "metadata": {},
   "outputs": [
    {
     "data": {
      "text/html": [
       "<div>\n",
       "<style scoped>\n",
       "    .dataframe tbody tr th:only-of-type {\n",
       "        vertical-align: middle;\n",
       "    }\n",
       "\n",
       "    .dataframe tbody tr th {\n",
       "        vertical-align: top;\n",
       "    }\n",
       "\n",
       "    .dataframe thead th {\n",
       "        text-align: right;\n",
       "    }\n",
       "</style>\n",
       "<table border=\"1\" class=\"dataframe\">\n",
       "  <thead>\n",
       "    <tr style=\"text-align: right;\">\n",
       "      <th></th>\n",
       "      <th>periodo</th>\n",
       "      <th>customer_id</th>\n",
       "      <th>product_id</th>\n",
       "      <th>plan_precios_cuidados</th>\n",
       "      <th>cust_request_qty</th>\n",
       "      <th>cust_request_tn</th>\n",
       "      <th>tn</th>\n",
       "    </tr>\n",
       "  </thead>\n",
       "  <tbody>\n",
       "    <tr>\n",
       "      <th>0</th>\n",
       "      <td>2017-01-01</td>\n",
       "      <td>10234</td>\n",
       "      <td>20524</td>\n",
       "      <td>0</td>\n",
       "      <td>2</td>\n",
       "      <td>0.053</td>\n",
       "      <td>0.053</td>\n",
       "    </tr>\n",
       "  </tbody>\n",
       "</table>\n",
       "</div>"
      ],
      "text/plain": [
       "     periodo  customer_id  product_id  plan_precios_cuidados   \n",
       "0 2017-01-01        10234       20524                      0  \\\n",
       "\n",
       "   cust_request_qty  cust_request_tn     tn  \n",
       "0                 2            0.053  0.053  "
      ]
     },
     "execution_count": 9,
     "metadata": {},
     "output_type": "execute_result"
    }
   ],
   "source": [
    "df_ventas = pd.read_csv(\"C:/Users/usuario/otros/Desktop\\MCD/6 Labo III/Forecasting Problem/Datasets/sell-in.txt\", delimiter='\\t')\n",
    "df_ventas['periodo'] = df_ventas['periodo'].astype(str)\n",
    "df_ventas['periodo'] = pd.to_datetime(df_ventas['periodo'], format='%Y%m')\n",
    "df_ventas = df_ventas[df_ventas.product_id.isin(skus_a_predecir)]\n",
    "df_ventas.head(1)"
   ]
  },
  {
   "cell_type": "code",
   "execution_count": 10,
   "metadata": {},
   "outputs": [
    {
     "name": "stdout",
     "output_type": "stream",
     "text": [
      "Cantidad productos finales a predecir: 780\n"
     ]
    }
   ],
   "source": [
    "print(f\"Cantidad productos finales a predecir: {len(df_ventas.product_id.drop_duplicates())}\")"
   ]
  },
  {
   "cell_type": "code",
   "execution_count": 11,
   "metadata": {},
   "outputs": [
    {
     "data": {
      "text/html": [
       "<div>\n",
       "<style scoped>\n",
       "    .dataframe tbody tr th:only-of-type {\n",
       "        vertical-align: middle;\n",
       "    }\n",
       "\n",
       "    .dataframe tbody tr th {\n",
       "        vertical-align: top;\n",
       "    }\n",
       "\n",
       "    .dataframe thead th {\n",
       "        text-align: right;\n",
       "    }\n",
       "</style>\n",
       "<table border=\"1\" class=\"dataframe\">\n",
       "  <thead>\n",
       "    <tr style=\"text-align: right;\">\n",
       "      <th></th>\n",
       "      <th>periodo</th>\n",
       "      <th>product_id</th>\n",
       "      <th>tn</th>\n",
       "    </tr>\n",
       "  </thead>\n",
       "  <tbody>\n",
       "    <tr>\n",
       "      <th>0</th>\n",
       "      <td>2017-01-01</td>\n",
       "      <td>20001</td>\n",
       "      <td>934.77222</td>\n",
       "    </tr>\n",
       "  </tbody>\n",
       "</table>\n",
       "</div>"
      ],
      "text/plain": [
       "     periodo  product_id         tn\n",
       "0 2017-01-01       20001  934.77222"
      ]
     },
     "execution_count": 11,
     "metadata": {},
     "output_type": "execute_result"
    }
   ],
   "source": [
    "df_ventas_product = df_ventas.groupby([\"periodo\", \"product_id\"])[\"tn\"].sum().reset_index()\n",
    "df_ventas_product.head(1)"
   ]
  },
  {
   "cell_type": "code",
   "execution_count": 12,
   "metadata": {},
   "outputs": [
    {
     "data": {
      "text/plain": [
       "periodo       0\n",
       "product_id    0\n",
       "tn            0\n",
       "dtype: int64"
      ]
     },
     "execution_count": 12,
     "metadata": {},
     "output_type": "execute_result"
    }
   ],
   "source": [
    "df_ventas_product.isna().sum()"
   ]
  },
  {
   "cell_type": "code",
   "execution_count": 13,
   "metadata": {},
   "outputs": [
    {
     "data": {
      "text/plain": [
       "True"
      ]
     },
     "execution_count": 13,
     "metadata": {},
     "output_type": "execute_result"
    }
   ],
   "source": [
    "df_ventas_product.tn.sum().round(1) == df_ventas.tn.sum().round(1) "
   ]
  },
  {
   "cell_type": "code",
   "execution_count": 14,
   "metadata": {},
   "outputs": [
    {
     "name": "stdout",
     "output_type": "stream",
     "text": [
      "Min periodo 2017-01-01 00:00:00\n",
      "Max periodo 2019-12-01 00:00:00\n",
      "Tipos por columna: \n",
      "periodo       datetime64[ns]\n",
      "product_id            object\n",
      "tn                   float64\n",
      "dtype: object\n"
     ]
    },
    {
     "data": {
      "text/plain": [
       "{'paths': ['s3://datasets-forecast-account1/modelo-3-forecast-product/target/df_ventas_product.csv'],\n",
       " 'partitions_values': {}}"
      ]
     },
     "execution_count": 14,
     "metadata": {},
     "output_type": "execute_result"
    }
   ],
   "source": [
    "# Exportamos data de ventas product\n",
    "df_ventas_product_export = df_ventas_product[(df_ventas_product['periodo']>=date_start) & (df_ventas_product['periodo']<=date_end)]\n",
    "df_ventas_product_export['product_id'] = df_ventas_product_export['product_id'].astype(str)\n",
    "print(f\"Min periodo {df_ventas_product_export.periodo.min()}\")\n",
    "print(f\"Max periodo {df_ventas_product_export.periodo.max()}\")\n",
    "print(f\"Tipos por columna: \\n{df_ventas_product_export.dtypes}\")\n",
    "wr.s3.to_csv(df_ventas_product_export, target_s3_path, index=False, header=False)"
   ]
  },
  {
   "cell_type": "markdown",
   "metadata": {},
   "source": [
    "### Procesamiento de datos de productos"
   ]
  },
  {
   "cell_type": "code",
   "execution_count": 15,
   "metadata": {},
   "outputs": [
    {
     "data": {
      "text/html": [
       "<div>\n",
       "<style scoped>\n",
       "    .dataframe tbody tr th:only-of-type {\n",
       "        vertical-align: middle;\n",
       "    }\n",
       "\n",
       "    .dataframe tbody tr th {\n",
       "        vertical-align: top;\n",
       "    }\n",
       "\n",
       "    .dataframe thead th {\n",
       "        text-align: right;\n",
       "    }\n",
       "</style>\n",
       "<table border=\"1\" class=\"dataframe\">\n",
       "  <thead>\n",
       "    <tr style=\"text-align: right;\">\n",
       "      <th></th>\n",
       "      <th>cat1</th>\n",
       "      <th>cat2</th>\n",
       "      <th>cat3</th>\n",
       "      <th>brand</th>\n",
       "      <th>sku_size</th>\n",
       "      <th>product_id</th>\n",
       "    </tr>\n",
       "  </thead>\n",
       "  <tbody>\n",
       "    <tr>\n",
       "      <th>0</th>\n",
       "      <td>HC</td>\n",
       "      <td>ROPA LAVADO</td>\n",
       "      <td>Liquido</td>\n",
       "      <td>LIMPIEX</td>\n",
       "      <td>900</td>\n",
       "      <td>20280</td>\n",
       "    </tr>\n",
       "    <tr>\n",
       "      <th>1</th>\n",
       "      <td>HC</td>\n",
       "      <td>ROPA LAVADO</td>\n",
       "      <td>Liquido</td>\n",
       "      <td>LIMPIEX</td>\n",
       "      <td>450</td>\n",
       "      <td>20180</td>\n",
       "    </tr>\n",
       "    <tr>\n",
       "      <th>2</th>\n",
       "      <td>HC</td>\n",
       "      <td>ROPA LAVADO</td>\n",
       "      <td>Liquido</td>\n",
       "      <td>LIMPIEX</td>\n",
       "      <td>120</td>\n",
       "      <td>20332</td>\n",
       "    </tr>\n",
       "    <tr>\n",
       "      <th>3</th>\n",
       "      <td>HC</td>\n",
       "      <td>ROPA LAVADO</td>\n",
       "      <td>Liquido</td>\n",
       "      <td>LIMPIEX</td>\n",
       "      <td>450</td>\n",
       "      <td>20222</td>\n",
       "    </tr>\n",
       "    <tr>\n",
       "      <th>4</th>\n",
       "      <td>HC</td>\n",
       "      <td>ROPA LAVADO</td>\n",
       "      <td>Liquido</td>\n",
       "      <td>LIMPIEX</td>\n",
       "      <td>900</td>\n",
       "      <td>20288</td>\n",
       "    </tr>\n",
       "  </tbody>\n",
       "</table>\n",
       "</div>"
      ],
      "text/plain": [
       "  cat1         cat2     cat3    brand  sku_size  product_id\n",
       "0   HC  ROPA LAVADO  Liquido  LIMPIEX       900       20280\n",
       "1   HC  ROPA LAVADO  Liquido  LIMPIEX       450       20180\n",
       "2   HC  ROPA LAVADO  Liquido  LIMPIEX       120       20332\n",
       "3   HC  ROPA LAVADO  Liquido  LIMPIEX       450       20222\n",
       "4   HC  ROPA LAVADO  Liquido  LIMPIEX       900       20288"
      ]
     },
     "execution_count": 15,
     "metadata": {},
     "output_type": "execute_result"
    }
   ],
   "source": [
    "producto = pd.read_csv(\"C:/Users/usuario/otros/Desktop\\MCD/6 Labo III/Forecasting Problem/Datasets/tb_productos.txt\", delimiter='\\t')\n",
    "producto.head(5)"
   ]
  },
  {
   "cell_type": "code",
   "execution_count": 16,
   "metadata": {},
   "outputs": [
    {
     "name": "stdout",
     "output_type": "stream",
     "text": [
      "----ANALISIS DUPLICADOS-----\n",
      "Cantidad productos en maestro productos: 1262\n",
      "Cantidad productos en maestro productos sin repetidos: 1251\n",
      "Cantidad productos en maestro productos: 1251\n"
     ]
    }
   ],
   "source": [
    "print(\"----ANALISIS DUPLICADOS-----\")\n",
    "print(f\"Cantidad productos en maestro productos: {len(producto)}\")\n",
    "print(f\"Cantidad productos en maestro productos sin repetidos: {len(producto.product_id.drop_duplicates())}\")\n",
    "# Observamos que product_id duplicados tienen los mismos valores en las otras columnas, son duplicados y procedemos a eliminarlos \n",
    "producto = producto.drop_duplicates(subset = \"product_id\")\n",
    "print(f\"Cantidad productos en maestro productos: {len(producto)}\")"
   ]
  },
  {
   "cell_type": "code",
   "execution_count": 17,
   "metadata": {},
   "outputs": [
    {
     "name": "stdout",
     "output_type": "stream",
     "text": [
      "Cantidad productos finales a predecir: 780\n"
     ]
    }
   ],
   "source": [
    "producto = producto[producto.product_id.isin(skus_a_predecir)]\n",
    "print(f\"Cantidad productos finales a predecir: {len(producto)}\")"
   ]
  },
  {
   "cell_type": "code",
   "execution_count": 18,
   "metadata": {},
   "outputs": [
    {
     "name": "stdout",
     "output_type": "stream",
     "text": [
      "Tipos por columna \n",
      "product_id    object\n",
      "cat1          object\n",
      "cat2          object\n",
      "cat3          object\n",
      "brand         object\n",
      "sku_size       int64\n",
      "dtype: object\n"
     ]
    },
    {
     "data": {
      "text/plain": [
       "{'paths': ['s3://datasets-forecast-account1/modelo-3-forecast-product/product/df_products.csv'],\n",
       " 'partitions_values': {}}"
      ]
     },
     "execution_count": 18,
     "metadata": {},
     "output_type": "execute_result"
    }
   ],
   "source": [
    "producto = producto[[\"product_id\", \"cat1\", \"cat2\", \"cat3\", \"brand\", \"sku_size\"]]\n",
    "producto['product_id'] = producto['product_id'].astype(str)\n",
    "print(f\"Tipos por columna \\n{producto.dtypes}\")\n",
    "wr.s3.to_csv(producto, items_s3_path, index=False, header=False)"
   ]
  },
  {
   "cell_type": "markdown",
   "metadata": {},
   "source": [
    "### Procesamiento de datos relacionados"
   ]
  },
  {
   "cell_type": "code",
   "execution_count": 19,
   "metadata": {},
   "outputs": [],
   "source": [
    "def create_future_periods(df):\n",
    "    combination = df.groupby([i for i in ['product_id']])[\"periodo\"].apply(lambda s: pd.date_range(s.min(), date_future, freq='MS')).explode().reset_index()\n",
    "    result = pd.merge(combination, df, how = \"left\", on = [\"periodo\", \"product_id\"])\n",
    "    result = result[[\"periodo\", \"product_id\", \"tn\"]]\n",
    "    return result"
   ]
  },
  {
   "cell_type": "code",
   "execution_count": 20,
   "metadata": {},
   "outputs": [],
   "source": [
    "df_related_product_v1 = create_future_periods(df_ventas_product)"
   ]
  },
  {
   "cell_type": "code",
   "execution_count": 21,
   "metadata": {},
   "outputs": [
    {
     "data": {
      "text/html": [
       "<div>\n",
       "<style scoped>\n",
       "    .dataframe tbody tr th:only-of-type {\n",
       "        vertical-align: middle;\n",
       "    }\n",
       "\n",
       "    .dataframe tbody tr th {\n",
       "        vertical-align: top;\n",
       "    }\n",
       "\n",
       "    .dataframe thead th {\n",
       "        text-align: right;\n",
       "    }\n",
       "</style>\n",
       "<table border=\"1\" class=\"dataframe\">\n",
       "  <thead>\n",
       "    <tr style=\"text-align: right;\">\n",
       "      <th></th>\n",
       "      <th>periodo</th>\n",
       "      <th>product_id</th>\n",
       "      <th>tn</th>\n",
       "    </tr>\n",
       "  </thead>\n",
       "  <tbody>\n",
       "    <tr>\n",
       "      <th>0</th>\n",
       "      <td>2017-01-01</td>\n",
       "      <td>20001</td>\n",
       "      <td>934.77222</td>\n",
       "    </tr>\n",
       "  </tbody>\n",
       "</table>\n",
       "</div>"
      ],
      "text/plain": [
       "     periodo  product_id         tn\n",
       "0 2017-01-01       20001  934.77222"
      ]
     },
     "execution_count": 21,
     "metadata": {},
     "output_type": "execute_result"
    }
   ],
   "source": [
    "df_related_product_v1.head(1)"
   ]
  },
  {
   "cell_type": "code",
   "execution_count": 22,
   "metadata": {},
   "outputs": [],
   "source": [
    "def time_features(df):\n",
    "    df_time_features = df.copy()\n",
    "    # Asegúrate de que la columna 'periodo' esté en formato datetime\n",
    "    df_time_features['periodo'] = pd.to_datetime(df_time_features['periodo'], format='%Y-%m-%d')\n",
    "    # Crear las columnas 'mes', 'cuatrimestre' y 'dias del mes\"\n",
    "    df_time_features['month'] = df_time_features['periodo'].dt.month\n",
    "    df_time_features['quarter'] = df_time_features['periodo'].dt.quarter\n",
    "    df_time_features['days_in_month']= df_time_features['periodo'].dt.daysinmonth\n",
    "    return df_time_features"
   ]
  },
  {
   "cell_type": "code",
   "execution_count": 23,
   "metadata": {},
   "outputs": [],
   "source": [
    "df_related_product_v2 = time_features(df_related_product_v1)"
   ]
  },
  {
   "cell_type": "code",
   "execution_count": 24,
   "metadata": {},
   "outputs": [
    {
     "data": {
      "text/html": [
       "<div>\n",
       "<style scoped>\n",
       "    .dataframe tbody tr th:only-of-type {\n",
       "        vertical-align: middle;\n",
       "    }\n",
       "\n",
       "    .dataframe tbody tr th {\n",
       "        vertical-align: top;\n",
       "    }\n",
       "\n",
       "    .dataframe thead th {\n",
       "        text-align: right;\n",
       "    }\n",
       "</style>\n",
       "<table border=\"1\" class=\"dataframe\">\n",
       "  <thead>\n",
       "    <tr style=\"text-align: right;\">\n",
       "      <th></th>\n",
       "      <th>periodo</th>\n",
       "      <th>sundays</th>\n",
       "      <th>saturdays</th>\n",
       "    </tr>\n",
       "  </thead>\n",
       "  <tbody>\n",
       "    <tr>\n",
       "      <th>0</th>\n",
       "      <td>2017-01-01</td>\n",
       "      <td>5</td>\n",
       "      <td>4</td>\n",
       "    </tr>\n",
       "    <tr>\n",
       "      <th>1</th>\n",
       "      <td>2017-02-01</td>\n",
       "      <td>4</td>\n",
       "      <td>4</td>\n",
       "    </tr>\n",
       "    <tr>\n",
       "      <th>2</th>\n",
       "      <td>2017-03-01</td>\n",
       "      <td>4</td>\n",
       "      <td>4</td>\n",
       "    </tr>\n",
       "    <tr>\n",
       "      <th>3</th>\n",
       "      <td>2017-04-01</td>\n",
       "      <td>5</td>\n",
       "      <td>5</td>\n",
       "    </tr>\n",
       "    <tr>\n",
       "      <th>4</th>\n",
       "      <td>2017-05-01</td>\n",
       "      <td>4</td>\n",
       "      <td>4</td>\n",
       "    </tr>\n",
       "  </tbody>\n",
       "</table>\n",
       "</div>"
      ],
      "text/plain": [
       "     periodo  sundays  saturdays\n",
       "0 2017-01-01        5          4\n",
       "1 2017-02-01        4          4\n",
       "2 2017-03-01        4          4\n",
       "3 2017-04-01        5          5\n",
       "4 2017-05-01        4          4"
      ]
     },
     "execution_count": 24,
     "metadata": {},
     "output_type": "execute_result"
    }
   ],
   "source": [
    "# Cantidad de domingos al mes\n",
    "sundays = pd.DataFrame(pd.date_range(start=pd.to_datetime(date_start), end=date_future + pd.offsets.MonthEnd(0)))\n",
    "# sundays = pd.DataFrame(pd.date_range(start=pd.to_datetime(date_start) - pd.DateOffset(years=1), end=date_future + pd.offsets.MonthEnd(0)))\n",
    "sundays.columns = [\"fecha\"]\n",
    "sundays[\"day_week\"] = pd.to_datetime(sundays['fecha'], format='%Y-%m-%d').dt.dayofweek\n",
    "sundays = sundays[sundays.day_week == 6].rename(columns = {\"day_week\":\"sundays\"})\n",
    "sundays = sundays.replace({6:1})\n",
    "sundays['periodo']=sundays['fecha'].apply(lambda x: x.replace(day=1))\n",
    "sundays = sundays.groupby([\"periodo\"])[\"sundays\"].sum().reset_index()\n",
    "sundays['periodo']=pd.to_datetime(sundays['periodo'], format='%Y-%m-%d')\n",
    "sundays[\"sundays\"] = sundays[\"sundays\"].astype(int)\n",
    "# Cantidad de sabados al mes\n",
    "saturdays = pd.DataFrame(pd.date_range(start=pd.to_datetime(date_start), end=date_future + pd.offsets.MonthEnd(0)))\n",
    "# saturdays = pd.DataFrame(pd.date_range(start=pd.to_datetime(date_start) - pd.DateOffset(years=1), end=date_future + pd.offsets.MonthEnd(0)))\n",
    "saturdays.columns = [\"fecha\"]\n",
    "saturdays[\"day_week\"] = pd.to_datetime(saturdays['fecha'], format='%Y-%m-%d').dt.dayofweek\n",
    "saturdays = saturdays[saturdays.day_week == 5].rename(columns = {\"day_week\":\"saturdays\"})\n",
    "saturdays = saturdays.replace({5:1})\n",
    "saturdays['periodo']=saturdays['fecha'].apply(lambda x: x.replace(day=1))\n",
    "saturdays = saturdays.groupby([\"periodo\"])[\"saturdays\"].sum().reset_index()\n",
    "saturdays[\"saturdays\"] = saturdays[\"saturdays\"].astype(int)\n",
    "saturdays['periodo']=pd.to_datetime(saturdays['periodo'], format='%Y-%m-%d')\n",
    "# DF conjunto\n",
    "sundays_saturdays = pd.merge(sundays, saturdays, how = \"inner\", on = \"periodo\")\n",
    "sundays_saturdays.head(5)"
   ]
  },
  {
   "cell_type": "code",
   "execution_count": 25,
   "metadata": {},
   "outputs": [],
   "source": [
    "df_related_product_v3 = pd.merge(df_related_product_v2, sundays_saturdays, how = \"left\", on = \"periodo\")"
   ]
  },
  {
   "cell_type": "code",
   "execution_count": 26,
   "metadata": {},
   "outputs": [],
   "source": [
    "def shift_series(df, columns_shift):\n",
    "    df_shift = df.copy()\n",
    "    # Ordenar el DataFrame por product_id y periodo para aplicar shift correctamente\n",
    "    df_shift = df_shift.sort_values(by = columns_shift + [\"periodo\"])\n",
    "    df_shift['tn_m3'] = df_shift.groupby(columns_shift)['tn'].shift(3)\n",
    "    df_shift['tn_m6'] = df_shift.groupby(columns_shift)['tn'].shift(6)\n",
    "    df_shift['tn_m12'] = df_shift.groupby(columns_shift)['tn'].shift(12)\n",
    "    df_shift = df_shift.drop(columns = \"tn\")\n",
    "    return df_shift"
   ]
  },
  {
   "cell_type": "code",
   "execution_count": 27,
   "metadata": {},
   "outputs": [],
   "source": [
    "df_related_product_v4 = shift_series(df_related_product_v3, columns_shift = [\"product_id\"])"
   ]
  },
  {
   "cell_type": "code",
   "execution_count": 28,
   "metadata": {},
   "outputs": [
    {
     "data": {
      "text/html": [
       "<div>\n",
       "<style scoped>\n",
       "    .dataframe tbody tr th:only-of-type {\n",
       "        vertical-align: middle;\n",
       "    }\n",
       "\n",
       "    .dataframe tbody tr th {\n",
       "        vertical-align: top;\n",
       "    }\n",
       "\n",
       "    .dataframe thead th {\n",
       "        text-align: right;\n",
       "    }\n",
       "</style>\n",
       "<table border=\"1\" class=\"dataframe\">\n",
       "  <thead>\n",
       "    <tr style=\"text-align: right;\">\n",
       "      <th></th>\n",
       "      <th>periodo</th>\n",
       "      <th>product_id</th>\n",
       "      <th>month</th>\n",
       "      <th>quarter</th>\n",
       "      <th>days_in_month</th>\n",
       "      <th>sundays</th>\n",
       "      <th>saturdays</th>\n",
       "      <th>tn_m3</th>\n",
       "      <th>tn_m6</th>\n",
       "      <th>tn_m12</th>\n",
       "    </tr>\n",
       "  </thead>\n",
       "  <tbody>\n",
       "    <tr>\n",
       "      <th>0</th>\n",
       "      <td>2017-01-01</td>\n",
       "      <td>20001</td>\n",
       "      <td>1</td>\n",
       "      <td>1</td>\n",
       "      <td>31</td>\n",
       "      <td>5</td>\n",
       "      <td>4</td>\n",
       "      <td>NaN</td>\n",
       "      <td>NaN</td>\n",
       "      <td>NaN</td>\n",
       "    </tr>\n",
       "    <tr>\n",
       "      <th>1</th>\n",
       "      <td>2017-02-01</td>\n",
       "      <td>20001</td>\n",
       "      <td>2</td>\n",
       "      <td>1</td>\n",
       "      <td>28</td>\n",
       "      <td>4</td>\n",
       "      <td>4</td>\n",
       "      <td>NaN</td>\n",
       "      <td>NaN</td>\n",
       "      <td>NaN</td>\n",
       "    </tr>\n",
       "    <tr>\n",
       "      <th>2</th>\n",
       "      <td>2017-03-01</td>\n",
       "      <td>20001</td>\n",
       "      <td>3</td>\n",
       "      <td>1</td>\n",
       "      <td>31</td>\n",
       "      <td>4</td>\n",
       "      <td>4</td>\n",
       "      <td>NaN</td>\n",
       "      <td>NaN</td>\n",
       "      <td>NaN</td>\n",
       "    </tr>\n",
       "    <tr>\n",
       "      <th>3</th>\n",
       "      <td>2017-04-01</td>\n",
       "      <td>20001</td>\n",
       "      <td>4</td>\n",
       "      <td>2</td>\n",
       "      <td>30</td>\n",
       "      <td>5</td>\n",
       "      <td>5</td>\n",
       "      <td>934.77222</td>\n",
       "      <td>NaN</td>\n",
       "      <td>NaN</td>\n",
       "    </tr>\n",
       "    <tr>\n",
       "      <th>4</th>\n",
       "      <td>2017-05-01</td>\n",
       "      <td>20001</td>\n",
       "      <td>5</td>\n",
       "      <td>2</td>\n",
       "      <td>31</td>\n",
       "      <td>4</td>\n",
       "      <td>4</td>\n",
       "      <td>798.01620</td>\n",
       "      <td>NaN</td>\n",
       "      <td>NaN</td>\n",
       "    </tr>\n",
       "  </tbody>\n",
       "</table>\n",
       "</div>"
      ],
      "text/plain": [
       "     periodo  product_id  month  quarter  days_in_month  sundays  saturdays   \n",
       "0 2017-01-01       20001      1        1             31        5          4  \\\n",
       "1 2017-02-01       20001      2        1             28        4          4   \n",
       "2 2017-03-01       20001      3        1             31        4          4   \n",
       "3 2017-04-01       20001      4        2             30        5          5   \n",
       "4 2017-05-01       20001      5        2             31        4          4   \n",
       "\n",
       "       tn_m3  tn_m6  tn_m12  \n",
       "0        NaN    NaN     NaN  \n",
       "1        NaN    NaN     NaN  \n",
       "2        NaN    NaN     NaN  \n",
       "3  934.77222    NaN     NaN  \n",
       "4  798.01620    NaN     NaN  "
      ]
     },
     "execution_count": 28,
     "metadata": {},
     "output_type": "execute_result"
    }
   ],
   "source": [
    "df_related_product_v4.head(5)"
   ]
  },
  {
   "cell_type": "code",
   "execution_count": 29,
   "metadata": {},
   "outputs": [
    {
     "name": "stdout",
     "output_type": "stream",
     "text": [
      "-------------------------\n",
      "Min periodo 2017-01-01 00:00:00\n",
      "Max periodo 2020-02-01 00:00:00\n",
      "Cantidad de productos 780\n",
      "-------------------------\n",
      "Tipos por columna \n",
      "periodo          datetime64[ns]\n",
      "product_id               object\n",
      "month                     int32\n",
      "quarter                   int32\n",
      "days_in_month             int32\n",
      "sundays                   int32\n",
      "saturdays                 int32\n",
      "tn_m3                   float64\n",
      "tn_m6                   float64\n",
      "tn_m12                  float64\n",
      "dtype: object\n",
      "-------------------------\n",
      "Cantidad de NAN values \n",
      "periodo             0\n",
      "product_id          0\n",
      "month               0\n",
      "quarter             0\n",
      "days_in_month       0\n",
      "sundays             0\n",
      "saturdays           0\n",
      "tn_m3            2366\n",
      "tn_m6            4706\n",
      "tn_m12           9059\n",
      "dtype: int64\n",
      "-------------------------\n"
     ]
    },
    {
     "data": {
      "text/plain": [
       "{'paths': ['s3://datasets-forecast-account1/modelo-3-forecast-product/related/df_related_product.csv'],\n",
       " 'partitions_values': {}}"
      ]
     },
     "execution_count": 29,
     "metadata": {},
     "output_type": "execute_result"
    }
   ],
   "source": [
    "# Exportamos data relacionada, apertura por product\n",
    "# Nos aseguramos que cada serie temporal (por producto) comience en el mismo periodo que comienza en la serie de tiempo ppal de ventas\n",
    "df_min_period = df_ventas_product_export.groupby([\"product_id\"])[\"periodo\"].min().reset_index().rename(columns = {\"periodo\":\"min_periodo\"})\n",
    "df_related_product_v4['product_id'] = df_related_product_v4['product_id'].astype(str)\n",
    "df_related_product_export = pd.merge(df_related_product_v4, df_min_period, on='product_id')\n",
    "df_related_product_export = df_related_product_export[df_related_product_export['periodo'] >= df_related_product_export['min_periodo']]\n",
    "df_related_product_export = df_related_product_export.drop(columns=['min_periodo'])\n",
    "df_related_product_export = df_related_product_export[(df_related_product_export['periodo']<=date_future)]\n",
    "print(\"-------------------------\")\n",
    "print(f\"Min periodo {df_related_product_export.periodo.min()}\")\n",
    "print(f\"Max periodo {df_related_product_export.periodo.max()}\")\n",
    "print(f\"Cantidad de productos {len(df_related_product_export.product_id.unique())}\")\n",
    "print(\"-------------------------\")\n",
    "print(f\"Tipos por columna \\n{df_related_product_export.dtypes}\")\n",
    "print(\"-------------------------\")\n",
    "print(f\"Cantidad de NAN values \\n{df_related_product_export.isna().sum()}\")\n",
    "print(\"-------------------------\")\n",
    "wr.s3.to_csv(df_related_product_export, related_s3_path, index=False, header=False)"
   ]
  },
  {
   "cell_type": "markdown",
   "metadata": {},
   "source": [
    "Chequear que cada combinacion en el df relacionado comience en misma fecha que en df principal para evitar errores en entrenamiento"
   ]
  },
  {
   "cell_type": "code",
   "execution_count": 30,
   "metadata": {},
   "outputs": [
    {
     "data": {
      "text/html": [
       "<div>\n",
       "<style scoped>\n",
       "    .dataframe tbody tr th:only-of-type {\n",
       "        vertical-align: middle;\n",
       "    }\n",
       "\n",
       "    .dataframe tbody tr th {\n",
       "        vertical-align: top;\n",
       "    }\n",
       "\n",
       "    .dataframe thead th {\n",
       "        text-align: right;\n",
       "    }\n",
       "</style>\n",
       "<table border=\"1\" class=\"dataframe\">\n",
       "  <thead>\n",
       "    <tr style=\"text-align: right;\">\n",
       "      <th></th>\n",
       "      <th>product_id</th>\n",
       "      <th>min_period_ventas</th>\n",
       "      <th>min_period_related</th>\n",
       "    </tr>\n",
       "  </thead>\n",
       "  <tbody>\n",
       "  </tbody>\n",
       "</table>\n",
       "</div>"
      ],
      "text/plain": [
       "Empty DataFrame\n",
       "Columns: [product_id, min_period_ventas, min_period_related]\n",
       "Index: []"
      ]
     },
     "execution_count": 30,
     "metadata": {},
     "output_type": "execute_result"
    }
   ],
   "source": [
    "fecha_min_ventas = df_ventas_product_export.groupby([\"product_id\"])[\"periodo\"].min().reset_index().rename(columns = {\"periodo\":\"min_period_ventas\"})\n",
    "fecha_min_related = df_related_product_export.groupby([\"product_id\"])[\"periodo\"].min().reset_index().rename(columns = {\"periodo\":\"min_period_related\"})\n",
    "merge_fecha_min = pd.merge(fecha_min_ventas, fecha_min_related, how = \"outer\", on = \"product_id\")\n",
    "merge_fecha_min[merge_fecha_min.min_period_ventas != merge_fecha_min.min_period_related]"
   ]
  }
 ],
 "metadata": {
  "kernelspec": {
   "display_name": "Python 3",
   "language": "python",
   "name": "python3"
  },
  "language_info": {
   "codemirror_mode": {
    "name": "ipython",
    "version": 3
   },
   "file_extension": ".py",
   "mimetype": "text/x-python",
   "name": "python",
   "nbconvert_exporter": "python",
   "pygments_lexer": "ipython3",
   "version": "3.11.2"
  }
 },
 "nbformat": 4,
 "nbformat_minor": 4
}
