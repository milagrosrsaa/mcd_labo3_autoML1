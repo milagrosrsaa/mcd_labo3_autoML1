{
 "cells": [
  {
   "cell_type": "markdown",
   "metadata": {},
   "source": [
    "<center>\n",
    "  <h2>Trabajo Laboratorio de Implementación III - MCD Virtual Cohorte 2022</h2>\n",
    "  <h3>Forecasting para una Empresa de Consumo Masivo</h3>\n",
    "  <h4>Evaluación</h4>\n",
    "</center>"
   ]
  },
  {
   "cell_type": "code",
   "execution_count": 1,
   "metadata": {},
   "outputs": [],
   "source": [
    "# Importación librerias\n",
    "\n",
    "# !pip install awswrangler\n",
    "# !pip install boto3\n",
    "import boto3\n",
    "import awswrangler as wr\n",
    "import pandas as pd\n",
    "import numpy as np\n",
    "from datetime import datetime\n",
    "from dateutil.relativedelta import relativedelta"
   ]
  },
  {
   "cell_type": "code",
   "execution_count": 2,
   "metadata": {},
   "outputs": [
    {
     "name": "stdout",
     "output_type": "stream",
     "text": [
      "Fecha inicio historia 2017-01-01 00:00:00\n",
      "Fecha fin historia 2019-12-01 00:00:00\n",
      "Fecha futura (related time series) 2020-02-01 00:00:00\n"
     ]
    }
   ],
   "source": [
    "# Definición fechas\n",
    "\n",
    "date_start=datetime.strptime('2017-01-01', '%Y-%m-%d')\n",
    "date_end=datetime.strptime('2019-12-01', '%Y-%m-%d')\n",
    "forecast_length = 2\n",
    "date_future=date_end+relativedelta(months=forecast_length)\n",
    "years=range(2018, 2020)\n",
    "\n",
    "print(f\"Fecha inicio historia {date_start}\")\n",
    "print(f\"Fecha fin historia {date_end}\")\n",
    "print(f\"Fecha futura (related time series) {date_future}\")\n",
    "\n",
    "# Versión modelo\n",
    "data_version_cluster1 = '4_c1'\n",
    "data_version_cluster2 = '4_c2'\n",
    "data_version_cluster3 = '4_c3'\n",
    "grouped_columns = [\"product_id\"]\n",
    "grouped_cols_name = \"product\"\n",
    "\n",
    "# Parametros backtest\n",
    "dataset_frequency='M'\n",
    "quantiles=[\"mean\"]"
   ]
  },
  {
   "cell_type": "code",
   "execution_count": 3,
   "metadata": {},
   "outputs": [],
   "source": [
    "# Conexiones AWS\n",
    "\n",
    "account_id=boto3.client('sts').get_caller_identity().get('Account')\n",
    "session = boto3.Session() \n",
    "forecast = session.client(service_name='forecast')\n",
    "region = forecast.meta.region_name\n",
    "forecastquery = session.client(service_name='forecastquery')\n",
    "role = f'arn:aws:iam::{account_id}:role/ForecastRole'"
   ]
  },
  {
   "cell_type": "code",
   "execution_count": 10,
   "metadata": {},
   "outputs": [],
   "source": [
    "# Buckets de datos\n",
    "\n",
    "# CLUSTER 1\n",
    "target_s3_path_c1=f's3://datasets-forecast-account1/modelo-{data_version_cluster1}-forecast-{grouped_cols_name}/target/df_ventas_{grouped_cols_name}.csv'\n",
    "items_s3_path_c1=f's3://datasets-forecast-account1/modelo-{data_version_cluster1}-forecast-{grouped_cols_name}/product/df_products.csv'\n",
    "related_s3_path_c1=f's3://datasets-forecast-account1/modelo-{data_version_cluster1}-forecast-{grouped_cols_name}/related/df_related_{grouped_cols_name}.csv'\n",
    "\n",
    "# CLUSTER 2\n",
    "target_s3_path_c2=f's3://datasets-forecast-account1/modelo-{data_version_cluster2}-forecast-{grouped_cols_name}/target/df_ventas_{grouped_cols_name}.csv'\n",
    "items_s3_path_c2=f's3://datasets-forecast-account1/modelo-{data_version_cluster2}-forecast-{grouped_cols_name}/product/df_products.csv'\n",
    "related_s3_path_c2=f's3://datasets-forecast-account1/modelo-{data_version_cluster2}-forecast-{grouped_cols_name}/related/df_related_{grouped_cols_name}.csv'\n",
    "\n",
    "# CLUSTER 3\n",
    "target_s3_path_c3=f's3://datasets-forecast-account1/modelo-{data_version_cluster3}-forecast-{grouped_cols_name}/target/df_ventas_{grouped_cols_name}.csv'\n",
    "items_s3_path_c3=f's3://datasets-forecast-account1/modelo-{data_version_cluster3}-forecast-{grouped_cols_name}/product/df_products.csv'\n",
    "related_s3_path_c3=f's3://datasets-forecast-account1/modelo-{data_version_cluster3}-forecast-{grouped_cols_name}/related/df_related_{grouped_cols_name}.csv'\n",
    "\n",
    "# Outputs\n",
    "backtest_export_path_c1=f's3://datasets-forecast-account1/modelo-{data_version_cluster1}-forecast-{grouped_cols_name}/output/'\n",
    "backtest_export_path_c2=f's3://datasets-forecast-account1/modelo-{data_version_cluster2}-forecast-{grouped_cols_name}/output/'\n",
    "backtest_export_path_c3=f's3://datasets-forecast-account1/modelo-{data_version_cluster3}-forecast-{grouped_cols_name}/output/'"
   ]
  },
  {
   "cell_type": "code",
   "execution_count": 5,
   "metadata": {},
   "outputs": [],
   "source": [
    "# Formar ARNs\n",
    "\n",
    "# CLUSTER 1\n",
    "dataset_group_arn_c1=f'arn:aws:forecast:us-east-1:{account_id}:dataset-group/modelo_{data_version_cluster1}_{grouped_cols_name}'\n",
    "automl_predictor_arn_c1 = f'arn:aws:forecast:us-east-1:{account_id}:predictor/modelo_{data_version_cluster1}_predictor_01J02Q23DBHN6P2C8QM61MAY3F'\n",
    "\n",
    "# CLUSTER 2\n",
    "dataset_group_arn_c2=f'arn:aws:forecast:us-east-1:{account_id}:dataset-group/modelo_{data_version_cluster2}_{grouped_cols_name}'\n",
    "automl_predictor_arn_c2 = f'arn:aws:forecast:us-east-1:{account_id}:predictor/modelo_{data_version_cluster2}_predictor_01J02Q4FXFQADEHVVGBN5ETE7C'\n",
    "\n",
    "# CLUSTER 3\n",
    "dataset_group_arn_c3=f'arn:aws:forecast:us-east-1:{account_id}:dataset-group/modelo_{data_version_cluster3}_{grouped_cols_name}'\n",
    "automl_predictor_arn_c3 = f'arn:aws:forecast:us-east-1:{account_id}:predictor/modelo_{data_version_cluster3}_predictor_01J02Q5EW0HRWSQEVHF4M5B8WP'"
   ]
  },
  {
   "cell_type": "code",
   "execution_count": 6,
   "metadata": {},
   "outputs": [],
   "source": [
    "# Verificar comunicación con Amazon Forecast\n",
    "assert forecast.list_predictors()"
   ]
  },
  {
   "cell_type": "markdown",
   "metadata": {},
   "source": [
    "### Backtest export job"
   ]
  },
  {
   "cell_type": "code",
   "execution_count": 11,
   "metadata": {},
   "outputs": [],
   "source": [
    "# Nombre del projecto y dataset group\n",
    "# CLUSTER 1\n",
    "backtest_export_job_name_c1 = f\"modelo_{data_version_cluster1}_predictor_export\"\n",
    "response_c1 = forecast.create_predictor_backtest_export_job(\n",
    "    PredictorBacktestExportJobName=backtest_export_job_name_c1,\n",
    "    PredictorArn=automl_predictor_arn_c1,\n",
    "    Destination={\n",
    "        'S3Config': {\n",
    "            'Path': backtest_export_path_c1,\n",
    "            'RoleArn': role\n",
    "        }\n",
    "    },\n",
    "    Format='CSV'\n",
    ")\n",
    "backtest_export_job_arn_c1 = response_c1['PredictorBacktestExportJobArn']"
   ]
  },
  {
   "cell_type": "code",
   "execution_count": 22,
   "metadata": {},
   "outputs": [
    {
     "name": "stdout",
     "output_type": "stream",
     "text": [
      "Waiting for Backtest export job with ARN arn:aws:forecast:us-east-1:935182042847:predictor-backtest-export-job/modelo_4_c1_predictor/modelo_4_c1_predictor_export to be completed. \n",
      "Current Status:\n"
     ]
    },
    {
     "data": {
      "text/plain": [
       "'ACTIVE'"
      ]
     },
     "execution_count": 22,
     "metadata": {},
     "output_type": "execute_result"
    }
   ],
   "source": [
    "print(f\"Waiting for Backtest export job with ARN {backtest_export_job_arn_c1} to be completed. \\nCurrent Status:\")\n",
    "forecast.describe_predictor_backtest_export_job(PredictorBacktestExportJobArn=\n",
    "                backtest_export_job_arn_c1)['Status']"
   ]
  },
  {
   "cell_type": "code",
   "execution_count": 13,
   "metadata": {},
   "outputs": [],
   "source": [
    "# Nombre del projecto y dataset group\n",
    "# CLUSTER 2\n",
    "backtest_export_job_name_c2 = f\"modelo_{data_version_cluster2}_predictor_export\"\n",
    "response_c2 = forecast.create_predictor_backtest_export_job(\n",
    "    PredictorBacktestExportJobName=backtest_export_job_name_c2,\n",
    "    PredictorArn=automl_predictor_arn_c2,\n",
    "    Destination={\n",
    "        'S3Config': {\n",
    "            'Path': backtest_export_path_c2,\n",
    "            'RoleArn': role\n",
    "        }\n",
    "    },\n",
    "    Format='CSV'\n",
    ")\n",
    "backtest_export_job_arn_c2 = response_c2['PredictorBacktestExportJobArn']"
   ]
  },
  {
   "cell_type": "code",
   "execution_count": 21,
   "metadata": {},
   "outputs": [
    {
     "name": "stdout",
     "output_type": "stream",
     "text": [
      "Waiting for Backtest export job with ARN arn:aws:forecast:us-east-1:935182042847:predictor-backtest-export-job/modelo_4_c2_predictor/modelo_4_c2_predictor_export to be completed. \n",
      "Current Status:\n"
     ]
    },
    {
     "data": {
      "text/plain": [
       "'ACTIVE'"
      ]
     },
     "execution_count": 21,
     "metadata": {},
     "output_type": "execute_result"
    }
   ],
   "source": [
    "print(f\"Waiting for Backtest export job with ARN {backtest_export_job_arn_c2} to be completed. \\nCurrent Status:\")\n",
    "forecast.describe_predictor_backtest_export_job(PredictorBacktestExportJobArn=\n",
    "                backtest_export_job_arn_c2)['Status']"
   ]
  },
  {
   "cell_type": "code",
   "execution_count": 15,
   "metadata": {},
   "outputs": [],
   "source": [
    "# Nombre del projecto y dataset group\n",
    "# CLUSTER 3\n",
    "backtest_export_job_name_c3 = f\"modelo_{data_version_cluster3}_predictor_export\"\n",
    "response_c3 = forecast.create_predictor_backtest_export_job(\n",
    "    PredictorBacktestExportJobName=backtest_export_job_name_c3,\n",
    "    PredictorArn=automl_predictor_arn_c3,\n",
    "    Destination={\n",
    "        'S3Config': {\n",
    "            'Path': backtest_export_path_c3,\n",
    "            'RoleArn': role\n",
    "        }\n",
    "    },\n",
    "    Format='CSV'\n",
    ")\n",
    "backtest_export_job_arn_c3 = response_c3['PredictorBacktestExportJobArn']"
   ]
  },
  {
   "cell_type": "code",
   "execution_count": 26,
   "metadata": {},
   "outputs": [
    {
     "name": "stdout",
     "output_type": "stream",
     "text": [
      "Waiting for Backtest export job with ARN arn:aws:forecast:us-east-1:935182042847:predictor-backtest-export-job/modelo_4_c3_predictor/modelo_4_c3_predictor_export to be completed. \n",
      "Current Status:\n"
     ]
    },
    {
     "data": {
      "text/plain": [
       "'ACTIVE'"
      ]
     },
     "execution_count": 26,
     "metadata": {},
     "output_type": "execute_result"
    }
   ],
   "source": [
    "print(f\"Waiting for Backtest export job with ARN {backtest_export_job_arn_c3} to be completed. \\nCurrent Status:\")\n",
    "forecast.describe_predictor_backtest_export_job(PredictorBacktestExportJobArn=\n",
    "                backtest_export_job_arn_c3)['Status']"
   ]
  },
  {
   "cell_type": "markdown",
   "metadata": {},
   "source": [
    "### Evaluate"
   ]
  },
  {
   "cell_type": "code",
   "execution_count": 28,
   "metadata": {},
   "outputs": [
    {
     "name": "stdout",
     "output_type": "stream",
     "text": [
      "----------C1-----------\n",
      "2019-11-01T00:00:00Z 2019-12-01T00:00:00Z\n",
      "245\n",
      "   item_id             timestamp  target_value backtestwindow_start_time   \n",
      "0    20158  2019-11-01T00:00:00Z        67.906       2019-11-01T00:00:00  \\\n",
      "\n",
      "  backtestwindow_end_time       mean  \n",
      "0     2019-12-01T00:00:00  71.620168  \n",
      "----------C2-----------\n",
      "2019-11-01T00:00:00Z 2019-12-01T00:00:00Z\n",
      "394\n",
      "   item_id             timestamp  target_value backtestwindow_start_time   \n",
      "0    20219  2019-11-01T00:00:00Z       30.5133       2019-11-01T00:00:00  \\\n",
      "\n",
      "  backtestwindow_end_time       mean  \n",
      "0     2019-12-01T00:00:00  19.341341  \n",
      "----------C3-----------\n",
      "2019-11-01T00:00:00Z 2019-12-01T00:00:00Z\n",
      "141\n",
      "   item_id             timestamp  target_value backtestwindow_start_time   \n",
      "0    20569  2019-11-01T00:00:00Z       12.3187       2019-11-01T00:00:00  \\\n",
      "\n",
      "  backtestwindow_end_time      mean  \n",
      "0     2019-12-01T00:00:00  8.975171  \n"
     ]
    }
   ],
   "source": [
    "df_forecasts_c1=wr.s3.read_csv(backtest_export_path_c1 + 'forecasted-values/')\n",
    "print(\"----------C1-----------\")\n",
    "print(df_forecasts_c1.timestamp.min(), df_forecasts_c1.timestamp.max())\n",
    "print(len(df_forecasts_c1.item_id.drop_duplicates()))\n",
    "print(df_forecasts_c1.head(1))\n",
    "\n",
    "df_forecasts_c2=wr.s3.read_csv(backtest_export_path_c2 + 'forecasted-values/')\n",
    "print(\"----------C2-----------\")\n",
    "print(df_forecasts_c2.timestamp.min(), df_forecasts_c2.timestamp.max())\n",
    "print(len(df_forecasts_c2.item_id.drop_duplicates()))\n",
    "print(df_forecasts_c2.head(1))\n",
    "\n",
    "df_forecasts_c3=wr.s3.read_csv(backtest_export_path_c3 + 'forecasted-values/')\n",
    "print(\"----------C3-----------\")\n",
    "print(df_forecasts_c3.timestamp.min(), df_forecasts_c3.timestamp.max())\n",
    "print(len(df_forecasts_c3.item_id.drop_duplicates()))\n",
    "print(df_forecasts_c3.head(1))"
   ]
  },
  {
   "cell_type": "code",
   "execution_count": 29,
   "metadata": {},
   "outputs": [],
   "source": [
    "df_forecasts = pd.concat([df_forecasts_c1, df_forecasts_c2, df_forecasts_c3])\n",
    "df_forecasts = df_forecasts.sort_values(by = [\"timestamp\", \"item_id\"])"
   ]
  },
  {
   "cell_type": "code",
   "execution_count": 30,
   "metadata": {},
   "outputs": [
    {
     "data": {
      "text/plain": [
       "True"
      ]
     },
     "execution_count": 30,
     "metadata": {},
     "output_type": "execute_result"
    }
   ],
   "source": [
    "len(df_forecasts) == len(df_forecasts_c1) + len(df_forecasts_c2) + len(df_forecasts_c3)"
   ]
  },
  {
   "cell_type": "code",
   "execution_count": 31,
   "metadata": {},
   "outputs": [
    {
     "data": {
      "text/html": [
       "<div>\n",
       "<style scoped>\n",
       "    .dataframe tbody tr th:only-of-type {\n",
       "        vertical-align: middle;\n",
       "    }\n",
       "\n",
       "    .dataframe tbody tr th {\n",
       "        vertical-align: top;\n",
       "    }\n",
       "\n",
       "    .dataframe thead th {\n",
       "        text-align: right;\n",
       "    }\n",
       "</style>\n",
       "<table border=\"1\" class=\"dataframe\">\n",
       "  <thead>\n",
       "    <tr style=\"text-align: right;\">\n",
       "      <th></th>\n",
       "      <th>periodo</th>\n",
       "      <th>product_id</th>\n",
       "      <th>mean</th>\n",
       "    </tr>\n",
       "  </thead>\n",
       "  <tbody>\n",
       "    <tr>\n",
       "      <th>262</th>\n",
       "      <td>2019-11-01</td>\n",
       "      <td>20001</td>\n",
       "      <td>1537.775634</td>\n",
       "    </tr>\n",
       "    <tr>\n",
       "      <th>488</th>\n",
       "      <td>2019-11-01</td>\n",
       "      <td>20002</td>\n",
       "      <td>1337.863282</td>\n",
       "    </tr>\n",
       "    <tr>\n",
       "      <th>146</th>\n",
       "      <td>2019-11-01</td>\n",
       "      <td>20003</td>\n",
       "      <td>1105.423166</td>\n",
       "    </tr>\n",
       "    <tr>\n",
       "      <th>360</th>\n",
       "      <td>2019-11-01</td>\n",
       "      <td>20004</td>\n",
       "      <td>913.937149</td>\n",
       "    </tr>\n",
       "    <tr>\n",
       "      <th>122</th>\n",
       "      <td>2019-11-01</td>\n",
       "      <td>20005</td>\n",
       "      <td>713.956175</td>\n",
       "    </tr>\n",
       "  </tbody>\n",
       "</table>\n",
       "</div>"
      ],
      "text/plain": [
       "       periodo product_id         mean\n",
       "262 2019-11-01      20001  1537.775634\n",
       "488 2019-11-01      20002  1337.863282\n",
       "146 2019-11-01      20003  1105.423166\n",
       "360 2019-11-01      20004   913.937149\n",
       "122 2019-11-01      20005   713.956175"
      ]
     },
     "execution_count": 31,
     "metadata": {},
     "output_type": "execute_result"
    }
   ],
   "source": [
    "df_forecasts['periodo']=pd.to_datetime(df_forecasts['timestamp'], format='%Y-%m-%dT%H:%M:%SZ').dt.date\n",
    "df_forecasts['product_id']=df_forecasts['item_id']\n",
    "df_forecasts = df_forecasts.drop(columns = {\"item_id\", \"target_value\", \"backtestwindow_start_time\", \"backtestwindow_end_time\", \"timestamp\"})\n",
    "for q in quantiles:\n",
    "    df_forecasts[q] = df_forecasts[q].astype(float)\n",
    "df_forecasts.head()\n",
    "df_forecasts = df_forecasts[[\"periodo\"] + grouped_columns + quantiles]\n",
    "df_forecasts['product_id']=df_forecasts['product_id'].astype(str)\n",
    "df_forecasts['periodo']=pd.to_datetime(df_forecasts['periodo'])\n",
    "df_forecasts.head(5)"
   ]
  },
  {
   "cell_type": "markdown",
   "metadata": {},
   "source": [
    "- Backtest timing"
   ]
  },
  {
   "cell_type": "code",
   "execution_count": 32,
   "metadata": {},
   "outputs": [
    {
     "name": "stdout",
     "output_type": "stream",
     "text": [
      "Start backtest:  2019-11-01\n",
      "End backtest:  2019-12-01\n"
     ]
    }
   ],
   "source": [
    "print('Start backtest: ', df_forecasts['periodo'].astype(str).min())\n",
    "print('End backtest: ', df_forecasts['periodo'].astype(str).max())"
   ]
  },
  {
   "cell_type": "code",
   "execution_count": 33,
   "metadata": {},
   "outputs": [],
   "source": [
    "date_min_forecast = df_forecasts['periodo'].astype(str).min()\n",
    "date_min_forecast = pd.to_datetime(date_min_forecast)"
   ]
  },
  {
   "cell_type": "markdown",
   "metadata": {},
   "source": [
    "- Backtest items check"
   ]
  },
  {
   "cell_type": "code",
   "execution_count": 34,
   "metadata": {},
   "outputs": [
    {
     "data": {
      "text/plain": [
       "780"
      ]
     },
     "execution_count": 34,
     "metadata": {},
     "output_type": "execute_result"
    }
   ],
   "source": [
    "len(df_forecasts.product_id.unique())"
   ]
  },
  {
   "cell_type": "markdown",
   "metadata": {},
   "source": [
    "- Read historic sales data"
   ]
  },
  {
   "cell_type": "code",
   "execution_count": 37,
   "metadata": {},
   "outputs": [
    {
     "name": "stdout",
     "output_type": "stream",
     "text": [
      "----------C1-----------\n",
      "2017-01-01 2019-12-01\n",
      "245\n",
      "      periodo  product_id      venta\n",
      "0  2017-01-01       20001  934.77222\n",
      "----------C2-----------\n",
      "2017-01-01 2019-12-01\n",
      "394\n",
      "      periodo  product_id      venta\n",
      "0  2017-01-01       20006  528.40996\n",
      "----------C3-----------\n",
      "2017-01-01 2019-12-01\n",
      "141\n",
      "      periodo  product_id  venta\n",
      "0  2017-01-01       20032    0.0\n"
     ]
    }
   ],
   "source": [
    "# CLUSTER1 \n",
    "df_ventas_mensuales_c1 = wr.s3.read_csv(target_s3_path_c1, header=None, index_col=False)\n",
    "column_names = [\"periodo\"] + grouped_columns + [\"venta\"]\n",
    "df_ventas_mensuales_c1.columns = column_names\n",
    "print(\"----------C1-----------\")\n",
    "print(df_ventas_mensuales_c1.periodo.min(), df_ventas_mensuales_c1.periodo.max())\n",
    "print(len(df_ventas_mensuales_c1.product_id.drop_duplicates()))\n",
    "print(df_ventas_mensuales_c1.head(1))\n",
    "\n",
    "# CLUSTER2\n",
    "df_ventas_mensuales_c2 = wr.s3.read_csv(target_s3_path_c2, header=None, index_col=False)\n",
    "column_names = [\"periodo\"] + grouped_columns + [\"venta\"]\n",
    "df_ventas_mensuales_c2.columns = column_names\n",
    "print(\"----------C2-----------\")\n",
    "print(df_ventas_mensuales_c2.periodo.min(), df_ventas_mensuales_c2.periodo.max())\n",
    "print(len(df_ventas_mensuales_c2.product_id.drop_duplicates()))\n",
    "print(df_ventas_mensuales_c2.head(1))\n",
    "\n",
    "# CLUSTER3\n",
    "df_ventas_mensuales_c3 = wr.s3.read_csv(target_s3_path_c3, header=None, index_col=False)\n",
    "column_names = [\"periodo\"] + grouped_columns + [\"venta\"]\n",
    "df_ventas_mensuales_c3.columns = column_names\n",
    "print(\"----------C3-----------\")\n",
    "print(df_ventas_mensuales_c3.periodo.min(), df_ventas_mensuales_c3.periodo.max())\n",
    "print(len(df_ventas_mensuales_c3.product_id.drop_duplicates()))\n",
    "print(df_ventas_mensuales_c3.head(1))"
   ]
  },
  {
   "cell_type": "code",
   "execution_count": 38,
   "metadata": {},
   "outputs": [],
   "source": [
    "df_ventas_mensuales = pd.concat([df_ventas_mensuales_c1, df_ventas_mensuales_c2, df_ventas_mensuales_c3])\n",
    "df_ventas_mensuales = df_ventas_mensuales.sort_values(by = [\"periodo\", \"product_id\"])"
   ]
  },
  {
   "cell_type": "code",
   "execution_count": 39,
   "metadata": {},
   "outputs": [
    {
     "data": {
      "text/plain": [
       "True"
      ]
     },
     "execution_count": 39,
     "metadata": {},
     "output_type": "execute_result"
    }
   ],
   "source": [
    "len(df_ventas_mensuales) == len(df_ventas_mensuales_c1) + len(df_ventas_mensuales_c2) + len(df_ventas_mensuales_c3)"
   ]
  },
  {
   "cell_type": "code",
   "execution_count": 40,
   "metadata": {},
   "outputs": [
    {
     "data": {
      "text/html": [
       "<div>\n",
       "<style scoped>\n",
       "    .dataframe tbody tr th:only-of-type {\n",
       "        vertical-align: middle;\n",
       "    }\n",
       "\n",
       "    .dataframe tbody tr th {\n",
       "        vertical-align: top;\n",
       "    }\n",
       "\n",
       "    .dataframe thead th {\n",
       "        text-align: right;\n",
       "    }\n",
       "</style>\n",
       "<table border=\"1\" class=\"dataframe\">\n",
       "  <thead>\n",
       "    <tr style=\"text-align: right;\">\n",
       "      <th></th>\n",
       "      <th>periodo</th>\n",
       "      <th>product_id</th>\n",
       "      <th>venta</th>\n",
       "    </tr>\n",
       "  </thead>\n",
       "  <tbody>\n",
       "    <tr>\n",
       "      <th>0</th>\n",
       "      <td>2017-01-01</td>\n",
       "      <td>20001</td>\n",
       "      <td>934.77222</td>\n",
       "    </tr>\n",
       "    <tr>\n",
       "      <th>1</th>\n",
       "      <td>2017-01-01</td>\n",
       "      <td>20002</td>\n",
       "      <td>550.15707</td>\n",
       "    </tr>\n",
       "    <tr>\n",
       "      <th>2</th>\n",
       "      <td>2017-01-01</td>\n",
       "      <td>20003</td>\n",
       "      <td>1063.45835</td>\n",
       "    </tr>\n",
       "    <tr>\n",
       "      <th>3</th>\n",
       "      <td>2017-01-01</td>\n",
       "      <td>20004</td>\n",
       "      <td>555.91614</td>\n",
       "    </tr>\n",
       "    <tr>\n",
       "      <th>4</th>\n",
       "      <td>2017-01-01</td>\n",
       "      <td>20005</td>\n",
       "      <td>494.27011</td>\n",
       "    </tr>\n",
       "  </tbody>\n",
       "</table>\n",
       "</div>"
      ],
      "text/plain": [
       "     periodo product_id       venta\n",
       "0 2017-01-01      20001   934.77222\n",
       "1 2017-01-01      20002   550.15707\n",
       "2 2017-01-01      20003  1063.45835\n",
       "3 2017-01-01      20004   555.91614\n",
       "4 2017-01-01      20005   494.27011"
      ]
     },
     "execution_count": 40,
     "metadata": {},
     "output_type": "execute_result"
    }
   ],
   "source": [
    "df_ventas_mensuales['periodo'] = pd.to_datetime(df_ventas_mensuales['periodo'])\n",
    "df_ventas_mensuales['product_id']=df_ventas_mensuales['product_id'].astype(str)\n",
    "df_ventas_mensuales.head(5)"
   ]
  },
  {
   "cell_type": "code",
   "execution_count": 41,
   "metadata": {},
   "outputs": [
    {
     "data": {
      "text/plain": [
       "periodo       datetime64[ns]\n",
       "product_id            object\n",
       "venta                float64\n",
       "dtype: object"
      ]
     },
     "execution_count": 41,
     "metadata": {},
     "output_type": "execute_result"
    }
   ],
   "source": [
    "df_ventas_mensuales.dtypes"
   ]
  },
  {
   "cell_type": "code",
   "execution_count": 42,
   "metadata": {},
   "outputs": [
    {
     "data": {
      "text/plain": [
       "780"
      ]
     },
     "execution_count": 42,
     "metadata": {},
     "output_type": "execute_result"
    }
   ],
   "source": [
    "len(df_ventas_mensuales.product_id.unique())"
   ]
  },
  {
   "cell_type": "code",
   "execution_count": 43,
   "metadata": {},
   "outputs": [
    {
     "name": "stdout",
     "output_type": "stream",
     "text": [
      "Start historical sales:  2017-01-01 00:00:00\n",
      "End historical sales:  2019-12-01 00:00:00\n"
     ]
    }
   ],
   "source": [
    "print('Start historical sales: ', df_ventas_mensuales['periodo'].min())\n",
    "print('End historical sales: ', df_ventas_mensuales['periodo'].max())"
   ]
  },
  {
   "cell_type": "markdown",
   "metadata": {},
   "source": [
    "- Unión info histórica y forecast"
   ]
  },
  {
   "cell_type": "code",
   "execution_count": 44,
   "metadata": {},
   "outputs": [
    {
     "data": {
      "text/plain": [
       "periodo       datetime64[ns]\n",
       "product_id            object\n",
       "mean                 float64\n",
       "dtype: object"
      ]
     },
     "execution_count": 44,
     "metadata": {},
     "output_type": "execute_result"
    }
   ],
   "source": [
    "df_forecasts.dtypes"
   ]
  },
  {
   "cell_type": "code",
   "execution_count": 45,
   "metadata": {},
   "outputs": [
    {
     "data": {
      "text/plain": [
       "periodo       datetime64[ns]\n",
       "product_id            object\n",
       "venta                float64\n",
       "dtype: object"
      ]
     },
     "execution_count": 45,
     "metadata": {},
     "output_type": "execute_result"
    }
   ],
   "source": [
    "df_ventas_mensuales.dtypes"
   ]
  },
  {
   "cell_type": "code",
   "execution_count": 46,
   "metadata": {},
   "outputs": [
    {
     "data": {
      "text/html": [
       "<div>\n",
       "<style scoped>\n",
       "    .dataframe tbody tr th:only-of-type {\n",
       "        vertical-align: middle;\n",
       "    }\n",
       "\n",
       "    .dataframe tbody tr th {\n",
       "        vertical-align: top;\n",
       "    }\n",
       "\n",
       "    .dataframe thead th {\n",
       "        text-align: right;\n",
       "    }\n",
       "</style>\n",
       "<table border=\"1\" class=\"dataframe\">\n",
       "  <thead>\n",
       "    <tr style=\"text-align: right;\">\n",
       "      <th></th>\n",
       "      <th>periodo</th>\n",
       "      <th>product_id</th>\n",
       "      <th>venta</th>\n",
       "      <th>mean</th>\n",
       "    </tr>\n",
       "  </thead>\n",
       "  <tbody>\n",
       "    <tr>\n",
       "      <th>0</th>\n",
       "      <td>2017-01-01</td>\n",
       "      <td>20001</td>\n",
       "      <td>934.77222</td>\n",
       "      <td>NaN</td>\n",
       "    </tr>\n",
       "    <tr>\n",
       "      <th>1</th>\n",
       "      <td>2017-01-01</td>\n",
       "      <td>20002</td>\n",
       "      <td>550.15707</td>\n",
       "      <td>NaN</td>\n",
       "    </tr>\n",
       "    <tr>\n",
       "      <th>2</th>\n",
       "      <td>2017-01-01</td>\n",
       "      <td>20003</td>\n",
       "      <td>1063.45835</td>\n",
       "      <td>NaN</td>\n",
       "    </tr>\n",
       "    <tr>\n",
       "      <th>3</th>\n",
       "      <td>2017-01-01</td>\n",
       "      <td>20004</td>\n",
       "      <td>555.91614</td>\n",
       "      <td>NaN</td>\n",
       "    </tr>\n",
       "    <tr>\n",
       "      <th>4</th>\n",
       "      <td>2017-01-01</td>\n",
       "      <td>20005</td>\n",
       "      <td>494.27011</td>\n",
       "      <td>NaN</td>\n",
       "    </tr>\n",
       "  </tbody>\n",
       "</table>\n",
       "</div>"
      ],
      "text/plain": [
       "     periodo product_id       venta  mean\n",
       "0 2017-01-01      20001   934.77222   NaN\n",
       "1 2017-01-01      20002   550.15707   NaN\n",
       "2 2017-01-01      20003  1063.45835   NaN\n",
       "3 2017-01-01      20004   555.91614   NaN\n",
       "4 2017-01-01      20005   494.27011   NaN"
      ]
     },
     "execution_count": 46,
     "metadata": {},
     "output_type": "execute_result"
    }
   ],
   "source": [
    "# Para los meses en los que coexiste venta real con forecast se realiza un merge outer\n",
    "df_forecasts_historic=pd.merge(df_forecasts[df_forecasts['periodo']>=date_min_forecast], df_ventas_mensuales[df_ventas_mensuales['periodo']>=date_min_forecast], how='outer', on=['periodo'] + grouped_columns)\n",
    "df_forecasts_historic=df_forecasts_historic[['periodo'] + grouped_columns + ['venta'] + quantiles]\n",
    "# Para los meses históricos, previos a la proyección de forecast, se realiza un concat\n",
    "df_forecasts_historic = pd.concat([df_ventas_mensuales[df_ventas_mensuales['periodo']<date_min_forecast], df_forecasts_historic])\n",
    "df_forecasts_historic.head(5)"
   ]
  },
  {
   "cell_type": "code",
   "execution_count": 48,
   "metadata": {},
   "outputs": [
    {
     "data": {
      "text/plain": [
       "True"
      ]
     },
     "execution_count": 48,
     "metadata": {},
     "output_type": "execute_result"
    }
   ],
   "source": [
    "df_forecasts_historic_check = df_forecasts_historic.copy()\n",
    "df_ventas_mensuales_check = df_ventas_mensuales.copy()\n",
    "len(df_forecasts_historic_check) == len(df_forecasts[df_forecasts['periodo']>=date_min_forecast]) + len(df_ventas_mensuales_check[df_ventas_mensuales_check['periodo']<date_min_forecast])"
   ]
  },
  {
   "cell_type": "code",
   "execution_count": 49,
   "metadata": {},
   "outputs": [],
   "source": [
    "df_forecasts_historic[['venta'] + quantiles]=df_forecasts_historic[['venta'] + quantiles].astype(float)\n",
    "df_forecasts_historic['month']=pd.to_datetime(df_forecasts_historic['periodo']).dt.to_period('M')\n",
    "df_forecasts_historic=df_forecasts_historic[['periodo', 'month'] + grouped_columns + ['venta'] + quantiles]"
   ]
  },
  {
   "cell_type": "code",
   "execution_count": 50,
   "metadata": {},
   "outputs": [
    {
     "data": {
      "text/html": [
       "<div>\n",
       "<style scoped>\n",
       "    .dataframe tbody tr th:only-of-type {\n",
       "        vertical-align: middle;\n",
       "    }\n",
       "\n",
       "    .dataframe tbody tr th {\n",
       "        vertical-align: top;\n",
       "    }\n",
       "\n",
       "    .dataframe thead th {\n",
       "        text-align: right;\n",
       "    }\n",
       "</style>\n",
       "<table border=\"1\" class=\"dataframe\">\n",
       "  <thead>\n",
       "    <tr style=\"text-align: right;\">\n",
       "      <th></th>\n",
       "      <th>periodo</th>\n",
       "      <th>month</th>\n",
       "      <th>product_id</th>\n",
       "      <th>venta</th>\n",
       "      <th>mean</th>\n",
       "    </tr>\n",
       "  </thead>\n",
       "  <tbody>\n",
       "    <tr>\n",
       "      <th>0</th>\n",
       "      <td>2017-01-01</td>\n",
       "      <td>2017-01</td>\n",
       "      <td>20001</td>\n",
       "      <td>934.77222</td>\n",
       "      <td>NaN</td>\n",
       "    </tr>\n",
       "  </tbody>\n",
       "</table>\n",
       "</div>"
      ],
      "text/plain": [
       "     periodo    month product_id      venta  mean\n",
       "0 2017-01-01  2017-01      20001  934.77222   NaN"
      ]
     },
     "execution_count": 50,
     "metadata": {},
     "output_type": "execute_result"
    }
   ],
   "source": [
    "df_forecasts_historic.head(1)"
   ]
  },
  {
   "cell_type": "markdown",
   "metadata": {},
   "source": [
    "- Agregamos fuentes adicionales"
   ]
  },
  {
   "cell_type": "code",
   "execution_count": 51,
   "metadata": {},
   "outputs": [
    {
     "data": {
      "text/html": [
       "<div>\n",
       "<style scoped>\n",
       "    .dataframe tbody tr th:only-of-type {\n",
       "        vertical-align: middle;\n",
       "    }\n",
       "\n",
       "    .dataframe tbody tr th {\n",
       "        vertical-align: top;\n",
       "    }\n",
       "\n",
       "    .dataframe thead th {\n",
       "        text-align: right;\n",
       "    }\n",
       "</style>\n",
       "<table border=\"1\" class=\"dataframe\">\n",
       "  <thead>\n",
       "    <tr style=\"text-align: right;\">\n",
       "      <th></th>\n",
       "      <th>product_id</th>\n",
       "      <th>cat1</th>\n",
       "      <th>cat2</th>\n",
       "      <th>cat3</th>\n",
       "      <th>brand</th>\n",
       "      <th>sku_size</th>\n",
       "    </tr>\n",
       "  </thead>\n",
       "  <tbody>\n",
       "    <tr>\n",
       "      <th>0</th>\n",
       "      <td>20180</td>\n",
       "      <td>HC</td>\n",
       "      <td>ROPA LAVADO</td>\n",
       "      <td>Liquido</td>\n",
       "      <td>LIMPIEX</td>\n",
       "      <td>450</td>\n",
       "    </tr>\n",
       "    <tr>\n",
       "      <th>1</th>\n",
       "      <td>20332</td>\n",
       "      <td>HC</td>\n",
       "      <td>ROPA LAVADO</td>\n",
       "      <td>Liquido</td>\n",
       "      <td>LIMPIEX</td>\n",
       "      <td>120</td>\n",
       "    </tr>\n",
       "    <tr>\n",
       "      <th>2</th>\n",
       "      <td>20222</td>\n",
       "      <td>HC</td>\n",
       "      <td>ROPA LAVADO</td>\n",
       "      <td>Liquido</td>\n",
       "      <td>LIMPIEX</td>\n",
       "      <td>450</td>\n",
       "    </tr>\n",
       "    <tr>\n",
       "      <th>3</th>\n",
       "      <td>20288</td>\n",
       "      <td>HC</td>\n",
       "      <td>ROPA LAVADO</td>\n",
       "      <td>Liquido</td>\n",
       "      <td>LIMPIEX</td>\n",
       "      <td>900</td>\n",
       "    </tr>\n",
       "    <tr>\n",
       "      <th>4</th>\n",
       "      <td>20082</td>\n",
       "      <td>HC</td>\n",
       "      <td>ROPA MANCHAS</td>\n",
       "      <td>Ladrillo</td>\n",
       "      <td>LIMPIEX</td>\n",
       "      <td>200</td>\n",
       "    </tr>\n",
       "  </tbody>\n",
       "</table>\n",
       "</div>"
      ],
      "text/plain": [
       "  product_id cat1          cat2      cat3    brand  sku_size\n",
       "0      20180   HC   ROPA LAVADO   Liquido  LIMPIEX       450\n",
       "1      20332   HC   ROPA LAVADO   Liquido  LIMPIEX       120\n",
       "2      20222   HC   ROPA LAVADO   Liquido  LIMPIEX       450\n",
       "3      20288   HC   ROPA LAVADO   Liquido  LIMPIEX       900\n",
       "4      20082   HC  ROPA MANCHAS  Ladrillo  LIMPIEX       200"
      ]
     },
     "execution_count": 51,
     "metadata": {},
     "output_type": "execute_result"
    }
   ],
   "source": [
    "df_productos = pd.read_csv(\"C:/Users/usuario/otros/Desktop\\MCD/6 Labo III/Forecasting Problem/Datasets/df_products.csv\")\n",
    "df_productos.columns = [\"product_id\", \"cat1\", \"cat2\", \"cat3\", \"brand\", \"sku_size\"]\n",
    "df_productos[\"product_id\"] = df_productos[\"product_id\"].astype(str)\n",
    "df_productos.head(5)"
   ]
  },
  {
   "cell_type": "code",
   "execution_count": 52,
   "metadata": {},
   "outputs": [
    {
     "data": {
      "text/html": [
       "<div>\n",
       "<style scoped>\n",
       "    .dataframe tbody tr th:only-of-type {\n",
       "        vertical-align: middle;\n",
       "    }\n",
       "\n",
       "    .dataframe tbody tr th {\n",
       "        vertical-align: top;\n",
       "    }\n",
       "\n",
       "    .dataframe thead th {\n",
       "        text-align: right;\n",
       "    }\n",
       "</style>\n",
       "<table border=\"1\" class=\"dataframe\">\n",
       "  <thead>\n",
       "    <tr style=\"text-align: right;\">\n",
       "      <th></th>\n",
       "      <th>periodo</th>\n",
       "      <th>month</th>\n",
       "      <th>product_id</th>\n",
       "      <th>venta</th>\n",
       "      <th>mean</th>\n",
       "      <th>cat1</th>\n",
       "      <th>cat2</th>\n",
       "      <th>cat3</th>\n",
       "      <th>brand</th>\n",
       "      <th>sku_size</th>\n",
       "    </tr>\n",
       "  </thead>\n",
       "  <tbody>\n",
       "    <tr>\n",
       "      <th>0</th>\n",
       "      <td>2017-01-01</td>\n",
       "      <td>2017-01</td>\n",
       "      <td>20001</td>\n",
       "      <td>934.77222</td>\n",
       "      <td>NaN</td>\n",
       "      <td>HC</td>\n",
       "      <td>ROPA LAVADO</td>\n",
       "      <td>Liquido</td>\n",
       "      <td>ARIEL</td>\n",
       "      <td>3000.0</td>\n",
       "    </tr>\n",
       "    <tr>\n",
       "      <th>1</th>\n",
       "      <td>2017-01-01</td>\n",
       "      <td>2017-01</td>\n",
       "      <td>20002</td>\n",
       "      <td>550.15707</td>\n",
       "      <td>NaN</td>\n",
       "      <td>HC</td>\n",
       "      <td>ROPA LAVADO</td>\n",
       "      <td>Liquido</td>\n",
       "      <td>LIMPIEX</td>\n",
       "      <td>3000.0</td>\n",
       "    </tr>\n",
       "    <tr>\n",
       "      <th>2</th>\n",
       "      <td>2017-01-01</td>\n",
       "      <td>2017-01</td>\n",
       "      <td>20003</td>\n",
       "      <td>1063.45835</td>\n",
       "      <td>NaN</td>\n",
       "      <td>FOODS</td>\n",
       "      <td>ADEREZOS</td>\n",
       "      <td>Mayonesa</td>\n",
       "      <td>NATURA</td>\n",
       "      <td>475.0</td>\n",
       "    </tr>\n",
       "    <tr>\n",
       "      <th>3</th>\n",
       "      <td>2017-01-01</td>\n",
       "      <td>2017-01</td>\n",
       "      <td>20004</td>\n",
       "      <td>555.91614</td>\n",
       "      <td>NaN</td>\n",
       "      <td>FOODS</td>\n",
       "      <td>ADEREZOS</td>\n",
       "      <td>Mayonesa</td>\n",
       "      <td>NATURA</td>\n",
       "      <td>240.0</td>\n",
       "    </tr>\n",
       "    <tr>\n",
       "      <th>4</th>\n",
       "      <td>2017-01-01</td>\n",
       "      <td>2017-01</td>\n",
       "      <td>20005</td>\n",
       "      <td>494.27011</td>\n",
       "      <td>NaN</td>\n",
       "      <td>FOODS</td>\n",
       "      <td>ADEREZOS</td>\n",
       "      <td>Mayonesa</td>\n",
       "      <td>NATURA</td>\n",
       "      <td>120.0</td>\n",
       "    </tr>\n",
       "  </tbody>\n",
       "</table>\n",
       "</div>"
      ],
      "text/plain": [
       "     periodo    month product_id       venta  mean   cat1         cat2   \n",
       "0 2017-01-01  2017-01      20001   934.77222   NaN     HC  ROPA LAVADO  \\\n",
       "1 2017-01-01  2017-01      20002   550.15707   NaN     HC  ROPA LAVADO   \n",
       "2 2017-01-01  2017-01      20003  1063.45835   NaN  FOODS     ADEREZOS   \n",
       "3 2017-01-01  2017-01      20004   555.91614   NaN  FOODS     ADEREZOS   \n",
       "4 2017-01-01  2017-01      20005   494.27011   NaN  FOODS     ADEREZOS   \n",
       "\n",
       "       cat3    brand  sku_size  \n",
       "0   Liquido    ARIEL    3000.0  \n",
       "1   Liquido  LIMPIEX    3000.0  \n",
       "2  Mayonesa   NATURA     475.0  \n",
       "3  Mayonesa   NATURA     240.0  \n",
       "4  Mayonesa   NATURA     120.0  "
      ]
     },
     "execution_count": 52,
     "metadata": {},
     "output_type": "execute_result"
    }
   ],
   "source": [
    "df_forecasts_historic = pd.merge(df_forecasts_historic, df_productos, how = \"left\", on = \"product_id\")\n",
    "df_forecasts_historic.head(5)"
   ]
  },
  {
   "cell_type": "markdown",
   "metadata": {},
   "source": [
    "- Definición funciones de medición de error"
   ]
  },
  {
   "cell_type": "code",
   "execution_count": 53,
   "metadata": {},
   "outputs": [],
   "source": [
    "def text_format(val):\n",
    "    color = 'salmon' if val > 0.3 else 'green'\n",
    "    return 'color: %s' % color"
   ]
  },
  {
   "cell_type": "code",
   "execution_count": 54,
   "metadata": {},
   "outputs": [],
   "source": [
    "def format_zero(val):\n",
    "    color = 'black' if type(val) == str else ('salmon' if val < 0 else 'green')\n",
    "    return 'color: %s' % color"
   ]
  },
  {
   "cell_type": "code",
   "execution_count": 55,
   "metadata": {},
   "outputs": [],
   "source": [
    "def forecasts_error_total(df_forecasts, quantile):\n",
    "    df_forecasts=df_forecasts[df_forecasts['periodo']>=date_min_forecast]\n",
    "    df_forecasts_grouped = df_forecasts.groupby(['month'] + grouped_columns)[['venta', quantile]].sum().reset_index()\n",
    "    df_forecasts_grouped['error_absoluto']=abs(df_forecasts_grouped['venta']-df_forecasts_grouped[quantile])\n",
    "    df_forecasts_grouped =(df_forecasts_grouped.groupby(['month'])['error_absoluto'].sum()\n",
    "                           /df_forecasts_grouped.groupby(['month'])['venta'].sum()).reset_index(name='error')\n",
    "    df_forecasts_grouped.replace([np.inf, -np.inf], np.nan, inplace=True)\n",
    "    return df_forecasts_grouped"
   ]
  },
  {
   "cell_type": "code",
   "execution_count": 56,
   "metadata": {},
   "outputs": [],
   "source": [
    "def forecasts_error_grouped(df_forecasts, feature, time_column, target_value, quantile):\n",
    "    df_forecasts=df_forecasts[df_forecasts['periodo']>=date_min_forecast]\n",
    "    df_forecasts_grouped = df_forecasts.groupby([time_column] + grouped_columns + [feature])[[target_value, quantile]].sum().reset_index()\n",
    "    df_forecasts_grouped['error_absoluto']=abs(df_forecasts_grouped[target_value]-df_forecasts_grouped[quantile])\n",
    "    df_forecasts_grouped =(df_forecasts_grouped.groupby([time_column, feature])['error_absoluto'].sum()\n",
    "                           /df_forecasts_grouped.groupby([time_column, feature])[target_value].sum()).reset_index(name='error')\n",
    "    df_forecasts_grouped=df_forecasts_grouped.pivot(index=[feature], columns=[time_column], values='error')\n",
    "    df_forecasts_grouped.replace([np.inf, -np.inf], np.nan, inplace=True)\n",
    "    df_forecasts_grouped['mean_error']=df_forecasts_grouped.mean(axis=1, skipna=True)\n",
    "    return df_forecasts_grouped"
   ]
  },
  {
   "cell_type": "code",
   "execution_count": 57,
   "metadata": {},
   "outputs": [],
   "source": [
    "def forecasts_error_item(df_forecasts, features, time_column, quantile, target_value):\n",
    "    df_forecasts=df_forecasts[df_forecasts['periodo']>=date_min_forecast]\n",
    "    df_forecasts_grouped = df_forecasts.groupby([time_column, 'product_id']+features)[[target_value, quantile]].sum().reset_index()\n",
    "    df_forecasts_grouped['error_absoluto']=abs(df_forecasts_grouped[target_value]-df_forecasts_grouped[quantile])\n",
    "    df_forecasts_grouped =(df_forecasts_grouped.groupby([time_column, 'product_id'] + features)['error_absoluto'].sum()\n",
    "                           /df_forecasts_grouped.groupby([time_column, 'product_id']+ features)[target_value].sum()).reset_index(name='error')\n",
    "    df_forecasts_grouped=df_forecasts_grouped.pivot(index=['product_id'] + features, columns=[time_column], values='error')\n",
    "    df_forecasts_grouped.replace([np.inf, -np.inf], np.nan, inplace=True)\n",
    "    df_forecasts_grouped['mean_error']=df_forecasts_grouped.mean(axis=1, skipna=True)\n",
    "    return df_forecasts_grouped"
   ]
  },
  {
   "cell_type": "markdown",
   "metadata": {},
   "source": [
    "- Evaluación total general"
   ]
  },
  {
   "cell_type": "code",
   "execution_count": 58,
   "metadata": {},
   "outputs": [
    {
     "data": {
      "text/html": [
       "<style type=\"text/css\">\n",
       "#T_65548_row0_col1, #T_65548_row1_col1 {\n",
       "  color: green;\n",
       "}\n",
       "</style>\n",
       "<table id=\"T_65548\">\n",
       "  <thead>\n",
       "    <tr>\n",
       "      <th class=\"blank level0\" >&nbsp;</th>\n",
       "      <th id=\"T_65548_level0_col0\" class=\"col_heading level0 col0\" >month</th>\n",
       "      <th id=\"T_65548_level0_col1\" class=\"col_heading level0 col1\" >error</th>\n",
       "    </tr>\n",
       "  </thead>\n",
       "  <tbody>\n",
       "    <tr>\n",
       "      <th id=\"T_65548_level0_row0\" class=\"row_heading level0 row0\" >0</th>\n",
       "      <td id=\"T_65548_row0_col0\" class=\"data row0 col0\" >2019-11</td>\n",
       "      <td id=\"T_65548_row0_col1\" class=\"data row0 col1\" >0.248667</td>\n",
       "    </tr>\n",
       "    <tr>\n",
       "      <th id=\"T_65548_level0_row1\" class=\"row_heading level0 row1\" >1</th>\n",
       "      <td id=\"T_65548_row1_col0\" class=\"data row1 col0\" >2019-12</td>\n",
       "      <td id=\"T_65548_row1_col1\" class=\"data row1 col1\" >0.282917</td>\n",
       "    </tr>\n",
       "  </tbody>\n",
       "</table>\n"
      ],
      "text/plain": [
       "<pandas.io.formats.style.Styler at 0x155ef1f7150>"
      ]
     },
     "execution_count": 58,
     "metadata": {},
     "output_type": "execute_result"
    }
   ],
   "source": [
    "forecasts_error_total(df_forecasts_historic, \"mean\").style.applymap(lambda x: text_format(x), ['error'])"
   ]
  },
  {
   "cell_type": "markdown",
   "metadata": {},
   "source": [
    "- Evaluación por categorias"
   ]
  },
  {
   "cell_type": "code",
   "execution_count": 59,
   "metadata": {},
   "outputs": [
    {
     "data": {
      "text/html": [
       "<style type=\"text/css\">\n",
       "#T_645f8_row0_col0, #T_645f8_row1_col0, #T_645f8_row1_col1, #T_645f8_row1_col2, #T_645f8_row2_col0, #T_645f8_row2_col2 {\n",
       "  color: green;\n",
       "}\n",
       "#T_645f8_row0_col1, #T_645f8_row0_col2, #T_645f8_row2_col1, #T_645f8_row3_col0, #T_645f8_row3_col1, #T_645f8_row3_col2 {\n",
       "  color: salmon;\n",
       "}\n",
       "</style>\n",
       "<table id=\"T_645f8\">\n",
       "  <thead>\n",
       "    <tr>\n",
       "      <th class=\"index_name level0\" >month</th>\n",
       "      <th id=\"T_645f8_level0_col0\" class=\"col_heading level0 col0\" >2019-11</th>\n",
       "      <th id=\"T_645f8_level0_col1\" class=\"col_heading level0 col1\" >2019-12</th>\n",
       "      <th id=\"T_645f8_level0_col2\" class=\"col_heading level0 col2\" >mean_error</th>\n",
       "    </tr>\n",
       "    <tr>\n",
       "      <th class=\"index_name level0\" >cat1</th>\n",
       "      <th class=\"blank col0\" >&nbsp;</th>\n",
       "      <th class=\"blank col1\" >&nbsp;</th>\n",
       "      <th class=\"blank col2\" >&nbsp;</th>\n",
       "    </tr>\n",
       "  </thead>\n",
       "  <tbody>\n",
       "    <tr>\n",
       "      <th id=\"T_645f8_level0_row0\" class=\"row_heading level0 row0\" >FOODS</th>\n",
       "      <td id=\"T_645f8_row0_col0\" class=\"data row0 col0\" >0.269497</td>\n",
       "      <td id=\"T_645f8_row0_col1\" class=\"data row0 col1\" >0.373673</td>\n",
       "      <td id=\"T_645f8_row0_col2\" class=\"data row0 col2\" >0.321585</td>\n",
       "    </tr>\n",
       "    <tr>\n",
       "      <th id=\"T_645f8_level0_row1\" class=\"row_heading level0 row1\" >HC</th>\n",
       "      <td id=\"T_645f8_row1_col0\" class=\"data row1 col0\" >0.247416</td>\n",
       "      <td id=\"T_645f8_row1_col1\" class=\"data row1 col1\" >0.237307</td>\n",
       "      <td id=\"T_645f8_row1_col2\" class=\"data row1 col2\" >0.242362</td>\n",
       "    </tr>\n",
       "    <tr>\n",
       "      <th id=\"T_645f8_level0_row2\" class=\"row_heading level0 row2\" >PC</th>\n",
       "      <td id=\"T_645f8_row2_col0\" class=\"data row2 col0\" >0.234862</td>\n",
       "      <td id=\"T_645f8_row2_col1\" class=\"data row2 col1\" >0.338531</td>\n",
       "      <td id=\"T_645f8_row2_col2\" class=\"data row2 col2\" >0.286696</td>\n",
       "    </tr>\n",
       "    <tr>\n",
       "      <th id=\"T_645f8_level0_row3\" class=\"row_heading level0 row3\" >REF</th>\n",
       "      <td id=\"T_645f8_row3_col0\" class=\"data row3 col0\" >3.179160</td>\n",
       "      <td id=\"T_645f8_row3_col1\" class=\"data row3 col1\" >4.506471</td>\n",
       "      <td id=\"T_645f8_row3_col2\" class=\"data row3 col2\" >3.842816</td>\n",
       "    </tr>\n",
       "  </tbody>\n",
       "</table>\n"
      ],
      "text/plain": [
       "<pandas.io.formats.style.Styler at 0x155f0786c10>"
      ]
     },
     "execution_count": 59,
     "metadata": {},
     "output_type": "execute_result"
    }
   ],
   "source": [
    "forecasts_error_grouped(df_forecasts_historic, feature='cat1', time_column='month', target_value='venta', quantile='mean').style.applymap(lambda x: text_format(x))"
   ]
  },
  {
   "cell_type": "code",
   "execution_count": 60,
   "metadata": {},
   "outputs": [
    {
     "data": {
      "text/html": [
       "<style type=\"text/css\">\n",
       "#T_cc250_row0_col0, #T_cc250_row0_col2, #T_cc250_row1_col0, #T_cc250_row2_col1, #T_cc250_row3_col0, #T_cc250_row3_col1, #T_cc250_row3_col2, #T_cc250_row4_col0, #T_cc250_row4_col2, #T_cc250_row7_col0, #T_cc250_row7_col1, #T_cc250_row7_col2, #T_cc250_row8_col0, #T_cc250_row10_col0, #T_cc250_row10_col1, #T_cc250_row10_col2, #T_cc250_row11_col1, #T_cc250_row14_col0, #T_cc250_row14_col2 {\n",
       "  color: green;\n",
       "}\n",
       "#T_cc250_row0_col1, #T_cc250_row1_col1, #T_cc250_row1_col2, #T_cc250_row2_col0, #T_cc250_row2_col2, #T_cc250_row4_col1, #T_cc250_row5_col0, #T_cc250_row5_col1, #T_cc250_row5_col2, #T_cc250_row6_col0, #T_cc250_row6_col1, #T_cc250_row6_col2, #T_cc250_row8_col1, #T_cc250_row8_col2, #T_cc250_row9_col0, #T_cc250_row9_col1, #T_cc250_row9_col2, #T_cc250_row11_col0, #T_cc250_row11_col2, #T_cc250_row12_col0, #T_cc250_row12_col1, #T_cc250_row12_col2, #T_cc250_row13_col0, #T_cc250_row13_col1, #T_cc250_row13_col2, #T_cc250_row14_col1 {\n",
       "  color: salmon;\n",
       "}\n",
       "</style>\n",
       "<table id=\"T_cc250\">\n",
       "  <thead>\n",
       "    <tr>\n",
       "      <th class=\"index_name level0\" >month</th>\n",
       "      <th id=\"T_cc250_level0_col0\" class=\"col_heading level0 col0\" >2019-11</th>\n",
       "      <th id=\"T_cc250_level0_col1\" class=\"col_heading level0 col1\" >2019-12</th>\n",
       "      <th id=\"T_cc250_level0_col2\" class=\"col_heading level0 col2\" >mean_error</th>\n",
       "    </tr>\n",
       "    <tr>\n",
       "      <th class=\"index_name level0\" >cat2</th>\n",
       "      <th class=\"blank col0\" >&nbsp;</th>\n",
       "      <th class=\"blank col1\" >&nbsp;</th>\n",
       "      <th class=\"blank col2\" >&nbsp;</th>\n",
       "    </tr>\n",
       "  </thead>\n",
       "  <tbody>\n",
       "    <tr>\n",
       "      <th id=\"T_cc250_level0_row0\" class=\"row_heading level0 row0\" >ADEREZOS</th>\n",
       "      <td id=\"T_cc250_row0_col0\" class=\"data row0 col0\" >0.253605</td>\n",
       "      <td id=\"T_cc250_row0_col1\" class=\"data row0 col1\" >0.321141</td>\n",
       "      <td id=\"T_cc250_row0_col2\" class=\"data row0 col2\" >0.287373</td>\n",
       "    </tr>\n",
       "    <tr>\n",
       "      <th id=\"T_cc250_level0_row1\" class=\"row_heading level0 row1\" >CABELLO</th>\n",
       "      <td id=\"T_cc250_row1_col0\" class=\"data row1 col0\" >0.272304</td>\n",
       "      <td id=\"T_cc250_row1_col1\" class=\"data row1 col1\" >0.427591</td>\n",
       "      <td id=\"T_cc250_row1_col2\" class=\"data row1 col2\" >0.349948</td>\n",
       "    </tr>\n",
       "    <tr>\n",
       "      <th id=\"T_cc250_level0_row2\" class=\"row_heading level0 row2\" >DENTAL</th>\n",
       "      <td id=\"T_cc250_row2_col0\" class=\"data row2 col0\" >0.633266</td>\n",
       "      <td id=\"T_cc250_row2_col1\" class=\"data row2 col1\" >0.276074</td>\n",
       "      <td id=\"T_cc250_row2_col2\" class=\"data row2 col2\" >0.454670</td>\n",
       "    </tr>\n",
       "    <tr>\n",
       "      <th id=\"T_cc250_level0_row3\" class=\"row_heading level0 row3\" >DEOS</th>\n",
       "      <td id=\"T_cc250_row3_col0\" class=\"data row3 col0\" >0.185644</td>\n",
       "      <td id=\"T_cc250_row3_col1\" class=\"data row3 col1\" >0.226405</td>\n",
       "      <td id=\"T_cc250_row3_col2\" class=\"data row3 col2\" >0.206024</td>\n",
       "    </tr>\n",
       "    <tr>\n",
       "      <th id=\"T_cc250_level0_row4\" class=\"row_heading level0 row4\" >HOGAR</th>\n",
       "      <td id=\"T_cc250_row4_col0\" class=\"data row4 col0\" >0.230258</td>\n",
       "      <td id=\"T_cc250_row4_col1\" class=\"data row4 col1\" >0.305668</td>\n",
       "      <td id=\"T_cc250_row4_col2\" class=\"data row4 col2\" >0.267963</td>\n",
       "    </tr>\n",
       "    <tr>\n",
       "      <th id=\"T_cc250_level0_row5\" class=\"row_heading level0 row5\" >OTROS</th>\n",
       "      <td id=\"T_cc250_row5_col0\" class=\"data row5 col0\" >0.312276</td>\n",
       "      <td id=\"T_cc250_row5_col1\" class=\"data row5 col1\" >0.808356</td>\n",
       "      <td id=\"T_cc250_row5_col2\" class=\"data row5 col2\" >0.560316</td>\n",
       "    </tr>\n",
       "    <tr>\n",
       "      <th id=\"T_cc250_level0_row6\" class=\"row_heading level0 row6\" >PIEL1</th>\n",
       "      <td id=\"T_cc250_row6_col0\" class=\"data row6 col0\" >0.317740</td>\n",
       "      <td id=\"T_cc250_row6_col1\" class=\"data row6 col1\" >0.305705</td>\n",
       "      <td id=\"T_cc250_row6_col2\" class=\"data row6 col2\" >0.311723</td>\n",
       "    </tr>\n",
       "    <tr>\n",
       "      <th id=\"T_cc250_level0_row7\" class=\"row_heading level0 row7\" >PIEL2</th>\n",
       "      <td id=\"T_cc250_row7_col0\" class=\"data row7 col0\" >0.106213</td>\n",
       "      <td id=\"T_cc250_row7_col1\" class=\"data row7 col1\" >0.180099</td>\n",
       "      <td id=\"T_cc250_row7_col2\" class=\"data row7 col2\" >0.143156</td>\n",
       "    </tr>\n",
       "    <tr>\n",
       "      <th id=\"T_cc250_level0_row8\" class=\"row_heading level0 row8\" >PROFESIONAL</th>\n",
       "      <td id=\"T_cc250_row8_col0\" class=\"data row8 col0\" >0.299091</td>\n",
       "      <td id=\"T_cc250_row8_col1\" class=\"data row8 col1\" >0.345440</td>\n",
       "      <td id=\"T_cc250_row8_col2\" class=\"data row8 col2\" >0.322265</td>\n",
       "    </tr>\n",
       "    <tr>\n",
       "      <th id=\"T_cc250_level0_row9\" class=\"row_heading level0 row9\" >ROPA ACONDICIONADOR</th>\n",
       "      <td id=\"T_cc250_row9_col0\" class=\"data row9 col0\" >0.311145</td>\n",
       "      <td id=\"T_cc250_row9_col1\" class=\"data row9 col1\" >0.482596</td>\n",
       "      <td id=\"T_cc250_row9_col2\" class=\"data row9 col2\" >0.396870</td>\n",
       "    </tr>\n",
       "    <tr>\n",
       "      <th id=\"T_cc250_level0_row10\" class=\"row_heading level0 row10\" >ROPA LAVADO</th>\n",
       "      <td id=\"T_cc250_row10_col0\" class=\"data row10 col0\" >0.264653</td>\n",
       "      <td id=\"T_cc250_row10_col1\" class=\"data row10 col1\" >0.165143</td>\n",
       "      <td id=\"T_cc250_row10_col2\" class=\"data row10 col2\" >0.214898</td>\n",
       "    </tr>\n",
       "    <tr>\n",
       "      <th id=\"T_cc250_level0_row11\" class=\"row_heading level0 row11\" >ROPA MANCHAS</th>\n",
       "      <td id=\"T_cc250_row11_col0\" class=\"data row11 col0\" >0.503468</td>\n",
       "      <td id=\"T_cc250_row11_col1\" class=\"data row11 col1\" >0.264114</td>\n",
       "      <td id=\"T_cc250_row11_col2\" class=\"data row11 col2\" >0.383791</td>\n",
       "    </tr>\n",
       "    <tr>\n",
       "      <th id=\"T_cc250_level0_row12\" class=\"row_heading level0 row12\" >SOPAS Y CALDOS</th>\n",
       "      <td id=\"T_cc250_row12_col0\" class=\"data row12 col0\" >0.363233</td>\n",
       "      <td id=\"T_cc250_row12_col1\" class=\"data row12 col1\" >0.673912</td>\n",
       "      <td id=\"T_cc250_row12_col2\" class=\"data row12 col2\" >0.518573</td>\n",
       "    </tr>\n",
       "    <tr>\n",
       "      <th id=\"T_cc250_level0_row13\" class=\"row_heading level0 row13\" >TE</th>\n",
       "      <td id=\"T_cc250_row13_col0\" class=\"data row13 col0\" >3.179160</td>\n",
       "      <td id=\"T_cc250_row13_col1\" class=\"data row13 col1\" >4.506471</td>\n",
       "      <td id=\"T_cc250_row13_col2\" class=\"data row13 col2\" >3.842816</td>\n",
       "    </tr>\n",
       "    <tr>\n",
       "      <th id=\"T_cc250_level0_row14\" class=\"row_heading level0 row14\" >VAJILLA</th>\n",
       "      <td id=\"T_cc250_row14_col0\" class=\"data row14 col0\" >0.134275</td>\n",
       "      <td id=\"T_cc250_row14_col1\" class=\"data row14 col1\" >0.301644</td>\n",
       "      <td id=\"T_cc250_row14_col2\" class=\"data row14 col2\" >0.217959</td>\n",
       "    </tr>\n",
       "  </tbody>\n",
       "</table>\n"
      ],
      "text/plain": [
       "<pandas.io.formats.style.Styler at 0x155f0972310>"
      ]
     },
     "execution_count": 60,
     "metadata": {},
     "output_type": "execute_result"
    }
   ],
   "source": [
    "forecasts_error_grouped(df_forecasts_historic, feature='cat2', time_column='month', target_value='venta', quantile='mean').style.applymap(lambda x: text_format(x))"
   ]
  },
  {
   "cell_type": "markdown",
   "metadata": {},
   "source": [
    "- Evaluación por items principales"
   ]
  },
  {
   "cell_type": "code",
   "execution_count": 61,
   "metadata": {},
   "outputs": [],
   "source": [
    "items_relevantes = [\"20001\", \"20002\", \"20003\", \"20004\", \"20005\", \"20006\", \"20007\", \"20008\", \"20009\", \"20010\"]"
   ]
  },
  {
   "cell_type": "code",
   "execution_count": 62,
   "metadata": {},
   "outputs": [
    {
     "data": {
      "text/html": [
       "<style type=\"text/css\">\n",
       "#T_0f308_row0_col0, #T_0f308_row0_col1, #T_0f308_row0_col2, #T_0f308_row1_col0, #T_0f308_row1_col1, #T_0f308_row1_col2, #T_0f308_row2_col0, #T_0f308_row2_col1, #T_0f308_row2_col2, #T_0f308_row3_col0, #T_0f308_row3_col1, #T_0f308_row3_col2, #T_0f308_row4_col0, #T_0f308_row4_col1, #T_0f308_row4_col2, #T_0f308_row5_col0, #T_0f308_row5_col1, #T_0f308_row5_col2, #T_0f308_row6_col0, #T_0f308_row6_col1, #T_0f308_row6_col2, #T_0f308_row7_col0, #T_0f308_row8_col0, #T_0f308_row8_col1, #T_0f308_row8_col2, #T_0f308_row9_col0, #T_0f308_row9_col1, #T_0f308_row9_col2 {\n",
       "  color: green;\n",
       "}\n",
       "#T_0f308_row7_col1, #T_0f308_row7_col2 {\n",
       "  color: salmon;\n",
       "}\n",
       "</style>\n",
       "<table id=\"T_0f308\">\n",
       "  <thead>\n",
       "    <tr>\n",
       "      <th class=\"blank level0\" >&nbsp;</th>\n",
       "      <th id=\"T_0f308_level0_col0\" class=\"col_heading level0 col0\" >2019-11</th>\n",
       "      <th id=\"T_0f308_level0_col1\" class=\"col_heading level0 col1\" >2019-12</th>\n",
       "      <th id=\"T_0f308_level0_col2\" class=\"col_heading level0 col2\" >mean_error</th>\n",
       "    </tr>\n",
       "    <tr>\n",
       "      <th class=\"index_name level0\" >product_id</th>\n",
       "      <th class=\"blank col0\" >&nbsp;</th>\n",
       "      <th class=\"blank col1\" >&nbsp;</th>\n",
       "      <th class=\"blank col2\" >&nbsp;</th>\n",
       "    </tr>\n",
       "  </thead>\n",
       "  <tbody>\n",
       "    <tr>\n",
       "      <th id=\"T_0f308_level0_row0\" class=\"row_heading level0 row0\" >20001</th>\n",
       "      <td id=\"T_0f308_row0_col0\" class=\"data row0 col0\" >0.100477</td>\n",
       "      <td id=\"T_0f308_row0_col1\" class=\"data row0 col1\" >0.004941</td>\n",
       "      <td id=\"T_0f308_row0_col2\" class=\"data row0 col2\" >0.052709</td>\n",
       "    </tr>\n",
       "    <tr>\n",
       "      <th id=\"T_0f308_level0_row1\" class=\"row_heading level0 row1\" >20002</th>\n",
       "      <td id=\"T_0f308_row1_col0\" class=\"data row1 col0\" >0.060210</td>\n",
       "      <td id=\"T_0f308_row1_col1\" class=\"data row1 col1\" >0.210826</td>\n",
       "      <td id=\"T_0f308_row1_col2\" class=\"data row1 col2\" >0.135518</td>\n",
       "    </tr>\n",
       "    <tr>\n",
       "      <th id=\"T_0f308_level0_row2\" class=\"row_heading level0 row2\" >20003</th>\n",
       "      <td id=\"T_0f308_row2_col0\" class=\"data row2 col0\" >0.165697</td>\n",
       "      <td id=\"T_0f308_row2_col1\" class=\"data row2 col1\" >0.042106</td>\n",
       "      <td id=\"T_0f308_row2_col2\" class=\"data row2 col2\" >0.103901</td>\n",
       "    </tr>\n",
       "    <tr>\n",
       "      <th id=\"T_0f308_level0_row3\" class=\"row_heading level0 row3\" >20004</th>\n",
       "      <td id=\"T_0f308_row3_col0\" class=\"data row3 col0\" >0.262445</td>\n",
       "      <td id=\"T_0f308_row3_col1\" class=\"data row3 col1\" >0.246001</td>\n",
       "      <td id=\"T_0f308_row3_col2\" class=\"data row3 col2\" >0.254223</td>\n",
       "    </tr>\n",
       "    <tr>\n",
       "      <th id=\"T_0f308_level0_row4\" class=\"row_heading level0 row4\" >20005</th>\n",
       "      <td id=\"T_0f308_row4_col0\" class=\"data row4 col0\" >0.176376</td>\n",
       "      <td id=\"T_0f308_row4_col1\" class=\"data row4 col1\" >0.084327</td>\n",
       "      <td id=\"T_0f308_row4_col2\" class=\"data row4 col2\" >0.130351</td>\n",
       "    </tr>\n",
       "    <tr>\n",
       "      <th id=\"T_0f308_level0_row5\" class=\"row_heading level0 row5\" >20006</th>\n",
       "      <td id=\"T_0f308_row5_col0\" class=\"data row5 col0\" >0.170689</td>\n",
       "      <td id=\"T_0f308_row5_col1\" class=\"data row5 col1\" >0.121255</td>\n",
       "      <td id=\"T_0f308_row5_col2\" class=\"data row5 col2\" >0.145972</td>\n",
       "    </tr>\n",
       "    <tr>\n",
       "      <th id=\"T_0f308_level0_row6\" class=\"row_heading level0 row6\" >20007</th>\n",
       "      <td id=\"T_0f308_row6_col0\" class=\"data row6 col0\" >0.230248</td>\n",
       "      <td id=\"T_0f308_row6_col1\" class=\"data row6 col1\" >0.127604</td>\n",
       "      <td id=\"T_0f308_row6_col2\" class=\"data row6 col2\" >0.178926</td>\n",
       "    </tr>\n",
       "    <tr>\n",
       "      <th id=\"T_0f308_level0_row7\" class=\"row_heading level0 row7\" >20008</th>\n",
       "      <td id=\"T_0f308_row7_col0\" class=\"data row7 col0\" >0.017600</td>\n",
       "      <td id=\"T_0f308_row7_col1\" class=\"data row7 col1\" >0.943071</td>\n",
       "      <td id=\"T_0f308_row7_col2\" class=\"data row7 col2\" >0.480335</td>\n",
       "    </tr>\n",
       "    <tr>\n",
       "      <th id=\"T_0f308_level0_row8\" class=\"row_heading level0 row8\" >20009</th>\n",
       "      <td id=\"T_0f308_row8_col0\" class=\"data row8 col0\" >0.250406</td>\n",
       "      <td id=\"T_0f308_row8_col1\" class=\"data row8 col1\" >0.094891</td>\n",
       "      <td id=\"T_0f308_row8_col2\" class=\"data row8 col2\" >0.172648</td>\n",
       "    </tr>\n",
       "    <tr>\n",
       "      <th id=\"T_0f308_level0_row9\" class=\"row_heading level0 row9\" >20010</th>\n",
       "      <td id=\"T_0f308_row9_col0\" class=\"data row9 col0\" >0.072584</td>\n",
       "      <td id=\"T_0f308_row9_col1\" class=\"data row9 col1\" >0.214633</td>\n",
       "      <td id=\"T_0f308_row9_col2\" class=\"data row9 col2\" >0.143608</td>\n",
       "    </tr>\n",
       "  </tbody>\n",
       "</table>\n"
      ],
      "text/plain": [
       "<pandas.io.formats.style.Styler at 0x155f3d593d0>"
      ]
     },
     "execution_count": 62,
     "metadata": {},
     "output_type": "execute_result"
    }
   ],
   "source": [
    "# forecast_mean\n",
    "forecasts_error_item(df_forecasts_historic[df_forecasts_historic.product_id.isin(items_relevantes)], features=[], time_column='month', target_value='venta', quantile='mean').reset_index().rename_axis(None, axis=1).set_index(\"product_id\").style.applymap(text_format)"
   ]
  }
 ],
 "metadata": {
  "kernelspec": {
   "display_name": "Python 3",
   "language": "python",
   "name": "python3"
  },
  "language_info": {
   "codemirror_mode": {
    "name": "ipython",
    "version": 3
   },
   "file_extension": ".py",
   "mimetype": "text/x-python",
   "name": "python",
   "nbconvert_exporter": "python",
   "pygments_lexer": "ipython3",
   "version": "3.11.2"
  }
 },
 "nbformat": 4,
 "nbformat_minor": 4
}
