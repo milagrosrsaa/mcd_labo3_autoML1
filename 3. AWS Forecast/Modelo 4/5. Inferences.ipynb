{
 "cells": [
  {
   "cell_type": "markdown",
   "metadata": {},
   "source": [
    "<center>\n",
    "  <h2>Trabajo Laboratorio de Implementación III - MCD Virtual Cohorte 2022</h2>\n",
    "  <h3>Forecasting para una Empresa de Consumo Masivo</h3>\n",
    "  <h4>Inferencias</h4>\n",
    "</center>"
   ]
  },
  {
   "cell_type": "code",
   "execution_count": 1,
   "metadata": {},
   "outputs": [],
   "source": [
    "# Importación librerias\n",
    "\n",
    "# !pip install awswrangler\n",
    "# !pip install boto3\n",
    "import boto3\n",
    "import awswrangler as wr\n",
    "import pandas as pd\n",
    "import numpy as np\n",
    "from datetime import datetime\n",
    "from dateutil.relativedelta import relativedelta"
   ]
  },
  {
   "cell_type": "code",
   "execution_count": 73,
   "metadata": {},
   "outputs": [
    {
     "name": "stdout",
     "output_type": "stream",
     "text": [
      "Fecha inicio historia 2017-01-01 00:00:00\n",
      "Fecha fin historia 2019-12-01 00:00:00\n",
      "Fecha futura (related time series) 2020-02-01 00:00:00\n"
     ]
    }
   ],
   "source": [
    "# Definición fechas\n",
    "\n",
    "date_start=datetime.strptime('2017-01-01', '%Y-%m-%d')\n",
    "date_end=datetime.strptime('2019-12-01', '%Y-%m-%d')\n",
    "forecast_length = 2\n",
    "date_future=date_end+relativedelta(months=forecast_length)\n",
    "years=range(2018, 2020)\n",
    "\n",
    "print(f\"Fecha inicio historia {date_start}\")\n",
    "print(f\"Fecha fin historia {date_end}\")\n",
    "print(f\"Fecha futura (related time series) {date_future}\")\n",
    "\n",
    "# Versión modelo\n",
    "data_version='4'\n",
    "data_version_cluster1 = '4_c1'\n",
    "data_version_cluster2 = '4_c2'\n",
    "data_version_cluster3 = '4_c3'\n",
    "grouped_columns = [\"product_id\"]\n",
    "grouped_cols_name = \"product\"\n",
    "\n",
    "# Parametros backtest\n",
    "dataset_frequency='M'\n",
    "quantiles=[\"mean\"]"
   ]
  },
  {
   "cell_type": "code",
   "execution_count": 4,
   "metadata": {},
   "outputs": [],
   "source": [
    "# Conexiones AWS\n",
    "\n",
    "account_id=boto3.client('sts').get_caller_identity().get('Account')\n",
    "session = boto3.Session() \n",
    "forecast = session.client(service_name='forecast')\n",
    "region = forecast.meta.region_name\n",
    "forecastquery = session.client(service_name='forecastquery')\n",
    "role = f'arn:aws:iam::{account_id}:role/ForecastRole'"
   ]
  },
  {
   "cell_type": "code",
   "execution_count": 5,
   "metadata": {},
   "outputs": [],
   "source": [
    "# Buckets de datos\n",
    "\n",
    "# CLUSTER 1\n",
    "target_s3_path_c1=f's3://datasets-forecast-account1/modelo-{data_version_cluster1}-forecast-{grouped_cols_name}/target/df_ventas_{grouped_cols_name}.csv'\n",
    "items_s3_path_c1=f's3://datasets-forecast-account1/modelo-{data_version_cluster1}-forecast-{grouped_cols_name}/product/df_products.csv'\n",
    "related_s3_path_c1=f's3://datasets-forecast-account1/modelo-{data_version_cluster1}-forecast-{grouped_cols_name}/related/df_related_{grouped_cols_name}.csv'\n",
    "\n",
    "# CLUSTER 2\n",
    "target_s3_path_c2=f's3://datasets-forecast-account1/modelo-{data_version_cluster2}-forecast-{grouped_cols_name}/target/df_ventas_{grouped_cols_name}.csv'\n",
    "items_s3_path_c2=f's3://datasets-forecast-account1/modelo-{data_version_cluster2}-forecast-{grouped_cols_name}/product/df_products.csv'\n",
    "related_s3_path_c2=f's3://datasets-forecast-account1/modelo-{data_version_cluster2}-forecast-{grouped_cols_name}/related/df_related_{grouped_cols_name}.csv'\n",
    "\n",
    "# CLUSTER 3\n",
    "target_s3_path_c3=f's3://datasets-forecast-account1/modelo-{data_version_cluster3}-forecast-{grouped_cols_name}/target/df_ventas_{grouped_cols_name}.csv'\n",
    "items_s3_path_c3=f's3://datasets-forecast-account1/modelo-{data_version_cluster3}-forecast-{grouped_cols_name}/product/df_products.csv'\n",
    "related_s3_path_c3=f's3://datasets-forecast-account1/modelo-{data_version_cluster3}-forecast-{grouped_cols_name}/related/df_related_{grouped_cols_name}.csv'\n",
    "\n",
    "# Outputs\n",
    "backtest_export_path_c1=f's3://datasets-forecast-account1/modelo-{data_version_cluster1}-forecast-{grouped_cols_name}/output/'\n",
    "backtest_export_path_c2=f's3://datasets-forecast-account1/modelo-{data_version_cluster2}-forecast-{grouped_cols_name}/output/'\n",
    "backtest_export_path_c3=f's3://datasets-forecast-account1/modelo-{data_version_cluster3}-forecast-{grouped_cols_name}/output/'"
   ]
  },
  {
   "cell_type": "code",
   "execution_count": 6,
   "metadata": {},
   "outputs": [],
   "source": [
    "# Formar ARNs\n",
    "\n",
    "# CLUSTER 1\n",
    "dataset_group_arn_c1=f'arn:aws:forecast:us-east-1:{account_id}:dataset-group/modelo_{data_version_cluster1}_{grouped_cols_name}'\n",
    "automl_predictor_arn_c1 = f'arn:aws:forecast:us-east-1:{account_id}:predictor/modelo_{data_version_cluster1}_predictor_01J02Q23DBHN6P2C8QM61MAY3F'\n",
    "\n",
    "# CLUSTER 2\n",
    "dataset_group_arn_c2=f'arn:aws:forecast:us-east-1:{account_id}:dataset-group/modelo_{data_version_cluster2}_{grouped_cols_name}'\n",
    "automl_predictor_arn_c2 = f'arn:aws:forecast:us-east-1:{account_id}:predictor/modelo_{data_version_cluster2}_predictor_01J02Q4FXFQADEHVVGBN5ETE7C'\n",
    "\n",
    "# CLUSTER 3\n",
    "dataset_group_arn_c3=f'arn:aws:forecast:us-east-1:{account_id}:dataset-group/modelo_{data_version_cluster3}_{grouped_cols_name}'\n",
    "automl_predictor_arn_c3 = f'arn:aws:forecast:us-east-1:{account_id}:predictor/modelo_{data_version_cluster3}_predictor_01J02Q5EW0HRWSQEVHF4M5B8WP'"
   ]
  },
  {
   "cell_type": "code",
   "execution_count": 7,
   "metadata": {},
   "outputs": [],
   "source": [
    "# Verificar comunicación con Amazon Forecast\n",
    "assert forecast.list_predictors()"
   ]
  },
  {
   "cell_type": "code",
   "execution_count": 8,
   "metadata": {},
   "outputs": [],
   "source": [
    "best_quantile = [\"mean\"]"
   ]
  },
  {
   "cell_type": "markdown",
   "metadata": {},
   "source": [
    "### Generar inferencias"
   ]
  },
  {
   "cell_type": "markdown",
   "metadata": {},
   "source": [
    "- CLUSTER 1"
   ]
  },
  {
   "cell_type": "code",
   "execution_count": 10,
   "metadata": {},
   "outputs": [],
   "source": [
    "forecast_name_c1=f\"modelo_{data_version_cluster1}_{grouped_cols_name}_inference\"\n",
    "tags_c1=[{'Key': 'ProjectName', 'Value': 'pruebas_laboratorio'}]\n",
    "\n",
    "response_c1 = forecast.create_forecast(\n",
    "    ForecastName = forecast_name_c1,\n",
    "    PredictorArn = automl_predictor_arn_c1,\n",
    "    ForecastTypes= best_quantile,\n",
    "    Tags=tags_c1\n",
    ")"
   ]
  },
  {
   "cell_type": "code",
   "execution_count": 11,
   "metadata": {},
   "outputs": [
    {
     "data": {
      "text/plain": [
       "'arn:aws:forecast:us-east-1:935182042847:forecast/modelo_4_c1_product_inference'"
      ]
     },
     "execution_count": 11,
     "metadata": {},
     "output_type": "execute_result"
    }
   ],
   "source": [
    "forecast_arn_c1=response_c1['ForecastArn']\n",
    "forecast_arn_c1"
   ]
  },
  {
   "cell_type": "code",
   "execution_count": 38,
   "metadata": {},
   "outputs": [
    {
     "data": {
      "text/plain": [
       "'ACTIVE'"
      ]
     },
     "execution_count": 38,
     "metadata": {},
     "output_type": "execute_result"
    }
   ],
   "source": [
    "forecast.describe_forecast(\n",
    "    ForecastArn=forecast_arn_c1\n",
    ")['Status']"
   ]
  },
  {
   "cell_type": "markdown",
   "metadata": {},
   "source": [
    "- CLUSTER 2"
   ]
  },
  {
   "cell_type": "code",
   "execution_count": 13,
   "metadata": {},
   "outputs": [],
   "source": [
    "forecast_name_c2=f\"modelo_{data_version_cluster2}_{grouped_cols_name}_inference\"\n",
    "tags_c2=[{'Key': 'ProjectName', 'Value': 'pruebas_laboratorio'}]\n",
    "\n",
    "response_c2 = forecast.create_forecast(\n",
    "    ForecastName = forecast_name_c2,\n",
    "    PredictorArn = automl_predictor_arn_c2,\n",
    "    ForecastTypes= best_quantile,\n",
    "    Tags=tags_c2\n",
    ")"
   ]
  },
  {
   "cell_type": "code",
   "execution_count": 14,
   "metadata": {},
   "outputs": [
    {
     "data": {
      "text/plain": [
       "'arn:aws:forecast:us-east-1:935182042847:forecast/modelo_4_c2_product_inference'"
      ]
     },
     "execution_count": 14,
     "metadata": {},
     "output_type": "execute_result"
    }
   ],
   "source": [
    "forecast_arn_c2=response_c2['ForecastArn']\n",
    "forecast_arn_c2"
   ]
  },
  {
   "cell_type": "code",
   "execution_count": 26,
   "metadata": {},
   "outputs": [
    {
     "data": {
      "text/plain": [
       "'ACTIVE'"
      ]
     },
     "execution_count": 26,
     "metadata": {},
     "output_type": "execute_result"
    }
   ],
   "source": [
    "forecast.describe_forecast(\n",
    "    ForecastArn=forecast_arn_c2\n",
    ")['Status']"
   ]
  },
  {
   "cell_type": "markdown",
   "metadata": {},
   "source": [
    "- Cluster 3"
   ]
  },
  {
   "cell_type": "code",
   "execution_count": 16,
   "metadata": {},
   "outputs": [],
   "source": [
    "forecast_name_c3=f\"modelo_{data_version_cluster3}_{grouped_cols_name}_inference\"\n",
    "tags_c3=[{'Key': 'ProjectName', 'Value': 'pruebas_laboratorio'}]\n",
    "\n",
    "response_c3 = forecast.create_forecast(\n",
    "    ForecastName = forecast_name_c3,\n",
    "    PredictorArn = automl_predictor_arn_c3,\n",
    "    ForecastTypes= best_quantile,\n",
    "    Tags=tags_c3\n",
    ")"
   ]
  },
  {
   "cell_type": "code",
   "execution_count": 17,
   "metadata": {},
   "outputs": [
    {
     "data": {
      "text/plain": [
       "'arn:aws:forecast:us-east-1:935182042847:forecast/modelo_4_c3_product_inference'"
      ]
     },
     "execution_count": 17,
     "metadata": {},
     "output_type": "execute_result"
    }
   ],
   "source": [
    "forecast_arn_c3=response_c3['ForecastArn']\n",
    "forecast_arn_c3"
   ]
  },
  {
   "cell_type": "code",
   "execution_count": 34,
   "metadata": {},
   "outputs": [
    {
     "data": {
      "text/plain": [
       "'ACTIVE'"
      ]
     },
     "execution_count": 34,
     "metadata": {},
     "output_type": "execute_result"
    }
   ],
   "source": [
    "forecast.describe_forecast(\n",
    "    ForecastArn=forecast_arn_c3\n",
    ")['Status']"
   ]
  },
  {
   "cell_type": "markdown",
   "metadata": {},
   "source": [
    "### Exportar resultados"
   ]
  },
  {
   "cell_type": "markdown",
   "metadata": {},
   "source": [
    "- Cluster 1"
   ]
  },
  {
   "cell_type": "code",
   "execution_count": 41,
   "metadata": {},
   "outputs": [],
   "source": [
    "export_s3_path_c1=f's3://datasets-forecast-account1/modelo-{data_version_cluster1}-forecast-{grouped_cols_name}/inferencias/'\n",
    "forecast_export_job_name_c1=f\"modelo_{data_version_cluster1}_{grouped_cols_name}_inference_export\""
   ]
  },
  {
   "cell_type": "code",
   "execution_count": 42,
   "metadata": {},
   "outputs": [],
   "source": [
    "response_c1 = forecast.create_forecast_export_job(\n",
    "    ForecastExportJobName=forecast_export_job_name_c1,\n",
    "    ForecastArn=forecast_arn_c1,\n",
    "    Destination={\n",
    "        'S3Config': {\n",
    "            'Path': export_s3_path_c1,\n",
    "            'RoleArn': role\n",
    "        }\n",
    "    },\n",
    "    Tags=tags_c1\n",
    ")"
   ]
  },
  {
   "cell_type": "code",
   "execution_count": 43,
   "metadata": {},
   "outputs": [],
   "source": [
    "forecast_export_job_arn_c1=response_c1['ForecastExportJobArn']"
   ]
  },
  {
   "cell_type": "code",
   "execution_count": 53,
   "metadata": {},
   "outputs": [
    {
     "data": {
      "text/plain": [
       "'ACTIVE'"
      ]
     },
     "execution_count": 53,
     "metadata": {},
     "output_type": "execute_result"
    }
   ],
   "source": [
    "forecast.describe_forecast_export_job(\n",
    "    ForecastExportJobArn=forecast_export_job_arn_c1\n",
    ")['Status']"
   ]
  },
  {
   "cell_type": "markdown",
   "metadata": {},
   "source": [
    "- Cluster 2"
   ]
  },
  {
   "cell_type": "code",
   "execution_count": 45,
   "metadata": {},
   "outputs": [],
   "source": [
    "export_s3_path_c2=f's3://datasets-forecast-account1/modelo-{data_version_cluster2}-forecast-{grouped_cols_name}/inferencias/'\n",
    "forecast_export_job_name_c2=f\"modelo_{data_version_cluster2}_{grouped_cols_name}_inference_export\""
   ]
  },
  {
   "cell_type": "code",
   "execution_count": 46,
   "metadata": {},
   "outputs": [],
   "source": [
    "response_c2 = forecast.create_forecast_export_job(\n",
    "    ForecastExportJobName=forecast_export_job_name_c2,\n",
    "    ForecastArn=forecast_arn_c2,\n",
    "    Destination={\n",
    "        'S3Config': {\n",
    "            'Path': export_s3_path_c2,\n",
    "            'RoleArn': role\n",
    "        }\n",
    "    },\n",
    "    Tags=tags_c2\n",
    ")"
   ]
  },
  {
   "cell_type": "code",
   "execution_count": 47,
   "metadata": {},
   "outputs": [],
   "source": [
    "forecast_export_job_arn_c2=response_c2['ForecastExportJobArn']"
   ]
  },
  {
   "cell_type": "code",
   "execution_count": 58,
   "metadata": {},
   "outputs": [
    {
     "data": {
      "text/plain": [
       "'ACTIVE'"
      ]
     },
     "execution_count": 58,
     "metadata": {},
     "output_type": "execute_result"
    }
   ],
   "source": [
    "forecast.describe_forecast_export_job(\n",
    "    ForecastExportJobArn=forecast_export_job_arn_c2\n",
    ")['Status']"
   ]
  },
  {
   "cell_type": "markdown",
   "metadata": {},
   "source": [
    "- Cluster 3"
   ]
  },
  {
   "cell_type": "code",
   "execution_count": 49,
   "metadata": {},
   "outputs": [],
   "source": [
    "export_s3_path_c3=f's3://datasets-forecast-account1/modelo-{data_version_cluster3}-forecast-{grouped_cols_name}/inferencias/'\n",
    "forecast_export_job_name_c3=f\"modelo_{data_version_cluster3}_{grouped_cols_name}_inference_export\""
   ]
  },
  {
   "cell_type": "code",
   "execution_count": 50,
   "metadata": {},
   "outputs": [],
   "source": [
    "response_c3 = forecast.create_forecast_export_job(\n",
    "    ForecastExportJobName=forecast_export_job_name_c3,\n",
    "    ForecastArn=forecast_arn_c3,\n",
    "    Destination={\n",
    "        'S3Config': {\n",
    "            'Path': export_s3_path_c3,\n",
    "            'RoleArn': role\n",
    "        }\n",
    "    },\n",
    "    Tags=tags_c3\n",
    ")"
   ]
  },
  {
   "cell_type": "code",
   "execution_count": 51,
   "metadata": {},
   "outputs": [],
   "source": [
    "forecast_export_job_arn_c3=response_c3['ForecastExportJobArn']"
   ]
  },
  {
   "cell_type": "code",
   "execution_count": 59,
   "metadata": {},
   "outputs": [
    {
     "data": {
      "text/plain": [
       "'ACTIVE'"
      ]
     },
     "execution_count": 59,
     "metadata": {},
     "output_type": "execute_result"
    }
   ],
   "source": [
    "forecast.describe_forecast_export_job(\n",
    "    ForecastExportJobArn=forecast_export_job_arn_c3\n",
    ")['Status']"
   ]
  },
  {
   "cell_type": "markdown",
   "metadata": {},
   "source": [
    "### Lectura de forecasts"
   ]
  },
  {
   "cell_type": "code",
   "execution_count": 65,
   "metadata": {},
   "outputs": [
    {
     "name": "stdout",
     "output_type": "stream",
     "text": [
      "----------C1-----------\n",
      "2020-01-01T00:00:00Z 2020-02-01T00:00:00Z\n",
      "245\n",
      "   item_id   brand   cat1      cat2     cat3  sku_size                  date   \n",
      "0    20158  mayos3  foods  aderezos  ketchup       240  2020-01-01T00:00:00Z  \\\n",
      "\n",
      "        mean  \n",
      "0  49.323593  \n",
      "----------C2-----------\n",
      "2020-01-01T00:00:00Z 2020-02-01T00:00:00Z\n",
      "394\n",
      "   item_id     brand cat1     cat2            cat3  sku_size   \n",
      "0    20193  shampoo3   pc  cabello  acondicionador       350  \\\n",
      "\n",
      "                   date      mean  \n",
      "0  2020-01-01T00:00:00Z  37.11784  \n",
      "----------C3-----------\n",
      "2020-01-01T00:00:00Z 2020-02-01T00:00:00Z\n",
      "141\n",
      "   item_id  brand cat1  cat2  cat3  sku_size                  date      mean\n",
      "0    20569  nivea   pc  deos  aero        89  2020-01-01T00:00:00Z  9.519287\n"
     ]
    }
   ],
   "source": [
    "df_predictions_c1=wr.s3.read_csv(export_s3_path_c1)\n",
    "print(\"----------C1-----------\")\n",
    "print(df_predictions_c1.date.min(), df_predictions_c1.date.max())\n",
    "print(len(df_predictions_c1.item_id.drop_duplicates()))\n",
    "print(df_predictions_c1.head(1))\n",
    "\n",
    "df_predictions_c2=wr.s3.read_csv(export_s3_path_c2)\n",
    "print(\"----------C2-----------\")\n",
    "print(df_predictions_c2.date.min(), df_predictions_c2.date.max())\n",
    "print(len(df_predictions_c2.item_id.drop_duplicates()))\n",
    "print(df_predictions_c2.head(1))\n",
    "\n",
    "df_predictions_c3=wr.s3.read_csv(export_s3_path_c3)\n",
    "print(\"----------C3-----------\")\n",
    "print(df_predictions_c3.date.min(), df_predictions_c3.date.max())\n",
    "print(len(df_predictions_c3.item_id.drop_duplicates()))\n",
    "print(df_predictions_c3.head(1))"
   ]
  },
  {
   "cell_type": "code",
   "execution_count": 66,
   "metadata": {},
   "outputs": [],
   "source": [
    "df_predictions=pd.concat([df_predictions_c1, df_predictions_c2, df_predictions_c3])"
   ]
  },
  {
   "cell_type": "code",
   "execution_count": 67,
   "metadata": {},
   "outputs": [
    {
     "data": {
      "text/plain": [
       "780"
      ]
     },
     "execution_count": 67,
     "metadata": {},
     "output_type": "execute_result"
    }
   ],
   "source": [
    "len(df_predictions.drop_duplicates(subset=\"item_id\"))"
   ]
  },
  {
   "cell_type": "code",
   "execution_count": 68,
   "metadata": {},
   "outputs": [
    {
     "data": {
      "text/html": [
       "<div>\n",
       "<style scoped>\n",
       "    .dataframe tbody tr th:only-of-type {\n",
       "        vertical-align: middle;\n",
       "    }\n",
       "\n",
       "    .dataframe tbody tr th {\n",
       "        vertical-align: top;\n",
       "    }\n",
       "\n",
       "    .dataframe thead th {\n",
       "        text-align: right;\n",
       "    }\n",
       "</style>\n",
       "<table border=\"1\" class=\"dataframe\">\n",
       "  <thead>\n",
       "    <tr style=\"text-align: right;\">\n",
       "      <th></th>\n",
       "      <th>item_id</th>\n",
       "      <th>brand</th>\n",
       "      <th>cat1</th>\n",
       "      <th>cat2</th>\n",
       "      <th>cat3</th>\n",
       "      <th>sku_size</th>\n",
       "      <th>date</th>\n",
       "      <th>mean</th>\n",
       "    </tr>\n",
       "  </thead>\n",
       "  <tbody>\n",
       "    <tr>\n",
       "      <th>0</th>\n",
       "      <td>20158</td>\n",
       "      <td>mayos3</td>\n",
       "      <td>foods</td>\n",
       "      <td>aderezos</td>\n",
       "      <td>ketchup</td>\n",
       "      <td>240</td>\n",
       "      <td>2020-01-01T00:00:00Z</td>\n",
       "      <td>49.323593</td>\n",
       "    </tr>\n",
       "    <tr>\n",
       "      <th>1</th>\n",
       "      <td>20158</td>\n",
       "      <td>mayos3</td>\n",
       "      <td>foods</td>\n",
       "      <td>aderezos</td>\n",
       "      <td>ketchup</td>\n",
       "      <td>240</td>\n",
       "      <td>2020-02-01T00:00:00Z</td>\n",
       "      <td>54.278352</td>\n",
       "    </tr>\n",
       "    <tr>\n",
       "      <th>2</th>\n",
       "      <td>21248</td>\n",
       "      <td>vichy</td>\n",
       "      <td>pc</td>\n",
       "      <td>cabello</td>\n",
       "      <td>shampoo</td>\n",
       "      <td>250</td>\n",
       "      <td>2020-01-01T00:00:00Z</td>\n",
       "      <td>0.015512</td>\n",
       "    </tr>\n",
       "    <tr>\n",
       "      <th>3</th>\n",
       "      <td>21248</td>\n",
       "      <td>vichy</td>\n",
       "      <td>pc</td>\n",
       "      <td>cabello</td>\n",
       "      <td>shampoo</td>\n",
       "      <td>250</td>\n",
       "      <td>2020-02-01T00:00:00Z</td>\n",
       "      <td>0.021669</td>\n",
       "    </tr>\n",
       "    <tr>\n",
       "      <th>4</th>\n",
       "      <td>21259</td>\n",
       "      <td>vichy</td>\n",
       "      <td>pc</td>\n",
       "      <td>cabello</td>\n",
       "      <td>shampoo</td>\n",
       "      <td>250</td>\n",
       "      <td>2020-01-01T00:00:00Z</td>\n",
       "      <td>0.012725</td>\n",
       "    </tr>\n",
       "  </tbody>\n",
       "</table>\n",
       "</div>"
      ],
      "text/plain": [
       "   item_id   brand   cat1      cat2     cat3  sku_size                  date   \n",
       "0    20158  mayos3  foods  aderezos  ketchup       240  2020-01-01T00:00:00Z  \\\n",
       "1    20158  mayos3  foods  aderezos  ketchup       240  2020-02-01T00:00:00Z   \n",
       "2    21248   vichy     pc   cabello  shampoo       250  2020-01-01T00:00:00Z   \n",
       "3    21248   vichy     pc   cabello  shampoo       250  2020-02-01T00:00:00Z   \n",
       "4    21259   vichy     pc   cabello  shampoo       250  2020-01-01T00:00:00Z   \n",
       "\n",
       "        mean  \n",
       "0  49.323593  \n",
       "1  54.278352  \n",
       "2   0.015512  \n",
       "3   0.021669  \n",
       "4   0.012725  "
      ]
     },
     "execution_count": 68,
     "metadata": {},
     "output_type": "execute_result"
    }
   ],
   "source": [
    "for i in best_quantile:\n",
    "    df_predictions[i]=np.where(df_predictions[i]<0, 0, df_predictions[i])\n",
    "df_predictions.head(5)"
   ]
  },
  {
   "cell_type": "code",
   "execution_count": 69,
   "metadata": {},
   "outputs": [
    {
     "data": {
      "text/plain": [
       "array(['2020-01-01T00:00:00Z', '2020-02-01T00:00:00Z'], dtype=object)"
      ]
     },
     "execution_count": 69,
     "metadata": {},
     "output_type": "execute_result"
    }
   ],
   "source": [
    "df_predictions.date.unique()"
   ]
  },
  {
   "cell_type": "code",
   "execution_count": 70,
   "metadata": {},
   "outputs": [
    {
     "name": "stdout",
     "output_type": "stream",
     "text": [
      "['2020-02-01T00:00:00Z']\n"
     ]
    },
    {
     "data": {
      "text/html": [
       "<div>\n",
       "<style scoped>\n",
       "    .dataframe tbody tr th:only-of-type {\n",
       "        vertical-align: middle;\n",
       "    }\n",
       "\n",
       "    .dataframe tbody tr th {\n",
       "        vertical-align: top;\n",
       "    }\n",
       "\n",
       "    .dataframe thead th {\n",
       "        text-align: right;\n",
       "    }\n",
       "</style>\n",
       "<table border=\"1\" class=\"dataframe\">\n",
       "  <thead>\n",
       "    <tr style=\"text-align: right;\">\n",
       "      <th></th>\n",
       "      <th>product_id</th>\n",
       "      <th>tn</th>\n",
       "    </tr>\n",
       "  </thead>\n",
       "  <tbody>\n",
       "    <tr>\n",
       "      <th>1</th>\n",
       "      <td>20158</td>\n",
       "      <td>54.278352</td>\n",
       "    </tr>\n",
       "    <tr>\n",
       "      <th>3</th>\n",
       "      <td>21248</td>\n",
       "      <td>0.021669</td>\n",
       "    </tr>\n",
       "    <tr>\n",
       "      <th>5</th>\n",
       "      <td>21259</td>\n",
       "      <td>0.012721</td>\n",
       "    </tr>\n",
       "    <tr>\n",
       "      <th>7</th>\n",
       "      <td>20622</td>\n",
       "      <td>5.028533</td>\n",
       "    </tr>\n",
       "    <tr>\n",
       "      <th>9</th>\n",
       "      <td>20107</td>\n",
       "      <td>84.616261</td>\n",
       "    </tr>\n",
       "  </tbody>\n",
       "</table>\n",
       "</div>"
      ],
      "text/plain": [
       "   product_id         tn\n",
       "1       20158  54.278352\n",
       "3       21248   0.021669\n",
       "5       21259   0.012721\n",
       "7       20622   5.028533\n",
       "9       20107  84.616261"
      ]
     },
     "execution_count": 70,
     "metadata": {},
     "output_type": "execute_result"
    }
   ],
   "source": [
    "df_predictions = df_predictions[df_predictions.date == '2020-02-01T00:00:00Z']\n",
    "print(df_predictions.date.unique())\n",
    "df_predictions = df_predictions[[\"item_id\", \"mean\"]]\n",
    "df_predictions = df_predictions.rename(columns = {\"item_id\":\"product_id\", \"mean\":\"tn\"})\n",
    "df_predictions.head(5)"
   ]
  },
  {
   "cell_type": "code",
   "execution_count": 71,
   "metadata": {},
   "outputs": [
    {
     "data": {
      "text/plain": [
       "780"
      ]
     },
     "execution_count": 71,
     "metadata": {},
     "output_type": "execute_result"
    }
   ],
   "source": [
    "len(df_predictions.product_id.unique())"
   ]
  },
  {
   "cell_type": "code",
   "execution_count": 74,
   "metadata": {},
   "outputs": [],
   "source": [
    "df_predictions[\"product_id\"] = df_predictions[\"product_id\"].astype(int)\n",
    "df_predictions.to_csv(f\"C:/Users/usuario/otros/Desktop\\MCD/6 Labo III/Forecasting Problem/Outputs/prediccion_modelo{data_version}_AWS.csv\", sep = \",\", index = False)"
   ]
  },
  {
   "cell_type": "code",
   "execution_count": 76,
   "metadata": {},
   "outputs": [
    {
     "data": {
      "text/plain": [
       "27343.88922191103"
      ]
     },
     "execution_count": 76,
     "metadata": {},
     "output_type": "execute_result"
    }
   ],
   "source": [
    "df_predictions.tn.sum()"
   ]
  }
 ],
 "metadata": {
  "kernelspec": {
   "display_name": "Python 3",
   "language": "python",
   "name": "python3"
  },
  "language_info": {
   "codemirror_mode": {
    "name": "ipython",
    "version": 3
   },
   "file_extension": ".py",
   "mimetype": "text/x-python",
   "name": "python",
   "nbconvert_exporter": "python",
   "pygments_lexer": "ipython3",
   "version": "3.11.2"
  }
 },
 "nbformat": 4,
 "nbformat_minor": 4
}
