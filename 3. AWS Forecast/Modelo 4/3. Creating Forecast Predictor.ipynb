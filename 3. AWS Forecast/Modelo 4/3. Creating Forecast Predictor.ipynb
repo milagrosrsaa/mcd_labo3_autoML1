{
 "cells": [
  {
   "cell_type": "markdown",
   "metadata": {},
   "source": [
    "<center>\n",
    "  <h2>Trabajo Laboratorio de Implementación III - MCD Virtual Cohorte 2022</h2>\n",
    "  <h3>Forecasting para una Empresa de Consumo Masivo</h3>\n",
    "  <h4>Entrenamiento de predictor</h4>\n",
    "</center>"
   ]
  },
  {
   "cell_type": "code",
   "execution_count": 1,
   "metadata": {},
   "outputs": [],
   "source": [
    "# Importación librerias\n",
    "\n",
    "# !pip install awswrangler\n",
    "# !pip install boto3\n",
    "import boto3\n",
    "import awswrangler as wr\n",
    "import pandas as pd\n",
    "import numpy as np\n",
    "import warnings\n",
    "from datetime import datetime\n",
    "from dateutil.relativedelta import relativedelta\n",
    "warnings.filterwarnings(\"ignore\")"
   ]
  },
  {
   "cell_type": "code",
   "execution_count": 2,
   "metadata": {},
   "outputs": [
    {
     "name": "stdout",
     "output_type": "stream",
     "text": [
      "Fecha inicio historia 2017-01-01 00:00:00\n",
      "Fecha fin historia 2019-12-01 00:00:00\n",
      "Fecha futura (related time series) 2020-02-01 00:00:00\n"
     ]
    }
   ],
   "source": [
    "# Definición fechas\n",
    "\n",
    "date_start=datetime.strptime('2017-01-01', '%Y-%m-%d')\n",
    "date_end=datetime.strptime('2019-12-01', '%Y-%m-%d')\n",
    "forecast_length = 2\n",
    "date_future=date_end+relativedelta(months=forecast_length)\n",
    "years=range(2018, 2020)\n",
    "\n",
    "print(f\"Fecha inicio historia {date_start}\")\n",
    "print(f\"Fecha fin historia {date_end}\")\n",
    "print(f\"Fecha futura (related time series) {date_future}\")\n",
    "\n",
    "timestamp_format=\"yyyy-MM-dd\"\n",
    "dataset_frequency='M'\n",
    "\n",
    "# Versión modelo\n",
    "data_version_cluster1 = '4_c1'\n",
    "data_version_cluster2 = '4_c2'\n",
    "data_version_cluster3 = '4_c3'\n",
    "grouped_cols = [\"product_id\"]\n",
    "grouped_cols_name = \"product\""
   ]
  },
  {
   "cell_type": "code",
   "execution_count": 3,
   "metadata": {},
   "outputs": [],
   "source": [
    "# Conexiones AWS\n",
    "account_id=boto3.client('sts').get_caller_identity().get('Account')\n",
    "session = boto3.Session() \n",
    "forecast = session.client(service_name='forecast')\n",
    "region = forecast.meta.region_name\n",
    "forecastquery = session.client(service_name='forecastquery')\n",
    "role = f'arn:aws:iam::{account_id}:role/ForecastRole'"
   ]
  },
  {
   "cell_type": "code",
   "execution_count": 4,
   "metadata": {},
   "outputs": [],
   "source": [
    "# Qué valores predecir: media o percentiles\n",
    "quantiles=['mean']\n",
    "# Horizonte de predicción\n",
    "forecast_length = 2\n",
    "dataset_group_arn_cluster1=f'arn:aws:forecast:us-east-1:{account_id}:dataset-group/modelo_{data_version_cluster1}_{grouped_cols_name}'\n",
    "dataset_group_arn_cluster2=f'arn:aws:forecast:us-east-1:{account_id}:dataset-group/modelo_{data_version_cluster2}_{grouped_cols_name}'\n",
    "dataset_group_arn_cluster3=f'arn:aws:forecast:us-east-1:{account_id}:dataset-group/modelo_{data_version_cluster3}_{grouped_cols_name}'"
   ]
  },
  {
   "cell_type": "code",
   "execution_count": 7,
   "metadata": {},
   "outputs": [],
   "source": [
    "# Verificar comunicación con Amazon Forecast\n",
    "assert forecast.list_predictors()"
   ]
  },
  {
   "cell_type": "code",
   "execution_count": 8,
   "metadata": {},
   "outputs": [],
   "source": [
    "# CLUSTER1\n",
    "predictor_name_automl_cluster1 = f\"modelo_{data_version_cluster1}_predictor\"\n",
    "response = forecast.create_auto_predictor(\n",
    "    PredictorName=predictor_name_automl_cluster1,\n",
    "    ForecastHorizon=forecast_length,\n",
    "    ForecastTypes=quantiles,\n",
    "    # ForecastDimensions=grouped_cols,\n",
    "    ForecastFrequency=dataset_frequency,\n",
    "    DataConfig={\n",
    "        'DatasetGroupArn': dataset_group_arn_cluster1,\n",
    "        'AttributeConfigs': [\n",
    "\t\t{\n",
    "\t\t\"AttributeName\": \"target_value\",\n",
    "\t\t\"Transformations\": {\n",
    "\t\t\t\"aggregation\": \"sum\",\n",
    "\t\t\t\"backfill\": \"zero\",\n",
    "\t\t\t\"frontfill\": \"none\",\n",
    "\t\t\t\"middlefill\": \"zero\"\n",
    "\t\t}\n",
    "\t\t}\n",
    "\t]}, \n",
    "    TimeAlignmentBoundary={\n",
    "        'DayOfMonth': 1\n",
    "    },\n",
    "    OptimizationMetric='MAPE',\n",
    "    ExplainPredictor=False\n",
    ")"
   ]
  },
  {
   "cell_type": "code",
   "execution_count": 9,
   "metadata": {},
   "outputs": [
    {
     "name": "stdout",
     "output_type": "stream",
     "text": [
      "Waiting for Predictor with ARN arn:aws:forecast:us-east-1:935182042847:predictor/modelo_4_c1_predictor_01J02Q23DBHN6P2C8QM61MAY3F to become ACTIVE. \n",
      "Current Status:\n"
     ]
    },
    {
     "data": {
      "text/plain": [
       "'CREATE_IN_PROGRESS'"
      ]
     },
     "execution_count": 9,
     "metadata": {},
     "output_type": "execute_result"
    }
   ],
   "source": [
    "automl_predictor_arn_wape = response['PredictorArn']\n",
    "print(f\"Waiting for Predictor with ARN {automl_predictor_arn_wape} to become ACTIVE. \\nCurrent Status:\")\n",
    "forecast.describe_auto_predictor(PredictorArn=automl_predictor_arn_wape)['Status']"
   ]
  },
  {
   "cell_type": "code",
   "execution_count": 10,
   "metadata": {},
   "outputs": [],
   "source": [
    "# CLUSTER2\n",
    "predictor_name_automl_cluster2 = f\"modelo_{data_version_cluster2}_predictor\"\n",
    "response_cluster2 = forecast.create_auto_predictor(\n",
    "    PredictorName=predictor_name_automl_cluster2,\n",
    "    ForecastHorizon=forecast_length,\n",
    "    ForecastTypes=quantiles,\n",
    "    # ForecastDimensions=grouped_cols,\n",
    "    ForecastFrequency=dataset_frequency,\n",
    "    DataConfig={\n",
    "        'DatasetGroupArn': dataset_group_arn_cluster2,\n",
    "        'AttributeConfigs': [\n",
    "\t\t{\n",
    "\t\t\"AttributeName\": \"target_value\",\n",
    "\t\t\"Transformations\": {\n",
    "\t\t\t\"aggregation\": \"sum\",\n",
    "\t\t\t\"backfill\": \"zero\",\n",
    "\t\t\t\"frontfill\": \"none\",\n",
    "\t\t\t\"middlefill\": \"zero\"\n",
    "\t\t}\n",
    "\t\t}\n",
    "\t]}, \n",
    "    TimeAlignmentBoundary={\n",
    "        'DayOfMonth': 1\n",
    "    },\n",
    "    OptimizationMetric='MAPE',\n",
    "    ExplainPredictor=False\n",
    ")"
   ]
  },
  {
   "cell_type": "code",
   "execution_count": 11,
   "metadata": {},
   "outputs": [
    {
     "name": "stdout",
     "output_type": "stream",
     "text": [
      "Waiting for Predictor with ARN arn:aws:forecast:us-east-1:935182042847:predictor/modelo_4_c2_predictor_01J02Q4FXFQADEHVVGBN5ETE7C to become ACTIVE. \n",
      "Current Status:\n"
     ]
    },
    {
     "data": {
      "text/plain": [
       "'CREATE_PENDING'"
      ]
     },
     "execution_count": 11,
     "metadata": {},
     "output_type": "execute_result"
    }
   ],
   "source": [
    "automl_predictor_arn_wape_cluster2 = response_cluster2['PredictorArn']\n",
    "print(f\"Waiting for Predictor with ARN {automl_predictor_arn_wape_cluster2} to become ACTIVE. \\nCurrent Status:\")\n",
    "forecast.describe_auto_predictor(PredictorArn=automl_predictor_arn_wape_cluster2)['Status']"
   ]
  },
  {
   "cell_type": "code",
   "execution_count": 12,
   "metadata": {},
   "outputs": [],
   "source": [
    "# CLUSTER3\n",
    "predictor_name_automl_cluster3 = f\"modelo_{data_version_cluster3}_predictor\"\n",
    "response_cluster3 = forecast.create_auto_predictor(\n",
    "    PredictorName=predictor_name_automl_cluster3,\n",
    "    ForecastHorizon=forecast_length,\n",
    "    ForecastTypes=quantiles,\n",
    "    # ForecastDimensions=grouped_cols,\n",
    "    ForecastFrequency=dataset_frequency,\n",
    "    DataConfig={\n",
    "        'DatasetGroupArn': dataset_group_arn_cluster3,\n",
    "        'AttributeConfigs': [\n",
    "\t\t{\n",
    "\t\t\"AttributeName\": \"target_value\",\n",
    "\t\t\"Transformations\": {\n",
    "\t\t\t\"aggregation\": \"sum\",\n",
    "\t\t\t\"backfill\": \"zero\",\n",
    "\t\t\t\"frontfill\": \"none\",\n",
    "\t\t\t\"middlefill\": \"zero\"\n",
    "\t\t}\n",
    "\t\t}\n",
    "\t]}, \n",
    "    TimeAlignmentBoundary={\n",
    "        'DayOfMonth': 1\n",
    "    },\n",
    "    OptimizationMetric='MAPE',\n",
    "    ExplainPredictor=False\n",
    ")"
   ]
  },
  {
   "cell_type": "code",
   "execution_count": 13,
   "metadata": {},
   "outputs": [
    {
     "name": "stdout",
     "output_type": "stream",
     "text": [
      "Waiting for Predictor with ARN arn:aws:forecast:us-east-1:935182042847:predictor/modelo_4_c3_predictor_01J02Q5EW0HRWSQEVHF4M5B8WP to become ACTIVE. \n",
      "Current Status:\n"
     ]
    },
    {
     "data": {
      "text/plain": [
       "'CREATE_PENDING'"
      ]
     },
     "execution_count": 13,
     "metadata": {},
     "output_type": "execute_result"
    }
   ],
   "source": [
    "automl_predictor_arn_wape_cluster3 = response_cluster3['PredictorArn']\n",
    "print(f\"Waiting for Predictor with ARN {automl_predictor_arn_wape_cluster3} to become ACTIVE. \\nCurrent Status:\")\n",
    "forecast.describe_auto_predictor(PredictorArn=automl_predictor_arn_wape_cluster3)['Status']"
   ]
  },
  {
   "cell_type": "code",
   "execution_count": null,
   "metadata": {},
   "outputs": [],
   "source": [
    "# CHECK"
   ]
  },
  {
   "cell_type": "code",
   "execution_count": 31,
   "metadata": {},
   "outputs": [
    {
     "data": {
      "text/plain": [
       "'ACTIVE'"
      ]
     },
     "execution_count": 31,
     "metadata": {},
     "output_type": "execute_result"
    }
   ],
   "source": [
    "forecast.describe_auto_predictor(PredictorArn=automl_predictor_arn_wape)['Status']"
   ]
  },
  {
   "cell_type": "code",
   "execution_count": 34,
   "metadata": {},
   "outputs": [
    {
     "data": {
      "text/plain": [
       "'ACTIVE'"
      ]
     },
     "execution_count": 34,
     "metadata": {},
     "output_type": "execute_result"
    }
   ],
   "source": [
    "forecast.describe_auto_predictor(PredictorArn=automl_predictor_arn_wape_cluster2)['Status']"
   ]
  },
  {
   "cell_type": "code",
   "execution_count": 35,
   "metadata": {},
   "outputs": [
    {
     "data": {
      "text/plain": [
       "'ACTIVE'"
      ]
     },
     "execution_count": 35,
     "metadata": {},
     "output_type": "execute_result"
    }
   ],
   "source": [
    "forecast.describe_auto_predictor(PredictorArn=automl_predictor_arn_wape_cluster3)['Status']"
   ]
  },
  {
   "cell_type": "code",
   "execution_count": null,
   "metadata": {},
   "outputs": [],
   "source": []
  }
 ],
 "metadata": {
  "kernelspec": {
   "display_name": "Python 3",
   "language": "python",
   "name": "python3"
  },
  "language_info": {
   "codemirror_mode": {
    "name": "ipython",
    "version": 3
   },
   "file_extension": ".py",
   "mimetype": "text/x-python",
   "name": "python",
   "nbconvert_exporter": "python",
   "pygments_lexer": "ipython3",
   "version": "3.11.2"
  }
 },
 "nbformat": 4,
 "nbformat_minor": 4
}
