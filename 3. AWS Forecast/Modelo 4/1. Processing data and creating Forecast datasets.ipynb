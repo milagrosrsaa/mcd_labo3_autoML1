{
 "cells": [
  {
   "cell_type": "markdown",
   "metadata": {},
   "source": [
    "<center>\n",
    "  <h2>Trabajo Laboratorio de Implementación III - MCD Virtual Cohorte 2022</h2>\n",
    "  <h3>Forecasting para una Empresa de Consumo Masivo</h3>\n",
    "  <h4>Preprocesamiento de datos y creación de datasets para forecast</h4>\n",
    "</center>"
   ]
  },
  {
   "cell_type": "code",
   "execution_count": 18,
   "metadata": {},
   "outputs": [],
   "source": [
    "# Importación librerias\n",
    "\n",
    "# !pip install awswrangler\n",
    "# !pip install boto3\n",
    "import boto3\n",
    "import awswrangler as wr\n",
    "import pandas as pd\n",
    "import numpy as np\n",
    "import warnings\n",
    "from datetime import datetime\n",
    "from dateutil.relativedelta import relativedelta\n",
    "warnings.filterwarnings(\"ignore\")\n",
    "import os\n",
    "import matplotlib.pyplot as plt\n",
    "from tslearn.utils import to_time_series_dataset\n",
    "from tslearn.preprocessing import TimeSeriesScalerMeanVariance\n",
    "from tslearn.clustering import TimeSeriesKMeans, silhouette_score"
   ]
  },
  {
   "cell_type": "code",
   "execution_count": 3,
   "metadata": {},
   "outputs": [
    {
     "name": "stdout",
     "output_type": "stream",
     "text": [
      "Fecha inicio historia 2017-01-01 00:00:00\n",
      "Fecha fin historia 2019-12-01 00:00:00\n",
      "Fecha futura (related time series) 2020-02-01 00:00:00\n"
     ]
    }
   ],
   "source": [
    "# Definición fechas\n",
    "\n",
    "date_start=datetime.strptime('2017-01-01', '%Y-%m-%d')\n",
    "date_end=datetime.strptime('2019-12-01', '%Y-%m-%d')\n",
    "forecast_length = 2\n",
    "date_future=date_end+relativedelta(months=forecast_length)\n",
    "years=range(2018, 2020)\n",
    "\n",
    "print(f\"Fecha inicio historia {date_start}\")\n",
    "print(f\"Fecha fin historia {date_end}\")\n",
    "print(f\"Fecha futura (related time series) {date_future}\")\n",
    "\n",
    "# Versión modelo\n",
    "data_version_cluster1 = '4_c1'\n",
    "data_version_cluster2 = '4_c2'\n",
    "data_version_cluster3 = '4_c3'\n",
    "grouped_cols = \"product_id\"\n",
    "grouped_cols_name = \"product\""
   ]
  },
  {
   "cell_type": "code",
   "execution_count": 4,
   "metadata": {},
   "outputs": [],
   "source": [
    "# Conexiones AWS\n",
    "\n",
    "account_id=boto3.client('sts').get_caller_identity().get('Account')\n",
    "session = boto3.Session() \n",
    "forecast = session.client(service_name='forecast')\n",
    "region = forecast.meta.region_name\n",
    "forecastquery = session.client(service_name='forecastquery')"
   ]
  },
  {
   "cell_type": "code",
   "execution_count": 31,
   "metadata": {},
   "outputs": [],
   "source": [
    "# Buckets de datos\n",
    "\n",
    "# CLUSTER 1\n",
    "target_s3_path_c1=f's3://datasets-forecast-account1/modelo-{data_version_cluster1}-forecast-{grouped_cols_name}/target/df_ventas_{grouped_cols_name}.csv'\n",
    "items_s3_path_c1=f's3://datasets-forecast-account1/modelo-{data_version_cluster1}-forecast-{grouped_cols_name}/product/df_products.csv'\n",
    "related_s3_path_c1=f's3://datasets-forecast-account1/modelo-{data_version_cluster1}-forecast-{grouped_cols_name}/related/df_related_{grouped_cols_name}.csv'\n",
    "\n",
    "# CLUSTER 2\n",
    "target_s3_path_c2=f's3://datasets-forecast-account1/modelo-{data_version_cluster2}-forecast-{grouped_cols_name}/target/df_ventas_{grouped_cols_name}.csv'\n",
    "items_s3_path_c2=f's3://datasets-forecast-account1/modelo-{data_version_cluster2}-forecast-{grouped_cols_name}/product/df_products.csv'\n",
    "related_s3_path_c2=f's3://datasets-forecast-account1/modelo-{data_version_cluster2}-forecast-{grouped_cols_name}/related/df_related_{grouped_cols_name}.csv'\n",
    "\n",
    "# CLUSTER 3\n",
    "target_s3_path_c3=f's3://datasets-forecast-account1/modelo-{data_version_cluster3}-forecast-{grouped_cols_name}/target/df_ventas_{grouped_cols_name}.csv'\n",
    "items_s3_path_c3=f's3://datasets-forecast-account1/modelo-{data_version_cluster3}-forecast-{grouped_cols_name}/product/df_products.csv'\n",
    "related_s3_path_c3=f's3://datasets-forecast-account1/modelo-{data_version_cluster3}-forecast-{grouped_cols_name}/related/df_related_{grouped_cols_name}.csv'"
   ]
  },
  {
   "cell_type": "code",
   "execution_count": 7,
   "metadata": {},
   "outputs": [],
   "source": [
    "# Verificar comunicación con Amazon Forecast\n",
    "assert forecast.list_predictors()"
   ]
  },
  {
   "cell_type": "markdown",
   "metadata": {},
   "source": [
    "### Procesamiento de datos de ventas"
   ]
  },
  {
   "cell_type": "markdown",
   "metadata": {},
   "source": [
    "- Skus a predecir"
   ]
  },
  {
   "cell_type": "code",
   "execution_count": 8,
   "metadata": {},
   "outputs": [],
   "source": [
    "skus_a_predecir = pd.read_csv(\"C:/Users/usuario/otros/Desktop\\MCD/6 Labo III/Forecasting Problem/Datasets/productos_a_predecir.txt\", delimiter='\\t')\n",
    "skus_a_predecir = skus_a_predecir.product_id.to_list()"
   ]
  },
  {
   "cell_type": "markdown",
   "metadata": {},
   "source": [
    "- Datos de ventas"
   ]
  },
  {
   "cell_type": "code",
   "execution_count": 9,
   "metadata": {},
   "outputs": [
    {
     "data": {
      "text/html": [
       "<div>\n",
       "<style scoped>\n",
       "    .dataframe tbody tr th:only-of-type {\n",
       "        vertical-align: middle;\n",
       "    }\n",
       "\n",
       "    .dataframe tbody tr th {\n",
       "        vertical-align: top;\n",
       "    }\n",
       "\n",
       "    .dataframe thead th {\n",
       "        text-align: right;\n",
       "    }\n",
       "</style>\n",
       "<table border=\"1\" class=\"dataframe\">\n",
       "  <thead>\n",
       "    <tr style=\"text-align: right;\">\n",
       "      <th></th>\n",
       "      <th>periodo</th>\n",
       "      <th>customer_id</th>\n",
       "      <th>product_id</th>\n",
       "      <th>plan_precios_cuidados</th>\n",
       "      <th>cust_request_qty</th>\n",
       "      <th>cust_request_tn</th>\n",
       "      <th>tn</th>\n",
       "    </tr>\n",
       "  </thead>\n",
       "  <tbody>\n",
       "    <tr>\n",
       "      <th>0</th>\n",
       "      <td>2017-01-01</td>\n",
       "      <td>10234</td>\n",
       "      <td>20524</td>\n",
       "      <td>0</td>\n",
       "      <td>2</td>\n",
       "      <td>0.053</td>\n",
       "      <td>0.053</td>\n",
       "    </tr>\n",
       "  </tbody>\n",
       "</table>\n",
       "</div>"
      ],
      "text/plain": [
       "     periodo  customer_id  product_id  plan_precios_cuidados   \n",
       "0 2017-01-01        10234       20524                      0  \\\n",
       "\n",
       "   cust_request_qty  cust_request_tn     tn  \n",
       "0                 2            0.053  0.053  "
      ]
     },
     "execution_count": 9,
     "metadata": {},
     "output_type": "execute_result"
    }
   ],
   "source": [
    "df_ventas = pd.read_csv(\"C:/Users/usuario/otros/Desktop\\MCD/6 Labo III/Forecasting Problem/Datasets/sell-in.txt\", delimiter='\\t')\n",
    "df_ventas['periodo'] = df_ventas['periodo'].astype(str)\n",
    "df_ventas['periodo'] = pd.to_datetime(df_ventas['periodo'], format='%Y%m')\n",
    "df_ventas = df_ventas[df_ventas.product_id.isin(skus_a_predecir)]\n",
    "df_ventas.head(1)"
   ]
  },
  {
   "cell_type": "code",
   "execution_count": 10,
   "metadata": {},
   "outputs": [
    {
     "name": "stdout",
     "output_type": "stream",
     "text": [
      "Cantidad productos finales a predecir: 780\n"
     ]
    }
   ],
   "source": [
    "print(f\"Cantidad productos finales a predecir: {len(df_ventas.product_id.drop_duplicates())}\")"
   ]
  },
  {
   "cell_type": "code",
   "execution_count": 11,
   "metadata": {},
   "outputs": [
    {
     "data": {
      "text/html": [
       "<div>\n",
       "<style scoped>\n",
       "    .dataframe tbody tr th:only-of-type {\n",
       "        vertical-align: middle;\n",
       "    }\n",
       "\n",
       "    .dataframe tbody tr th {\n",
       "        vertical-align: top;\n",
       "    }\n",
       "\n",
       "    .dataframe thead th {\n",
       "        text-align: right;\n",
       "    }\n",
       "</style>\n",
       "<table border=\"1\" class=\"dataframe\">\n",
       "  <thead>\n",
       "    <tr style=\"text-align: right;\">\n",
       "      <th></th>\n",
       "      <th>periodo</th>\n",
       "      <th>product_id</th>\n",
       "      <th>tn</th>\n",
       "    </tr>\n",
       "  </thead>\n",
       "  <tbody>\n",
       "    <tr>\n",
       "      <th>0</th>\n",
       "      <td>2017-01-01</td>\n",
       "      <td>20001</td>\n",
       "      <td>934.77222</td>\n",
       "    </tr>\n",
       "  </tbody>\n",
       "</table>\n",
       "</div>"
      ],
      "text/plain": [
       "     periodo  product_id         tn\n",
       "0 2017-01-01       20001  934.77222"
      ]
     },
     "execution_count": 11,
     "metadata": {},
     "output_type": "execute_result"
    }
   ],
   "source": [
    "df_ventas_product = df_ventas.groupby([\"periodo\", \"product_id\"])[\"tn\"].sum().reset_index()\n",
    "df_ventas_product.head(1)"
   ]
  },
  {
   "cell_type": "code",
   "execution_count": 12,
   "metadata": {},
   "outputs": [
    {
     "data": {
      "text/plain": [
       "periodo       0\n",
       "product_id    0\n",
       "tn            0\n",
       "dtype: int64"
      ]
     },
     "execution_count": 12,
     "metadata": {},
     "output_type": "execute_result"
    }
   ],
   "source": [
    "df_ventas_product.isna().sum()"
   ]
  },
  {
   "cell_type": "code",
   "execution_count": 13,
   "metadata": {},
   "outputs": [
    {
     "data": {
      "text/plain": [
       "True"
      ]
     },
     "execution_count": 13,
     "metadata": {},
     "output_type": "execute_result"
    }
   ],
   "source": [
    "df_ventas_product.tn.sum().round(1) == df_ventas.tn.sum().round(1) "
   ]
  },
  {
   "cell_type": "markdown",
   "metadata": {},
   "source": [
    "- Preprocesamiento para armado clusters"
   ]
  },
  {
   "cell_type": "code",
   "execution_count": 41,
   "metadata": {},
   "outputs": [
    {
     "name": "stdout",
     "output_type": "stream",
     "text": [
      "(36, 780) Index([20001, 20002, 20003, 20004, 20005, 20006, 20007, 20008, 20009, 20010,\n",
      "       ...\n",
      "       21248, 21252, 21256, 21259, 21262, 21263, 21265, 21266, 21267, 21276],\n",
      "      dtype='int64', name='product_id', length=780)\n"
     ]
    },
    {
     "data": {
      "text/html": [
       "<div>\n",
       "<style scoped>\n",
       "    .dataframe tbody tr th:only-of-type {\n",
       "        vertical-align: middle;\n",
       "    }\n",
       "\n",
       "    .dataframe tbody tr th {\n",
       "        vertical-align: top;\n",
       "    }\n",
       "\n",
       "    .dataframe thead th {\n",
       "        text-align: right;\n",
       "    }\n",
       "</style>\n",
       "<table border=\"1\" class=\"dataframe\">\n",
       "  <thead>\n",
       "    <tr style=\"text-align: right;\">\n",
       "      <th>product_id</th>\n",
       "      <th>20001</th>\n",
       "      <th>20002</th>\n",
       "      <th>20003</th>\n",
       "      <th>20004</th>\n",
       "      <th>20005</th>\n",
       "      <th>20006</th>\n",
       "      <th>20007</th>\n",
       "      <th>20008</th>\n",
       "      <th>20009</th>\n",
       "      <th>20010</th>\n",
       "      <th>...</th>\n",
       "      <th>21248</th>\n",
       "      <th>21252</th>\n",
       "      <th>21256</th>\n",
       "      <th>21259</th>\n",
       "      <th>21262</th>\n",
       "      <th>21263</th>\n",
       "      <th>21265</th>\n",
       "      <th>21266</th>\n",
       "      <th>21267</th>\n",
       "      <th>21276</th>\n",
       "    </tr>\n",
       "    <tr>\n",
       "      <th>periodo</th>\n",
       "      <th></th>\n",
       "      <th></th>\n",
       "      <th></th>\n",
       "      <th></th>\n",
       "      <th></th>\n",
       "      <th></th>\n",
       "      <th></th>\n",
       "      <th></th>\n",
       "      <th></th>\n",
       "      <th></th>\n",
       "      <th></th>\n",
       "      <th></th>\n",
       "      <th></th>\n",
       "      <th></th>\n",
       "      <th></th>\n",
       "      <th></th>\n",
       "      <th></th>\n",
       "      <th></th>\n",
       "      <th></th>\n",
       "      <th></th>\n",
       "      <th></th>\n",
       "    </tr>\n",
       "  </thead>\n",
       "  <tbody>\n",
       "    <tr>\n",
       "      <th>2017-01-01</th>\n",
       "      <td>934.77222</td>\n",
       "      <td>550.15707</td>\n",
       "      <td>1063.45835</td>\n",
       "      <td>555.91614</td>\n",
       "      <td>494.27011</td>\n",
       "      <td>528.40996</td>\n",
       "      <td>464.67137</td>\n",
       "      <td>523.04609</td>\n",
       "      <td>378.08172</td>\n",
       "      <td>441.25546</td>\n",
       "      <td>...</td>\n",
       "      <td>NaN</td>\n",
       "      <td>NaN</td>\n",
       "      <td>NaN</td>\n",
       "      <td>NaN</td>\n",
       "      <td>NaN</td>\n",
       "      <td>NaN</td>\n",
       "      <td>NaN</td>\n",
       "      <td>NaN</td>\n",
       "      <td>NaN</td>\n",
       "      <td>NaN</td>\n",
       "    </tr>\n",
       "    <tr>\n",
       "      <th>2017-02-01</th>\n",
       "      <td>798.01620</td>\n",
       "      <td>505.88633</td>\n",
       "      <td>752.11520</td>\n",
       "      <td>508.20044</td>\n",
       "      <td>551.43060</td>\n",
       "      <td>599.18590</td>\n",
       "      <td>638.62996</td>\n",
       "      <td>631.71430</td>\n",
       "      <td>475.24200</td>\n",
       "      <td>562.98287</td>\n",
       "      <td>...</td>\n",
       "      <td>NaN</td>\n",
       "      <td>NaN</td>\n",
       "      <td>NaN</td>\n",
       "      <td>NaN</td>\n",
       "      <td>NaN</td>\n",
       "      <td>NaN</td>\n",
       "      <td>NaN</td>\n",
       "      <td>NaN</td>\n",
       "      <td>NaN</td>\n",
       "      <td>NaN</td>\n",
       "    </tr>\n",
       "    <tr>\n",
       "      <th>2017-03-01</th>\n",
       "      <td>1303.35771</td>\n",
       "      <td>834.73521</td>\n",
       "      <td>917.16548</td>\n",
       "      <td>489.91328</td>\n",
       "      <td>563.89955</td>\n",
       "      <td>868.34182</td>\n",
       "      <td>840.83303</td>\n",
       "      <td>937.42393</td>\n",
       "      <td>456.07282</td>\n",
       "      <td>718.44870</td>\n",
       "      <td>...</td>\n",
       "      <td>NaN</td>\n",
       "      <td>NaN</td>\n",
       "      <td>NaN</td>\n",
       "      <td>NaN</td>\n",
       "      <td>NaN</td>\n",
       "      <td>NaN</td>\n",
       "      <td>NaN</td>\n",
       "      <td>NaN</td>\n",
       "      <td>NaN</td>\n",
       "      <td>NaN</td>\n",
       "    </tr>\n",
       "    <tr>\n",
       "      <th>2017-04-01</th>\n",
       "      <td>1069.96130</td>\n",
       "      <td>522.35365</td>\n",
       "      <td>525.82591</td>\n",
       "      <td>512.05402</td>\n",
       "      <td>662.59032</td>\n",
       "      <td>565.31925</td>\n",
       "      <td>741.17156</td>\n",
       "      <td>626.51768</td>\n",
       "      <td>338.71860</td>\n",
       "      <td>607.72864</td>\n",
       "      <td>...</td>\n",
       "      <td>NaN</td>\n",
       "      <td>NaN</td>\n",
       "      <td>NaN</td>\n",
       "      <td>NaN</td>\n",
       "      <td>NaN</td>\n",
       "      <td>NaN</td>\n",
       "      <td>NaN</td>\n",
       "      <td>NaN</td>\n",
       "      <td>NaN</td>\n",
       "      <td>NaN</td>\n",
       "    </tr>\n",
       "    <tr>\n",
       "      <th>2017-05-01</th>\n",
       "      <td>1502.20132</td>\n",
       "      <td>843.43785</td>\n",
       "      <td>620.48202</td>\n",
       "      <td>543.36670</td>\n",
       "      <td>515.58711</td>\n",
       "      <td>813.17643</td>\n",
       "      <td>858.04498</td>\n",
       "      <td>849.48973</td>\n",
       "      <td>455.37110</td>\n",
       "      <td>759.99707</td>\n",
       "      <td>...</td>\n",
       "      <td>NaN</td>\n",
       "      <td>NaN</td>\n",
       "      <td>NaN</td>\n",
       "      <td>NaN</td>\n",
       "      <td>NaN</td>\n",
       "      <td>NaN</td>\n",
       "      <td>NaN</td>\n",
       "      <td>NaN</td>\n",
       "      <td>NaN</td>\n",
       "      <td>NaN</td>\n",
       "    </tr>\n",
       "  </tbody>\n",
       "</table>\n",
       "<p>5 rows × 780 columns</p>\n",
       "</div>"
      ],
      "text/plain": [
       "product_id       20001      20002       20003      20004      20005   \n",
       "periodo                                                               \n",
       "2017-01-01   934.77222  550.15707  1063.45835  555.91614  494.27011  \\\n",
       "2017-02-01   798.01620  505.88633   752.11520  508.20044  551.43060   \n",
       "2017-03-01  1303.35771  834.73521   917.16548  489.91328  563.89955   \n",
       "2017-04-01  1069.96130  522.35365   525.82591  512.05402  662.59032   \n",
       "2017-05-01  1502.20132  843.43785   620.48202  543.36670  515.58711   \n",
       "\n",
       "product_id      20006      20007      20008      20009      20010  ...  21248   \n",
       "periodo                                                            ...          \n",
       "2017-01-01  528.40996  464.67137  523.04609  378.08172  441.25546  ...    NaN  \\\n",
       "2017-02-01  599.18590  638.62996  631.71430  475.24200  562.98287  ...    NaN   \n",
       "2017-03-01  868.34182  840.83303  937.42393  456.07282  718.44870  ...    NaN   \n",
       "2017-04-01  565.31925  741.17156  626.51768  338.71860  607.72864  ...    NaN   \n",
       "2017-05-01  813.17643  858.04498  849.48973  455.37110  759.99707  ...    NaN   \n",
       "\n",
       "product_id  21252  21256  21259  21262  21263  21265  21266  21267  21276  \n",
       "periodo                                                                    \n",
       "2017-01-01    NaN    NaN    NaN    NaN    NaN    NaN    NaN    NaN    NaN  \n",
       "2017-02-01    NaN    NaN    NaN    NaN    NaN    NaN    NaN    NaN    NaN  \n",
       "2017-03-01    NaN    NaN    NaN    NaN    NaN    NaN    NaN    NaN    NaN  \n",
       "2017-04-01    NaN    NaN    NaN    NaN    NaN    NaN    NaN    NaN    NaN  \n",
       "2017-05-01    NaN    NaN    NaN    NaN    NaN    NaN    NaN    NaN    NaN  \n",
       "\n",
       "[5 rows x 780 columns]"
      ]
     },
     "execution_count": 41,
     "metadata": {},
     "output_type": "execute_result"
    }
   ],
   "source": [
    "df_pivot = df_ventas_product.pivot(index='periodo',\n",
    "                                   columns='product_id',\n",
    "                                   values='tn')\n",
    "\n",
    "print(df_pivot.shape, df_pivot.columns)\n",
    "\n",
    "df_pivot.head()"
   ]
  },
  {
   "cell_type": "code",
   "execution_count": 43,
   "metadata": {},
   "outputs": [
    {
     "name": "stdout",
     "output_type": "stream",
     "text": [
      "(36, 780) Index([20001, 20002, 20003, 20004, 20005, 20006, 20007, 20008, 20009, 20010,\n",
      "       ...\n",
      "       21248, 21252, 21256, 21259, 21262, 21263, 21265, 21266, 21267, 21276],\n",
      "      dtype='int64', name='product_id', length=780)\n"
     ]
    },
    {
     "data": {
      "text/html": [
       "<div>\n",
       "<style scoped>\n",
       "    .dataframe tbody tr th:only-of-type {\n",
       "        vertical-align: middle;\n",
       "    }\n",
       "\n",
       "    .dataframe tbody tr th {\n",
       "        vertical-align: top;\n",
       "    }\n",
       "\n",
       "    .dataframe thead th {\n",
       "        text-align: right;\n",
       "    }\n",
       "</style>\n",
       "<table border=\"1\" class=\"dataframe\">\n",
       "  <thead>\n",
       "    <tr style=\"text-align: right;\">\n",
       "      <th>product_id</th>\n",
       "      <th>20001</th>\n",
       "      <th>20002</th>\n",
       "      <th>20003</th>\n",
       "      <th>20004</th>\n",
       "      <th>20005</th>\n",
       "      <th>20006</th>\n",
       "      <th>20007</th>\n",
       "      <th>20008</th>\n",
       "      <th>20009</th>\n",
       "      <th>20010</th>\n",
       "      <th>...</th>\n",
       "      <th>21248</th>\n",
       "      <th>21252</th>\n",
       "      <th>21256</th>\n",
       "      <th>21259</th>\n",
       "      <th>21262</th>\n",
       "      <th>21263</th>\n",
       "      <th>21265</th>\n",
       "      <th>21266</th>\n",
       "      <th>21267</th>\n",
       "      <th>21276</th>\n",
       "    </tr>\n",
       "    <tr>\n",
       "      <th>periodo</th>\n",
       "      <th></th>\n",
       "      <th></th>\n",
       "      <th></th>\n",
       "      <th></th>\n",
       "      <th></th>\n",
       "      <th></th>\n",
       "      <th></th>\n",
       "      <th></th>\n",
       "      <th></th>\n",
       "      <th></th>\n",
       "      <th></th>\n",
       "      <th></th>\n",
       "      <th></th>\n",
       "      <th></th>\n",
       "      <th></th>\n",
       "      <th></th>\n",
       "      <th></th>\n",
       "      <th></th>\n",
       "      <th></th>\n",
       "      <th></th>\n",
       "      <th></th>\n",
       "    </tr>\n",
       "  </thead>\n",
       "  <tbody>\n",
       "    <tr>\n",
       "      <th>2017-01-01</th>\n",
       "      <td>934.77222</td>\n",
       "      <td>550.15707</td>\n",
       "      <td>1063.45835</td>\n",
       "      <td>555.91614</td>\n",
       "      <td>494.27011</td>\n",
       "      <td>528.40996</td>\n",
       "      <td>464.67137</td>\n",
       "      <td>523.04609</td>\n",
       "      <td>378.08172</td>\n",
       "      <td>441.25546</td>\n",
       "      <td>...</td>\n",
       "      <td>0.0</td>\n",
       "      <td>0.0</td>\n",
       "      <td>0.0</td>\n",
       "      <td>0.0</td>\n",
       "      <td>0.0</td>\n",
       "      <td>0.0</td>\n",
       "      <td>0.0</td>\n",
       "      <td>0.0</td>\n",
       "      <td>0.0</td>\n",
       "      <td>0.0</td>\n",
       "    </tr>\n",
       "    <tr>\n",
       "      <th>2017-02-01</th>\n",
       "      <td>798.01620</td>\n",
       "      <td>505.88633</td>\n",
       "      <td>752.11520</td>\n",
       "      <td>508.20044</td>\n",
       "      <td>551.43060</td>\n",
       "      <td>599.18590</td>\n",
       "      <td>638.62996</td>\n",
       "      <td>631.71430</td>\n",
       "      <td>475.24200</td>\n",
       "      <td>562.98287</td>\n",
       "      <td>...</td>\n",
       "      <td>0.0</td>\n",
       "      <td>0.0</td>\n",
       "      <td>0.0</td>\n",
       "      <td>0.0</td>\n",
       "      <td>0.0</td>\n",
       "      <td>0.0</td>\n",
       "      <td>0.0</td>\n",
       "      <td>0.0</td>\n",
       "      <td>0.0</td>\n",
       "      <td>0.0</td>\n",
       "    </tr>\n",
       "    <tr>\n",
       "      <th>2017-03-01</th>\n",
       "      <td>1303.35771</td>\n",
       "      <td>834.73521</td>\n",
       "      <td>917.16548</td>\n",
       "      <td>489.91328</td>\n",
       "      <td>563.89955</td>\n",
       "      <td>868.34182</td>\n",
       "      <td>840.83303</td>\n",
       "      <td>937.42393</td>\n",
       "      <td>456.07282</td>\n",
       "      <td>718.44870</td>\n",
       "      <td>...</td>\n",
       "      <td>0.0</td>\n",
       "      <td>0.0</td>\n",
       "      <td>0.0</td>\n",
       "      <td>0.0</td>\n",
       "      <td>0.0</td>\n",
       "      <td>0.0</td>\n",
       "      <td>0.0</td>\n",
       "      <td>0.0</td>\n",
       "      <td>0.0</td>\n",
       "      <td>0.0</td>\n",
       "    </tr>\n",
       "    <tr>\n",
       "      <th>2017-04-01</th>\n",
       "      <td>1069.96130</td>\n",
       "      <td>522.35365</td>\n",
       "      <td>525.82591</td>\n",
       "      <td>512.05402</td>\n",
       "      <td>662.59032</td>\n",
       "      <td>565.31925</td>\n",
       "      <td>741.17156</td>\n",
       "      <td>626.51768</td>\n",
       "      <td>338.71860</td>\n",
       "      <td>607.72864</td>\n",
       "      <td>...</td>\n",
       "      <td>0.0</td>\n",
       "      <td>0.0</td>\n",
       "      <td>0.0</td>\n",
       "      <td>0.0</td>\n",
       "      <td>0.0</td>\n",
       "      <td>0.0</td>\n",
       "      <td>0.0</td>\n",
       "      <td>0.0</td>\n",
       "      <td>0.0</td>\n",
       "      <td>0.0</td>\n",
       "    </tr>\n",
       "    <tr>\n",
       "      <th>2017-05-01</th>\n",
       "      <td>1502.20132</td>\n",
       "      <td>843.43785</td>\n",
       "      <td>620.48202</td>\n",
       "      <td>543.36670</td>\n",
       "      <td>515.58711</td>\n",
       "      <td>813.17643</td>\n",
       "      <td>858.04498</td>\n",
       "      <td>849.48973</td>\n",
       "      <td>455.37110</td>\n",
       "      <td>759.99707</td>\n",
       "      <td>...</td>\n",
       "      <td>0.0</td>\n",
       "      <td>0.0</td>\n",
       "      <td>0.0</td>\n",
       "      <td>0.0</td>\n",
       "      <td>0.0</td>\n",
       "      <td>0.0</td>\n",
       "      <td>0.0</td>\n",
       "      <td>0.0</td>\n",
       "      <td>0.0</td>\n",
       "      <td>0.0</td>\n",
       "    </tr>\n",
       "  </tbody>\n",
       "</table>\n",
       "<p>5 rows × 780 columns</p>\n",
       "</div>"
      ],
      "text/plain": [
       "product_id       20001      20002       20003      20004      20005   \n",
       "periodo                                                               \n",
       "2017-01-01   934.77222  550.15707  1063.45835  555.91614  494.27011  \\\n",
       "2017-02-01   798.01620  505.88633   752.11520  508.20044  551.43060   \n",
       "2017-03-01  1303.35771  834.73521   917.16548  489.91328  563.89955   \n",
       "2017-04-01  1069.96130  522.35365   525.82591  512.05402  662.59032   \n",
       "2017-05-01  1502.20132  843.43785   620.48202  543.36670  515.58711   \n",
       "\n",
       "product_id      20006      20007      20008      20009      20010  ...  21248   \n",
       "periodo                                                            ...          \n",
       "2017-01-01  528.40996  464.67137  523.04609  378.08172  441.25546  ...    0.0  \\\n",
       "2017-02-01  599.18590  638.62996  631.71430  475.24200  562.98287  ...    0.0   \n",
       "2017-03-01  868.34182  840.83303  937.42393  456.07282  718.44870  ...    0.0   \n",
       "2017-04-01  565.31925  741.17156  626.51768  338.71860  607.72864  ...    0.0   \n",
       "2017-05-01  813.17643  858.04498  849.48973  455.37110  759.99707  ...    0.0   \n",
       "\n",
       "product_id  21252  21256  21259  21262  21263  21265  21266  21267  21276  \n",
       "periodo                                                                    \n",
       "2017-01-01    0.0    0.0    0.0    0.0    0.0    0.0    0.0    0.0    0.0  \n",
       "2017-02-01    0.0    0.0    0.0    0.0    0.0    0.0    0.0    0.0    0.0  \n",
       "2017-03-01    0.0    0.0    0.0    0.0    0.0    0.0    0.0    0.0    0.0  \n",
       "2017-04-01    0.0    0.0    0.0    0.0    0.0    0.0    0.0    0.0    0.0  \n",
       "2017-05-01    0.0    0.0    0.0    0.0    0.0    0.0    0.0    0.0    0.0  \n",
       "\n",
       "[5 rows x 780 columns]"
      ]
     },
     "execution_count": 43,
     "metadata": {},
     "output_type": "execute_result"
    }
   ],
   "source": [
    "# resample time series data and fill missing values with 0s\n",
    "df_pivot.index = pd.DatetimeIndex(df_pivot.index)\n",
    "\n",
    "df_pivot = df_pivot.resample('MS').sum().fillna(0)\n",
    "\n",
    "print(df_pivot.shape, df_pivot.columns)\n",
    "\n",
    "df_pivot.head()"
   ]
  },
  {
   "cell_type": "code",
   "execution_count": 44,
   "metadata": {},
   "outputs": [
    {
     "name": "stdout",
     "output_type": "stream",
     "text": [
      "(780, 37) Index([       'product_id', 2017-01-01 00:00:00, 2017-02-01 00:00:00,\n",
      "       2017-03-01 00:00:00, 2017-04-01 00:00:00, 2017-05-01 00:00:00,\n",
      "       2017-06-01 00:00:00, 2017-07-01 00:00:00, 2017-08-01 00:00:00,\n",
      "       2017-09-01 00:00:00, 2017-10-01 00:00:00, 2017-11-01 00:00:00,\n",
      "       2017-12-01 00:00:00, 2018-01-01 00:00:00, 2018-02-01 00:00:00,\n",
      "       2018-03-01 00:00:00, 2018-04-01 00:00:00, 2018-05-01 00:00:00,\n",
      "       2018-06-01 00:00:00, 2018-07-01 00:00:00, 2018-08-01 00:00:00,\n",
      "       2018-09-01 00:00:00, 2018-10-01 00:00:00, 2018-11-01 00:00:00,\n",
      "       2018-12-01 00:00:00, 2019-01-01 00:00:00, 2019-02-01 00:00:00,\n",
      "       2019-03-01 00:00:00, 2019-04-01 00:00:00, 2019-05-01 00:00:00,\n",
      "       2019-06-01 00:00:00, 2019-07-01 00:00:00, 2019-08-01 00:00:00,\n",
      "       2019-09-01 00:00:00, 2019-10-01 00:00:00, 2019-11-01 00:00:00,\n",
      "       2019-12-01 00:00:00],\n",
      "      dtype='object', name='periodo')\n"
     ]
    },
    {
     "data": {
      "text/html": [
       "<div>\n",
       "<style scoped>\n",
       "    .dataframe tbody tr th:only-of-type {\n",
       "        vertical-align: middle;\n",
       "    }\n",
       "\n",
       "    .dataframe tbody tr th {\n",
       "        vertical-align: top;\n",
       "    }\n",
       "\n",
       "    .dataframe thead th {\n",
       "        text-align: right;\n",
       "    }\n",
       "</style>\n",
       "<table border=\"1\" class=\"dataframe\">\n",
       "  <thead>\n",
       "    <tr style=\"text-align: right;\">\n",
       "      <th>periodo</th>\n",
       "      <th>2017-01-01</th>\n",
       "      <th>2017-02-01</th>\n",
       "      <th>2017-03-01</th>\n",
       "      <th>2017-04-01</th>\n",
       "      <th>2017-05-01</th>\n",
       "      <th>2017-06-01</th>\n",
       "      <th>2017-07-01</th>\n",
       "      <th>2017-08-01</th>\n",
       "      <th>2017-09-01</th>\n",
       "      <th>2017-10-01</th>\n",
       "      <th>...</th>\n",
       "      <th>2019-03-01</th>\n",
       "      <th>2019-04-01</th>\n",
       "      <th>2019-05-01</th>\n",
       "      <th>2019-06-01</th>\n",
       "      <th>2019-07-01</th>\n",
       "      <th>2019-08-01</th>\n",
       "      <th>2019-09-01</th>\n",
       "      <th>2019-10-01</th>\n",
       "      <th>2019-11-01</th>\n",
       "      <th>2019-12-01</th>\n",
       "    </tr>\n",
       "    <tr>\n",
       "      <th>product_id</th>\n",
       "      <th></th>\n",
       "      <th></th>\n",
       "      <th></th>\n",
       "      <th></th>\n",
       "      <th></th>\n",
       "      <th></th>\n",
       "      <th></th>\n",
       "      <th></th>\n",
       "      <th></th>\n",
       "      <th></th>\n",
       "      <th></th>\n",
       "      <th></th>\n",
       "      <th></th>\n",
       "      <th></th>\n",
       "      <th></th>\n",
       "      <th></th>\n",
       "      <th></th>\n",
       "      <th></th>\n",
       "      <th></th>\n",
       "      <th></th>\n",
       "      <th></th>\n",
       "    </tr>\n",
       "  </thead>\n",
       "  <tbody>\n",
       "    <tr>\n",
       "      <th>20001</th>\n",
       "      <td>934.77222</td>\n",
       "      <td>798.01620</td>\n",
       "      <td>1303.35771</td>\n",
       "      <td>1069.96130</td>\n",
       "      <td>1502.20132</td>\n",
       "      <td>1520.06539</td>\n",
       "      <td>1030.67391</td>\n",
       "      <td>1267.39462</td>\n",
       "      <td>1316.94604</td>\n",
       "      <td>1439.75563</td>\n",
       "      <td>...</td>\n",
       "      <td>1470.65653</td>\n",
       "      <td>1647.63848</td>\n",
       "      <td>1629.78233</td>\n",
       "      <td>1109.93769</td>\n",
       "      <td>1678.99318</td>\n",
       "      <td>1261.34529</td>\n",
       "      <td>1660.00561</td>\n",
       "      <td>1561.50552</td>\n",
       "      <td>1397.37231</td>\n",
       "      <td>1504.68856</td>\n",
       "    </tr>\n",
       "    <tr>\n",
       "      <th>20002</th>\n",
       "      <td>550.15707</td>\n",
       "      <td>505.88633</td>\n",
       "      <td>834.73521</td>\n",
       "      <td>522.35365</td>\n",
       "      <td>843.43785</td>\n",
       "      <td>968.15756</td>\n",
       "      <td>845.39319</td>\n",
       "      <td>619.71078</td>\n",
       "      <td>1065.34529</td>\n",
       "      <td>857.45269</td>\n",
       "      <td>...</td>\n",
       "      <td>1083.62552</td>\n",
       "      <td>1287.62346</td>\n",
       "      <td>1034.98927</td>\n",
       "      <td>928.36431</td>\n",
       "      <td>1066.44999</td>\n",
       "      <td>813.78215</td>\n",
       "      <td>1090.18771</td>\n",
       "      <td>1979.53635</td>\n",
       "      <td>1423.57739</td>\n",
       "      <td>1087.30855</td>\n",
       "    </tr>\n",
       "    <tr>\n",
       "      <th>20003</th>\n",
       "      <td>1063.45835</td>\n",
       "      <td>752.11520</td>\n",
       "      <td>917.16548</td>\n",
       "      <td>525.82591</td>\n",
       "      <td>620.48202</td>\n",
       "      <td>744.08829</td>\n",
       "      <td>785.12398</td>\n",
       "      <td>864.21928</td>\n",
       "      <td>1465.83347</td>\n",
       "      <td>1958.59845</td>\n",
       "      <td>...</td>\n",
       "      <td>638.04010</td>\n",
       "      <td>565.33774</td>\n",
       "      <td>590.12515</td>\n",
       "      <td>662.38654</td>\n",
       "      <td>715.20314</td>\n",
       "      <td>635.59563</td>\n",
       "      <td>967.77116</td>\n",
       "      <td>1081.36645</td>\n",
       "      <td>948.29393</td>\n",
       "      <td>892.50129</td>\n",
       "    </tr>\n",
       "    <tr>\n",
       "      <th>20004</th>\n",
       "      <td>555.91614</td>\n",
       "      <td>508.20044</td>\n",
       "      <td>489.91328</td>\n",
       "      <td>512.05402</td>\n",
       "      <td>543.36670</td>\n",
       "      <td>590.50779</td>\n",
       "      <td>569.88117</td>\n",
       "      <td>1042.52979</td>\n",
       "      <td>1259.64560</td>\n",
       "      <td>1268.21209</td>\n",
       "      <td>...</td>\n",
       "      <td>619.77084</td>\n",
       "      <td>466.70901</td>\n",
       "      <td>603.31081</td>\n",
       "      <td>667.19411</td>\n",
       "      <td>521.71519</td>\n",
       "      <td>482.13372</td>\n",
       "      <td>786.17140</td>\n",
       "      <td>1064.69633</td>\n",
       "      <td>723.94206</td>\n",
       "      <td>637.90002</td>\n",
       "    </tr>\n",
       "    <tr>\n",
       "      <th>20005</th>\n",
       "      <td>494.27011</td>\n",
       "      <td>551.43060</td>\n",
       "      <td>563.89955</td>\n",
       "      <td>662.59032</td>\n",
       "      <td>515.58711</td>\n",
       "      <td>528.58883</td>\n",
       "      <td>625.84925</td>\n",
       "      <td>1068.01865</td>\n",
       "      <td>1247.88880</td>\n",
       "      <td>875.13411</td>\n",
       "      <td>...</td>\n",
       "      <td>488.21387</td>\n",
       "      <td>624.99880</td>\n",
       "      <td>897.26297</td>\n",
       "      <td>876.39696</td>\n",
       "      <td>745.74978</td>\n",
       "      <td>536.66800</td>\n",
       "      <td>879.52808</td>\n",
       "      <td>996.78275</td>\n",
       "      <td>606.91173</td>\n",
       "      <td>593.24443</td>\n",
       "    </tr>\n",
       "  </tbody>\n",
       "</table>\n",
       "<p>5 rows × 36 columns</p>\n",
       "</div>"
      ],
      "text/plain": [
       "periodo     2017-01-01  2017-02-01  2017-03-01  2017-04-01  2017-05-01   \n",
       "product_id                                                               \n",
       "20001        934.77222   798.01620  1303.35771  1069.96130  1502.20132  \\\n",
       "20002        550.15707   505.88633   834.73521   522.35365   843.43785   \n",
       "20003       1063.45835   752.11520   917.16548   525.82591   620.48202   \n",
       "20004        555.91614   508.20044   489.91328   512.05402   543.36670   \n",
       "20005        494.27011   551.43060   563.89955   662.59032   515.58711   \n",
       "\n",
       "periodo     2017-06-01  2017-07-01  2017-08-01  2017-09-01  2017-10-01  ...   \n",
       "product_id                                                              ...   \n",
       "20001       1520.06539  1030.67391  1267.39462  1316.94604  1439.75563  ...  \\\n",
       "20002        968.15756   845.39319   619.71078  1065.34529   857.45269  ...   \n",
       "20003        744.08829   785.12398   864.21928  1465.83347  1958.59845  ...   \n",
       "20004        590.50779   569.88117  1042.52979  1259.64560  1268.21209  ...   \n",
       "20005        528.58883   625.84925  1068.01865  1247.88880   875.13411  ...   \n",
       "\n",
       "periodo     2019-03-01  2019-04-01  2019-05-01  2019-06-01  2019-07-01   \n",
       "product_id                                                               \n",
       "20001       1470.65653  1647.63848  1629.78233  1109.93769  1678.99318  \\\n",
       "20002       1083.62552  1287.62346  1034.98927   928.36431  1066.44999   \n",
       "20003        638.04010   565.33774   590.12515   662.38654   715.20314   \n",
       "20004        619.77084   466.70901   603.31081   667.19411   521.71519   \n",
       "20005        488.21387   624.99880   897.26297   876.39696   745.74978   \n",
       "\n",
       "periodo     2019-08-01  2019-09-01  2019-10-01  2019-11-01  2019-12-01  \n",
       "product_id                                                              \n",
       "20001       1261.34529  1660.00561  1561.50552  1397.37231  1504.68856  \n",
       "20002        813.78215  1090.18771  1979.53635  1423.57739  1087.30855  \n",
       "20003        635.59563   967.77116  1081.36645   948.29393   892.50129  \n",
       "20004        482.13372   786.17140  1064.69633   723.94206   637.90002  \n",
       "20005        536.66800   879.52808   996.78275   606.91173   593.24443  \n",
       "\n",
       "[5 rows x 36 columns]"
      ]
     },
     "execution_count": 44,
     "metadata": {},
     "output_type": "execute_result"
    }
   ],
   "source": [
    "# transpose data to match format neeed for further processing\n",
    "df_pivoted = df_pivot.T\n",
    "df_pivoted = df_pivoted.reset_index()\n",
    "\n",
    "print(df_pivoted.shape, df_pivoted.columns)\n",
    "\n",
    "df_pivoted.set_index('product_id', inplace=True)\n",
    "df_pivoted.head(5)"
   ]
  },
  {
   "cell_type": "code",
   "execution_count": 45,
   "metadata": {},
   "outputs": [
    {
     "name": "stdout",
     "output_type": "stream",
     "text": [
      "(780, 36, 1) (780, 36, 1)\n",
      "CPU times: total: 188 ms\n",
      "Wall time: 182 ms\n"
     ]
    }
   ],
   "source": [
    "%%time\n",
    "\n",
    "# convert dataframe to time_series_dataset\n",
    "X = to_time_series_dataset(df_pivoted.values)\n",
    "\n",
    "# normalize time series to zero mean and unit variance\n",
    "X_train = TimeSeriesScalerMeanVariance().fit_transform(X)\n",
    "\n",
    "print(X.shape, X_train.shape)"
   ]
  },
  {
   "cell_type": "code",
   "execution_count": 46,
   "metadata": {},
   "outputs": [],
   "source": [
    "# create required directory structure\n",
    "dir_paths = ['./tsl_LABO', './tsl_LABO/models', './tsl_LABO/plots']\n",
    "\n",
    "for dir_path in dir_paths:\n",
    "    if not os.path.exists(dir_path):\n",
    "        os.makedirs(dir_path)"
   ]
  },
  {
   "cell_type": "code",
   "execution_count": 47,
   "metadata": {},
   "outputs": [
    {
     "name": "stdout",
     "output_type": "stream",
     "text": [
      "CPU times: total: 41.5 s\n",
      "Wall time: 40.9 s\n"
     ]
    }
   ],
   "source": [
    "%%time\n",
    "\n",
    "# algorithm configuration\n",
    "algo = \"DTW_kmeans\"\n",
    "metric = \"dtw\"\n",
    "\n",
    "# cluster configuration\n",
    "N_CLUSTERS = 3\n",
    "\n",
    "model= TimeSeriesKMeans(n_clusters=N_CLUSTERS,\n",
    "                        metric=metric,\n",
    "                        n_jobs=-1,\n",
    "                        random_state=0)\n",
    "\n",
    "y_pred = model.fit_predict(X_train)\n",
    "\n",
    "model.to_pickle(f\"./tsl_LABO/models/{algo}.pkl\")"
   ]
  },
  {
   "cell_type": "code",
   "execution_count": 48,
   "metadata": {},
   "outputs": [],
   "source": [
    "# backup clustering results\n",
    "np.save(f\"C:/Users/usuario/otros/Desktop/MCD/6 Labo III/Forecasting Problem/3. AWS Forecast/Modelo 4/tls_{algo}_cluster_labels\", y_pred)"
   ]
  },
  {
   "cell_type": "code",
   "execution_count": 49,
   "metadata": {},
   "outputs": [
    {
     "data": {
      "image/png": "[encoded data removed]",
      "text/plain": [
       "<Figure size 640x480 with 1 Axes>"
      ]
     },
     "metadata": {},
     "output_type": "display_data"
    },
    {
     "data": {
      "image/png": "[encoded data removed]",
      "text/plain": [
       "<Figure size 640x480 with 1 Axes>"
      ]
     },
     "metadata": {},
     "output_type": "display_data"
    },
    {
     "data": {
      "image/png": "[encoded data removed]",
      "text/plain": [
       "<Figure size 640x480 with 1 Axes>"
      ]
     },
     "metadata": {},
     "output_type": "display_data"
    },
    {
     "name": "stdout",
     "output_type": "stream",
     "text": [
      "CPU times: total: 2.36 s\n",
      "Wall time: 2.44 s\n"
     ]
    }
   ],
   "source": [
    "%%time\n",
    "\n",
    "for yi in range(N_CLUSTERS):\n",
    "    X_sub = X_train[y_pred == yi]\n",
    "    ts_cnt = pd.Series(y_pred[y_pred == yi]).shape[0]\n",
    "    fig = plt.figure()\n",
    "    plt.title(f\"{algo} | Cluster ID: {yi} | TS Count: {ts_cnt}\")\n",
    "    for xx in X_sub:\n",
    "        plt.plot(xx.ravel(), color='xkcd:sky blue', alpha=0.025)\n",
    "    fig.savefig(f\"./tsl_LABO/plots/{algo}_cls_lbl_{yi}.png\", dpi=150)\n",
    "    plt.show()\n",
    "    plt.close()"
   ]
  },
  {
   "cell_type": "code",
   "execution_count": 50,
   "metadata": {},
   "outputs": [
    {
     "data": {
      "text/plain": [
       "780"
      ]
     },
     "execution_count": 50,
     "metadata": {},
     "output_type": "execute_result"
    }
   ],
   "source": [
    "len(df_pivoted)"
   ]
  },
  {
   "cell_type": "code",
   "execution_count": 51,
   "metadata": {},
   "outputs": [
    {
     "data": {
      "text/plain": [
       "780"
      ]
     },
     "execution_count": 51,
     "metadata": {},
     "output_type": "execute_result"
    }
   ],
   "source": [
    "len(y_pred)"
   ]
  },
  {
   "cell_type": "code",
   "execution_count": 52,
   "metadata": {},
   "outputs": [
    {
     "data": {
      "text/html": [
       "<div>\n",
       "<style scoped>\n",
       "    .dataframe tbody tr th:only-of-type {\n",
       "        vertical-align: middle;\n",
       "    }\n",
       "\n",
       "    .dataframe tbody tr th {\n",
       "        vertical-align: top;\n",
       "    }\n",
       "\n",
       "    .dataframe thead th {\n",
       "        text-align: right;\n",
       "    }\n",
       "</style>\n",
       "<table border=\"1\" class=\"dataframe\">\n",
       "  <thead>\n",
       "    <tr style=\"text-align: right;\">\n",
       "      <th></th>\n",
       "      <th>product_id</th>\n",
       "      <th>2017-01-01 00:00:00</th>\n",
       "      <th>2017-02-01 00:00:00</th>\n",
       "      <th>2017-03-01 00:00:00</th>\n",
       "      <th>2017-04-01 00:00:00</th>\n",
       "      <th>2017-05-01 00:00:00</th>\n",
       "      <th>2017-06-01 00:00:00</th>\n",
       "      <th>2017-07-01 00:00:00</th>\n",
       "      <th>2017-08-01 00:00:00</th>\n",
       "      <th>2017-09-01 00:00:00</th>\n",
       "      <th>...</th>\n",
       "      <th>2019-04-01 00:00:00</th>\n",
       "      <th>2019-05-01 00:00:00</th>\n",
       "      <th>2019-06-01 00:00:00</th>\n",
       "      <th>2019-07-01 00:00:00</th>\n",
       "      <th>2019-08-01 00:00:00</th>\n",
       "      <th>2019-09-01 00:00:00</th>\n",
       "      <th>2019-10-01 00:00:00</th>\n",
       "      <th>2019-11-01 00:00:00</th>\n",
       "      <th>2019-12-01 00:00:00</th>\n",
       "      <th>cluster_id</th>\n",
       "    </tr>\n",
       "  </thead>\n",
       "  <tbody>\n",
       "    <tr>\n",
       "      <th>0</th>\n",
       "      <td>20001</td>\n",
       "      <td>934.77222</td>\n",
       "      <td>798.01620</td>\n",
       "      <td>1303.35771</td>\n",
       "      <td>1069.96130</td>\n",
       "      <td>1502.20132</td>\n",
       "      <td>1520.06539</td>\n",
       "      <td>1030.67391</td>\n",
       "      <td>1267.39462</td>\n",
       "      <td>1316.94604</td>\n",
       "      <td>...</td>\n",
       "      <td>1647.63848</td>\n",
       "      <td>1629.78233</td>\n",
       "      <td>1109.93769</td>\n",
       "      <td>1678.99318</td>\n",
       "      <td>1261.34529</td>\n",
       "      <td>1660.00561</td>\n",
       "      <td>1561.50552</td>\n",
       "      <td>1397.37231</td>\n",
       "      <td>1504.68856</td>\n",
       "      <td>0</td>\n",
       "    </tr>\n",
       "    <tr>\n",
       "      <th>1</th>\n",
       "      <td>20002</td>\n",
       "      <td>550.15707</td>\n",
       "      <td>505.88633</td>\n",
       "      <td>834.73521</td>\n",
       "      <td>522.35365</td>\n",
       "      <td>843.43785</td>\n",
       "      <td>968.15756</td>\n",
       "      <td>845.39319</td>\n",
       "      <td>619.71078</td>\n",
       "      <td>1065.34529</td>\n",
       "      <td>...</td>\n",
       "      <td>1287.62346</td>\n",
       "      <td>1034.98927</td>\n",
       "      <td>928.36431</td>\n",
       "      <td>1066.44999</td>\n",
       "      <td>813.78215</td>\n",
       "      <td>1090.18771</td>\n",
       "      <td>1979.53635</td>\n",
       "      <td>1423.57739</td>\n",
       "      <td>1087.30855</td>\n",
       "      <td>0</td>\n",
       "    </tr>\n",
       "    <tr>\n",
       "      <th>2</th>\n",
       "      <td>20003</td>\n",
       "      <td>1063.45835</td>\n",
       "      <td>752.11520</td>\n",
       "      <td>917.16548</td>\n",
       "      <td>525.82591</td>\n",
       "      <td>620.48202</td>\n",
       "      <td>744.08829</td>\n",
       "      <td>785.12398</td>\n",
       "      <td>864.21928</td>\n",
       "      <td>1465.83347</td>\n",
       "      <td>...</td>\n",
       "      <td>565.33774</td>\n",
       "      <td>590.12515</td>\n",
       "      <td>662.38654</td>\n",
       "      <td>715.20314</td>\n",
       "      <td>635.59563</td>\n",
       "      <td>967.77116</td>\n",
       "      <td>1081.36645</td>\n",
       "      <td>948.29393</td>\n",
       "      <td>892.50129</td>\n",
       "      <td>0</td>\n",
       "    </tr>\n",
       "    <tr>\n",
       "      <th>3</th>\n",
       "      <td>20004</td>\n",
       "      <td>555.91614</td>\n",
       "      <td>508.20044</td>\n",
       "      <td>489.91328</td>\n",
       "      <td>512.05402</td>\n",
       "      <td>543.36670</td>\n",
       "      <td>590.50779</td>\n",
       "      <td>569.88117</td>\n",
       "      <td>1042.52979</td>\n",
       "      <td>1259.64560</td>\n",
       "      <td>...</td>\n",
       "      <td>466.70901</td>\n",
       "      <td>603.31081</td>\n",
       "      <td>667.19411</td>\n",
       "      <td>521.71519</td>\n",
       "      <td>482.13372</td>\n",
       "      <td>786.17140</td>\n",
       "      <td>1064.69633</td>\n",
       "      <td>723.94206</td>\n",
       "      <td>637.90002</td>\n",
       "      <td>0</td>\n",
       "    </tr>\n",
       "    <tr>\n",
       "      <th>4</th>\n",
       "      <td>20005</td>\n",
       "      <td>494.27011</td>\n",
       "      <td>551.43060</td>\n",
       "      <td>563.89955</td>\n",
       "      <td>662.59032</td>\n",
       "      <td>515.58711</td>\n",
       "      <td>528.58883</td>\n",
       "      <td>625.84925</td>\n",
       "      <td>1068.01865</td>\n",
       "      <td>1247.88880</td>\n",
       "      <td>...</td>\n",
       "      <td>624.99880</td>\n",
       "      <td>897.26297</td>\n",
       "      <td>876.39696</td>\n",
       "      <td>745.74978</td>\n",
       "      <td>536.66800</td>\n",
       "      <td>879.52808</td>\n",
       "      <td>996.78275</td>\n",
       "      <td>606.91173</td>\n",
       "      <td>593.24443</td>\n",
       "      <td>0</td>\n",
       "    </tr>\n",
       "    <tr>\n",
       "      <th>...</th>\n",
       "      <td>...</td>\n",
       "      <td>...</td>\n",
       "      <td>...</td>\n",
       "      <td>...</td>\n",
       "      <td>...</td>\n",
       "      <td>...</td>\n",
       "      <td>...</td>\n",
       "      <td>...</td>\n",
       "      <td>...</td>\n",
       "      <td>...</td>\n",
       "      <td>...</td>\n",
       "      <td>...</td>\n",
       "      <td>...</td>\n",
       "      <td>...</td>\n",
       "      <td>...</td>\n",
       "      <td>...</td>\n",
       "      <td>...</td>\n",
       "      <td>...</td>\n",
       "      <td>...</td>\n",
       "      <td>...</td>\n",
       "      <td>...</td>\n",
       "    </tr>\n",
       "    <tr>\n",
       "      <th>775</th>\n",
       "      <td>21263</td>\n",
       "      <td>0.00000</td>\n",
       "      <td>0.00000</td>\n",
       "      <td>0.00000</td>\n",
       "      <td>0.00000</td>\n",
       "      <td>0.00000</td>\n",
       "      <td>0.00000</td>\n",
       "      <td>0.00000</td>\n",
       "      <td>0.00000</td>\n",
       "      <td>0.00000</td>\n",
       "      <td>...</td>\n",
       "      <td>0.01835</td>\n",
       "      <td>0.02258</td>\n",
       "      <td>0.00988</td>\n",
       "      <td>0.03387</td>\n",
       "      <td>0.03388</td>\n",
       "      <td>0.01128</td>\n",
       "      <td>0.01552</td>\n",
       "      <td>0.03247</td>\n",
       "      <td>0.01270</td>\n",
       "      <td>0</td>\n",
       "    </tr>\n",
       "    <tr>\n",
       "      <th>776</th>\n",
       "      <td>21265</td>\n",
       "      <td>0.00000</td>\n",
       "      <td>0.00000</td>\n",
       "      <td>0.00000</td>\n",
       "      <td>0.00000</td>\n",
       "      <td>0.00000</td>\n",
       "      <td>0.00000</td>\n",
       "      <td>0.00000</td>\n",
       "      <td>0.00000</td>\n",
       "      <td>0.00000</td>\n",
       "      <td>...</td>\n",
       "      <td>0.36405</td>\n",
       "      <td>0.17635</td>\n",
       "      <td>0.05121</td>\n",
       "      <td>0.02959</td>\n",
       "      <td>0.01593</td>\n",
       "      <td>0.01707</td>\n",
       "      <td>0.10921</td>\n",
       "      <td>0.06600</td>\n",
       "      <td>0.05007</td>\n",
       "      <td>0</td>\n",
       "    </tr>\n",
       "    <tr>\n",
       "      <th>777</th>\n",
       "      <td>21266</td>\n",
       "      <td>0.00000</td>\n",
       "      <td>0.00000</td>\n",
       "      <td>0.00000</td>\n",
       "      <td>0.00000</td>\n",
       "      <td>0.00000</td>\n",
       "      <td>0.00000</td>\n",
       "      <td>0.00000</td>\n",
       "      <td>0.00000</td>\n",
       "      <td>0.00000</td>\n",
       "      <td>...</td>\n",
       "      <td>0.36178</td>\n",
       "      <td>0.17634</td>\n",
       "      <td>0.05235</td>\n",
       "      <td>0.05916</td>\n",
       "      <td>0.01480</td>\n",
       "      <td>0.02844</td>\n",
       "      <td>0.11831</td>\n",
       "      <td>0.06713</td>\n",
       "      <td>0.05121</td>\n",
       "      <td>0</td>\n",
       "    </tr>\n",
       "    <tr>\n",
       "      <th>778</th>\n",
       "      <td>21267</td>\n",
       "      <td>0.00000</td>\n",
       "      <td>0.00000</td>\n",
       "      <td>0.00000</td>\n",
       "      <td>0.00000</td>\n",
       "      <td>0.00000</td>\n",
       "      <td>0.00000</td>\n",
       "      <td>0.00000</td>\n",
       "      <td>0.00000</td>\n",
       "      <td>0.00000</td>\n",
       "      <td>...</td>\n",
       "      <td>0.12291</td>\n",
       "      <td>0.24451</td>\n",
       "      <td>0.05882</td>\n",
       "      <td>0.07452</td>\n",
       "      <td>0.04054</td>\n",
       "      <td>0.01830</td>\n",
       "      <td>0.09676</td>\n",
       "      <td>0.04052</td>\n",
       "      <td>0.01569</td>\n",
       "      <td>0</td>\n",
       "    </tr>\n",
       "    <tr>\n",
       "      <th>779</th>\n",
       "      <td>21276</td>\n",
       "      <td>0.00000</td>\n",
       "      <td>0.00000</td>\n",
       "      <td>0.00000</td>\n",
       "      <td>0.00000</td>\n",
       "      <td>0.00000</td>\n",
       "      <td>0.00000</td>\n",
       "      <td>0.00000</td>\n",
       "      <td>0.00000</td>\n",
       "      <td>0.00000</td>\n",
       "      <td>...</td>\n",
       "      <td>0.10173</td>\n",
       "      <td>0.09283</td>\n",
       "      <td>0.04086</td>\n",
       "      <td>0.00223</td>\n",
       "      <td>0.01265</td>\n",
       "      <td>0.01856</td>\n",
       "      <td>0.02079</td>\n",
       "      <td>0.03341</td>\n",
       "      <td>0.00892</td>\n",
       "      <td>0</td>\n",
       "    </tr>\n",
       "  </tbody>\n",
       "</table>\n",
       "<p>780 rows × 38 columns</p>\n",
       "</div>"
      ],
      "text/plain": [
       "     product_id  2017-01-01 00:00:00  2017-02-01 00:00:00   \n",
       "0         20001            934.77222            798.01620  \\\n",
       "1         20002            550.15707            505.88633   \n",
       "2         20003           1063.45835            752.11520   \n",
       "3         20004            555.91614            508.20044   \n",
       "4         20005            494.27011            551.43060   \n",
       "..          ...                  ...                  ...   \n",
       "775       21263              0.00000              0.00000   \n",
       "776       21265              0.00000              0.00000   \n",
       "777       21266              0.00000              0.00000   \n",
       "778       21267              0.00000              0.00000   \n",
       "779       21276              0.00000              0.00000   \n",
       "\n",
       "     2017-03-01 00:00:00  2017-04-01 00:00:00  2017-05-01 00:00:00   \n",
       "0             1303.35771           1069.96130           1502.20132  \\\n",
       "1              834.73521            522.35365            843.43785   \n",
       "2              917.16548            525.82591            620.48202   \n",
       "3              489.91328            512.05402            543.36670   \n",
       "4              563.89955            662.59032            515.58711   \n",
       "..                   ...                  ...                  ...   \n",
       "775              0.00000              0.00000              0.00000   \n",
       "776              0.00000              0.00000              0.00000   \n",
       "777              0.00000              0.00000              0.00000   \n",
       "778              0.00000              0.00000              0.00000   \n",
       "779              0.00000              0.00000              0.00000   \n",
       "\n",
       "     2017-06-01 00:00:00  2017-07-01 00:00:00  2017-08-01 00:00:00   \n",
       "0             1520.06539           1030.67391           1267.39462  \\\n",
       "1              968.15756            845.39319            619.71078   \n",
       "2              744.08829            785.12398            864.21928   \n",
       "3              590.50779            569.88117           1042.52979   \n",
       "4              528.58883            625.84925           1068.01865   \n",
       "..                   ...                  ...                  ...   \n",
       "775              0.00000              0.00000              0.00000   \n",
       "776              0.00000              0.00000              0.00000   \n",
       "777              0.00000              0.00000              0.00000   \n",
       "778              0.00000              0.00000              0.00000   \n",
       "779              0.00000              0.00000              0.00000   \n",
       "\n",
       "     2017-09-01 00:00:00  ...  2019-04-01 00:00:00  2019-05-01 00:00:00   \n",
       "0             1316.94604  ...           1647.63848           1629.78233  \\\n",
       "1             1065.34529  ...           1287.62346           1034.98927   \n",
       "2             1465.83347  ...            565.33774            590.12515   \n",
       "3             1259.64560  ...            466.70901            603.31081   \n",
       "4             1247.88880  ...            624.99880            897.26297   \n",
       "..                   ...  ...                  ...                  ...   \n",
       "775              0.00000  ...              0.01835              0.02258   \n",
       "776              0.00000  ...              0.36405              0.17635   \n",
       "777              0.00000  ...              0.36178              0.17634   \n",
       "778              0.00000  ...              0.12291              0.24451   \n",
       "779              0.00000  ...              0.10173              0.09283   \n",
       "\n",
       "     2019-06-01 00:00:00  2019-07-01 00:00:00  2019-08-01 00:00:00   \n",
       "0             1109.93769           1678.99318           1261.34529  \\\n",
       "1              928.36431           1066.44999            813.78215   \n",
       "2              662.38654            715.20314            635.59563   \n",
       "3              667.19411            521.71519            482.13372   \n",
       "4              876.39696            745.74978            536.66800   \n",
       "..                   ...                  ...                  ...   \n",
       "775              0.00988              0.03387              0.03388   \n",
       "776              0.05121              0.02959              0.01593   \n",
       "777              0.05235              0.05916              0.01480   \n",
       "778              0.05882              0.07452              0.04054   \n",
       "779              0.04086              0.00223              0.01265   \n",
       "\n",
       "     2019-09-01 00:00:00  2019-10-01 00:00:00  2019-11-01 00:00:00   \n",
       "0             1660.00561           1561.50552           1397.37231  \\\n",
       "1             1090.18771           1979.53635           1423.57739   \n",
       "2              967.77116           1081.36645            948.29393   \n",
       "3              786.17140           1064.69633            723.94206   \n",
       "4              879.52808            996.78275            606.91173   \n",
       "..                   ...                  ...                  ...   \n",
       "775              0.01128              0.01552              0.03247   \n",
       "776              0.01707              0.10921              0.06600   \n",
       "777              0.02844              0.11831              0.06713   \n",
       "778              0.01830              0.09676              0.04052   \n",
       "779              0.01856              0.02079              0.03341   \n",
       "\n",
       "     2019-12-01 00:00:00  cluster_id  \n",
       "0             1504.68856           0  \n",
       "1             1087.30855           0  \n",
       "2              892.50129           0  \n",
       "3              637.90002           0  \n",
       "4              593.24443           0  \n",
       "..                   ...         ...  \n",
       "775              0.01270           0  \n",
       "776              0.05007           0  \n",
       "777              0.05121           0  \n",
       "778              0.01569           0  \n",
       "779              0.00892           0  \n",
       "\n",
       "[780 rows x 38 columns]"
      ]
     },
     "execution_count": 52,
     "metadata": {},
     "output_type": "execute_result"
    }
   ],
   "source": [
    "df_pivoted_extended = pd.concat([df_pivoted.reset_index(), pd.DataFrame(y_pred, columns = [\"cluster_id\"])], axis = 1)\n",
    "df_pivoted_extended"
   ]
  },
  {
   "cell_type": "code",
   "execution_count": 53,
   "metadata": {},
   "outputs": [
    {
     "data": {
      "text/html": [
       "<div>\n",
       "<style scoped>\n",
       "    .dataframe tbody tr th:only-of-type {\n",
       "        vertical-align: middle;\n",
       "    }\n",
       "\n",
       "    .dataframe tbody tr th {\n",
       "        vertical-align: top;\n",
       "    }\n",
       "\n",
       "    .dataframe thead th {\n",
       "        text-align: right;\n",
       "    }\n",
       "</style>\n",
       "<table border=\"1\" class=\"dataframe\">\n",
       "  <thead>\n",
       "    <tr style=\"text-align: right;\">\n",
       "      <th></th>\n",
       "      <th>periodo</th>\n",
       "      <th>product_id</th>\n",
       "      <th>cluster_id</th>\n",
       "      <th>tn</th>\n",
       "    </tr>\n",
       "  </thead>\n",
       "  <tbody>\n",
       "    <tr>\n",
       "      <th>0</th>\n",
       "      <td>2017-01-01</td>\n",
       "      <td>20001</td>\n",
       "      <td>0</td>\n",
       "      <td>934.77222</td>\n",
       "    </tr>\n",
       "    <tr>\n",
       "      <th>1</th>\n",
       "      <td>2017-01-01</td>\n",
       "      <td>20002</td>\n",
       "      <td>0</td>\n",
       "      <td>550.15707</td>\n",
       "    </tr>\n",
       "    <tr>\n",
       "      <th>2</th>\n",
       "      <td>2017-01-01</td>\n",
       "      <td>20003</td>\n",
       "      <td>0</td>\n",
       "      <td>1063.45835</td>\n",
       "    </tr>\n",
       "    <tr>\n",
       "      <th>3</th>\n",
       "      <td>2017-01-01</td>\n",
       "      <td>20004</td>\n",
       "      <td>0</td>\n",
       "      <td>555.91614</td>\n",
       "    </tr>\n",
       "    <tr>\n",
       "      <th>4</th>\n",
       "      <td>2017-01-01</td>\n",
       "      <td>20005</td>\n",
       "      <td>0</td>\n",
       "      <td>494.27011</td>\n",
       "    </tr>\n",
       "    <tr>\n",
       "      <th>...</th>\n",
       "      <td>...</td>\n",
       "      <td>...</td>\n",
       "      <td>...</td>\n",
       "      <td>...</td>\n",
       "    </tr>\n",
       "    <tr>\n",
       "      <th>28075</th>\n",
       "      <td>2019-12-01</td>\n",
       "      <td>21263</td>\n",
       "      <td>0</td>\n",
       "      <td>0.01270</td>\n",
       "    </tr>\n",
       "    <tr>\n",
       "      <th>28076</th>\n",
       "      <td>2019-12-01</td>\n",
       "      <td>21265</td>\n",
       "      <td>0</td>\n",
       "      <td>0.05007</td>\n",
       "    </tr>\n",
       "    <tr>\n",
       "      <th>28077</th>\n",
       "      <td>2019-12-01</td>\n",
       "      <td>21266</td>\n",
       "      <td>0</td>\n",
       "      <td>0.05121</td>\n",
       "    </tr>\n",
       "    <tr>\n",
       "      <th>28078</th>\n",
       "      <td>2019-12-01</td>\n",
       "      <td>21267</td>\n",
       "      <td>0</td>\n",
       "      <td>0.01569</td>\n",
       "    </tr>\n",
       "    <tr>\n",
       "      <th>28079</th>\n",
       "      <td>2019-12-01</td>\n",
       "      <td>21276</td>\n",
       "      <td>0</td>\n",
       "      <td>0.00892</td>\n",
       "    </tr>\n",
       "  </tbody>\n",
       "</table>\n",
       "<p>28080 rows × 4 columns</p>\n",
       "</div>"
      ],
      "text/plain": [
       "         periodo  product_id  cluster_id          tn\n",
       "0     2017-01-01       20001           0   934.77222\n",
       "1     2017-01-01       20002           0   550.15707\n",
       "2     2017-01-01       20003           0  1063.45835\n",
       "3     2017-01-01       20004           0   555.91614\n",
       "4     2017-01-01       20005           0   494.27011\n",
       "...          ...         ...         ...         ...\n",
       "28075 2019-12-01       21263           0     0.01270\n",
       "28076 2019-12-01       21265           0     0.05007\n",
       "28077 2019-12-01       21266           0     0.05121\n",
       "28078 2019-12-01       21267           0     0.01569\n",
       "28079 2019-12-01       21276           0     0.00892\n",
       "\n",
       "[28080 rows x 4 columns]"
      ]
     },
     "execution_count": 53,
     "metadata": {},
     "output_type": "execute_result"
    }
   ],
   "source": [
    "df_tts = pd.melt(df_pivoted_extended, id_vars=['product_id', 'cluster_id'])\n",
    "df_tts.columns = ['product_id', 'cluster_id', 'periodo', 'tn']\n",
    "df_tts = df_tts[['periodo', 'product_id', 'cluster_id', 'tn']]\n",
    "df_tts"
   ]
  },
  {
   "cell_type": "code",
   "execution_count": 54,
   "metadata": {},
   "outputs": [
    {
     "data": {
      "text/plain": [
       "True"
      ]
     },
     "execution_count": 54,
     "metadata": {},
     "output_type": "execute_result"
    }
   ],
   "source": [
    "len(df_tts[df_tts.tn != 0]) == len(df_ventas_product)\n",
    "# df_tts tiene más registros porque las fechas sin tn por serie fueron completados con 0"
   ]
  },
  {
   "cell_type": "code",
   "execution_count": 55,
   "metadata": {},
   "outputs": [
    {
     "data": {
      "text/plain": [
       "1122605.2173000001"
      ]
     },
     "execution_count": 55,
     "metadata": {},
     "output_type": "execute_result"
    }
   ],
   "source": [
    "df_tts.tn.sum()"
   ]
  },
  {
   "cell_type": "code",
   "execution_count": 56,
   "metadata": {},
   "outputs": [
    {
     "data": {
      "text/plain": [
       "1122605.2173000001"
      ]
     },
     "execution_count": 56,
     "metadata": {},
     "output_type": "execute_result"
    }
   ],
   "source": [
    "df_ventas_product.tn.sum()"
   ]
  },
  {
   "cell_type": "code",
   "execution_count": 70,
   "metadata": {},
   "outputs": [
    {
     "name": "stdout",
     "output_type": "stream",
     "text": [
      "---------------C1---------------\n",
      "2017-01-01 00:00:00 2019-12-01 00:00:00\n",
      "245\n",
      "---------------C2---------------\n",
      "2017-01-01 00:00:00 2019-12-01 00:00:00\n",
      "394\n",
      "---------------C3---------------\n",
      "2017-01-01 00:00:00 2019-12-01 00:00:00\n",
      "141\n"
     ]
    }
   ],
   "source": [
    "df_tts[\"periodo\"] = pd.to_datetime(df_tts['periodo'], format='%Y%m')\n",
    "\n",
    "df_ventas_product_cluster1 = df_tts[df_tts.cluster_id == 0]\n",
    "df_ventas_product_cluster1 = df_ventas_product_cluster1.drop(columns = {\"cluster_id\"})\n",
    "print(\"---------------C1---------------\")\n",
    "print(df_ventas_product_cluster1.periodo.min(), df_ventas_product_cluster1.periodo.max())\n",
    "print(len(df_ventas_product_cluster1.drop_duplicates(subset = \"product_id\")))\n",
    "\n",
    "df_ventas_product_cluster2 = df_tts[df_tts.cluster_id == 1]\n",
    "df_ventas_product_cluster2 = df_ventas_product_cluster2.drop(columns = {\"cluster_id\"})\n",
    "print(\"---------------C2---------------\")\n",
    "print(df_ventas_product_cluster2.periodo.min(), df_ventas_product_cluster2.periodo.max())\n",
    "print(len(df_ventas_product_cluster2.drop_duplicates(subset = \"product_id\")))\n",
    "\n",
    "df_ventas_product_cluster3 = df_tts[df_tts.cluster_id == 2]\n",
    "df_ventas_product_cluster3 = df_ventas_product_cluster3.drop(columns = {\"cluster_id\"})\n",
    "print(\"---------------C3---------------\")\n",
    "print(df_ventas_product_cluster3.periodo.min(), df_ventas_product_cluster3.periodo.max())\n",
    "print(len(df_ventas_product_cluster3.drop_duplicates(subset = \"product_id\")))"
   ]
  },
  {
   "cell_type": "code",
   "execution_count": 71,
   "metadata": {},
   "outputs": [
    {
     "data": {
      "text/plain": [
       "780"
      ]
     },
     "execution_count": 71,
     "metadata": {},
     "output_type": "execute_result"
    }
   ],
   "source": [
    "len(df_ventas_product_cluster1.drop_duplicates(subset = \"product_id\")) + len(df_ventas_product_cluster2.drop_duplicates(subset = \"product_id\")) + len(df_ventas_product_cluster3.drop_duplicates(subset = \"product_id\"))"
   ]
  },
  {
   "cell_type": "code",
   "execution_count": 85,
   "metadata": {},
   "outputs": [
    {
     "name": "stdout",
     "output_type": "stream",
     "text": [
      "Cantidad items: 245\n",
      "Min periodo 2017-01-01 00:00:00\n",
      "Max periodo 2019-12-01 00:00:00\n",
      "Tipos por columna: \n",
      "periodo       datetime64[ns]\n",
      "product_id            object\n",
      "tn                   float64\n",
      "dtype: object\n"
     ]
    },
    {
     "data": {
      "text/plain": [
       "{'paths': ['s3://datasets-forecast-account1/modelo-4_c1-forecast-product/target/df_ventas_product.csv'],\n",
       " 'partitions_values': {}}"
      ]
     },
     "execution_count": 85,
     "metadata": {},
     "output_type": "execute_result"
    }
   ],
   "source": [
    "# Exportamos data de ventas product, CLUSTER 1\n",
    "df_ventas_product_cluster1_export = df_ventas_product_cluster1[(df_ventas_product_cluster1['periodo']>=date_start) & (df_ventas_product_cluster1['periodo']<=date_end)]\n",
    "df_ventas_product_cluster1_export['product_id'] = df_ventas_product_cluster1_export['product_id'].astype(str)\n",
    "print(\"Cantidad items: \" + str(len(df_ventas_product_cluster1_export.drop_duplicates(subset = \"product_id\"))))\n",
    "print(f\"Min periodo {df_ventas_product_cluster1_export.periodo.min()}\")\n",
    "print(f\"Max periodo {df_ventas_product_cluster1_export.periodo.max()}\")\n",
    "print(f\"Tipos por columna: \\n{df_ventas_product_cluster1_export.dtypes}\")\n",
    "wr.s3.to_csv(df_ventas_product_cluster1_export, target_s3_path_c1, index=False, header=False)"
   ]
  },
  {
   "cell_type": "code",
   "execution_count": 86,
   "metadata": {},
   "outputs": [
    {
     "name": "stdout",
     "output_type": "stream",
     "text": [
      "Cantidad items: 394\n",
      "Min periodo 2017-01-01 00:00:00\n",
      "Max periodo 2019-12-01 00:00:00\n",
      "Tipos por columna: \n",
      "periodo       datetime64[ns]\n",
      "product_id            object\n",
      "tn                   float64\n",
      "dtype: object\n"
     ]
    },
    {
     "data": {
      "text/plain": [
       "{'paths': ['s3://datasets-forecast-account1/modelo-4_c2-forecast-product/target/df_ventas_product.csv'],\n",
       " 'partitions_values': {}}"
      ]
     },
     "execution_count": 86,
     "metadata": {},
     "output_type": "execute_result"
    }
   ],
   "source": [
    "# Exportamos data de ventas product, CLUSTER 2\n",
    "df_ventas_product_cluster2_export = df_ventas_product_cluster2[(df_ventas_product_cluster2['periodo']>=date_start) & (df_ventas_product_cluster2['periodo']<=date_end)]\n",
    "df_ventas_product_cluster2_export['product_id'] = df_ventas_product_cluster2_export['product_id'].astype(str)\n",
    "print(\"Cantidad items: \" + str(len(df_ventas_product_cluster2_export.drop_duplicates(subset = \"product_id\"))))\n",
    "print(f\"Min periodo {df_ventas_product_cluster2_export.periodo.min()}\")\n",
    "print(f\"Max periodo {df_ventas_product_cluster2_export.periodo.max()}\")\n",
    "print(f\"Tipos por columna: \\n{df_ventas_product_cluster2_export.dtypes}\")\n",
    "wr.s3.to_csv(df_ventas_product_cluster2_export, target_s3_path_c2, index=False, header=False)"
   ]
  },
  {
   "cell_type": "code",
   "execution_count": 87,
   "metadata": {},
   "outputs": [
    {
     "name": "stdout",
     "output_type": "stream",
     "text": [
      "Cantidad items: 141\n",
      "Min periodo 2017-01-01 00:00:00\n",
      "Max periodo 2019-12-01 00:00:00\n",
      "Tipos por columna: \n",
      "periodo       datetime64[ns]\n",
      "product_id            object\n",
      "tn                   float64\n",
      "dtype: object\n"
     ]
    },
    {
     "data": {
      "text/plain": [
       "{'paths': ['s3://datasets-forecast-account1/modelo-4_c3-forecast-product/target/df_ventas_product.csv'],\n",
       " 'partitions_values': {}}"
      ]
     },
     "execution_count": 87,
     "metadata": {},
     "output_type": "execute_result"
    }
   ],
   "source": [
    "# Exportamos data de ventas product, CLUSTER 3\n",
    "df_ventas_product_cluster3_export = df_ventas_product_cluster3[(df_ventas_product_cluster3['periodo']>=date_start) & (df_ventas_product_cluster3['periodo']<=date_end)]\n",
    "df_ventas_product_cluster3_export['product_id'] = df_ventas_product_cluster3_export['product_id'].astype(str)\n",
    "print(\"Cantidad items: \" + str(len(df_ventas_product_cluster3_export.drop_duplicates(subset = \"product_id\"))))\n",
    "print(f\"Min periodo {df_ventas_product_cluster3_export.periodo.min()}\")\n",
    "print(f\"Max periodo {df_ventas_product_cluster3_export.periodo.max()}\")\n",
    "print(f\"Tipos por columna: \\n{df_ventas_product_cluster3_export.dtypes}\")\n",
    "wr.s3.to_csv(df_ventas_product_cluster3_export, target_s3_path_c3, index=False, header=False)"
   ]
  },
  {
   "cell_type": "markdown",
   "metadata": {},
   "source": [
    "### Procesamiento de datos de productos"
   ]
  },
  {
   "cell_type": "code",
   "execution_count": 65,
   "metadata": {},
   "outputs": [
    {
     "data": {
      "text/html": [
       "<div>\n",
       "<style scoped>\n",
       "    .dataframe tbody tr th:only-of-type {\n",
       "        vertical-align: middle;\n",
       "    }\n",
       "\n",
       "    .dataframe tbody tr th {\n",
       "        vertical-align: top;\n",
       "    }\n",
       "\n",
       "    .dataframe thead th {\n",
       "        text-align: right;\n",
       "    }\n",
       "</style>\n",
       "<table border=\"1\" class=\"dataframe\">\n",
       "  <thead>\n",
       "    <tr style=\"text-align: right;\">\n",
       "      <th></th>\n",
       "      <th>cat1</th>\n",
       "      <th>cat2</th>\n",
       "      <th>cat3</th>\n",
       "      <th>brand</th>\n",
       "      <th>sku_size</th>\n",
       "      <th>product_id</th>\n",
       "    </tr>\n",
       "  </thead>\n",
       "  <tbody>\n",
       "    <tr>\n",
       "      <th>0</th>\n",
       "      <td>HC</td>\n",
       "      <td>ROPA LAVADO</td>\n",
       "      <td>Liquido</td>\n",
       "      <td>LIMPIEX</td>\n",
       "      <td>900</td>\n",
       "      <td>20280</td>\n",
       "    </tr>\n",
       "    <tr>\n",
       "      <th>1</th>\n",
       "      <td>HC</td>\n",
       "      <td>ROPA LAVADO</td>\n",
       "      <td>Liquido</td>\n",
       "      <td>LIMPIEX</td>\n",
       "      <td>450</td>\n",
       "      <td>20180</td>\n",
       "    </tr>\n",
       "    <tr>\n",
       "      <th>2</th>\n",
       "      <td>HC</td>\n",
       "      <td>ROPA LAVADO</td>\n",
       "      <td>Liquido</td>\n",
       "      <td>LIMPIEX</td>\n",
       "      <td>120</td>\n",
       "      <td>20332</td>\n",
       "    </tr>\n",
       "    <tr>\n",
       "      <th>3</th>\n",
       "      <td>HC</td>\n",
       "      <td>ROPA LAVADO</td>\n",
       "      <td>Liquido</td>\n",
       "      <td>LIMPIEX</td>\n",
       "      <td>450</td>\n",
       "      <td>20222</td>\n",
       "    </tr>\n",
       "    <tr>\n",
       "      <th>4</th>\n",
       "      <td>HC</td>\n",
       "      <td>ROPA LAVADO</td>\n",
       "      <td>Liquido</td>\n",
       "      <td>LIMPIEX</td>\n",
       "      <td>900</td>\n",
       "      <td>20288</td>\n",
       "    </tr>\n",
       "  </tbody>\n",
       "</table>\n",
       "</div>"
      ],
      "text/plain": [
       "  cat1         cat2     cat3    brand  sku_size  product_id\n",
       "0   HC  ROPA LAVADO  Liquido  LIMPIEX       900       20280\n",
       "1   HC  ROPA LAVADO  Liquido  LIMPIEX       450       20180\n",
       "2   HC  ROPA LAVADO  Liquido  LIMPIEX       120       20332\n",
       "3   HC  ROPA LAVADO  Liquido  LIMPIEX       450       20222\n",
       "4   HC  ROPA LAVADO  Liquido  LIMPIEX       900       20288"
      ]
     },
     "execution_count": 65,
     "metadata": {},
     "output_type": "execute_result"
    }
   ],
   "source": [
    "producto = pd.read_csv(\"C:/Users/usuario/otros/Desktop\\MCD/6 Labo III/Forecasting Problem/Datasets/tb_productos.txt\", delimiter='\\t')\n",
    "producto.head(5)"
   ]
  },
  {
   "cell_type": "code",
   "execution_count": 66,
   "metadata": {},
   "outputs": [
    {
     "name": "stdout",
     "output_type": "stream",
     "text": [
      "----ANALISIS DUPLICADOS-----\n",
      "Cantidad productos en maestro productos: 1262\n",
      "Cantidad productos en maestro productos sin repetidos: 1251\n",
      "Cantidad productos en maestro productos: 1251\n"
     ]
    }
   ],
   "source": [
    "print(\"----ANALISIS DUPLICADOS-----\")\n",
    "print(f\"Cantidad productos en maestro productos: {len(producto)}\")\n",
    "print(f\"Cantidad productos en maestro productos sin repetidos: {len(producto.product_id.drop_duplicates())}\")\n",
    "# Observamos que product_id duplicados tienen los mismos valores en las otras columnas, son duplicados y procedemos a eliminarlos \n",
    "producto = producto.drop_duplicates(subset = \"product_id\")\n",
    "print(f\"Cantidad productos en maestro productos: {len(producto)}\")"
   ]
  },
  {
   "cell_type": "code",
   "execution_count": 67,
   "metadata": {},
   "outputs": [
    {
     "name": "stdout",
     "output_type": "stream",
     "text": [
      "Cantidad productos finales a predecir: 780\n"
     ]
    }
   ],
   "source": [
    "producto = producto[producto.product_id.isin(skus_a_predecir)]\n",
    "print(f\"Cantidad productos finales a predecir: {len(producto)}\")"
   ]
  },
  {
   "cell_type": "code",
   "execution_count": 68,
   "metadata": {},
   "outputs": [],
   "source": [
    "producto = producto[[\"product_id\", \"cat1\", \"cat2\", \"cat3\", \"brand\", \"sku_size\"]]"
   ]
  },
  {
   "cell_type": "code",
   "execution_count": 80,
   "metadata": {},
   "outputs": [
    {
     "name": "stdout",
     "output_type": "stream",
     "text": [
      "Cantidad items: 245\n",
      "Tipos por columna \n",
      "product_id    object\n",
      "cat1          object\n",
      "cat2          object\n",
      "cat3          object\n",
      "brand         object\n",
      "sku_size       int64\n",
      "dtype: object\n"
     ]
    },
    {
     "data": {
      "text/plain": [
       "{'paths': ['s3://datasets-forecast-account1/modelo-4_c1-forecast-product/product/df_products.csv'],\n",
       " 'partitions_values': {}}"
      ]
     },
     "execution_count": 80,
     "metadata": {},
     "output_type": "execute_result"
    }
   ],
   "source": [
    "# Exportamos data de product, CLUSTER 1\n",
    "product_cluster_1 = df_ventas_product_cluster1.product_id.drop_duplicates().to_list()\n",
    "producto_cluster_1 = producto[producto.product_id.isin(product_cluster_1)]\n",
    "print(\"Cantidad items: \" + str(len(producto_cluster_1.drop_duplicates(subset = \"product_id\"))))\n",
    "producto_cluster_1['product_id'] = producto_cluster_1['product_id'].astype(str)\n",
    "print(f\"Tipos por columna \\n{producto_cluster_1.dtypes}\")\n",
    "wr.s3.to_csv(producto_cluster_1, items_s3_path_c1, index=False, header=False)"
   ]
  },
  {
   "cell_type": "code",
   "execution_count": 81,
   "metadata": {},
   "outputs": [
    {
     "name": "stdout",
     "output_type": "stream",
     "text": [
      "Cantidad items: 394\n",
      "Tipos por columna \n",
      "product_id    object\n",
      "cat1          object\n",
      "cat2          object\n",
      "cat3          object\n",
      "brand         object\n",
      "sku_size       int64\n",
      "dtype: object\n"
     ]
    },
    {
     "data": {
      "text/plain": [
       "{'paths': ['s3://datasets-forecast-account1/modelo-4_c2-forecast-product/product/df_products.csv'],\n",
       " 'partitions_values': {}}"
      ]
     },
     "execution_count": 81,
     "metadata": {},
     "output_type": "execute_result"
    }
   ],
   "source": [
    "# Exportamos data de product, CLUSTER 2\n",
    "product_cluster_2 = df_ventas_product_cluster2.product_id.drop_duplicates().to_list()\n",
    "producto_cluster_2 = producto[producto.product_id.isin(product_cluster_2)]\n",
    "print(\"Cantidad items: \" + str(len(producto_cluster_2.drop_duplicates(subset = \"product_id\"))))\n",
    "producto_cluster_2['product_id'] = producto_cluster_2['product_id'].astype(str)\n",
    "print(f\"Tipos por columna \\n{producto_cluster_2.dtypes}\")\n",
    "wr.s3.to_csv(producto_cluster_2, items_s3_path_c2, index=False, header=False)"
   ]
  },
  {
   "cell_type": "code",
   "execution_count": 82,
   "metadata": {},
   "outputs": [
    {
     "name": "stdout",
     "output_type": "stream",
     "text": [
      "Cantidad items: 141\n",
      "Tipos por columna \n",
      "product_id    object\n",
      "cat1          object\n",
      "cat2          object\n",
      "cat3          object\n",
      "brand         object\n",
      "sku_size       int64\n",
      "dtype: object\n"
     ]
    },
    {
     "data": {
      "text/plain": [
       "{'paths': ['s3://datasets-forecast-account1/modelo-4_c3-forecast-product/product/df_products.csv'],\n",
       " 'partitions_values': {}}"
      ]
     },
     "execution_count": 82,
     "metadata": {},
     "output_type": "execute_result"
    }
   ],
   "source": [
    "# Exportamos data de product, CLUSTER 3\n",
    "product_cluster_3 = df_ventas_product_cluster3.product_id.drop_duplicates().to_list()\n",
    "producto_cluster_3 = producto[producto.product_id.isin(product_cluster_3)]\n",
    "print(\"Cantidad items: \" + str(len(producto_cluster_3.drop_duplicates(subset = \"product_id\"))))\n",
    "producto_cluster_3['product_id'] = producto_cluster_3['product_id'].astype(str)\n",
    "print(f\"Tipos por columna \\n{producto_cluster_3.dtypes}\")\n",
    "wr.s3.to_csv(producto_cluster_3, items_s3_path_c3, index=False, header=False)"
   ]
  },
  {
   "cell_type": "markdown",
   "metadata": {},
   "source": [
    "### Procesamiento de datos relacionados"
   ]
  },
  {
   "cell_type": "code",
   "execution_count": 83,
   "metadata": {},
   "outputs": [],
   "source": [
    "def create_future_periods(df):\n",
    "    combination = df.groupby([i for i in ['product_id']])[\"periodo\"].apply(lambda s: pd.date_range(s.min(), date_future, freq='MS')).explode().reset_index()\n",
    "    result = pd.merge(combination, df, how = \"left\", on = [\"periodo\", \"product_id\"])\n",
    "    result = result[[\"periodo\", \"product_id\", \"tn\"]]\n",
    "    return result"
   ]
  },
  {
   "cell_type": "code",
   "execution_count": 84,
   "metadata": {},
   "outputs": [],
   "source": [
    "# CLUSTER 1 \n",
    "df_related_product_cluster1_v1 = create_future_periods(df_ventas_product_cluster1)\n",
    "# CLUSTER 2\n",
    "df_related_product_cluster2_v1 = create_future_periods(df_ventas_product_cluster2)\n",
    "# CLUSTER 3\n",
    "df_related_product_cluster3_v1 = create_future_periods(df_ventas_product_cluster3)"
   ]
  },
  {
   "cell_type": "code",
   "execution_count": 89,
   "metadata": {},
   "outputs": [],
   "source": [
    "def time_features(df):\n",
    "    df_time_features = df.copy()\n",
    "    # Asegúrate de que la columna 'periodo' esté en formato datetime\n",
    "    df_time_features['periodo'] = pd.to_datetime(df_time_features['periodo'], format='%Y-%m-%d')\n",
    "    # Crear las columnas 'mes', 'cuatrimestre' y 'dias del mes\"\n",
    "    df_time_features['month'] = df_time_features['periodo'].dt.month\n",
    "    df_time_features['quarter'] = df_time_features['periodo'].dt.quarter\n",
    "    df_time_features['days_in_month']= df_time_features['periodo'].dt.daysinmonth\n",
    "    return df_time_features"
   ]
  },
  {
   "cell_type": "code",
   "execution_count": 90,
   "metadata": {},
   "outputs": [],
   "source": [
    "# CLUSTER 1 \n",
    "df_related_product_cluster1_v2 = time_features(df_related_product_cluster1_v1)\n",
    "# CLUSTER 2\n",
    "df_related_product_cluster2_v2 = time_features(df_related_product_cluster2_v1)\n",
    "# CLUSTER 3\n",
    "df_related_product_cluster3_v2 = time_features(df_related_product_cluster3_v1)"
   ]
  },
  {
   "cell_type": "code",
   "execution_count": 91,
   "metadata": {},
   "outputs": [
    {
     "data": {
      "text/html": [
       "<div>\n",
       "<style scoped>\n",
       "    .dataframe tbody tr th:only-of-type {\n",
       "        vertical-align: middle;\n",
       "    }\n",
       "\n",
       "    .dataframe tbody tr th {\n",
       "        vertical-align: top;\n",
       "    }\n",
       "\n",
       "    .dataframe thead th {\n",
       "        text-align: right;\n",
       "    }\n",
       "</style>\n",
       "<table border=\"1\" class=\"dataframe\">\n",
       "  <thead>\n",
       "    <tr style=\"text-align: right;\">\n",
       "      <th></th>\n",
       "      <th>periodo</th>\n",
       "      <th>sundays</th>\n",
       "      <th>saturdays</th>\n",
       "    </tr>\n",
       "  </thead>\n",
       "  <tbody>\n",
       "    <tr>\n",
       "      <th>0</th>\n",
       "      <td>2017-01-01</td>\n",
       "      <td>5</td>\n",
       "      <td>4</td>\n",
       "    </tr>\n",
       "    <tr>\n",
       "      <th>1</th>\n",
       "      <td>2017-02-01</td>\n",
       "      <td>4</td>\n",
       "      <td>4</td>\n",
       "    </tr>\n",
       "    <tr>\n",
       "      <th>2</th>\n",
       "      <td>2017-03-01</td>\n",
       "      <td>4</td>\n",
       "      <td>4</td>\n",
       "    </tr>\n",
       "    <tr>\n",
       "      <th>3</th>\n",
       "      <td>2017-04-01</td>\n",
       "      <td>5</td>\n",
       "      <td>5</td>\n",
       "    </tr>\n",
       "    <tr>\n",
       "      <th>4</th>\n",
       "      <td>2017-05-01</td>\n",
       "      <td>4</td>\n",
       "      <td>4</td>\n",
       "    </tr>\n",
       "  </tbody>\n",
       "</table>\n",
       "</div>"
      ],
      "text/plain": [
       "     periodo  sundays  saturdays\n",
       "0 2017-01-01        5          4\n",
       "1 2017-02-01        4          4\n",
       "2 2017-03-01        4          4\n",
       "3 2017-04-01        5          5\n",
       "4 2017-05-01        4          4"
      ]
     },
     "execution_count": 91,
     "metadata": {},
     "output_type": "execute_result"
    }
   ],
   "source": [
    "# Cantidad de domingos al mes\n",
    "sundays = pd.DataFrame(pd.date_range(start=pd.to_datetime(date_start), end=date_future + pd.offsets.MonthEnd(0)))\n",
    "# sundays = pd.DataFrame(pd.date_range(start=pd.to_datetime(date_start) - pd.DateOffset(years=1), end=date_future + pd.offsets.MonthEnd(0)))\n",
    "sundays.columns = [\"fecha\"]\n",
    "sundays[\"day_week\"] = pd.to_datetime(sundays['fecha'], format='%Y-%m-%d').dt.dayofweek\n",
    "sundays = sundays[sundays.day_week == 6].rename(columns = {\"day_week\":\"sundays\"})\n",
    "sundays = sundays.replace({6:1})\n",
    "sundays['periodo']=sundays['fecha'].apply(lambda x: x.replace(day=1))\n",
    "sundays = sundays.groupby([\"periodo\"])[\"sundays\"].sum().reset_index()\n",
    "sundays['periodo']=pd.to_datetime(sundays['periodo'], format='%Y-%m-%d')\n",
    "sundays[\"sundays\"] = sundays[\"sundays\"].astype(int)\n",
    "# Cantidad de sabados al mes\n",
    "saturdays = pd.DataFrame(pd.date_range(start=pd.to_datetime(date_start), end=date_future + pd.offsets.MonthEnd(0)))\n",
    "# saturdays = pd.DataFrame(pd.date_range(start=pd.to_datetime(date_start) - pd.DateOffset(years=1), end=date_future + pd.offsets.MonthEnd(0)))\n",
    "saturdays.columns = [\"fecha\"]\n",
    "saturdays[\"day_week\"] = pd.to_datetime(saturdays['fecha'], format='%Y-%m-%d').dt.dayofweek\n",
    "saturdays = saturdays[saturdays.day_week == 5].rename(columns = {\"day_week\":\"saturdays\"})\n",
    "saturdays = saturdays.replace({5:1})\n",
    "saturdays['periodo']=saturdays['fecha'].apply(lambda x: x.replace(day=1))\n",
    "saturdays = saturdays.groupby([\"periodo\"])[\"saturdays\"].sum().reset_index()\n",
    "saturdays[\"saturdays\"] = saturdays[\"saturdays\"].astype(int)\n",
    "saturdays['periodo']=pd.to_datetime(saturdays['periodo'], format='%Y-%m-%d')\n",
    "# DF conjunto\n",
    "sundays_saturdays = pd.merge(sundays, saturdays, how = \"inner\", on = \"periodo\")\n",
    "sundays_saturdays.head(5)"
   ]
  },
  {
   "cell_type": "code",
   "execution_count": 92,
   "metadata": {},
   "outputs": [],
   "source": [
    "# CLUSTER 1 \n",
    "df_related_product_cluster1_v3 = pd.merge(df_related_product_cluster1_v2, sundays_saturdays, how = \"left\", on = \"periodo\")\n",
    "# CLUSTER 2\n",
    "df_related_product_cluster2_v3 = pd.merge(df_related_product_cluster2_v2, sundays_saturdays, how = \"left\", on = \"periodo\")\n",
    "# CLUSTER 3\n",
    "df_related_product_cluster3_v3 = pd.merge(df_related_product_cluster3_v2, sundays_saturdays, how = \"left\", on = \"periodo\")"
   ]
  },
  {
   "cell_type": "code",
   "execution_count": 93,
   "metadata": {},
   "outputs": [],
   "source": [
    "def shift_series(df, columns_shift):\n",
    "    df_shift = df.copy()\n",
    "    # Ordenar el DataFrame por product_id y periodo para aplicar shift correctamente\n",
    "    df_shift = df_shift.sort_values(by = columns_shift + [\"periodo\"])\n",
    "    df_shift['tn_m3'] = df_shift.groupby(columns_shift)['tn'].shift(3)\n",
    "    df_shift['tn_m6'] = df_shift.groupby(columns_shift)['tn'].shift(6)\n",
    "    df_shift['tn_m12'] = df_shift.groupby(columns_shift)['tn'].shift(12)\n",
    "    df_shift = df_shift.drop(columns = \"tn\")\n",
    "    return df_shift"
   ]
  },
  {
   "cell_type": "code",
   "execution_count": 94,
   "metadata": {},
   "outputs": [],
   "source": [
    "# CLUSTER 1 \n",
    "df_related_product_cluster1_v4 = shift_series(df_related_product_cluster1_v3, columns_shift = [\"product_id\"])\n",
    "# CLUSTER 2\n",
    "df_related_product_cluster2_v4 = shift_series(df_related_product_cluster2_v3, columns_shift = [\"product_id\"])\n",
    "# CLUSTER 3\n",
    "df_related_product_cluster3_v4 = shift_series(df_related_product_cluster3_v3, columns_shift = [\"product_id\"])"
   ]
  },
  {
   "cell_type": "code",
   "execution_count": 99,
   "metadata": {},
   "outputs": [
    {
     "name": "stdout",
     "output_type": "stream",
     "text": [
      "-------------------------\n",
      "Min periodo 2017-01-01 00:00:00\n",
      "Max periodo 2020-02-01 00:00:00\n",
      "Cantidad de productos 245\n",
      "-------------------------\n",
      "Tipos por columna \n",
      "periodo          datetime64[ns]\n",
      "product_id               object\n",
      "month                     int32\n",
      "quarter                   int32\n",
      "days_in_month             int32\n",
      "sundays                   int32\n",
      "saturdays                 int32\n",
      "tn_m3                   float64\n",
      "tn_m6                   float64\n",
      "tn_m12                  float64\n",
      "dtype: object\n",
      "-------------------------\n",
      "Cantidad de NAN values \n",
      "periodo             0\n",
      "product_id          0\n",
      "month               0\n",
      "quarter             0\n",
      "days_in_month       0\n",
      "sundays             0\n",
      "saturdays           0\n",
      "tn_m3             735\n",
      "tn_m6            1470\n",
      "tn_m12           2940\n",
      "dtype: int64\n",
      "-------------------------\n"
     ]
    },
    {
     "data": {
      "text/plain": [
       "{'paths': ['s3://datasets-forecast-account1/modelo-4_c1-forecast-product/related/df_related_product.csv'],\n",
       " 'partitions_values': {}}"
      ]
     },
     "execution_count": 99,
     "metadata": {},
     "output_type": "execute_result"
    }
   ],
   "source": [
    "# CLUSTER 1\n",
    "# Exportamos data relacionada, apertura por product\n",
    "# Nos aseguramos que cada serie temporal (por producto) comience en el mismo periodo que comienza en la serie de tiempo ppal de ventas\n",
    "df_min_period = df_ventas_product_cluster1_export.groupby([\"product_id\"])[\"periodo\"].min().reset_index().rename(columns = {\"periodo\":\"min_periodo\"})\n",
    "df_related_product_cluster1_v4['product_id'] = df_related_product_cluster1_v4['product_id'].astype(str)\n",
    "df_related_product_cluster1_export = pd.merge(df_related_product_cluster1_v4, df_min_period, on='product_id')\n",
    "df_related_product_cluster1_export = df_related_product_cluster1_export[df_related_product_cluster1_export['periodo'] >= df_related_product_cluster1_export['min_periodo']]\n",
    "df_related_product_cluster1_export = df_related_product_cluster1_export.drop(columns=['min_periodo'])\n",
    "df_related_product_cluster1_export = df_related_product_cluster1_export[(df_related_product_cluster1_export['periodo']<=date_future)]\n",
    "print(\"-------------------------\")\n",
    "print(f\"Min periodo {df_related_product_cluster1_export.periodo.min()}\")\n",
    "print(f\"Max periodo {df_related_product_cluster1_export.periodo.max()}\")\n",
    "print(f\"Cantidad de productos {len(df_related_product_cluster1_export.product_id.unique())}\")\n",
    "print(\"-------------------------\")\n",
    "print(f\"Tipos por columna \\n{df_related_product_cluster1_export.dtypes}\")\n",
    "print(\"-------------------------\")\n",
    "print(f\"Cantidad de NAN values \\n{df_related_product_cluster1_export.isna().sum()}\")\n",
    "print(\"-------------------------\")\n",
    "wr.s3.to_csv(df_related_product_cluster1_export, related_s3_path_c1, index=False, header=False)"
   ]
  },
  {
   "cell_type": "code",
   "execution_count": 100,
   "metadata": {},
   "outputs": [
    {
     "name": "stdout",
     "output_type": "stream",
     "text": [
      "-------------------------\n",
      "Min periodo 2017-01-01 00:00:00\n",
      "Max periodo 2020-02-01 00:00:00\n",
      "Cantidad de productos 394\n",
      "-------------------------\n",
      "Tipos por columna \n",
      "periodo          datetime64[ns]\n",
      "product_id               object\n",
      "month                     int32\n",
      "quarter                   int32\n",
      "days_in_month             int32\n",
      "sundays                   int32\n",
      "saturdays                 int32\n",
      "tn_m3                   float64\n",
      "tn_m6                   float64\n",
      "tn_m12                  float64\n",
      "dtype: object\n",
      "-------------------------\n",
      "Cantidad de NAN values \n",
      "periodo             0\n",
      "product_id          0\n",
      "month               0\n",
      "quarter             0\n",
      "days_in_month       0\n",
      "sundays             0\n",
      "saturdays           0\n",
      "tn_m3            1182\n",
      "tn_m6            2364\n",
      "tn_m12           4728\n",
      "dtype: int64\n",
      "-------------------------\n"
     ]
    },
    {
     "data": {
      "text/plain": [
       "{'paths': ['s3://datasets-forecast-account1/modelo-4_c2-forecast-product/related/df_related_product.csv'],\n",
       " 'partitions_values': {}}"
      ]
     },
     "execution_count": 100,
     "metadata": {},
     "output_type": "execute_result"
    }
   ],
   "source": [
    "# CLUSTER 2\n",
    "# Exportamos data relacionada, apertura por product\n",
    "# Nos aseguramos que cada serie temporal (por producto) comience en el mismo periodo que comienza en la serie de tiempo ppal de ventas\n",
    "df_min_period = df_ventas_product_cluster2_export.groupby([\"product_id\"])[\"periodo\"].min().reset_index().rename(columns = {\"periodo\":\"min_periodo\"})\n",
    "df_related_product_cluster2_v4['product_id'] = df_related_product_cluster2_v4['product_id'].astype(str)\n",
    "df_related_product_cluster2_export = pd.merge(df_related_product_cluster2_v4, df_min_period, on='product_id')\n",
    "df_related_product_cluster2_export = df_related_product_cluster2_export[df_related_product_cluster2_export['periodo'] >= df_related_product_cluster2_export['min_periodo']]\n",
    "df_related_product_cluster2_export = df_related_product_cluster2_export.drop(columns=['min_periodo'])\n",
    "df_related_product_cluster2_export = df_related_product_cluster2_export[(df_related_product_cluster2_export['periodo']<=date_future)]\n",
    "print(\"-------------------------\")\n",
    "print(f\"Min periodo {df_related_product_cluster2_export.periodo.min()}\")\n",
    "print(f\"Max periodo {df_related_product_cluster2_export.periodo.max()}\")\n",
    "print(f\"Cantidad de productos {len(df_related_product_cluster2_export.product_id.unique())}\")\n",
    "print(\"-------------------------\")\n",
    "print(f\"Tipos por columna \\n{df_related_product_cluster2_export.dtypes}\")\n",
    "print(\"-------------------------\")\n",
    "print(f\"Cantidad de NAN values \\n{df_related_product_cluster2_export.isna().sum()}\")\n",
    "print(\"-------------------------\")\n",
    "wr.s3.to_csv(df_related_product_cluster2_export, related_s3_path_c2, index=False, header=False)"
   ]
  },
  {
   "cell_type": "code",
   "execution_count": 101,
   "metadata": {},
   "outputs": [
    {
     "name": "stdout",
     "output_type": "stream",
     "text": [
      "-------------------------\n",
      "Min periodo 2017-01-01 00:00:00\n",
      "Max periodo 2020-02-01 00:00:00\n",
      "Cantidad de productos 141\n",
      "-------------------------\n",
      "Tipos por columna \n",
      "periodo          datetime64[ns]\n",
      "product_id               object\n",
      "month                     int32\n",
      "quarter                   int32\n",
      "days_in_month             int32\n",
      "sundays                   int32\n",
      "saturdays                 int32\n",
      "tn_m3                   float64\n",
      "tn_m6                   float64\n",
      "tn_m12                  float64\n",
      "dtype: object\n",
      "-------------------------\n",
      "Cantidad de NAN values \n",
      "periodo             0\n",
      "product_id          0\n",
      "month               0\n",
      "quarter             0\n",
      "days_in_month       0\n",
      "sundays             0\n",
      "saturdays           0\n",
      "tn_m3             423\n",
      "tn_m6             846\n",
      "tn_m12           1692\n",
      "dtype: int64\n",
      "-------------------------\n"
     ]
    },
    {
     "data": {
      "text/plain": [
       "{'paths': ['s3://datasets-forecast-account1/modelo-4_c3-forecast-product/related/df_related_product.csv'],\n",
       " 'partitions_values': {}}"
      ]
     },
     "execution_count": 101,
     "metadata": {},
     "output_type": "execute_result"
    }
   ],
   "source": [
    "# CLUSTER 3\n",
    "# Exportamos data relacionada, apertura por product\n",
    "# Nos aseguramos que cada serie temporal (por producto) comience en el mismo periodo que comienza en la serie de tiempo ppal de ventas\n",
    "df_min_period = df_ventas_product_cluster3_export.groupby([\"product_id\"])[\"periodo\"].min().reset_index().rename(columns = {\"periodo\":\"min_periodo\"})\n",
    "df_related_product_cluster3_v4['product_id'] = df_related_product_cluster3_v4['product_id'].astype(str)\n",
    "df_related_product_cluster3_export = pd.merge(df_related_product_cluster3_v4, df_min_period, on='product_id')\n",
    "df_related_product_cluster3_export = df_related_product_cluster3_export[df_related_product_cluster3_export['periodo'] >= df_related_product_cluster3_export['min_periodo']]\n",
    "df_related_product_cluster3_export = df_related_product_cluster3_export.drop(columns=['min_periodo'])\n",
    "df_related_product_cluster3_export = df_related_product_cluster3_export[(df_related_product_cluster3_export['periodo']<=date_future)]\n",
    "print(\"-------------------------\")\n",
    "print(f\"Min periodo {df_related_product_cluster3_export.periodo.min()}\")\n",
    "print(f\"Max periodo {df_related_product_cluster3_export.periodo.max()}\")\n",
    "print(f\"Cantidad de productos {len(df_related_product_cluster3_export.product_id.unique())}\")\n",
    "print(\"-------------------------\")\n",
    "print(f\"Tipos por columna \\n{df_related_product_cluster3_export.dtypes}\")\n",
    "print(\"-------------------------\")\n",
    "print(f\"Cantidad de NAN values \\n{df_related_product_cluster3_export.isna().sum()}\")\n",
    "print(\"-------------------------\")\n",
    "wr.s3.to_csv(df_related_product_cluster3_export, related_s3_path_c3, index=False, header=False)"
   ]
  },
  {
   "cell_type": "markdown",
   "metadata": {},
   "source": [
    "Chequear que cada combinacion en el df relacionado comience en misma fecha que en df principal para evitar errores en entrenamiento"
   ]
  },
  {
   "cell_type": "code",
   "execution_count": 102,
   "metadata": {},
   "outputs": [
    {
     "data": {
      "text/html": [
       "<div>\n",
       "<style scoped>\n",
       "    .dataframe tbody tr th:only-of-type {\n",
       "        vertical-align: middle;\n",
       "    }\n",
       "\n",
       "    .dataframe tbody tr th {\n",
       "        vertical-align: top;\n",
       "    }\n",
       "\n",
       "    .dataframe thead th {\n",
       "        text-align: right;\n",
       "    }\n",
       "</style>\n",
       "<table border=\"1\" class=\"dataframe\">\n",
       "  <thead>\n",
       "    <tr style=\"text-align: right;\">\n",
       "      <th></th>\n",
       "      <th>product_id</th>\n",
       "      <th>min_period_ventas</th>\n",
       "      <th>min_period_related</th>\n",
       "    </tr>\n",
       "  </thead>\n",
       "  <tbody>\n",
       "  </tbody>\n",
       "</table>\n",
       "</div>"
      ],
      "text/plain": [
       "Empty DataFrame\n",
       "Columns: [product_id, min_period_ventas, min_period_related]\n",
       "Index: []"
      ]
     },
     "execution_count": 102,
     "metadata": {},
     "output_type": "execute_result"
    }
   ],
   "source": [
    "fecha_min_ventas = df_ventas_product_cluster1_export.groupby([\"product_id\"])[\"periodo\"].min().reset_index().rename(columns = {\"periodo\":\"min_period_ventas\"})\n",
    "fecha_min_related = df_related_product_cluster1_export.groupby([\"product_id\"])[\"periodo\"].min().reset_index().rename(columns = {\"periodo\":\"min_period_related\"})\n",
    "merge_fecha_min = pd.merge(fecha_min_ventas, fecha_min_related, how = \"outer\", on = \"product_id\")\n",
    "merge_fecha_min[merge_fecha_min.min_period_ventas != merge_fecha_min.min_period_related]"
   ]
  },
  {
   "cell_type": "code",
   "execution_count": 103,
   "metadata": {},
   "outputs": [
    {
     "data": {
      "text/html": [
       "<div>\n",
       "<style scoped>\n",
       "    .dataframe tbody tr th:only-of-type {\n",
       "        vertical-align: middle;\n",
       "    }\n",
       "\n",
       "    .dataframe tbody tr th {\n",
       "        vertical-align: top;\n",
       "    }\n",
       "\n",
       "    .dataframe thead th {\n",
       "        text-align: right;\n",
       "    }\n",
       "</style>\n",
       "<table border=\"1\" class=\"dataframe\">\n",
       "  <thead>\n",
       "    <tr style=\"text-align: right;\">\n",
       "      <th></th>\n",
       "      <th>product_id</th>\n",
       "      <th>min_period_ventas</th>\n",
       "      <th>min_period_related</th>\n",
       "    </tr>\n",
       "  </thead>\n",
       "  <tbody>\n",
       "  </tbody>\n",
       "</table>\n",
       "</div>"
      ],
      "text/plain": [
       "Empty DataFrame\n",
       "Columns: [product_id, min_period_ventas, min_period_related]\n",
       "Index: []"
      ]
     },
     "execution_count": 103,
     "metadata": {},
     "output_type": "execute_result"
    }
   ],
   "source": [
    "fecha_min_ventas = df_ventas_product_cluster2_export.groupby([\"product_id\"])[\"periodo\"].min().reset_index().rename(columns = {\"periodo\":\"min_period_ventas\"})\n",
    "fecha_min_related = df_related_product_cluster2_export.groupby([\"product_id\"])[\"periodo\"].min().reset_index().rename(columns = {\"periodo\":\"min_period_related\"})\n",
    "merge_fecha_min = pd.merge(fecha_min_ventas, fecha_min_related, how = \"outer\", on = \"product_id\")\n",
    "merge_fecha_min[merge_fecha_min.min_period_ventas != merge_fecha_min.min_period_related]"
   ]
  },
  {
   "cell_type": "code",
   "execution_count": 104,
   "metadata": {},
   "outputs": [
    {
     "data": {
      "text/html": [
       "<div>\n",
       "<style scoped>\n",
       "    .dataframe tbody tr th:only-of-type {\n",
       "        vertical-align: middle;\n",
       "    }\n",
       "\n",
       "    .dataframe tbody tr th {\n",
       "        vertical-align: top;\n",
       "    }\n",
       "\n",
       "    .dataframe thead th {\n",
       "        text-align: right;\n",
       "    }\n",
       "</style>\n",
       "<table border=\"1\" class=\"dataframe\">\n",
       "  <thead>\n",
       "    <tr style=\"text-align: right;\">\n",
       "      <th></th>\n",
       "      <th>product_id</th>\n",
       "      <th>min_period_ventas</th>\n",
       "      <th>min_period_related</th>\n",
       "    </tr>\n",
       "  </thead>\n",
       "  <tbody>\n",
       "  </tbody>\n",
       "</table>\n",
       "</div>"
      ],
      "text/plain": [
       "Empty DataFrame\n",
       "Columns: [product_id, min_period_ventas, min_period_related]\n",
       "Index: []"
      ]
     },
     "execution_count": 104,
     "metadata": {},
     "output_type": "execute_result"
    }
   ],
   "source": [
    "fecha_min_ventas = df_ventas_product_cluster3_export.groupby([\"product_id\"])[\"periodo\"].min().reset_index().rename(columns = {\"periodo\":\"min_period_ventas\"})\n",
    "fecha_min_related = df_related_product_cluster3_export.groupby([\"product_id\"])[\"periodo\"].min().reset_index().rename(columns = {\"periodo\":\"min_period_related\"})\n",
    "merge_fecha_min = pd.merge(fecha_min_ventas, fecha_min_related, how = \"outer\", on = \"product_id\")\n",
    "merge_fecha_min[merge_fecha_min.min_period_ventas != merge_fecha_min.min_period_related]"
   ]
  }
 ],
 "metadata": {
  "kernelspec": {
   "display_name": "Python 3",
   "language": "python",
   "name": "python3"
  },
  "language_info": {
   "codemirror_mode": {
    "name": "ipython",
    "version": 3
   },
   "file_extension": ".py",
   "mimetype": "text/x-python",
   "name": "python",
   "nbconvert_exporter": "python",
   "pygments_lexer": "ipython3",
   "version": "3.11.2"
  }
 },
 "nbformat": 4,
 "nbformat_minor": 4
}
