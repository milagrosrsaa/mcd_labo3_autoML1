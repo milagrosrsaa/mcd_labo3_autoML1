{
 "cells": [
  {
   "cell_type": "markdown",
   "metadata": {},
   "source": [
    "<center>\n",
    "  <h2>Trabajo Laboratorio de Implementación III - MCD Virtual Cohorte 2022</h2>\n",
    "  <h3>Forecasting para una Empresa de Consumo Masivo</h3>\n",
    "  <h4>Creación de dataset group</h4>\n",
    "</center>"
   ]
  },
  {
   "cell_type": "code",
   "execution_count": 1,
   "metadata": {},
   "outputs": [],
   "source": [
    "# Importación librerias\n",
    "\n",
    "# !pip install awswrangler\n",
    "# !pip install boto3\n",
    "import boto3\n",
    "import awswrangler as wr\n",
    "import pandas as pd\n",
    "import numpy as np\n",
    "import warnings\n",
    "from datetime import datetime\n",
    "from dateutil.relativedelta import relativedelta\n",
    "warnings.filterwarnings(\"ignore\")"
   ]
  },
  {
   "cell_type": "code",
   "execution_count": 2,
   "metadata": {},
   "outputs": [
    {
     "name": "stdout",
     "output_type": "stream",
     "text": [
      "Fecha inicio historia 2017-01-01 00:00:00\n",
      "Fecha fin historia 2019-12-01 00:00:00\n",
      "Fecha futura (related time series) 2020-02-01 00:00:00\n"
     ]
    }
   ],
   "source": [
    "# Definición fechas\n",
    "\n",
    "date_start=datetime.strptime('2017-01-01', '%Y-%m-%d')\n",
    "date_end=datetime.strptime('2019-12-01', '%Y-%m-%d')\n",
    "forecast_length = 2\n",
    "date_future=date_end+relativedelta(months=forecast_length)\n",
    "years=range(2018, 2020)\n",
    "\n",
    "print(f\"Fecha inicio historia {date_start}\")\n",
    "print(f\"Fecha fin historia {date_end}\")\n",
    "print(f\"Fecha futura (related time series) {date_future}\")\n",
    "\n",
    "timestamp_format=\"yyyy-MM-dd\"\n",
    "\n",
    "# Versión modelo\n",
    "data_version_cluster1 = '4_c1'\n",
    "data_version_cluster2 = '4_c2'\n",
    "data_version_cluster3 = '4_c3'\n",
    "grouped_cols = \"product_id\"\n",
    "grouped_cols_name = \"product\""
   ]
  },
  {
   "cell_type": "code",
   "execution_count": 3,
   "metadata": {},
   "outputs": [],
   "source": [
    "# Conexiones AWS\n",
    "\n",
    "account_id=boto3.client('sts').get_caller_identity().get('Account')\n",
    "session = boto3.Session() \n",
    "forecast = session.client(service_name='forecast')\n",
    "region = forecast.meta.region_name\n",
    "forecastquery = session.client(service_name='forecastquery')\n",
    "role = f'arn:aws:iam::{account_id}:role/ForecastRole'"
   ]
  },
  {
   "cell_type": "code",
   "execution_count": 4,
   "metadata": {},
   "outputs": [],
   "source": [
    "# Buckets de datos\n",
    "\n",
    "# Buckets de datos\n",
    "\n",
    "# CLUSTER 1\n",
    "target_s3_path_c1=f's3://datasets-forecast-account1/modelo-{data_version_cluster1}-forecast-{grouped_cols_name}/target/df_ventas_{grouped_cols_name}.csv'\n",
    "items_s3_path_c1=f's3://datasets-forecast-account1/modelo-{data_version_cluster1}-forecast-{grouped_cols_name}/product/df_products.csv'\n",
    "related_s3_path_c1=f's3://datasets-forecast-account1/modelo-{data_version_cluster1}-forecast-{grouped_cols_name}/related/df_related_{grouped_cols_name}.csv'\n",
    "\n",
    "# CLUSTER 2\n",
    "target_s3_path_c2=f's3://datasets-forecast-account1/modelo-{data_version_cluster2}-forecast-{grouped_cols_name}/target/df_ventas_{grouped_cols_name}.csv'\n",
    "items_s3_path_c2=f's3://datasets-forecast-account1/modelo-{data_version_cluster2}-forecast-{grouped_cols_name}/product/df_products.csv'\n",
    "related_s3_path_c2=f's3://datasets-forecast-account1/modelo-{data_version_cluster2}-forecast-{grouped_cols_name}/related/df_related_{grouped_cols_name}.csv'\n",
    "\n",
    "# CLUSTER 3\n",
    "target_s3_path_c3=f's3://datasets-forecast-account1/modelo-{data_version_cluster3}-forecast-{grouped_cols_name}/target/df_ventas_{grouped_cols_name}.csv'\n",
    "items_s3_path_c3=f's3://datasets-forecast-account1/modelo-{data_version_cluster3}-forecast-{grouped_cols_name}/product/df_products.csv'\n",
    "related_s3_path_c3=f's3://datasets-forecast-account1/modelo-{data_version_cluster3}-forecast-{grouped_cols_name}/related/df_related_{grouped_cols_name}.csv'"
   ]
  },
  {
   "cell_type": "code",
   "execution_count": 5,
   "metadata": {},
   "outputs": [],
   "source": [
    "# Verificar comunicación con Amazon Forecast\n",
    "assert forecast.list_predictors()"
   ]
  },
  {
   "cell_type": "code",
   "execution_count": 6,
   "metadata": {},
   "outputs": [],
   "source": [
    "# CLUSTER 1\n",
    "# Nombres de datasets\n",
    "ts_dataset_name_cluster1 = f\"modelo_{data_version_cluster1}_{grouped_cols_name}_dataset_target\"\n",
    "item_dataset_name_cluster1 = f\"modelo_{data_version_cluster1}_{grouped_cols_name}_dataset_items\"\n",
    "related_dataset_name_cluster1 = f\"modelo_{data_version_cluster1}_{grouped_cols_name}_dataset_related\"\n",
    "# Nombre de dataset group\n",
    "dataset_group_name_cluster1 = f'modelo_{data_version_cluster1}_{grouped_cols_name}'\n",
    "# Nombre de import jobs\n",
    "target_import_job_name_cluster1 = f\"modelo_{data_version_cluster1}_{grouped_cols_name}_dataset_target_import\"\n",
    "items_import_job_name_cluster1 = f\"modelo_{data_version_cluster1}_{grouped_cols_name}_dataset_items_import\"\n",
    "related_import_job_name_cluster1 = f\"modelo_{data_version_cluster1}_{grouped_cols_name}_dataset_related_import\"\n",
    "\n",
    "# CLUSTER 2\n",
    "# Nombres de datasets\n",
    "ts_dataset_name_cluster2 = f\"modelo_{data_version_cluster2}_{grouped_cols_name}_dataset_target\"\n",
    "item_dataset_name_cluster2 = f\"modelo_{data_version_cluster2}_{grouped_cols_name}_dataset_items\"\n",
    "related_dataset_name_cluster2 = f\"modelo_{data_version_cluster2}_{grouped_cols_name}_dataset_related\"\n",
    "# Nombre de dataset group\n",
    "dataset_group_name_cluster2 = f'modelo_{data_version_cluster2}_{grouped_cols_name}'\n",
    "# Nombre de import jobs\n",
    "target_import_job_name_cluster2 = f\"modelo_{data_version_cluster2}_{grouped_cols_name}_dataset_target_import\"\n",
    "items_import_job_name_cluster2 = f\"modelo_{data_version_cluster2}_{grouped_cols_name}_dataset_items_import\"\n",
    "related_import_job_name_cluster2 = f\"modelo_{data_version_cluster2}_{grouped_cols_name}_dataset_related_import\"\n",
    "\n",
    "# CLUSTER 3\n",
    "# Nombres de datasets\n",
    "ts_dataset_name_cluster3 = f\"modelo_{data_version_cluster3}_{grouped_cols_name}_dataset_target\"\n",
    "item_dataset_name_cluster3 = f\"modelo_{data_version_cluster3}_{grouped_cols_name}_dataset_items\"\n",
    "related_dataset_name_cluster3 = f\"modelo_{data_version_cluster3}_{grouped_cols_name}_dataset_related\"\n",
    "# Nombre de dataset group\n",
    "dataset_group_name_cluster3 = f'modelo_{data_version_cluster3}_{grouped_cols_name}'\n",
    "# Nombre de import jobs\n",
    "target_import_job_name_cluster3 = f\"modelo_{data_version_cluster3}_{grouped_cols_name}_dataset_target_import\"\n",
    "items_import_job_name_cluster3 = f\"modelo_{data_version_cluster3}_{grouped_cols_name}_dataset_items_import\"\n",
    "related_import_job_name_cluster3 = f\"modelo_{data_version_cluster3}_{grouped_cols_name}_dataset_related_import\""
   ]
  },
  {
   "cell_type": "markdown",
   "metadata": {},
   "source": [
    "<a id='datasets' />\n",
    "\n",
    "## Crear datasets en Amazon Forecast\n",
    "[(back to top)](#contents)"
   ]
  },
  {
   "cell_type": "markdown",
   "metadata": {},
   "source": [
    "### Parámetros\n",
    "\n",
    "Los datos deben ser importados sin header, por lo cual se debe definir un esquema. El orden de los atributos debe ser el mismo que el de las columnas de los archivos. "
   ]
  },
  {
   "cell_type": "markdown",
   "metadata": {},
   "source": [
    "### Target Time Series Schema"
   ]
  },
  {
   "cell_type": "code",
   "execution_count": 7,
   "metadata": {},
   "outputs": [],
   "source": [
    "ts_frequency='M'\n",
    "ts_schema = {\n",
    "\t\"Attributes\": [\n",
    "\t\t{\n",
    "\t\t\t\"AttributeName\": \"timestamp\",\n",
    "\t\t\t\"AttributeType\": \"timestamp\"\n",
    "\t\t},\n",
    "\t\t{\n",
    "\t\t\t\"AttributeName\": \"item_id\",\n",
    "\t\t\t\"AttributeType\": \"string\"\n",
    "\t\t},\n",
    "\t\t{\n",
    "\t\t\t\"AttributeName\": \"target_value\",\n",
    "\t\t\t\"AttributeType\": \"float\"\n",
    "\t\t}\n",
    "\t]\n",
    "}"
   ]
  },
  {
   "cell_type": "markdown",
   "metadata": {},
   "source": [
    "El siguiente codigo funciona para crear dataset target según schema brindado. La siguiente salida arroja error porque este primer modelo fue ejecutado integramente desde la UI de forecast"
   ]
  },
  {
   "cell_type": "code",
   "execution_count": 8,
   "metadata": {},
   "outputs": [],
   "source": [
    "# CLUSTER 1\n",
    "create_dataset_response_cluster1 = forecast.create_dataset(Domain=\"CUSTOM\",\n",
    "                                                  DatasetType='TARGET_TIME_SERIES',\n",
    "                                                  DatasetName=ts_dataset_name_cluster1,\n",
    "                                                  DataFrequency=ts_frequency,\n",
    "                                                  Schema=ts_schema)\n",
    "\n",
    "target_dataset_arn_cluster1 =create_dataset_response_cluster1['DatasetArn']\n",
    "target_dataset_description_cluster1=forecast.describe_dataset(DatasetArn=target_dataset_arn_cluster1)"
   ]
  },
  {
   "cell_type": "code",
   "execution_count": 14,
   "metadata": {},
   "outputs": [
    {
     "name": "stdout",
     "output_type": "stream",
     "text": [
      "The Dataset with ARN arn:aws:forecast:us-east-1:935182042847:dataset/modelo_4_c1_product_dataset_target is now ACTIVE.\n"
     ]
    }
   ],
   "source": [
    "print(f\"The Dataset with ARN {target_dataset_arn_cluster1} is now {target_dataset_description_cluster1['Status']}.\")"
   ]
  },
  {
   "cell_type": "code",
   "execution_count": 10,
   "metadata": {},
   "outputs": [],
   "source": [
    "# CLUSTER 2\n",
    "create_dataset_response_cluster2 = forecast.create_dataset(Domain=\"CUSTOM\",\n",
    "                                                  DatasetType='TARGET_TIME_SERIES',\n",
    "                                                  DatasetName=ts_dataset_name_cluster2,\n",
    "                                                  DataFrequency=ts_frequency,\n",
    "                                                  Schema=ts_schema)\n",
    "\n",
    "target_dataset_arn_cluster2 =create_dataset_response_cluster2['DatasetArn']\n",
    "target_dataset_description_cluster2=forecast.describe_dataset(DatasetArn=target_dataset_arn_cluster2)"
   ]
  },
  {
   "cell_type": "code",
   "execution_count": 13,
   "metadata": {},
   "outputs": [
    {
     "name": "stdout",
     "output_type": "stream",
     "text": [
      "The Dataset with ARN arn:aws:forecast:us-east-1:935182042847:dataset/modelo_4_c2_product_dataset_target is now ACTIVE.\n"
     ]
    }
   ],
   "source": [
    "print(f\"The Dataset with ARN {target_dataset_arn_cluster2} is now {target_dataset_description_cluster2['Status']}.\")"
   ]
  },
  {
   "cell_type": "code",
   "execution_count": 11,
   "metadata": {},
   "outputs": [],
   "source": [
    "# CLUSTER 3\n",
    "create_dataset_response_cluster3 = forecast.create_dataset(Domain=\"CUSTOM\",\n",
    "                                                  DatasetType='TARGET_TIME_SERIES',\n",
    "                                                  DatasetName=ts_dataset_name_cluster3,\n",
    "                                                  DataFrequency=ts_frequency,\n",
    "                                                  Schema=ts_schema)\n",
    "\n",
    "target_dataset_arn_cluster3 =create_dataset_response_cluster3['DatasetArn']\n",
    "target_dataset_description_cluster3=forecast.describe_dataset(DatasetArn=target_dataset_arn_cluster3)"
   ]
  },
  {
   "cell_type": "code",
   "execution_count": 12,
   "metadata": {},
   "outputs": [
    {
     "name": "stdout",
     "output_type": "stream",
     "text": [
      "The Dataset with ARN arn:aws:forecast:us-east-1:935182042847:dataset/modelo_4_c3_product_dataset_target is now ACTIVE.\n"
     ]
    }
   ],
   "source": [
    "print(f\"The Dataset with ARN {target_dataset_arn_cluster3} is now {target_dataset_description_cluster3['Status']}.\")"
   ]
  },
  {
   "cell_type": "markdown",
   "metadata": {},
   "source": [
    "### Items dataset schema"
   ]
  },
  {
   "cell_type": "code",
   "execution_count": 15,
   "metadata": {},
   "outputs": [],
   "source": [
    "items_schema = {\n",
    "\t\"Attributes\": [\n",
    "\t\t{\n",
    "\t\t\t\"AttributeName\": \"item_id\",\n",
    "\t\t\t\"AttributeType\": \"string\"\n",
    "\t\t},\n",
    "\t\t{\n",
    "\t\t\t\"AttributeName\": \"cat1\",\n",
    "\t\t\t\"AttributeType\": \"string\"\n",
    "\t\t},\n",
    "\t\t{\n",
    "\t\t\t\"AttributeName\": \"cat2\",\n",
    "\t\t\t\"AttributeType\": \"string\"\n",
    "\t\t},\n",
    "\t\t{\n",
    "\t\t\t\"AttributeName\": \"cat3\",\n",
    "\t\t\t\"AttributeType\": \"string\"\n",
    "\t\t},\n",
    "\t\t{\n",
    "\t\t\t\"AttributeName\": \"brand\",\n",
    "\t\t\t\"AttributeType\": \"string\"\n",
    "\t\t},\n",
    "\t\t{\n",
    "\t\t\t\"AttributeName\": \"sku_size\",\n",
    "\t\t\t\"AttributeType\": \"integer\"\n",
    "\t\t}\n",
    "\t]\n",
    "}"
   ]
  },
  {
   "cell_type": "code",
   "execution_count": 16,
   "metadata": {},
   "outputs": [
    {
     "name": "stdout",
     "output_type": "stream",
     "text": [
      "The Dataset with ARN arn:aws:forecast:us-east-1:935182042847:dataset/modelo_4_c1_product_dataset_items is now ACTIVE.\n"
     ]
    }
   ],
   "source": [
    "# CLUSTER 1\n",
    "create_dataset_response_cluster1 = forecast.create_dataset(Domain=\"CUSTOM\",\n",
    "                                                  DatasetType='ITEM_METADATA',\n",
    "                                                  DatasetName=item_dataset_name_cluster1,\n",
    "                                                  Schema=items_schema)\n",
    "\n",
    "items_dataset_arn_cluster1=create_dataset_response_cluster1['DatasetArn']\n",
    "items_dataset_description_cluster1=forecast.describe_dataset(DatasetArn=items_dataset_arn_cluster1)\n",
    "print(f\"The Dataset with ARN {items_dataset_arn_cluster1} is now {items_dataset_description_cluster1['Status']}.\")"
   ]
  },
  {
   "cell_type": "code",
   "execution_count": 17,
   "metadata": {},
   "outputs": [
    {
     "name": "stdout",
     "output_type": "stream",
     "text": [
      "The Dataset with ARN arn:aws:forecast:us-east-1:935182042847:dataset/modelo_4_c2_product_dataset_items is now ACTIVE.\n"
     ]
    }
   ],
   "source": [
    "# CLUSTER 2\n",
    "create_dataset_response_cluster2 = forecast.create_dataset(Domain=\"CUSTOM\",\n",
    "                                                  DatasetType='ITEM_METADATA',\n",
    "                                                  DatasetName=item_dataset_name_cluster2,\n",
    "                                                  Schema=items_schema)\n",
    "\n",
    "items_dataset_arn_cluster2=create_dataset_response_cluster2['DatasetArn']\n",
    "items_dataset_description_cluster2=forecast.describe_dataset(DatasetArn=items_dataset_arn_cluster2)\n",
    "print(f\"The Dataset with ARN {items_dataset_arn_cluster2} is now {items_dataset_description_cluster2['Status']}.\")"
   ]
  },
  {
   "cell_type": "code",
   "execution_count": 18,
   "metadata": {},
   "outputs": [
    {
     "name": "stdout",
     "output_type": "stream",
     "text": [
      "The Dataset with ARN arn:aws:forecast:us-east-1:935182042847:dataset/modelo_4_c3_product_dataset_items is now ACTIVE.\n"
     ]
    }
   ],
   "source": [
    "# CLUSTER 3\n",
    "create_dataset_response_cluster3 = forecast.create_dataset(Domain=\"CUSTOM\",\n",
    "                                                  DatasetType='ITEM_METADATA',\n",
    "                                                  DatasetName=item_dataset_name_cluster3,\n",
    "                                                  Schema=items_schema)\n",
    "\n",
    "items_dataset_arn_cluster3=create_dataset_response_cluster3['DatasetArn']\n",
    "items_dataset_description_cluster3=forecast.describe_dataset(DatasetArn=items_dataset_arn_cluster3)\n",
    "print(f\"The Dataset with ARN {items_dataset_arn_cluster3} is now {items_dataset_description_cluster3['Status']}.\")"
   ]
  },
  {
   "cell_type": "markdown",
   "metadata": {},
   "source": [
    "### Related dataset schema"
   ]
  },
  {
   "cell_type": "code",
   "execution_count": 19,
   "metadata": {},
   "outputs": [],
   "source": [
    "related_dataset_frequency='M'\n",
    "related_schema = {\n",
    "\t\"Attributes\": [\n",
    "\t\t{\n",
    "\t\t\t\"AttributeName\": \"timestamp\",\n",
    "\t\t\t\"AttributeType\": \"timestamp\"\n",
    "\t\t},\n",
    "\t\t{\n",
    "\t\t\t\"AttributeName\": \"item_id\",\n",
    "\t\t\t\"AttributeType\": \"string\"\n",
    "\t\t},\n",
    "\t\t{\n",
    "\t\t\t\"AttributeName\": \"month_number\",\n",
    "\t\t\t\"AttributeType\": \"integer\"\n",
    "\t\t},\n",
    "\t\t{\n",
    "\t\t\t\"AttributeName\": \"quarter\",\n",
    "\t\t\t\"AttributeType\": \"integer\"\n",
    "\t\t},\n",
    "\t\t{\n",
    "\t\t\t\"AttributeName\": \"days_in_month\",\n",
    "\t\t\t\"AttributeType\": \"integer\"\n",
    "\t\t},\n",
    "\t\t{\n",
    "\t\t\t\"AttributeName\": \"sundays\",\n",
    "\t\t\t\"AttributeType\": \"integer\"\n",
    "\t\t},\n",
    "\t\t{\n",
    "\t\t\t\"AttributeName\": \"saturdays\",\n",
    "\t\t\t\"AttributeType\": \"integer\"\n",
    "\t\t},\n",
    "\t\t{\n",
    "\t\t\t\"AttributeName\": \"tn_m3\",\n",
    "\t\t\t\"AttributeType\": \"float\"\n",
    "\t\t},\n",
    "\t\t{\n",
    "\t\t\t\"AttributeName\": \"tn_m6\",\n",
    "\t\t\t\"AttributeType\": \"float\"\n",
    "\t\t},\n",
    "\t\t{\n",
    "\t\t\t\"AttributeName\": \"tn_m12\",\n",
    "\t\t\t\"AttributeType\": \"float\"\n",
    "\t\t}\n",
    "\t]\n",
    "}"
   ]
  },
  {
   "cell_type": "code",
   "execution_count": 20,
   "metadata": {},
   "outputs": [
    {
     "name": "stdout",
     "output_type": "stream",
     "text": [
      "The Dataset with ARN arn:aws:forecast:us-east-1:935182042847:dataset/modelo_4_c1_product_dataset_related is now ACTIVE.\n"
     ]
    }
   ],
   "source": [
    "# CLUSTER 1\n",
    "create_dataset_response_cluster1 = forecast.create_dataset(Domain=\"CUSTOM\",\n",
    "                                                  DatasetType='RELATED_TIME_SERIES',\n",
    "                                                  DatasetName=related_dataset_name_cluster1,\n",
    "                                                  DataFrequency=related_dataset_frequency,\n",
    "                                                  Schema=related_schema)\n",
    "related_dataset_arn_cluster1=create_dataset_response_cluster1['DatasetArn']\n",
    "related_dataset_description_cluster1=forecast.describe_dataset(DatasetArn=related_dataset_arn_cluster1)\n",
    "print(f\"The Dataset with ARN {related_dataset_arn_cluster1} is now {related_dataset_description_cluster1['Status']}.\")"
   ]
  },
  {
   "cell_type": "code",
   "execution_count": 21,
   "metadata": {},
   "outputs": [
    {
     "name": "stdout",
     "output_type": "stream",
     "text": [
      "The Dataset with ARN arn:aws:forecast:us-east-1:935182042847:dataset/modelo_4_c2_product_dataset_related is now ACTIVE.\n"
     ]
    }
   ],
   "source": [
    "# CLUSTER 2\n",
    "create_dataset_response_cluster2 = forecast.create_dataset(Domain=\"CUSTOM\",\n",
    "                                                  DatasetType='RELATED_TIME_SERIES',\n",
    "                                                  DatasetName=related_dataset_name_cluster2,\n",
    "                                                  DataFrequency=related_dataset_frequency,\n",
    "                                                  Schema=related_schema)\n",
    "related_dataset_arn_cluster2=create_dataset_response_cluster2['DatasetArn']\n",
    "related_dataset_description_cluster2=forecast.describe_dataset(DatasetArn=related_dataset_arn_cluster2)\n",
    "print(f\"The Dataset with ARN {related_dataset_arn_cluster2} is now {related_dataset_description_cluster2['Status']}.\")"
   ]
  },
  {
   "cell_type": "code",
   "execution_count": 22,
   "metadata": {},
   "outputs": [
    {
     "name": "stdout",
     "output_type": "stream",
     "text": [
      "The Dataset with ARN arn:aws:forecast:us-east-1:935182042847:dataset/modelo_4_c3_product_dataset_related is now ACTIVE.\n"
     ]
    }
   ],
   "source": [
    "# CLUSTER 3\n",
    "create_dataset_response_cluster3 = forecast.create_dataset(Domain=\"CUSTOM\",\n",
    "                                                  DatasetType='RELATED_TIME_SERIES',\n",
    "                                                  DatasetName=related_dataset_name_cluster3,\n",
    "                                                  DataFrequency=related_dataset_frequency,\n",
    "                                                  Schema=related_schema)\n",
    "related_dataset_arn_cluster3=create_dataset_response_cluster3['DatasetArn']\n",
    "related_dataset_description_cluster3=forecast.describe_dataset(DatasetArn=related_dataset_arn_cluster3)\n",
    "print(f\"The Dataset with ARN {related_dataset_arn_cluster3} is now {related_dataset_description_cluster3['Status']}.\")"
   ]
  },
  {
   "cell_type": "markdown",
   "metadata": {},
   "source": [
    "### Dataset Group"
   ]
  },
  {
   "cell_type": "markdown",
   "metadata": {},
   "source": [
    "Para entrenar un predictor, requerimos un `DatasetGroup` que agrupa los datasets de input. "
   ]
  },
  {
   "cell_type": "code",
   "execution_count": 23,
   "metadata": {},
   "outputs": [
    {
     "name": "stdout",
     "output_type": "stream",
     "text": [
      "The DatasetGroup with ARN arn:aws:forecast:us-east-1:935182042847:dataset-group/modelo_4_c1_product is now ACTIVE.\n"
     ]
    }
   ],
   "source": [
    "# CLUSTER1\n",
    "dataset_arns_cluster1 = [target_dataset_arn_cluster1, items_dataset_arn_cluster1, related_dataset_arn_cluster1]\n",
    "create_dataset_group_response_cluster1 = \\\n",
    "    forecast.create_dataset_group(Domain=\"CUSTOM\",\n",
    "                                  DatasetGroupName=dataset_group_name_cluster1,\n",
    "                                  DatasetArns=dataset_arns_cluster1)\n",
    "dataset_group_arn_cluster1 = create_dataset_group_response_cluster1['DatasetGroupArn']\n",
    "describe_dataset_group_response_cluster1 = forecast.describe_dataset_group(DatasetGroupArn=dataset_group_arn_cluster1)\n",
    "print(f\"The DatasetGroup with ARN {dataset_group_arn_cluster1} is now {describe_dataset_group_response_cluster1['Status']}.\")"
   ]
  },
  {
   "cell_type": "code",
   "execution_count": 24,
   "metadata": {},
   "outputs": [
    {
     "name": "stdout",
     "output_type": "stream",
     "text": [
      "The DatasetGroup with ARN arn:aws:forecast:us-east-1:935182042847:dataset-group/modelo_4_c2_product is now ACTIVE.\n"
     ]
    }
   ],
   "source": [
    "# cluster2\n",
    "dataset_arns_cluster2 = [target_dataset_arn_cluster2, items_dataset_arn_cluster2, related_dataset_arn_cluster2]\n",
    "create_dataset_group_response_cluster2 = \\\n",
    "    forecast.create_dataset_group(Domain=\"CUSTOM\",\n",
    "                                  DatasetGroupName=dataset_group_name_cluster2,\n",
    "                                  DatasetArns=dataset_arns_cluster2)\n",
    "dataset_group_arn_cluster2 = create_dataset_group_response_cluster2['DatasetGroupArn']\n",
    "describe_dataset_group_response_cluster2 = forecast.describe_dataset_group(DatasetGroupArn=dataset_group_arn_cluster2)\n",
    "print(f\"The DatasetGroup with ARN {dataset_group_arn_cluster2} is now {describe_dataset_group_response_cluster2['Status']}.\")"
   ]
  },
  {
   "cell_type": "code",
   "execution_count": 25,
   "metadata": {},
   "outputs": [
    {
     "name": "stdout",
     "output_type": "stream",
     "text": [
      "The DatasetGroup with ARN arn:aws:forecast:us-east-1:935182042847:dataset-group/modelo_4_c3_product is now ACTIVE.\n"
     ]
    }
   ],
   "source": [
    "# cluster3\n",
    "dataset_arns_cluster3 = [target_dataset_arn_cluster3, items_dataset_arn_cluster3, related_dataset_arn_cluster3]\n",
    "create_dataset_group_response_cluster3 = \\\n",
    "    forecast.create_dataset_group(Domain=\"CUSTOM\",\n",
    "                                  DatasetGroupName=dataset_group_name_cluster3,\n",
    "                                  DatasetArns=dataset_arns_cluster3)\n",
    "dataset_group_arn_cluster3 = create_dataset_group_response_cluster3['DatasetGroupArn']\n",
    "describe_dataset_group_response_cluster3 = forecast.describe_dataset_group(DatasetGroupArn=dataset_group_arn_cluster3)\n",
    "print(f\"The DatasetGroup with ARN {dataset_group_arn_cluster3} is now {describe_dataset_group_response_cluster3['Status']}.\")"
   ]
  },
  {
   "cell_type": "markdown",
   "metadata": {},
   "source": [
    "<a id='import' />\n",
    "\n",
    "## Importar datasets en Amazon Forecast\n",
    "[(back to top)](#contents)"
   ]
  },
  {
   "cell_type": "markdown",
   "metadata": {},
   "source": [
    "### Target time series import job"
   ]
  },
  {
   "cell_type": "code",
   "execution_count": 26,
   "metadata": {},
   "outputs": [
    {
     "data": {
      "text/plain": [
       "'CREATE_PENDING'"
      ]
     },
     "execution_count": 26,
     "metadata": {},
     "output_type": "execute_result"
    }
   ],
   "source": [
    "# cluster1\n",
    "target_dataset_import_job_response_cluster1 = \\\n",
    "    forecast.create_dataset_import_job(DatasetImportJobName=target_import_job_name_cluster1,\n",
    "                                       DatasetArn=target_dataset_arn_cluster1,\n",
    "                                       DataSource= {\n",
    "                                         \"S3Config\" : {\n",
    "                                             \"Path\": target_s3_path_c1,\n",
    "                                             \"RoleArn\": role\n",
    "                                         } \n",
    "                                       },\n",
    "                                       TimestampFormat=timestamp_format)\n",
    "\n",
    "target_dataset_import_job_arn_cluster1 = target_dataset_import_job_response_cluster1['DatasetImportJobArn']\n",
    "forecast.describe_dataset_import_job(DatasetImportJobArn=target_dataset_import_job_arn_cluster1)['Status']"
   ]
  },
  {
   "cell_type": "code",
   "execution_count": 44,
   "metadata": {},
   "outputs": [
    {
     "data": {
      "text/plain": [
       "'ACTIVE'"
      ]
     },
     "execution_count": 44,
     "metadata": {},
     "output_type": "execute_result"
    }
   ],
   "source": [
    "forecast.describe_dataset_import_job(DatasetImportJobArn=target_dataset_import_job_arn_cluster1)['Status']"
   ]
  },
  {
   "cell_type": "code",
   "execution_count": 27,
   "metadata": {},
   "outputs": [
    {
     "data": {
      "text/plain": [
       "'CREATE_PENDING'"
      ]
     },
     "execution_count": 27,
     "metadata": {},
     "output_type": "execute_result"
    }
   ],
   "source": [
    "# cluster2\n",
    "target_dataset_import_job_response_cluster2 = \\\n",
    "    forecast.create_dataset_import_job(DatasetImportJobName=target_import_job_name_cluster2,\n",
    "                                       DatasetArn=target_dataset_arn_cluster2,\n",
    "                                       DataSource= {\n",
    "                                         \"S3Config\" : {\n",
    "                                             \"Path\": target_s3_path_c2,\n",
    "                                             \"RoleArn\": role\n",
    "                                         } \n",
    "                                       },\n",
    "                                       TimestampFormat=timestamp_format)\n",
    "\n",
    "target_dataset_import_job_arn_cluster2 = target_dataset_import_job_response_cluster2['DatasetImportJobArn']\n",
    "forecast.describe_dataset_import_job(DatasetImportJobArn=target_dataset_import_job_arn_cluster2)['Status']"
   ]
  },
  {
   "cell_type": "code",
   "execution_count": 45,
   "metadata": {},
   "outputs": [
    {
     "data": {
      "text/plain": [
       "'ACTIVE'"
      ]
     },
     "execution_count": 45,
     "metadata": {},
     "output_type": "execute_result"
    }
   ],
   "source": [
    "forecast.describe_dataset_import_job(DatasetImportJobArn=target_dataset_import_job_arn_cluster2)['Status']"
   ]
  },
  {
   "cell_type": "code",
   "execution_count": 28,
   "metadata": {},
   "outputs": [
    {
     "data": {
      "text/plain": [
       "'CREATE_PENDING'"
      ]
     },
     "execution_count": 28,
     "metadata": {},
     "output_type": "execute_result"
    }
   ],
   "source": [
    "# cluster3\n",
    "target_dataset_import_job_response_cluster3 = \\\n",
    "    forecast.create_dataset_import_job(DatasetImportJobName=target_import_job_name_cluster3,\n",
    "                                       DatasetArn=target_dataset_arn_cluster3,\n",
    "                                       DataSource= {\n",
    "                                         \"S3Config\" : {\n",
    "                                             \"Path\": target_s3_path_c3,\n",
    "                                             \"RoleArn\": role\n",
    "                                         } \n",
    "                                       },\n",
    "                                       TimestampFormat=timestamp_format)\n",
    "\n",
    "target_dataset_import_job_arn_cluster3 = target_dataset_import_job_response_cluster3['DatasetImportJobArn']\n",
    "forecast.describe_dataset_import_job(DatasetImportJobArn=target_dataset_import_job_arn_cluster3)['Status']"
   ]
  },
  {
   "cell_type": "code",
   "execution_count": 46,
   "metadata": {},
   "outputs": [
    {
     "data": {
      "text/plain": [
       "'ACTIVE'"
      ]
     },
     "execution_count": 46,
     "metadata": {},
     "output_type": "execute_result"
    }
   ],
   "source": [
    "forecast.describe_dataset_import_job(DatasetImportJobArn=target_dataset_import_job_arn_cluster3)['Status']"
   ]
  },
  {
   "cell_type": "markdown",
   "metadata": {},
   "source": [
    "### Items dataset import job"
   ]
  },
  {
   "cell_type": "code",
   "execution_count": 47,
   "metadata": {},
   "outputs": [
    {
     "data": {
      "text/plain": [
       "'CREATE_PENDING'"
      ]
     },
     "execution_count": 47,
     "metadata": {},
     "output_type": "execute_result"
    }
   ],
   "source": [
    "# cluster1\n",
    "items_dataset_import_job_response_cluster1 = \\\n",
    "    forecast.create_dataset_import_job(DatasetImportJobName=items_import_job_name_cluster1,\n",
    "                                       DatasetArn=items_dataset_arn_cluster1,\n",
    "                                       DataSource= {\n",
    "                                         \"S3Config\" : {\n",
    "                                             \"Path\": items_s3_path_c1,\n",
    "                                             \"RoleArn\": role\n",
    "                                         } \n",
    "                                       })\n",
    "\n",
    "items_dataset_import_job_arn_cluster1 = items_dataset_import_job_response_cluster1['DatasetImportJobArn']\n",
    "forecast.describe_dataset_import_job(DatasetImportJobArn=items_dataset_import_job_arn_cluster1)['Status']"
   ]
  },
  {
   "cell_type": "code",
   "execution_count": 48,
   "metadata": {},
   "outputs": [
    {
     "data": {
      "text/plain": [
       "'CREATE_PENDING'"
      ]
     },
     "execution_count": 48,
     "metadata": {},
     "output_type": "execute_result"
    }
   ],
   "source": [
    "# cluster2\n",
    "items_dataset_import_job_response_cluster2 = \\\n",
    "    forecast.create_dataset_import_job(DatasetImportJobName=items_import_job_name_cluster2,\n",
    "                                       DatasetArn=items_dataset_arn_cluster2,\n",
    "                                       DataSource= {\n",
    "                                         \"S3Config\" : {\n",
    "                                             \"Path\": items_s3_path_c2,\n",
    "                                             \"RoleArn\": role\n",
    "                                         } \n",
    "                                       })\n",
    "\n",
    "items_dataset_import_job_arn_cluster2 = items_dataset_import_job_response_cluster2['DatasetImportJobArn']\n",
    "forecast.describe_dataset_import_job(DatasetImportJobArn=items_dataset_import_job_arn_cluster2)['Status']"
   ]
  },
  {
   "cell_type": "code",
   "execution_count": 49,
   "metadata": {},
   "outputs": [
    {
     "data": {
      "text/plain": [
       "'CREATE_PENDING'"
      ]
     },
     "execution_count": 49,
     "metadata": {},
     "output_type": "execute_result"
    }
   ],
   "source": [
    "# cluster3\n",
    "items_dataset_import_job_response_cluster3 = \\\n",
    "    forecast.create_dataset_import_job(DatasetImportJobName=items_import_job_name_cluster3,\n",
    "                                       DatasetArn=items_dataset_arn_cluster3,\n",
    "                                       DataSource= {\n",
    "                                         \"S3Config\" : {\n",
    "                                             \"Path\": items_s3_path_c3,\n",
    "                                             \"RoleArn\": role\n",
    "                                         } \n",
    "                                       })\n",
    "\n",
    "items_dataset_import_job_arn_cluster3 = items_dataset_import_job_response_cluster3['DatasetImportJobArn']\n",
    "forecast.describe_dataset_import_job(DatasetImportJobArn=items_dataset_import_job_arn_cluster3)['Status']"
   ]
  },
  {
   "cell_type": "markdown",
   "metadata": {},
   "source": [
    "### Related dataset import job"
   ]
  },
  {
   "cell_type": "code",
   "execution_count": 51,
   "metadata": {},
   "outputs": [
    {
     "data": {
      "text/plain": [
       "'CREATE_PENDING'"
      ]
     },
     "execution_count": 51,
     "metadata": {},
     "output_type": "execute_result"
    }
   ],
   "source": [
    "# cluster1\n",
    "related_dataset_import_job_response_cluster1 = \\\n",
    "    forecast.create_dataset_import_job(DatasetImportJobName=related_import_job_name_cluster1,\n",
    "                                       DatasetArn=related_dataset_arn_cluster1,\n",
    "                                       DataSource= {\n",
    "                                         \"S3Config\" : {\n",
    "                                             \"Path\": related_s3_path_c1,\n",
    "                                             \"RoleArn\": role\n",
    "                                         } \n",
    "                                       },\n",
    "                                       TimestampFormat=timestamp_format)\n",
    "\n",
    "related_dataset_import_job_arn_cluster1 = related_dataset_import_job_response_cluster1['DatasetImportJobArn']\n",
    "forecast.describe_dataset_import_job(DatasetImportJobArn=related_dataset_import_job_arn_cluster1)['Status']"
   ]
  },
  {
   "cell_type": "code",
   "execution_count": 52,
   "metadata": {},
   "outputs": [
    {
     "data": {
      "text/plain": [
       "'CREATE_PENDING'"
      ]
     },
     "execution_count": 52,
     "metadata": {},
     "output_type": "execute_result"
    }
   ],
   "source": [
    "# cluster2\n",
    "related_dataset_import_job_response_cluster2 = \\\n",
    "    forecast.create_dataset_import_job(DatasetImportJobName=related_import_job_name_cluster2,\n",
    "                                       DatasetArn=related_dataset_arn_cluster2,\n",
    "                                       DataSource= {\n",
    "                                         \"S3Config\" : {\n",
    "                                             \"Path\": related_s3_path_c2,\n",
    "                                             \"RoleArn\": role\n",
    "                                         } \n",
    "                                       },\n",
    "                                       TimestampFormat=timestamp_format)\n",
    "\n",
    "related_dataset_import_job_arn_cluster2 = related_dataset_import_job_response_cluster2['DatasetImportJobArn']\n",
    "forecast.describe_dataset_import_job(DatasetImportJobArn=related_dataset_import_job_arn_cluster2)['Status']"
   ]
  },
  {
   "cell_type": "code",
   "execution_count": 53,
   "metadata": {},
   "outputs": [
    {
     "data": {
      "text/plain": [
       "'CREATE_PENDING'"
      ]
     },
     "execution_count": 53,
     "metadata": {},
     "output_type": "execute_result"
    }
   ],
   "source": [
    "# cluster3\n",
    "related_dataset_import_job_response_cluster3 = \\\n",
    "    forecast.create_dataset_import_job(DatasetImportJobName=related_import_job_name_cluster3,\n",
    "                                       DatasetArn=related_dataset_arn_cluster3,\n",
    "                                       DataSource= {\n",
    "                                         \"S3Config\" : {\n",
    "                                             \"Path\": related_s3_path_c3,\n",
    "                                             \"RoleArn\": role\n",
    "                                         } \n",
    "                                       },\n",
    "                                       TimestampFormat=timestamp_format)\n",
    "\n",
    "related_dataset_import_job_arn_cluster3 = related_dataset_import_job_response_cluster3['DatasetImportJobArn']\n",
    "forecast.describe_dataset_import_job(DatasetImportJobArn=related_dataset_import_job_arn_cluster3)['Status']"
   ]
  },
  {
   "cell_type": "code",
   "execution_count": 57,
   "metadata": {},
   "outputs": [
    {
     "data": {
      "text/plain": [
       "'ACTIVE'"
      ]
     },
     "execution_count": 57,
     "metadata": {},
     "output_type": "execute_result"
    }
   ],
   "source": [
    "forecast.describe_dataset_import_job(DatasetImportJobArn=related_dataset_import_job_arn_cluster1)['Status']"
   ]
  },
  {
   "cell_type": "code",
   "execution_count": null,
   "metadata": {},
   "outputs": [],
   "source": []
  }
 ],
 "metadata": {
  "kernelspec": {
   "display_name": "Python 3",
   "language": "python",
   "name": "python3"
  },
  "language_info": {
   "codemirror_mode": {
    "name": "ipython",
    "version": 3
   },
   "file_extension": ".py",
   "mimetype": "text/x-python",
   "name": "python",
   "nbconvert_exporter": "python",
   "pygments_lexer": "ipython3",
   "version": "3.11.2"
  }
 },
 "nbformat": 4,
 "nbformat_minor": 4
}
