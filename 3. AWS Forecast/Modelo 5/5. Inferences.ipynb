{
 "cells": [
  {
   "cell_type": "markdown",
   "metadata": {},
   "source": [
    "<center>\n",
    "  <h2>Trabajo Laboratorio de Implementación III - MCD Virtual Cohorte 2022</h2>\n",
    "  <h3>Forecasting para una Empresa de Consumo Masivo</h3>\n",
    "  <h4>Inferencias</h4>\n",
    "</center>"
   ]
  },
  {
   "cell_type": "code",
   "execution_count": 1,
   "metadata": {},
   "outputs": [],
   "source": [
    "# Importación librerias\n",
    "\n",
    "# !pip install awswrangler\n",
    "# !pip install boto3\n",
    "import boto3\n",
    "import awswrangler as wr\n",
    "import pandas as pd\n",
    "import numpy as np\n",
    "from datetime import datetime\n",
    "from dateutil.relativedelta import relativedelta\n",
    "import matplotlib.pyplot as plt\n",
    "import seaborn as sns"
   ]
  },
  {
   "cell_type": "code",
   "execution_count": 2,
   "metadata": {},
   "outputs": [
    {
     "name": "stdout",
     "output_type": "stream",
     "text": [
      "Fecha inicio historia 2018-01-01 00:00:00\n",
      "Fecha fin historia 2019-12-01 00:00:00\n",
      "Fecha futura (related time series) 2020-02-01 00:00:00\n"
     ]
    }
   ],
   "source": [
    "# Definición fechas\n",
    "\n",
    "date_start=datetime.strptime('2018-01-01', '%Y-%m-%d')\n",
    "date_end=datetime.strptime('2019-12-01', '%Y-%m-%d')\n",
    "forecast_length = 2\n",
    "date_future=date_end+relativedelta(months=forecast_length)\n",
    "years=range(2018, 2020)\n",
    "\n",
    "print(f\"Fecha inicio historia {date_start}\")\n",
    "print(f\"Fecha fin historia {date_end}\")\n",
    "print(f\"Fecha futura (related time series) {date_future}\")\n",
    "\n",
    "# Versión modelo\n",
    "data_version = '5'\n",
    "grouped_columns = [\"product_id\"]\n",
    "grouped_cols_name = \"product\"\n",
    "\n",
    "# Parametros backtest\n",
    "dataset_frequency='M'\n",
    "quantiles=[\"mean\"]"
   ]
  },
  {
   "cell_type": "code",
   "execution_count": 3,
   "metadata": {},
   "outputs": [],
   "source": [
    "# Conexiones AWS\n",
    "\n",
    "account_id=boto3.client('sts').get_caller_identity().get('Account')\n",
    "session = boto3.Session() \n",
    "forecast = session.client(service_name='forecast')\n",
    "region = forecast.meta.region_name\n",
    "forecastquery = session.client(service_name='forecastquery')\n",
    "role = f'arn:aws:iam::{account_id}:role/ForecastRole'"
   ]
  },
  {
   "cell_type": "code",
   "execution_count": 4,
   "metadata": {},
   "outputs": [],
   "source": [
    "# Buckets de datos\n",
    "\n",
    "# Data\n",
    "target_s3_path=f's3://datasets-forecast/modelo-{data_version}-forecast-{grouped_cols_name}/target/df_ventas_{grouped_cols_name}.csv'\n",
    "items_s3_path=f's3://datasets-forecast/modelo-{data_version}-forecast-{grouped_cols_name}/product/df_products.csv'\n",
    "related_s3_path=f's3://datasets-forecast/modelo-{data_version}-forecast-{grouped_cols_name}/related/df_related_{grouped_cols_name}.csv'\n",
    "\n",
    "# Outputs\n",
    "backtest_export_path=f's3://datasets-forecast/modelo-{data_version}-forecast-{grouped_cols_name}/output/'"
   ]
  },
  {
   "cell_type": "code",
   "execution_count": 5,
   "metadata": {},
   "outputs": [],
   "source": [
    "# Formar ARNs\n",
    "\n",
    "dataset_group_arn=f'arn:aws:forecast:us-east-1:{account_id}:dataset-group/modelo_{data_version}_{grouped_cols_name}'\n",
    "# Se busca de la notebook 3\n",
    "codigo_predictor = '01J04R36HFKFEC0JEY9D5WYK9Q'\n",
    "automl_predictor_arn = f'arn:aws:forecast:us-east-1:{account_id}:predictor/modelo_{data_version}_predictor_{codigo_predictor}'"
   ]
  },
  {
   "cell_type": "code",
   "execution_count": 6,
   "metadata": {},
   "outputs": [],
   "source": [
    "# Verificar comunicación con Amazon Forecast\n",
    "assert forecast.list_predictors()"
   ]
  },
  {
   "cell_type": "code",
   "execution_count": 7,
   "metadata": {},
   "outputs": [],
   "source": [
    "best_quantile = [\"mean\"]"
   ]
  },
  {
   "cell_type": "markdown",
   "metadata": {},
   "source": [
    "### Generar inferencias"
   ]
  },
  {
   "cell_type": "code",
   "execution_count": 9,
   "metadata": {},
   "outputs": [],
   "source": [
    "forecast_name=f\"modelo_{data_version}_{grouped_cols_name}_inference\"\n",
    "tags=[{'Key': 'ProjectName', 'Value': 'pruebas_laboratorio'}]\n",
    "\n",
    "response = forecast.create_forecast(\n",
    "    ForecastName = forecast_name,\n",
    "    PredictorArn = automl_predictor_arn,\n",
    "    ForecastTypes= best_quantile,\n",
    "    Tags=tags\n",
    ")"
   ]
  },
  {
   "cell_type": "code",
   "execution_count": 10,
   "metadata": {},
   "outputs": [
    {
     "data": {
      "text/plain": [
       "'arn:aws:forecast:us-east-1:637423651905:forecast/modelo_5_product_inference'"
      ]
     },
     "execution_count": 10,
     "metadata": {},
     "output_type": "execute_result"
    }
   ],
   "source": [
    "forecast_arn=response['ForecastArn']\n",
    "forecast_arn"
   ]
  },
  {
   "cell_type": "code",
   "execution_count": 27,
   "metadata": {},
   "outputs": [
    {
     "data": {
      "text/plain": [
       "'ACTIVE'"
      ]
     },
     "execution_count": 27,
     "metadata": {},
     "output_type": "execute_result"
    }
   ],
   "source": [
    "forecast.describe_forecast(\n",
    "    ForecastArn=forecast_arn\n",
    ")['Status']"
   ]
  },
  {
   "cell_type": "markdown",
   "metadata": {},
   "source": [
    "### Exportar resultados"
   ]
  },
  {
   "cell_type": "code",
   "execution_count": 28,
   "metadata": {},
   "outputs": [],
   "source": [
    "export_s3_path_=f's3://datasets-forecast-account1/modelo-{data_version}-forecast-{grouped_cols_name}/inferencias/'\n",
    "forecast_export_job_name=f\"modelo_{data_version}_{grouped_cols_name}_inference_export\""
   ]
  },
  {
   "cell_type": "code",
   "execution_count": 29,
   "metadata": {},
   "outputs": [],
   "source": [
    "response = forecast.create_forecast_export_job(\n",
    "    ForecastExportJobName=forecast_export_job_name,\n",
    "    ForecastArn=forecast_arn,\n",
    "    Destination={\n",
    "        'S3Config': {\n",
    "            'Path': export_s3_path,\n",
    "            'RoleArn': role\n",
    "        }\n",
    "    },\n",
    "    Tags=tags\n",
    ")"
   ]
  },
  {
   "cell_type": "code",
   "execution_count": 30,
   "metadata": {},
   "outputs": [],
   "source": [
    "forecast_export_job_arn=response['ForecastExportJobArn']"
   ]
  },
  {
   "cell_type": "code",
   "execution_count": 32,
   "metadata": {},
   "outputs": [
    {
     "data": {
      "text/plain": [
       "'ACTIVE'"
      ]
     },
     "execution_count": 32,
     "metadata": {},
     "output_type": "execute_result"
    }
   ],
   "source": [
    "forecast.describe_forecast_export_job(\n",
    "    ForecastExportJobArn=forecast_export_job_arn\n",
    ")['Status']"
   ]
  },
  {
   "cell_type": "markdown",
   "metadata": {},
   "source": [
    "### Lectura de forecasts"
   ]
  },
  {
   "cell_type": "code",
   "execution_count": 90,
   "metadata": {},
   "outputs": [],
   "source": [
    "df_predictions=wr.s3.read_csv(export_s3_path)"
   ]
  },
  {
   "cell_type": "code",
   "execution_count": 91,
   "metadata": {},
   "outputs": [
    {
     "data": {
      "text/plain": [
       "780"
      ]
     },
     "execution_count": 91,
     "metadata": {},
     "output_type": "execute_result"
    }
   ],
   "source": [
    "len(df_predictions.drop_duplicates(subset=\"item_id\"))"
   ]
  },
  {
   "cell_type": "code",
   "execution_count": 92,
   "metadata": {},
   "outputs": [
    {
     "data": {
      "text/html": [
       "<div>\n",
       "<style scoped>\n",
       "    .dataframe tbody tr th:only-of-type {\n",
       "        vertical-align: middle;\n",
       "    }\n",
       "\n",
       "    .dataframe tbody tr th {\n",
       "        vertical-align: top;\n",
       "    }\n",
       "\n",
       "    .dataframe thead th {\n",
       "        text-align: right;\n",
       "    }\n",
       "</style>\n",
       "<table border=\"1\" class=\"dataframe\">\n",
       "  <thead>\n",
       "    <tr style=\"text-align: right;\">\n",
       "      <th></th>\n",
       "      <th>item_id</th>\n",
       "      <th>brand</th>\n",
       "      <th>cat1</th>\n",
       "      <th>cat2</th>\n",
       "      <th>cat3</th>\n",
       "      <th>sku_size</th>\n",
       "      <th>date</th>\n",
       "      <th>mean</th>\n",
       "    </tr>\n",
       "  </thead>\n",
       "  <tbody>\n",
       "    <tr>\n",
       "      <th>0</th>\n",
       "      <td>20684</td>\n",
       "      <td>mostaza1</td>\n",
       "      <td>foods</td>\n",
       "      <td>aderezos</td>\n",
       "      <td>mostaza</td>\n",
       "      <td>220</td>\n",
       "      <td>2020-01-01T00:00:00Z</td>\n",
       "      <td>0.0</td>\n",
       "    </tr>\n",
       "    <tr>\n",
       "      <th>1</th>\n",
       "      <td>20684</td>\n",
       "      <td>mostaza1</td>\n",
       "      <td>foods</td>\n",
       "      <td>aderezos</td>\n",
       "      <td>mostaza</td>\n",
       "      <td>220</td>\n",
       "      <td>2020-02-01T00:00:00Z</td>\n",
       "      <td>0.0</td>\n",
       "    </tr>\n",
       "    <tr>\n",
       "      <th>2</th>\n",
       "      <td>20986</td>\n",
       "      <td>deos1</td>\n",
       "      <td>pc</td>\n",
       "      <td>deos</td>\n",
       "      <td>noaero</td>\n",
       "      <td>50</td>\n",
       "      <td>2020-01-01T00:00:00Z</td>\n",
       "      <td>0.0</td>\n",
       "    </tr>\n",
       "    <tr>\n",
       "      <th>3</th>\n",
       "      <td>20986</td>\n",
       "      <td>deos1</td>\n",
       "      <td>pc</td>\n",
       "      <td>deos</td>\n",
       "      <td>noaero</td>\n",
       "      <td>50</td>\n",
       "      <td>2020-02-01T00:00:00Z</td>\n",
       "      <td>0.0</td>\n",
       "    </tr>\n",
       "    <tr>\n",
       "      <th>4</th>\n",
       "      <td>20263</td>\n",
       "      <td>colbert</td>\n",
       "      <td>pc</td>\n",
       "      <td>deos</td>\n",
       "      <td>aero</td>\n",
       "      <td>100</td>\n",
       "      <td>2020-01-01T00:00:00Z</td>\n",
       "      <td>0.0</td>\n",
       "    </tr>\n",
       "  </tbody>\n",
       "</table>\n",
       "</div>"
      ],
      "text/plain": [
       "   item_id     brand   cat1      cat2     cat3  sku_size   \n",
       "0    20684  mostaza1  foods  aderezos  mostaza       220  \\\n",
       "1    20684  mostaza1  foods  aderezos  mostaza       220   \n",
       "2    20986     deos1     pc      deos   noaero        50   \n",
       "3    20986     deos1     pc      deos   noaero        50   \n",
       "4    20263   colbert     pc      deos     aero       100   \n",
       "\n",
       "                   date  mean  \n",
       "0  2020-01-01T00:00:00Z   0.0  \n",
       "1  2020-02-01T00:00:00Z   0.0  \n",
       "2  2020-01-01T00:00:00Z   0.0  \n",
       "3  2020-02-01T00:00:00Z   0.0  \n",
       "4  2020-01-01T00:00:00Z   0.0  "
      ]
     },
     "execution_count": 92,
     "metadata": {},
     "output_type": "execute_result"
    }
   ],
   "source": [
    "for i in best_quantile:\n",
    "    df_predictions[i]=np.where(df_predictions[i]<0, 0, df_predictions[i])\n",
    "df_predictions.head(5)"
   ]
  },
  {
   "cell_type": "code",
   "execution_count": 93,
   "metadata": {},
   "outputs": [
    {
     "data": {
      "text/plain": [
       "array(['2020-01-01T00:00:00Z', '2020-02-01T00:00:00Z'], dtype=object)"
      ]
     },
     "execution_count": 93,
     "metadata": {},
     "output_type": "execute_result"
    }
   ],
   "source": [
    "df_predictions.date.unique()"
   ]
  },
  {
   "cell_type": "code",
   "execution_count": 94,
   "metadata": {},
   "outputs": [],
   "source": [
    "df_predictions = df_predictions[[\"date\", \"item_id\", \"mean\"]]\n",
    "df_predictions = df_predictions.rename(columns = {\"date\": \"periodo\", \"item_id\":\"product_id\", \"mean\":\"tn\"})\n",
    "df_predictions[\"product_id\"] = df_predictions[\"product_id\"].astype(str)"
   ]
  },
  {
   "cell_type": "code",
   "execution_count": 95,
   "metadata": {},
   "outputs": [
    {
     "data": {
      "text/plain": [
       "780"
      ]
     },
     "execution_count": 95,
     "metadata": {},
     "output_type": "execute_result"
    }
   ],
   "source": [
    "len(df_predictions.product_id.unique())"
   ]
  },
  {
   "cell_type": "code",
   "execution_count": 96,
   "metadata": {},
   "outputs": [
    {
     "data": {
      "text/html": [
       "<div>\n",
       "<style scoped>\n",
       "    .dataframe tbody tr th:only-of-type {\n",
       "        vertical-align: middle;\n",
       "    }\n",
       "\n",
       "    .dataframe tbody tr th {\n",
       "        vertical-align: top;\n",
       "    }\n",
       "\n",
       "    .dataframe thead th {\n",
       "        text-align: right;\n",
       "    }\n",
       "</style>\n",
       "<table border=\"1\" class=\"dataframe\">\n",
       "  <thead>\n",
       "    <tr style=\"text-align: right;\">\n",
       "      <th></th>\n",
       "      <th>periodo</th>\n",
       "      <th>product_id</th>\n",
       "      <th>tn</th>\n",
       "    </tr>\n",
       "  </thead>\n",
       "  <tbody>\n",
       "    <tr>\n",
       "      <th>0</th>\n",
       "      <td>2020-01-01T00:00:00Z</td>\n",
       "      <td>20684</td>\n",
       "      <td>0.0</td>\n",
       "    </tr>\n",
       "    <tr>\n",
       "      <th>1</th>\n",
       "      <td>2020-02-01T00:00:00Z</td>\n",
       "      <td>20684</td>\n",
       "      <td>0.0</td>\n",
       "    </tr>\n",
       "    <tr>\n",
       "      <th>2</th>\n",
       "      <td>2020-01-01T00:00:00Z</td>\n",
       "      <td>20986</td>\n",
       "      <td>0.0</td>\n",
       "    </tr>\n",
       "    <tr>\n",
       "      <th>3</th>\n",
       "      <td>2020-02-01T00:00:00Z</td>\n",
       "      <td>20986</td>\n",
       "      <td>0.0</td>\n",
       "    </tr>\n",
       "    <tr>\n",
       "      <th>4</th>\n",
       "      <td>2020-01-01T00:00:00Z</td>\n",
       "      <td>20263</td>\n",
       "      <td>0.0</td>\n",
       "    </tr>\n",
       "  </tbody>\n",
       "</table>\n",
       "</div>"
      ],
      "text/plain": [
       "                periodo product_id   tn\n",
       "0  2020-01-01T00:00:00Z      20684  0.0\n",
       "1  2020-02-01T00:00:00Z      20684  0.0\n",
       "2  2020-01-01T00:00:00Z      20986  0.0\n",
       "3  2020-02-01T00:00:00Z      20986  0.0\n",
       "4  2020-01-01T00:00:00Z      20263  0.0"
      ]
     },
     "execution_count": 96,
     "metadata": {},
     "output_type": "execute_result"
    }
   ],
   "source": [
    "df_predictions.head(5)"
   ]
  },
  {
   "cell_type": "markdown",
   "metadata": {},
   "source": [
    "- Aplicamos estandarización inversa"
   ]
  },
  {
   "cell_type": "code",
   "execution_count": 97,
   "metadata": {},
   "outputs": [
    {
     "data": {
      "text/html": [
       "<div>\n",
       "<style scoped>\n",
       "    .dataframe tbody tr th:only-of-type {\n",
       "        vertical-align: middle;\n",
       "    }\n",
       "\n",
       "    .dataframe tbody tr th {\n",
       "        vertical-align: top;\n",
       "    }\n",
       "\n",
       "    .dataframe thead th {\n",
       "        text-align: right;\n",
       "    }\n",
       "</style>\n",
       "<table border=\"1\" class=\"dataframe\">\n",
       "  <thead>\n",
       "    <tr style=\"text-align: right;\">\n",
       "      <th></th>\n",
       "      <th>periodo</th>\n",
       "      <th>product_id</th>\n",
       "      <th>tn_original</th>\n",
       "    </tr>\n",
       "  </thead>\n",
       "  <tbody>\n",
       "    <tr>\n",
       "      <th>0</th>\n",
       "      <td>2020-01-01T00:00:00Z</td>\n",
       "      <td>20684</td>\n",
       "      <td>4.858534</td>\n",
       "    </tr>\n",
       "    <tr>\n",
       "      <th>1</th>\n",
       "      <td>2020-02-01T00:00:00Z</td>\n",
       "      <td>20684</td>\n",
       "      <td>4.858534</td>\n",
       "    </tr>\n",
       "    <tr>\n",
       "      <th>2</th>\n",
       "      <td>2020-01-01T00:00:00Z</td>\n",
       "      <td>20986</td>\n",
       "      <td>0.884002</td>\n",
       "    </tr>\n",
       "    <tr>\n",
       "      <th>3</th>\n",
       "      <td>2020-02-01T00:00:00Z</td>\n",
       "      <td>20986</td>\n",
       "      <td>0.884002</td>\n",
       "    </tr>\n",
       "    <tr>\n",
       "      <th>4</th>\n",
       "      <td>2020-01-01T00:00:00Z</td>\n",
       "      <td>20263</td>\n",
       "      <td>22.012459</td>\n",
       "    </tr>\n",
       "  </tbody>\n",
       "</table>\n",
       "</div>"
      ],
      "text/plain": [
       "                periodo product_id  tn_original\n",
       "0  2020-01-01T00:00:00Z      20684     4.858534\n",
       "1  2020-02-01T00:00:00Z      20684     4.858534\n",
       "2  2020-01-01T00:00:00Z      20986     0.884002\n",
       "3  2020-02-01T00:00:00Z      20986     0.884002\n",
       "4  2020-01-01T00:00:00Z      20263    22.012459"
      ]
     },
     "execution_count": 97,
     "metadata": {},
     "output_type": "execute_result"
    }
   ],
   "source": [
    "mean_std_df = pd.read_csv(\"C:/Users/usuario/otros/Desktop/MCD/6 Labo III/Forecasting Problem/3. AWS Forecast/Modelo 5/mean_std_by_product.csv\")\n",
    "mean_std_df[\"product_id\"] = mean_std_df[\"product_id\"].astype(str)\n",
    "\n",
    "# Paso 2: Combina los datos de pronóstico estandarizados con los pesos correspondientes por producto\n",
    "df_merged = pd.merge(df_predictions, mean_std_df, on='product_id')\n",
    "\n",
    "# Paso 3: Aplica la operación inversa para obtener la serie original\n",
    "def reverse_standardization(standardized_series, mean, std):\n",
    "    return standardized_series * std + mean\n",
    "\n",
    "df_merged['tn_original'] = reverse_standardization(df_merged['tn'], df_merged['mean'], df_merged['std'])\n",
    "\n",
    "# Paso 4: Guarda la serie original en un DataFrame\n",
    "df_original = df_merged[['periodo', 'product_id', 'tn_original']]\n",
    "\n",
    "# Guarda el DataFrame en un archivo CSV\n",
    "df_original.head(5)"
   ]
  },
  {
   "cell_type": "code",
   "execution_count": 98,
   "metadata": {},
   "outputs": [],
   "source": [
    "df_predictions = df_original.rename(columns = {\"tn_original\":\"tn\"})"
   ]
  },
  {
   "cell_type": "code",
   "execution_count": 99,
   "metadata": {},
   "outputs": [
    {
     "data": {
      "text/html": [
       "<div>\n",
       "<style scoped>\n",
       "    .dataframe tbody tr th:only-of-type {\n",
       "        vertical-align: middle;\n",
       "    }\n",
       "\n",
       "    .dataframe tbody tr th {\n",
       "        vertical-align: top;\n",
       "    }\n",
       "\n",
       "    .dataframe thead th {\n",
       "        text-align: right;\n",
       "    }\n",
       "</style>\n",
       "<table border=\"1\" class=\"dataframe\">\n",
       "  <thead>\n",
       "    <tr style=\"text-align: right;\">\n",
       "      <th></th>\n",
       "      <th>periodo</th>\n",
       "      <th>product_id</th>\n",
       "      <th>tn</th>\n",
       "    </tr>\n",
       "  </thead>\n",
       "  <tbody>\n",
       "    <tr>\n",
       "      <th>0</th>\n",
       "      <td>2020-01-01</td>\n",
       "      <td>20684</td>\n",
       "      <td>4.858534</td>\n",
       "    </tr>\n",
       "    <tr>\n",
       "      <th>1</th>\n",
       "      <td>2020-02-01</td>\n",
       "      <td>20684</td>\n",
       "      <td>4.858534</td>\n",
       "    </tr>\n",
       "    <tr>\n",
       "      <th>2</th>\n",
       "      <td>2020-01-01</td>\n",
       "      <td>20986</td>\n",
       "      <td>0.884002</td>\n",
       "    </tr>\n",
       "    <tr>\n",
       "      <th>3</th>\n",
       "      <td>2020-02-01</td>\n",
       "      <td>20986</td>\n",
       "      <td>0.884002</td>\n",
       "    </tr>\n",
       "    <tr>\n",
       "      <th>4</th>\n",
       "      <td>2020-01-01</td>\n",
       "      <td>20263</td>\n",
       "      <td>22.012459</td>\n",
       "    </tr>\n",
       "  </tbody>\n",
       "</table>\n",
       "</div>"
      ],
      "text/plain": [
       "     periodo product_id         tn\n",
       "0 2020-01-01      20684   4.858534\n",
       "1 2020-02-01      20684   4.858534\n",
       "2 2020-01-01      20986   0.884002\n",
       "3 2020-02-01      20986   0.884002\n",
       "4 2020-01-01      20263  22.012459"
      ]
     },
     "execution_count": 99,
     "metadata": {},
     "output_type": "execute_result"
    }
   ],
   "source": [
    "df_predictions_concat = df_predictions.copy()\n",
    "df_predictions_concat['periodo']=pd.to_datetime(df_predictions_concat['periodo'], format='%Y-%m-%dT%H:%M:%SZ').dt.date\n",
    "df_predictions_concat['periodo']=pd.to_datetime(df_predictions_concat['periodo'])\n",
    "df_predictions_concat.head(5)"
   ]
  },
  {
   "cell_type": "markdown",
   "metadata": {},
   "source": [
    "- Read historic sales data"
   ]
  },
  {
   "cell_type": "code",
   "execution_count": 100,
   "metadata": {},
   "outputs": [
    {
     "data": {
      "text/html": [
       "<div>\n",
       "<style scoped>\n",
       "    .dataframe tbody tr th:only-of-type {\n",
       "        vertical-align: middle;\n",
       "    }\n",
       "\n",
       "    .dataframe tbody tr th {\n",
       "        vertical-align: top;\n",
       "    }\n",
       "\n",
       "    .dataframe thead th {\n",
       "        text-align: right;\n",
       "    }\n",
       "</style>\n",
       "<table border=\"1\" class=\"dataframe\">\n",
       "  <thead>\n",
       "    <tr style=\"text-align: right;\">\n",
       "      <th></th>\n",
       "      <th>periodo</th>\n",
       "      <th>product_id</th>\n",
       "      <th>venta</th>\n",
       "    </tr>\n",
       "  </thead>\n",
       "  <tbody>\n",
       "    <tr>\n",
       "      <th>0</th>\n",
       "      <td>2017-01-01</td>\n",
       "      <td>20001</td>\n",
       "      <td>934.77222</td>\n",
       "    </tr>\n",
       "    <tr>\n",
       "      <th>1</th>\n",
       "      <td>2017-01-01</td>\n",
       "      <td>20002</td>\n",
       "      <td>550.15707</td>\n",
       "    </tr>\n",
       "    <tr>\n",
       "      <th>2</th>\n",
       "      <td>2017-01-01</td>\n",
       "      <td>20003</td>\n",
       "      <td>1063.45835</td>\n",
       "    </tr>\n",
       "    <tr>\n",
       "      <th>3</th>\n",
       "      <td>2017-01-01</td>\n",
       "      <td>20004</td>\n",
       "      <td>555.91614</td>\n",
       "    </tr>\n",
       "    <tr>\n",
       "      <th>4</th>\n",
       "      <td>2017-01-01</td>\n",
       "      <td>20005</td>\n",
       "      <td>494.27011</td>\n",
       "    </tr>\n",
       "  </tbody>\n",
       "</table>\n",
       "</div>"
      ],
      "text/plain": [
       "     periodo product_id       venta\n",
       "0 2017-01-01      20001   934.77222\n",
       "1 2017-01-01      20002   550.15707\n",
       "2 2017-01-01      20003  1063.45835\n",
       "3 2017-01-01      20004   555.91614\n",
       "4 2017-01-01      20005   494.27011"
      ]
     },
     "execution_count": 100,
     "metadata": {},
     "output_type": "execute_result"
    }
   ],
   "source": [
    "# Leer el archivo CSV sin encabezado\n",
    "df_ventas_mensuales = pd.read_csv(\"C:/Users/usuario/otros/Desktop/MCD/6 Labo III/Forecasting Problem/Datasets/df_ventas_product.csv\", header=None, index_col=False)\n",
    "column_names = [\"periodo\"] + grouped_columns + [\"venta\"]\n",
    "df_ventas_mensuales.columns = column_names\n",
    "df_ventas_mensuales['periodo'] = pd.to_datetime(df_ventas_mensuales['periodo'])\n",
    "df_ventas_mensuales['product_id']=df_ventas_mensuales['product_id'].astype(str)\n",
    "df_ventas_mensuales.head(5)"
   ]
  },
  {
   "cell_type": "code",
   "execution_count": 101,
   "metadata": {},
   "outputs": [
    {
     "data": {
      "text/plain": [
       "periodo       datetime64[ns]\n",
       "product_id            object\n",
       "venta                float64\n",
       "dtype: object"
      ]
     },
     "execution_count": 101,
     "metadata": {},
     "output_type": "execute_result"
    }
   ],
   "source": [
    "df_ventas_mensuales.dtypes"
   ]
  },
  {
   "cell_type": "markdown",
   "metadata": {},
   "source": [
    "- Unión info histórica y forecast"
   ]
  },
  {
   "cell_type": "code",
   "execution_count": 102,
   "metadata": {},
   "outputs": [
    {
     "data": {
      "text/plain": [
       "periodo       datetime64[ns]\n",
       "product_id            object\n",
       "tn                   float64\n",
       "dtype: object"
      ]
     },
     "execution_count": 102,
     "metadata": {},
     "output_type": "execute_result"
    }
   ],
   "source": [
    "df_predictions_concat.dtypes"
   ]
  },
  {
   "cell_type": "code",
   "execution_count": 103,
   "metadata": {},
   "outputs": [
    {
     "data": {
      "text/plain": [
       "periodo       datetime64[ns]\n",
       "product_id            object\n",
       "venta                float64\n",
       "dtype: object"
      ]
     },
     "execution_count": 103,
     "metadata": {},
     "output_type": "execute_result"
    }
   ],
   "source": [
    "df_ventas_mensuales.dtypes"
   ]
  },
  {
   "cell_type": "code",
   "execution_count": 104,
   "metadata": {},
   "outputs": [
    {
     "data": {
      "text/html": [
       "<div>\n",
       "<style scoped>\n",
       "    .dataframe tbody tr th:only-of-type {\n",
       "        vertical-align: middle;\n",
       "    }\n",
       "\n",
       "    .dataframe tbody tr th {\n",
       "        vertical-align: top;\n",
       "    }\n",
       "\n",
       "    .dataframe thead th {\n",
       "        text-align: right;\n",
       "    }\n",
       "</style>\n",
       "<table border=\"1\" class=\"dataframe\">\n",
       "  <thead>\n",
       "    <tr style=\"text-align: right;\">\n",
       "      <th></th>\n",
       "      <th>periodo</th>\n",
       "      <th>product_id</th>\n",
       "      <th>venta</th>\n",
       "      <th>mean</th>\n",
       "    </tr>\n",
       "  </thead>\n",
       "  <tbody>\n",
       "    <tr>\n",
       "      <th>0</th>\n",
       "      <td>2017-01-01</td>\n",
       "      <td>20001</td>\n",
       "      <td>934.77222</td>\n",
       "      <td>NaN</td>\n",
       "    </tr>\n",
       "    <tr>\n",
       "      <th>1</th>\n",
       "      <td>2017-01-01</td>\n",
       "      <td>20002</td>\n",
       "      <td>550.15707</td>\n",
       "      <td>NaN</td>\n",
       "    </tr>\n",
       "    <tr>\n",
       "      <th>2</th>\n",
       "      <td>2017-01-01</td>\n",
       "      <td>20003</td>\n",
       "      <td>1063.45835</td>\n",
       "      <td>NaN</td>\n",
       "    </tr>\n",
       "    <tr>\n",
       "      <th>3</th>\n",
       "      <td>2017-01-01</td>\n",
       "      <td>20004</td>\n",
       "      <td>555.91614</td>\n",
       "      <td>NaN</td>\n",
       "    </tr>\n",
       "    <tr>\n",
       "      <th>4</th>\n",
       "      <td>2017-01-01</td>\n",
       "      <td>20005</td>\n",
       "      <td>494.27011</td>\n",
       "      <td>NaN</td>\n",
       "    </tr>\n",
       "  </tbody>\n",
       "</table>\n",
       "</div>"
      ],
      "text/plain": [
       "     periodo product_id       venta  mean\n",
       "0 2017-01-01      20001   934.77222   NaN\n",
       "1 2017-01-01      20002   550.15707   NaN\n",
       "2 2017-01-01      20003  1063.45835   NaN\n",
       "3 2017-01-01      20004   555.91614   NaN\n",
       "4 2017-01-01      20005   494.27011   NaN"
      ]
     },
     "execution_count": 104,
     "metadata": {},
     "output_type": "execute_result"
    }
   ],
   "source": [
    "# Para los meses en los que coexiste venta real con forecast se realiza un merge outer\n",
    "df_forecasts_historic=pd.concat([df_ventas_mensuales, df_predictions_concat])\n",
    "df_forecasts_historic=df_forecasts_historic.rename(columns={\"tn\":\"mean\"})\n",
    "df_forecasts_historic.head(5)"
   ]
  },
  {
   "cell_type": "markdown",
   "metadata": {},
   "source": [
    "- Graficos"
   ]
  },
  {
   "cell_type": "code",
   "execution_count": 105,
   "metadata": {},
   "outputs": [],
   "source": [
    "def graficar_producto(df, product_id):\n",
    "    # Filtrar los datos para un producto específico\n",
    "    filtered_data = df[df[\"product_id\"] == product_id]\n",
    "    filtered_data['periodo'] = pd.to_datetime(filtered_data['periodo'])\n",
    "\n",
    "    # Crear una figura y ejes\n",
    "    plt.figure(figsize=(10, 6))\n",
    "\n",
    "    # Graficar la serie de tiempo de ventas\n",
    "    sns.lineplot(data=filtered_data, x=\"periodo\", y=\"venta\", marker=\"x\", label=\"Venta\")\n",
    "    # Graficar la serie de tiempo de medias\n",
    "    sns.lineplot(data=filtered_data, x=\"periodo\", y=\"mean\", marker=\"o\", label=\"Forecast\")\n",
    "\n",
    "    # Añadir título y etiquetas\n",
    "    plt.title(\"Serie de tiempo de ventas y medias para el producto {}\".format(product_id))\n",
    "    plt.xlabel(\"Mes\")\n",
    "    plt.ylabel(\"Venta / Forecast\")\n",
    "\n",
    "    # Mostrar la leyenda\n",
    "    plt.legend(title=\"Variable\", loc=\"upper left\")\n",
    "\n",
    "    # Mostrar el gráfico\n",
    "    return plt.show()"
   ]
  },
  {
   "cell_type": "code",
   "execution_count": 106,
   "metadata": {},
   "outputs": [
    {
     "name": "stderr",
     "output_type": "stream",
     "text": [
      "C:\\Users\\usuario\\AppData\\Local\\Temp\\ipykernel_17552\\2745594770.py:4: SettingWithCopyWarning: \n",
      "A value is trying to be set on a copy of a slice from a DataFrame.\n",
      "Try using .loc[row_indexer,col_indexer] = value instead\n",
      "\n",
      "See the caveats in the documentation: https://pandas.pydata.org/pandas-docs/stable/user_guide/indexing.html#returning-a-view-versus-a-copy\n",
      "  filtered_data['periodo'] = pd.to_datetime(filtered_data['periodo'])\n"
     ]
    },
    {
     "data": {
      "image/png": "[encoded data removed]",
      "text/plain": [
       "<Figure size 1000x600 with 1 Axes>"
      ]
     },
     "metadata": {},
     "output_type": "display_data"
    }
   ],
   "source": [
    "graficar_producto(df_forecasts_historic, product_id = \"20001\")"
   ]
  },
  {
   "cell_type": "code",
   "execution_count": 107,
   "metadata": {},
   "outputs": [
    {
     "name": "stderr",
     "output_type": "stream",
     "text": [
      "C:\\Users\\usuario\\AppData\\Local\\Temp\\ipykernel_17552\\2745594770.py:4: SettingWithCopyWarning: \n",
      "A value is trying to be set on a copy of a slice from a DataFrame.\n",
      "Try using .loc[row_indexer,col_indexer] = value instead\n",
      "\n",
      "See the caveats in the documentation: https://pandas.pydata.org/pandas-docs/stable/user_guide/indexing.html#returning-a-view-versus-a-copy\n",
      "  filtered_data['periodo'] = pd.to_datetime(filtered_data['periodo'])\n"
     ]
    },
    {
     "data": {
      "image/png": "[encoded data removed]",
      "text/plain": [
       "<Figure size 1000x600 with 1 Axes>"
      ]
     },
     "metadata": {},
     "output_type": "display_data"
    }
   ],
   "source": [
    "graficar_producto(df_forecasts_historic, product_id = \"20002\")"
   ]
  },
  {
   "cell_type": "markdown",
   "metadata": {},
   "source": [
    "- Exportamos"
   ]
  },
  {
   "cell_type": "code",
   "execution_count": 108,
   "metadata": {},
   "outputs": [
    {
     "name": "stdout",
     "output_type": "stream",
     "text": [
      "['2020-02-01T00:00:00Z']\n"
     ]
    }
   ],
   "source": [
    "df_predictions = df_predictions[df_predictions.periodo == '2020-02-01T00:00:00Z']\n",
    "print(df_predictions.periodo.unique())\n",
    "df_predictions = df_predictions.drop(columns = \"periodo\")\n",
    "df_predictions[\"product_id\"] = df_predictions[\"product_id\"].astype(int)\n",
    "df_predictions.to_csv(f\"C:/Users/usuario/otros/Desktop\\MCD/6 Labo III/Forecasting Problem/Outputs/prediccion_modelo{data_version}_AWS.csv\", sep = \",\", index = False)"
   ]
  },
  {
   "cell_type": "code",
   "execution_count": 109,
   "metadata": {},
   "outputs": [
    {
     "data": {
      "text/plain": [
       "product_id      int32\n",
       "tn            float64\n",
       "dtype: object"
      ]
     },
     "execution_count": 109,
     "metadata": {},
     "output_type": "execute_result"
    }
   ],
   "source": [
    "df_predictions.dtypes"
   ]
  },
  {
   "cell_type": "code",
   "execution_count": 110,
   "metadata": {},
   "outputs": [
    {
     "data": {
      "text/plain": [
       "780"
      ]
     },
     "execution_count": 110,
     "metadata": {},
     "output_type": "execute_result"
    }
   ],
   "source": [
    "len(df_predictions)"
   ]
  },
  {
   "cell_type": "code",
   "execution_count": 111,
   "metadata": {},
   "outputs": [
    {
     "data": {
      "text/plain": [
       "34373.83009061372"
      ]
     },
     "execution_count": 111,
     "metadata": {},
     "output_type": "execute_result"
    }
   ],
   "source": [
    "df_predictions.tn.sum()"
   ]
  },
  {
   "cell_type": "code",
   "execution_count": 118,
   "metadata": {},
   "outputs": [],
   "source": [
    "df_predictions_v1 = df_predictions.copy()\n",
    "df_predictions_v1[\"tn\"] = df_predictions_v1[\"tn\"]*0.78\n",
    "df_predictions_v1.to_csv(f\"C:/Users/usuario/otros/Desktop\\MCD/6 Labo III/Forecasting Problem/Outputs/prediccion_modelo{data_version}_AWS_ajustado.csv\", sep = \",\", index = False)"
   ]
  },
  {
   "cell_type": "code",
   "execution_count": 119,
   "metadata": {},
   "outputs": [
    {
     "data": {
      "text/plain": [
       "26811.587470678707"
      ]
     },
     "execution_count": 119,
     "metadata": {},
     "output_type": "execute_result"
    }
   ],
   "source": [
    "df_predictions_v1.tn.sum()"
   ]
  },
  {
   "cell_type": "code",
   "execution_count": null,
   "metadata": {},
   "outputs": [],
   "source": []
  }
 ],
 "metadata": {
  "kernelspec": {
   "display_name": "Python 3",
   "language": "python",
   "name": "python3"
  },
  "language_info": {
   "codemirror_mode": {
    "name": "ipython",
    "version": 3
   },
   "file_extension": ".py",
   "mimetype": "text/x-python",
   "name": "python",
   "nbconvert_exporter": "python",
   "pygments_lexer": "ipython3",
   "version": "3.11.2"
  }
 },
 "nbformat": 4,
 "nbformat_minor": 4
}
