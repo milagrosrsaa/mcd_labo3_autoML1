{
 "cells": [
  {
   "cell_type": "markdown",
   "metadata": {},
   "source": [
    "<center>\n",
    "  <h2>Trabajo Laboratorio de Implementación III - MCD Virtual Cohorte 2022</h2>\n",
    "  <h3>Forecasting para una Empresa de Consumo Masivo</h3>\n",
    "  <h4>Evaluación</h4>\n",
    "</center>"
   ]
  },
  {
   "cell_type": "code",
   "execution_count": 1,
   "metadata": {},
   "outputs": [],
   "source": [
    "# Importación librerias\n",
    "\n",
    "# !pip install awswrangler\n",
    "# !pip install boto3\n",
    "import boto3\n",
    "import awswrangler as wr\n",
    "import pandas as pd\n",
    "import numpy as np\n",
    "from datetime import datetime\n",
    "from dateutil.relativedelta import relativedelta"
   ]
  },
  {
   "cell_type": "code",
   "execution_count": 34,
   "metadata": {},
   "outputs": [
    {
     "name": "stdout",
     "output_type": "stream",
     "text": [
      "Fecha inicio historia 2017-01-01 00:00:00\n",
      "Fecha fin historia 2019-12-01 00:00:00\n",
      "Fecha futura (related time series) 2020-02-01 00:00:00\n"
     ]
    }
   ],
   "source": [
    "# Definición fechas\n",
    "\n",
    "date_start=datetime.strptime('2017-01-01', '%Y-%m-%d')\n",
    "date_end=datetime.strptime('2019-12-01', '%Y-%m-%d')\n",
    "forecast_length = 2\n",
    "date_future=date_end+relativedelta(months=forecast_length)\n",
    "years=range(2018, 2020)\n",
    "\n",
    "print(f\"Fecha inicio historia {date_start}\")\n",
    "print(f\"Fecha fin historia {date_end}\")\n",
    "print(f\"Fecha futura (related time series) {date_future}\")\n",
    "\n",
    "# Versión modelo\n",
    "data_version = '2'\n",
    "grouped_columns = [\"product_id\", \"cluster_id\"]\n",
    "grouped_cols_name = \"product_cluster\"\n",
    "\n",
    "# Parametros backtest\n",
    "dataset_frequency='M'\n",
    "quantiles=[\"mean\"]"
   ]
  },
  {
   "cell_type": "code",
   "execution_count": 3,
   "metadata": {},
   "outputs": [],
   "source": [
    "# Conexiones AWS\n",
    "\n",
    "account_id=boto3.client('sts').get_caller_identity().get('Account')\n",
    "session = boto3.Session() \n",
    "forecast = session.client(service_name='forecast')\n",
    "region = forecast.meta.region_name\n",
    "forecastquery = session.client(service_name='forecastquery')\n",
    "role = f'arn:aws:iam::{account_id}:role/ForecastRole'"
   ]
  },
  {
   "cell_type": "code",
   "execution_count": 4,
   "metadata": {},
   "outputs": [],
   "source": [
    "# Buckets de datos\n",
    "\n",
    "# Data\n",
    "target_s3_path=f's3://datasets-forecast/modelo-{data_version}-forecast-{grouped_cols_name}/target/df_ventas_{grouped_cols_name}.csv'\n",
    "items_s3_path=f's3://datasets-forecast/modelo-{data_version}-forecast-{grouped_cols_name}/product/df_products.csv'\n",
    "related_s3_path=f's3://datasets-forecast/modelo-{data_version}-forecast-{grouped_cols_name}/related/df_related_{grouped_cols_name}.csv'\n",
    "\n",
    "# Outputs\n",
    "backtest_export_path=f's3://datasets-forecast/modelo-{data_version}-forecast-{grouped_cols_name}/output/'"
   ]
  },
  {
   "cell_type": "code",
   "execution_count": 5,
   "metadata": {},
   "outputs": [],
   "source": [
    "# Formar ARNs\n",
    "\n",
    "dataset_group_arn=f'arn:aws:forecast:us-east-1:{account_id}:dataset-group/modelo_{data_version}_{grouped_cols_name}'\n",
    "# Se busca de la notebook 3\n",
    "codigo_predictor = '01HZQRGFBR9PMEB0RNENW4X9BQ'\n",
    "automl_predictor_arn = f'arn:aws:forecast:us-east-1:{account_id}:predictor/modelo_{data_version}_predictor_{codigo_predictor}'"
   ]
  },
  {
   "cell_type": "code",
   "execution_count": 6,
   "metadata": {},
   "outputs": [],
   "source": [
    "# Verificar comunicación con Amazon Forecast\n",
    "assert forecast.list_predictors()"
   ]
  },
  {
   "cell_type": "markdown",
   "metadata": {},
   "source": [
    "### Backtest export job"
   ]
  },
  {
   "cell_type": "code",
   "execution_count": 7,
   "metadata": {},
   "outputs": [
    {
     "data": {
      "text/plain": [
       "'modelo_2_predictor_export'"
      ]
     },
     "execution_count": 7,
     "metadata": {},
     "output_type": "execute_result"
    }
   ],
   "source": [
    "# Nombre del projecto y dataset group\n",
    "backtest_export_job_name = f\"modelo_{data_version}_predictor_export\"\n",
    "backtest_export_job_name"
   ]
  },
  {
   "cell_type": "code",
   "execution_count": 8,
   "metadata": {},
   "outputs": [],
   "source": [
    "response = forecast.create_predictor_backtest_export_job(\n",
    "    PredictorBacktestExportJobName=backtest_export_job_name,\n",
    "    PredictorArn=automl_predictor_arn,\n",
    "    Destination={\n",
    "        'S3Config': {\n",
    "            'Path': backtest_export_path,\n",
    "            'RoleArn': role\n",
    "        }\n",
    "    },\n",
    "    Format='CSV'\n",
    ")\n",
    "backtest_export_job_arn = response['PredictorBacktestExportJobArn']"
   ]
  },
  {
   "cell_type": "code",
   "execution_count": 10,
   "metadata": {},
   "outputs": [
    {
     "name": "stdout",
     "output_type": "stream",
     "text": [
      "Waiting for Backtest export job with ARN arn:aws:forecast:us-east-1:637423651905:predictor-backtest-export-job/modelo_2_predictor/modelo_2_predictor_export to be completed. \n",
      "Current Status:\n"
     ]
    },
    {
     "data": {
      "text/plain": [
       "'ACTIVE'"
      ]
     },
     "execution_count": 10,
     "metadata": {},
     "output_type": "execute_result"
    }
   ],
   "source": [
    "print(f\"Waiting for Backtest export job with ARN {backtest_export_job_arn} to be completed. \\nCurrent Status:\")\n",
    "forecast.describe_predictor_backtest_export_job(PredictorBacktestExportJobArn=\n",
    "                backtest_export_job_arn)['Status']"
   ]
  },
  {
   "cell_type": "markdown",
   "metadata": {},
   "source": [
    "### Evaluate"
   ]
  },
  {
   "cell_type": "code",
   "execution_count": 35,
   "metadata": {},
   "outputs": [
    {
     "data": {
      "text/html": [
       "<div>\n",
       "<style scoped>\n",
       "    .dataframe tbody tr th:only-of-type {\n",
       "        vertical-align: middle;\n",
       "    }\n",
       "\n",
       "    .dataframe tbody tr th {\n",
       "        vertical-align: top;\n",
       "    }\n",
       "\n",
       "    .dataframe thead th {\n",
       "        text-align: right;\n",
       "    }\n",
       "</style>\n",
       "<table border=\"1\" class=\"dataframe\">\n",
       "  <thead>\n",
       "    <tr style=\"text-align: right;\">\n",
       "      <th></th>\n",
       "      <th>periodo</th>\n",
       "      <th>product_id</th>\n",
       "      <th>cluster_id</th>\n",
       "      <th>mean</th>\n",
       "    </tr>\n",
       "  </thead>\n",
       "  <tbody>\n",
       "    <tr>\n",
       "      <th>0</th>\n",
       "      <td>2019-11-01</td>\n",
       "      <td>20824</td>\n",
       "      <td>B</td>\n",
       "      <td>0.009447</td>\n",
       "    </tr>\n",
       "    <tr>\n",
       "      <th>1</th>\n",
       "      <td>2019-12-01</td>\n",
       "      <td>20824</td>\n",
       "      <td>B</td>\n",
       "      <td>0.008175</td>\n",
       "    </tr>\n",
       "    <tr>\n",
       "      <th>2</th>\n",
       "      <td>2019-11-01</td>\n",
       "      <td>20638</td>\n",
       "      <td>F</td>\n",
       "      <td>0.162267</td>\n",
       "    </tr>\n",
       "    <tr>\n",
       "      <th>3</th>\n",
       "      <td>2019-12-01</td>\n",
       "      <td>20638</td>\n",
       "      <td>F</td>\n",
       "      <td>0.133266</td>\n",
       "    </tr>\n",
       "    <tr>\n",
       "      <th>4</th>\n",
       "      <td>2019-11-01</td>\n",
       "      <td>21142</td>\n",
       "      <td>E</td>\n",
       "      <td>0.021945</td>\n",
       "    </tr>\n",
       "  </tbody>\n",
       "</table>\n",
       "</div>"
      ],
      "text/plain": [
       "     periodo product_id cluster_id      mean\n",
       "0 2019-11-01      20824          B  0.009447\n",
       "1 2019-12-01      20824          B  0.008175\n",
       "2 2019-11-01      20638          F  0.162267\n",
       "3 2019-12-01      20638          F  0.133266\n",
       "4 2019-11-01      21142          E  0.021945"
      ]
     },
     "execution_count": 35,
     "metadata": {},
     "output_type": "execute_result"
    }
   ],
   "source": [
    "df_forecasts=wr.s3.read_csv(backtest_export_path + 'forecasted-values/')\n",
    "df_forecasts['periodo']=pd.to_datetime(df_forecasts['timestamp'], format='%Y-%m-%dT%H:%M:%SZ').dt.date\n",
    "df_forecasts['product_id']=df_forecasts['item_id']\n",
    "df_forecasts = df_forecasts.drop(columns = {\"item_id\", \"target_value\", \"backtestwindow_start_time\", \"backtestwindow_end_time\", \"timestamp\"})\n",
    "for q in quantiles:\n",
    "    df_forecasts[q] = df_forecasts[q].astype(float)\n",
    "df_forecasts.head()\n",
    "df_forecasts = df_forecasts[[\"periodo\"] + grouped_columns + quantiles]\n",
    "df_forecasts['product_id']=df_forecasts['product_id'].astype(str)\n",
    "df_forecasts['periodo']=pd.to_datetime(df_forecasts['periodo'])\n",
    "df_forecasts.head(5)"
   ]
  },
  {
   "cell_type": "code",
   "execution_count": 36,
   "metadata": {},
   "outputs": [
    {
     "data": {
      "text/plain": [
       "periodo       datetime64[ns]\n",
       "product_id            object\n",
       "cluster_id            object\n",
       "mean                 float64\n",
       "dtype: object"
      ]
     },
     "execution_count": 36,
     "metadata": {},
     "output_type": "execute_result"
    }
   ],
   "source": [
    "df_forecasts.dtypes"
   ]
  },
  {
   "cell_type": "markdown",
   "metadata": {},
   "source": [
    "- Backtest timing"
   ]
  },
  {
   "cell_type": "code",
   "execution_count": 37,
   "metadata": {},
   "outputs": [
    {
     "name": "stdout",
     "output_type": "stream",
     "text": [
      "Start backtest:  2019-11-01\n",
      "End backtest:  2019-12-01\n"
     ]
    }
   ],
   "source": [
    "print('Start backtest: ', df_forecasts['periodo'].astype(str).min())\n",
    "print('End backtest: ', df_forecasts['periodo'].astype(str).max())"
   ]
  },
  {
   "cell_type": "code",
   "execution_count": 38,
   "metadata": {},
   "outputs": [],
   "source": [
    "date_min_forecast = df_forecasts['periodo'].astype(str).min()\n",
    "date_min_forecast = pd.to_datetime(date_min_forecast)"
   ]
  },
  {
   "cell_type": "markdown",
   "metadata": {},
   "source": [
    "- Backtest items check"
   ]
  },
  {
   "cell_type": "code",
   "execution_count": 39,
   "metadata": {},
   "outputs": [
    {
     "data": {
      "text/plain": [
       "771"
      ]
     },
     "execution_count": 39,
     "metadata": {},
     "output_type": "execute_result"
    }
   ],
   "source": [
    "len(df_forecasts.product_id.unique())"
   ]
  },
  {
   "cell_type": "markdown",
   "metadata": {},
   "source": [
    "- Read historic sales data"
   ]
  },
  {
   "cell_type": "code",
   "execution_count": 40,
   "metadata": {},
   "outputs": [
    {
     "data": {
      "text/html": [
       "<div>\n",
       "<style scoped>\n",
       "    .dataframe tbody tr th:only-of-type {\n",
       "        vertical-align: middle;\n",
       "    }\n",
       "\n",
       "    .dataframe tbody tr th {\n",
       "        vertical-align: top;\n",
       "    }\n",
       "\n",
       "    .dataframe thead th {\n",
       "        text-align: right;\n",
       "    }\n",
       "</style>\n",
       "<table border=\"1\" class=\"dataframe\">\n",
       "  <thead>\n",
       "    <tr style=\"text-align: right;\">\n",
       "      <th></th>\n",
       "      <th>periodo</th>\n",
       "      <th>cluster_id</th>\n",
       "      <th>product_id</th>\n",
       "      <th>venta</th>\n",
       "    </tr>\n",
       "  </thead>\n",
       "  <tbody>\n",
       "    <tr>\n",
       "      <th>0</th>\n",
       "      <td>2017-01-01</td>\n",
       "      <td>A</td>\n",
       "      <td>20001</td>\n",
       "      <td>0.170742</td>\n",
       "    </tr>\n",
       "    <tr>\n",
       "      <th>1</th>\n",
       "      <td>2017-01-01</td>\n",
       "      <td>A</td>\n",
       "      <td>20003</td>\n",
       "      <td>0.648120</td>\n",
       "    </tr>\n",
       "    <tr>\n",
       "      <th>2</th>\n",
       "      <td>2017-01-01</td>\n",
       "      <td>A</td>\n",
       "      <td>20004</td>\n",
       "      <td>0.652958</td>\n",
       "    </tr>\n",
       "    <tr>\n",
       "      <th>3</th>\n",
       "      <td>2017-01-01</td>\n",
       "      <td>A</td>\n",
       "      <td>20005</td>\n",
       "      <td>0.781871</td>\n",
       "    </tr>\n",
       "    <tr>\n",
       "      <th>4</th>\n",
       "      <td>2017-01-01</td>\n",
       "      <td>A</td>\n",
       "      <td>20006</td>\n",
       "      <td>0.021172</td>\n",
       "    </tr>\n",
       "  </tbody>\n",
       "</table>\n",
       "</div>"
      ],
      "text/plain": [
       "     periodo cluster_id product_id     venta\n",
       "0 2017-01-01          A      20001  0.170742\n",
       "1 2017-01-01          A      20003  0.648120\n",
       "2 2017-01-01          A      20004  0.652958\n",
       "3 2017-01-01          A      20005  0.781871\n",
       "4 2017-01-01          A      20006  0.021172"
      ]
     },
     "execution_count": 40,
     "metadata": {},
     "output_type": "execute_result"
    }
   ],
   "source": [
    "# Leer el archivo CSV sin encabezado\n",
    "df_ventas_mensuales = pd.read_csv(\"C:/Users/usuario/otros/Desktop/MCD/6 Labo III/Forecasting Problem/Datasets/df_ventas_product_cluster.csv\", header=None, index_col=False)\n",
    "column_names = [\"periodo\"] + [\"cluster_id\", \"product_id\"] + [\"venta\"]\n",
    "df_ventas_mensuales.columns = column_names\n",
    "df_ventas_mensuales['periodo'] = pd.to_datetime(df_ventas_mensuales['periodo'])\n",
    "df_ventas_mensuales['product_id']=df_ventas_mensuales['product_id'].astype(str)\n",
    "df_ventas_mensuales.head(5)"
   ]
  },
  {
   "cell_type": "code",
   "execution_count": 41,
   "metadata": {},
   "outputs": [
    {
     "data": {
      "text/plain": [
       "periodo       datetime64[ns]\n",
       "cluster_id            object\n",
       "product_id            object\n",
       "venta                float64\n",
       "dtype: object"
      ]
     },
     "execution_count": 41,
     "metadata": {},
     "output_type": "execute_result"
    }
   ],
   "source": [
    "df_ventas_mensuales.dtypes"
   ]
  },
  {
   "cell_type": "code",
   "execution_count": 42,
   "metadata": {},
   "outputs": [
    {
     "data": {
      "text/plain": [
       "780"
      ]
     },
     "execution_count": 42,
     "metadata": {},
     "output_type": "execute_result"
    }
   ],
   "source": [
    "len(df_ventas_mensuales.product_id.unique())"
   ]
  },
  {
   "cell_type": "markdown",
   "metadata": {},
   "source": [
    "- Productos sin forecast"
   ]
  },
  {
   "cell_type": "code",
   "execution_count": 43,
   "metadata": {},
   "outputs": [
    {
     "data": {
      "text/plain": [
       "['21214',\n",
       " '20127',\n",
       " '21087',\n",
       " '20962',\n",
       " '20210',\n",
       " '20703',\n",
       " '20686',\n",
       " '20995',\n",
       " '20975']"
      ]
     },
     "execution_count": 43,
     "metadata": {},
     "output_type": "execute_result"
    }
   ],
   "source": [
    "total_productos = df_ventas_mensuales.product_id.drop_duplicates().to_list()\n",
    "productos_forecast = df_forecasts.product_id.drop_duplicates().to_list()\n",
    "set1 = set(total_productos)\n",
    "set2 = set(productos_forecast)\n",
    "# Encontrar elementos que están en set1 pero no en set2\n",
    "elementos_en_set1_no_en_set2 = set1 - set2\n",
    "# Encontrar elementos que están en set2 pero no en set1\n",
    "elementos_en_set2_no_en_set1 = set2 - set1\n",
    "# Unir los resultados\n",
    "elementos_no_comunes = elementos_en_set1_no_en_set2.union(elementos_en_set2_no_en_set1)\n",
    "list(elementos_no_comunes)"
   ]
  },
  {
   "cell_type": "code",
   "execution_count": 44,
   "metadata": {},
   "outputs": [
    {
     "data": {
      "text/plain": [
       "Timestamp('2019-09-01 00:00:00')"
      ]
     },
     "execution_count": 44,
     "metadata": {},
     "output_type": "execute_result"
    }
   ],
   "source": [
    "df_ventas_mensuales[df_ventas_mensuales.product_id.isin(list(elementos_no_comunes))].periodo.min()\n",
    "# Solo tienen historia desde septiembre, no alcanza cantidad de historia requerida por AWS FORECAST.\n",
    "# Requiere horizonte de prediccion (2 meses) * 2 = 4 meses de historia anteriores a periodo de backtest"
   ]
  },
  {
   "cell_type": "code",
   "execution_count": 45,
   "metadata": {},
   "outputs": [
    {
     "name": "stdout",
     "output_type": "stream",
     "text": [
      "Start historical sales:  2017-01-01 00:00:00\n",
      "End historical sales:  2019-12-01 00:00:00\n"
     ]
    }
   ],
   "source": [
    "print('Start historical sales: ', df_ventas_mensuales['periodo'].min())\n",
    "print('End historical sales: ', df_ventas_mensuales['periodo'].max())"
   ]
  },
  {
   "cell_type": "markdown",
   "metadata": {},
   "source": [
    "- Unión info histórica y forecast"
   ]
  },
  {
   "cell_type": "code",
   "execution_count": 46,
   "metadata": {},
   "outputs": [
    {
     "data": {
      "text/plain": [
       "periodo       datetime64[ns]\n",
       "product_id            object\n",
       "cluster_id            object\n",
       "mean                 float64\n",
       "dtype: object"
      ]
     },
     "execution_count": 46,
     "metadata": {},
     "output_type": "execute_result"
    }
   ],
   "source": [
    "df_forecasts.dtypes"
   ]
  },
  {
   "cell_type": "code",
   "execution_count": 47,
   "metadata": {},
   "outputs": [
    {
     "data": {
      "text/plain": [
       "periodo       datetime64[ns]\n",
       "cluster_id            object\n",
       "product_id            object\n",
       "venta                float64\n",
       "dtype: object"
      ]
     },
     "execution_count": 47,
     "metadata": {},
     "output_type": "execute_result"
    }
   ],
   "source": [
    "df_ventas_mensuales.dtypes"
   ]
  },
  {
   "cell_type": "code",
   "execution_count": 48,
   "metadata": {},
   "outputs": [
    {
     "data": {
      "text/html": [
       "<div>\n",
       "<style scoped>\n",
       "    .dataframe tbody tr th:only-of-type {\n",
       "        vertical-align: middle;\n",
       "    }\n",
       "\n",
       "    .dataframe tbody tr th {\n",
       "        vertical-align: top;\n",
       "    }\n",
       "\n",
       "    .dataframe thead th {\n",
       "        text-align: right;\n",
       "    }\n",
       "</style>\n",
       "<table border=\"1\" class=\"dataframe\">\n",
       "  <thead>\n",
       "    <tr style=\"text-align: right;\">\n",
       "      <th></th>\n",
       "      <th>periodo</th>\n",
       "      <th>cluster_id</th>\n",
       "      <th>product_id</th>\n",
       "      <th>venta</th>\n",
       "      <th>mean</th>\n",
       "    </tr>\n",
       "  </thead>\n",
       "  <tbody>\n",
       "    <tr>\n",
       "      <th>0</th>\n",
       "      <td>2017-01-01</td>\n",
       "      <td>A</td>\n",
       "      <td>20001</td>\n",
       "      <td>0.170742</td>\n",
       "      <td>NaN</td>\n",
       "    </tr>\n",
       "    <tr>\n",
       "      <th>1</th>\n",
       "      <td>2017-01-01</td>\n",
       "      <td>A</td>\n",
       "      <td>20003</td>\n",
       "      <td>0.648120</td>\n",
       "      <td>NaN</td>\n",
       "    </tr>\n",
       "    <tr>\n",
       "      <th>2</th>\n",
       "      <td>2017-01-01</td>\n",
       "      <td>A</td>\n",
       "      <td>20004</td>\n",
       "      <td>0.652958</td>\n",
       "      <td>NaN</td>\n",
       "    </tr>\n",
       "    <tr>\n",
       "      <th>3</th>\n",
       "      <td>2017-01-01</td>\n",
       "      <td>A</td>\n",
       "      <td>20005</td>\n",
       "      <td>0.781871</td>\n",
       "      <td>NaN</td>\n",
       "    </tr>\n",
       "    <tr>\n",
       "      <th>4</th>\n",
       "      <td>2017-01-01</td>\n",
       "      <td>A</td>\n",
       "      <td>20006</td>\n",
       "      <td>0.021172</td>\n",
       "      <td>NaN</td>\n",
       "    </tr>\n",
       "  </tbody>\n",
       "</table>\n",
       "</div>"
      ],
      "text/plain": [
       "     periodo cluster_id product_id     venta  mean\n",
       "0 2017-01-01          A      20001  0.170742   NaN\n",
       "1 2017-01-01          A      20003  0.648120   NaN\n",
       "2 2017-01-01          A      20004  0.652958   NaN\n",
       "3 2017-01-01          A      20005  0.781871   NaN\n",
       "4 2017-01-01          A      20006  0.021172   NaN"
      ]
     },
     "execution_count": 48,
     "metadata": {},
     "output_type": "execute_result"
    }
   ],
   "source": [
    "# Para los meses en los que coexiste venta real con forecast se realiza un merge outer\n",
    "df_forecasts_historic=pd.merge(df_forecasts[df_forecasts['periodo']>=date_min_forecast], df_ventas_mensuales[df_ventas_mensuales['periodo']>=date_min_forecast], how='outer', on=['periodo'] + grouped_columns)\n",
    "df_forecasts_historic=df_forecasts_historic[['periodo'] + grouped_columns + ['venta'] + quantiles]\n",
    "# Para los meses históricos, previos a la proyección de forecast, se realiza un concat\n",
    "df_forecasts_historic = pd.concat([df_ventas_mensuales[df_ventas_mensuales['periodo']<date_min_forecast], df_forecasts_historic])\n",
    "df_forecasts_historic.head(5)"
   ]
  },
  {
   "cell_type": "code",
   "execution_count": 49,
   "metadata": {},
   "outputs": [
    {
     "data": {
      "text/plain": [
       "False"
      ]
     },
     "execution_count": 49,
     "metadata": {},
     "output_type": "execute_result"
    }
   ],
   "source": [
    "# Ok correcta concatenación: sacamos productos que no generan forecast ya que hacen que los números no coincidan y eso es correcto\n",
    "df_forecasts_historic_check = df_forecasts_historic[~df_forecasts_historic.product_id.isin(list(elementos_no_comunes))]\n",
    "df_ventas_mensuales_check = df_ventas_mensuales[~df_ventas_mensuales.product_id.isin(list(elementos_no_comunes))]\n",
    "len(df_forecasts_historic_check) == len(df_forecasts[df_forecasts['periodo']>=date_min_forecast]) + len(df_ventas_mensuales_check[df_ventas_mensuales_check['periodo']<date_min_forecast])"
   ]
  },
  {
   "cell_type": "code",
   "execution_count": 50,
   "metadata": {},
   "outputs": [],
   "source": [
    "df_forecasts_historic[['venta'] + quantiles]=df_forecasts_historic[['venta'] + quantiles].astype(float)\n",
    "df_forecasts_historic['month']=pd.to_datetime(df_forecasts_historic['periodo']).dt.to_period('M')\n",
    "df_forecasts_historic=df_forecasts_historic[['periodo', 'month'] + grouped_columns + ['venta'] + quantiles]"
   ]
  },
  {
   "cell_type": "code",
   "execution_count": 51,
   "metadata": {},
   "outputs": [
    {
     "data": {
      "text/html": [
       "<div>\n",
       "<style scoped>\n",
       "    .dataframe tbody tr th:only-of-type {\n",
       "        vertical-align: middle;\n",
       "    }\n",
       "\n",
       "    .dataframe tbody tr th {\n",
       "        vertical-align: top;\n",
       "    }\n",
       "\n",
       "    .dataframe thead th {\n",
       "        text-align: right;\n",
       "    }\n",
       "</style>\n",
       "<table border=\"1\" class=\"dataframe\">\n",
       "  <thead>\n",
       "    <tr style=\"text-align: right;\">\n",
       "      <th></th>\n",
       "      <th>periodo</th>\n",
       "      <th>month</th>\n",
       "      <th>product_id</th>\n",
       "      <th>cluster_id</th>\n",
       "      <th>venta</th>\n",
       "      <th>mean</th>\n",
       "    </tr>\n",
       "  </thead>\n",
       "  <tbody>\n",
       "    <tr>\n",
       "      <th>0</th>\n",
       "      <td>2017-01-01</td>\n",
       "      <td>2017-01</td>\n",
       "      <td>20001</td>\n",
       "      <td>A</td>\n",
       "      <td>0.170742</td>\n",
       "      <td>NaN</td>\n",
       "    </tr>\n",
       "  </tbody>\n",
       "</table>\n",
       "</div>"
      ],
      "text/plain": [
       "     periodo    month product_id cluster_id     venta  mean\n",
       "0 2017-01-01  2017-01      20001          A  0.170742   NaN"
      ]
     },
     "execution_count": 51,
     "metadata": {},
     "output_type": "execute_result"
    }
   ],
   "source": [
    "df_forecasts_historic.head(1)"
   ]
  },
  {
   "cell_type": "markdown",
   "metadata": {},
   "source": [
    "- Agregamos fuentes adicionales"
   ]
  },
  {
   "cell_type": "code",
   "execution_count": 52,
   "metadata": {},
   "outputs": [
    {
     "data": {
      "text/html": [
       "<div>\n",
       "<style scoped>\n",
       "    .dataframe tbody tr th:only-of-type {\n",
       "        vertical-align: middle;\n",
       "    }\n",
       "\n",
       "    .dataframe tbody tr th {\n",
       "        vertical-align: top;\n",
       "    }\n",
       "\n",
       "    .dataframe thead th {\n",
       "        text-align: right;\n",
       "    }\n",
       "</style>\n",
       "<table border=\"1\" class=\"dataframe\">\n",
       "  <thead>\n",
       "    <tr style=\"text-align: right;\">\n",
       "      <th></th>\n",
       "      <th>product_id</th>\n",
       "      <th>cat1</th>\n",
       "      <th>cat2</th>\n",
       "      <th>cat3</th>\n",
       "      <th>brand</th>\n",
       "      <th>sku_size</th>\n",
       "    </tr>\n",
       "  </thead>\n",
       "  <tbody>\n",
       "    <tr>\n",
       "      <th>0</th>\n",
       "      <td>20180</td>\n",
       "      <td>HC</td>\n",
       "      <td>ROPA LAVADO</td>\n",
       "      <td>Liquido</td>\n",
       "      <td>LIMPIEX</td>\n",
       "      <td>450</td>\n",
       "    </tr>\n",
       "    <tr>\n",
       "      <th>1</th>\n",
       "      <td>20332</td>\n",
       "      <td>HC</td>\n",
       "      <td>ROPA LAVADO</td>\n",
       "      <td>Liquido</td>\n",
       "      <td>LIMPIEX</td>\n",
       "      <td>120</td>\n",
       "    </tr>\n",
       "    <tr>\n",
       "      <th>2</th>\n",
       "      <td>20222</td>\n",
       "      <td>HC</td>\n",
       "      <td>ROPA LAVADO</td>\n",
       "      <td>Liquido</td>\n",
       "      <td>LIMPIEX</td>\n",
       "      <td>450</td>\n",
       "    </tr>\n",
       "    <tr>\n",
       "      <th>3</th>\n",
       "      <td>20288</td>\n",
       "      <td>HC</td>\n",
       "      <td>ROPA LAVADO</td>\n",
       "      <td>Liquido</td>\n",
       "      <td>LIMPIEX</td>\n",
       "      <td>900</td>\n",
       "    </tr>\n",
       "    <tr>\n",
       "      <th>4</th>\n",
       "      <td>20082</td>\n",
       "      <td>HC</td>\n",
       "      <td>ROPA MANCHAS</td>\n",
       "      <td>Ladrillo</td>\n",
       "      <td>LIMPIEX</td>\n",
       "      <td>200</td>\n",
       "    </tr>\n",
       "  </tbody>\n",
       "</table>\n",
       "</div>"
      ],
      "text/plain": [
       "  product_id cat1          cat2      cat3    brand  sku_size\n",
       "0      20180   HC   ROPA LAVADO   Liquido  LIMPIEX       450\n",
       "1      20332   HC   ROPA LAVADO   Liquido  LIMPIEX       120\n",
       "2      20222   HC   ROPA LAVADO   Liquido  LIMPIEX       450\n",
       "3      20288   HC   ROPA LAVADO   Liquido  LIMPIEX       900\n",
       "4      20082   HC  ROPA MANCHAS  Ladrillo  LIMPIEX       200"
      ]
     },
     "execution_count": 52,
     "metadata": {},
     "output_type": "execute_result"
    }
   ],
   "source": [
    "df_productos = pd.read_csv(\"C:/Users/usuario/otros/Desktop\\MCD/6 Labo III/Forecasting Problem/Datasets/df_products.csv\")\n",
    "df_productos.columns = [\"product_id\", \"cat1\", \"cat2\", \"cat3\", \"brand\", \"sku_size\"]\n",
    "df_productos[\"product_id\"] = df_productos[\"product_id\"].astype(str)\n",
    "df_productos.head(5)"
   ]
  },
  {
   "cell_type": "code",
   "execution_count": 53,
   "metadata": {},
   "outputs": [
    {
     "data": {
      "text/html": [
       "<div>\n",
       "<style scoped>\n",
       "    .dataframe tbody tr th:only-of-type {\n",
       "        vertical-align: middle;\n",
       "    }\n",
       "\n",
       "    .dataframe tbody tr th {\n",
       "        vertical-align: top;\n",
       "    }\n",
       "\n",
       "    .dataframe thead th {\n",
       "        text-align: right;\n",
       "    }\n",
       "</style>\n",
       "<table border=\"1\" class=\"dataframe\">\n",
       "  <thead>\n",
       "    <tr style=\"text-align: right;\">\n",
       "      <th></th>\n",
       "      <th>periodo</th>\n",
       "      <th>month</th>\n",
       "      <th>product_id</th>\n",
       "      <th>cluster_id</th>\n",
       "      <th>venta</th>\n",
       "      <th>mean</th>\n",
       "      <th>cat1</th>\n",
       "      <th>cat2</th>\n",
       "      <th>cat3</th>\n",
       "      <th>brand</th>\n",
       "      <th>sku_size</th>\n",
       "    </tr>\n",
       "  </thead>\n",
       "  <tbody>\n",
       "    <tr>\n",
       "      <th>0</th>\n",
       "      <td>2017-01-01</td>\n",
       "      <td>2017-01</td>\n",
       "      <td>20001</td>\n",
       "      <td>A</td>\n",
       "      <td>0.170742</td>\n",
       "      <td>NaN</td>\n",
       "      <td>HC</td>\n",
       "      <td>ROPA LAVADO</td>\n",
       "      <td>Liquido</td>\n",
       "      <td>ARIEL</td>\n",
       "      <td>3000.0</td>\n",
       "    </tr>\n",
       "    <tr>\n",
       "      <th>1</th>\n",
       "      <td>2017-01-01</td>\n",
       "      <td>2017-01</td>\n",
       "      <td>20003</td>\n",
       "      <td>A</td>\n",
       "      <td>0.648120</td>\n",
       "      <td>NaN</td>\n",
       "      <td>FOODS</td>\n",
       "      <td>ADEREZOS</td>\n",
       "      <td>Mayonesa</td>\n",
       "      <td>NATURA</td>\n",
       "      <td>475.0</td>\n",
       "    </tr>\n",
       "    <tr>\n",
       "      <th>2</th>\n",
       "      <td>2017-01-01</td>\n",
       "      <td>2017-01</td>\n",
       "      <td>20004</td>\n",
       "      <td>A</td>\n",
       "      <td>0.652958</td>\n",
       "      <td>NaN</td>\n",
       "      <td>FOODS</td>\n",
       "      <td>ADEREZOS</td>\n",
       "      <td>Mayonesa</td>\n",
       "      <td>NATURA</td>\n",
       "      <td>240.0</td>\n",
       "    </tr>\n",
       "    <tr>\n",
       "      <th>3</th>\n",
       "      <td>2017-01-01</td>\n",
       "      <td>2017-01</td>\n",
       "      <td>20005</td>\n",
       "      <td>A</td>\n",
       "      <td>0.781871</td>\n",
       "      <td>NaN</td>\n",
       "      <td>FOODS</td>\n",
       "      <td>ADEREZOS</td>\n",
       "      <td>Mayonesa</td>\n",
       "      <td>NATURA</td>\n",
       "      <td>120.0</td>\n",
       "    </tr>\n",
       "    <tr>\n",
       "      <th>4</th>\n",
       "      <td>2017-01-01</td>\n",
       "      <td>2017-01</td>\n",
       "      <td>20006</td>\n",
       "      <td>A</td>\n",
       "      <td>0.021172</td>\n",
       "      <td>NaN</td>\n",
       "      <td>HC</td>\n",
       "      <td>VAJILLA</td>\n",
       "      <td>Cristalino</td>\n",
       "      <td>LIMPIEX</td>\n",
       "      <td>750.0</td>\n",
       "    </tr>\n",
       "  </tbody>\n",
       "</table>\n",
       "</div>"
      ],
      "text/plain": [
       "     periodo    month product_id cluster_id     venta  mean   cat1   \n",
       "0 2017-01-01  2017-01      20001          A  0.170742   NaN     HC  \\\n",
       "1 2017-01-01  2017-01      20003          A  0.648120   NaN  FOODS   \n",
       "2 2017-01-01  2017-01      20004          A  0.652958   NaN  FOODS   \n",
       "3 2017-01-01  2017-01      20005          A  0.781871   NaN  FOODS   \n",
       "4 2017-01-01  2017-01      20006          A  0.021172   NaN     HC   \n",
       "\n",
       "          cat2        cat3    brand  sku_size  \n",
       "0  ROPA LAVADO     Liquido    ARIEL    3000.0  \n",
       "1     ADEREZOS    Mayonesa   NATURA     475.0  \n",
       "2     ADEREZOS    Mayonesa   NATURA     240.0  \n",
       "3     ADEREZOS    Mayonesa   NATURA     120.0  \n",
       "4      VAJILLA  Cristalino  LIMPIEX     750.0  "
      ]
     },
     "execution_count": 53,
     "metadata": {},
     "output_type": "execute_result"
    }
   ],
   "source": [
    "df_forecasts_historic = pd.merge(df_forecasts_historic, df_productos, how = \"left\", on = \"product_id\")\n",
    "df_forecasts_historic.head(5)"
   ]
  },
  {
   "cell_type": "markdown",
   "metadata": {},
   "source": [
    "- Definición funciones de medición de error"
   ]
  },
  {
   "cell_type": "code",
   "execution_count": 54,
   "metadata": {},
   "outputs": [],
   "source": [
    "def text_format(val):\n",
    "    color = 'salmon' if val > 0.3 else 'green'\n",
    "    return 'color: %s' % color"
   ]
  },
  {
   "cell_type": "code",
   "execution_count": 55,
   "metadata": {},
   "outputs": [],
   "source": [
    "def format_zero(val):\n",
    "    color = 'black' if type(val) == str else ('salmon' if val < 0 else 'green')\n",
    "    return 'color: %s' % color"
   ]
  },
  {
   "cell_type": "code",
   "execution_count": 56,
   "metadata": {},
   "outputs": [],
   "source": [
    "def forecasts_error_total(df_forecasts, quantile):\n",
    "    df_forecasts=df_forecasts[df_forecasts['periodo']>=date_min_forecast]\n",
    "    df_forecasts_grouped = df_forecasts.groupby(['month'] + grouped_columns)[['venta', quantile]].sum().reset_index()\n",
    "    df_forecasts_grouped['error_absoluto']=abs(df_forecasts_grouped['venta']-df_forecasts_grouped[quantile])\n",
    "    df_forecasts_grouped =(df_forecasts_grouped.groupby(['month'])['error_absoluto'].sum()\n",
    "                           /df_forecasts_grouped.groupby(['month'])['venta'].sum()).reset_index(name='error')\n",
    "    df_forecasts_grouped.replace([np.inf, -np.inf], np.nan, inplace=True)\n",
    "    return df_forecasts_grouped"
   ]
  },
  {
   "cell_type": "code",
   "execution_count": 57,
   "metadata": {},
   "outputs": [],
   "source": [
    "def forecasts_error_grouped(df_forecasts, feature, time_column, target_value, quantile):\n",
    "    df_forecasts=df_forecasts[df_forecasts['periodo']>=date_min_forecast]\n",
    "    df_forecasts_grouped = df_forecasts.groupby([time_column] + grouped_columns + [feature])[[target_value, quantile]].sum().reset_index()\n",
    "    df_forecasts_grouped['error_absoluto']=abs(df_forecasts_grouped[target_value]-df_forecasts_grouped[quantile])\n",
    "    df_forecasts_grouped =(df_forecasts_grouped.groupby([time_column, feature])['error_absoluto'].sum()\n",
    "                           /df_forecasts_grouped.groupby([time_column, feature])[target_value].sum()).reset_index(name='error')\n",
    "    df_forecasts_grouped=df_forecasts_grouped.pivot(index=[feature], columns=[time_column], values='error')\n",
    "    df_forecasts_grouped.replace([np.inf, -np.inf], np.nan, inplace=True)\n",
    "    df_forecasts_grouped['mean_error']=df_forecasts_grouped.mean(axis=1, skipna=True)\n",
    "    return df_forecasts_grouped"
   ]
  },
  {
   "cell_type": "code",
   "execution_count": 58,
   "metadata": {},
   "outputs": [],
   "source": [
    "def forecasts_error_item(df_forecasts, features, time_column, quantile, target_value):\n",
    "    df_forecasts=df_forecasts[df_forecasts['periodo']>=date_min_forecast]\n",
    "    df_forecasts_grouped = df_forecasts.groupby([time_column, 'product_id']+features)[[target_value, quantile]].sum().reset_index()\n",
    "    df_forecasts_grouped['error_absoluto']=abs(df_forecasts_grouped[target_value]-df_forecasts_grouped[quantile])\n",
    "    df_forecasts_grouped =(df_forecasts_grouped.groupby([time_column, 'product_id'] + features)['error_absoluto'].sum()\n",
    "                           /df_forecasts_grouped.groupby([time_column, 'product_id']+ features)[target_value].sum()).reset_index(name='error')\n",
    "    df_forecasts_grouped=df_forecasts_grouped.pivot(index=['product_id'] + features, columns=[time_column], values='error')\n",
    "    df_forecasts_grouped.replace([np.inf, -np.inf], np.nan, inplace=True)\n",
    "    df_forecasts_grouped['mean_error']=df_forecasts_grouped.mean(axis=1, skipna=True)\n",
    "    return df_forecasts_grouped"
   ]
  },
  {
   "cell_type": "markdown",
   "metadata": {},
   "source": [
    "- Evaluación total general"
   ]
  },
  {
   "cell_type": "code",
   "execution_count": 59,
   "metadata": {},
   "outputs": [
    {
     "data": {
      "text/html": [
       "<style type=\"text/css\">\n",
       "#T_1c3a8_row0_col1, #T_1c3a8_row1_col1 {\n",
       "  color: salmon;\n",
       "}\n",
       "</style>\n",
       "<table id=\"T_1c3a8\">\n",
       "  <thead>\n",
       "    <tr>\n",
       "      <th class=\"blank level0\" >&nbsp;</th>\n",
       "      <th id=\"T_1c3a8_level0_col0\" class=\"col_heading level0 col0\" >month</th>\n",
       "      <th id=\"T_1c3a8_level0_col1\" class=\"col_heading level0 col1\" >error</th>\n",
       "    </tr>\n",
       "  </thead>\n",
       "  <tbody>\n",
       "    <tr>\n",
       "      <th id=\"T_1c3a8_level0_row0\" class=\"row_heading level0 row0\" >0</th>\n",
       "      <td id=\"T_1c3a8_row0_col0\" class=\"data row0 col0\" >2019-11</td>\n",
       "      <td id=\"T_1c3a8_row0_col1\" class=\"data row0 col1\" >0.305302</td>\n",
       "    </tr>\n",
       "    <tr>\n",
       "      <th id=\"T_1c3a8_level0_row1\" class=\"row_heading level0 row1\" >1</th>\n",
       "      <td id=\"T_1c3a8_row1_col0\" class=\"data row1 col0\" >2019-12</td>\n",
       "      <td id=\"T_1c3a8_row1_col1\" class=\"data row1 col1\" >0.371828</td>\n",
       "    </tr>\n",
       "  </tbody>\n",
       "</table>\n"
      ],
      "text/plain": [
       "<pandas.io.formats.style.Styler at 0x2a2dd3d91d0>"
      ]
     },
     "execution_count": 59,
     "metadata": {},
     "output_type": "execute_result"
    }
   ],
   "source": [
    "forecasts_error_total(df_forecasts_historic, \"mean\").style.applymap(lambda x: text_format(x), ['error'])"
   ]
  },
  {
   "cell_type": "markdown",
   "metadata": {},
   "source": [
    "- Evaluación por categorias"
   ]
  },
  {
   "cell_type": "code",
   "execution_count": 61,
   "metadata": {},
   "outputs": [
    {
     "data": {
      "text/html": [
       "<style type=\"text/css\">\n",
       "#T_7e6e8_row0_col0, #T_7e6e8_row0_col1, #T_7e6e8_row0_col2, #T_7e6e8_row1_col0, #T_7e6e8_row1_col1, #T_7e6e8_row1_col2, #T_7e6e8_row2_col1, #T_7e6e8_row2_col2, #T_7e6e8_row3_col0, #T_7e6e8_row3_col1, #T_7e6e8_row3_col2 {\n",
       "  color: salmon;\n",
       "}\n",
       "#T_7e6e8_row2_col0 {\n",
       "  color: green;\n",
       "}\n",
       "</style>\n",
       "<table id=\"T_7e6e8\">\n",
       "  <thead>\n",
       "    <tr>\n",
       "      <th class=\"index_name level0\" >month</th>\n",
       "      <th id=\"T_7e6e8_level0_col0\" class=\"col_heading level0 col0\" >2019-11</th>\n",
       "      <th id=\"T_7e6e8_level0_col1\" class=\"col_heading level0 col1\" >2019-12</th>\n",
       "      <th id=\"T_7e6e8_level0_col2\" class=\"col_heading level0 col2\" >mean_error</th>\n",
       "    </tr>\n",
       "    <tr>\n",
       "      <th class=\"index_name level0\" >cat1</th>\n",
       "      <th class=\"blank col0\" >&nbsp;</th>\n",
       "      <th class=\"blank col1\" >&nbsp;</th>\n",
       "      <th class=\"blank col2\" >&nbsp;</th>\n",
       "    </tr>\n",
       "  </thead>\n",
       "  <tbody>\n",
       "    <tr>\n",
       "      <th id=\"T_7e6e8_level0_row0\" class=\"row_heading level0 row0\" >FOODS</th>\n",
       "      <td id=\"T_7e6e8_row0_col0\" class=\"data row0 col0\" >0.332182</td>\n",
       "      <td id=\"T_7e6e8_row0_col1\" class=\"data row0 col1\" >0.416481</td>\n",
       "      <td id=\"T_7e6e8_row0_col2\" class=\"data row0 col2\" >0.374331</td>\n",
       "    </tr>\n",
       "    <tr>\n",
       "      <th id=\"T_7e6e8_level0_row1\" class=\"row_heading level0 row1\" >HC</th>\n",
       "      <td id=\"T_7e6e8_row1_col0\" class=\"data row1 col0\" >0.302516</td>\n",
       "      <td id=\"T_7e6e8_row1_col1\" class=\"data row1 col1\" >0.344003</td>\n",
       "      <td id=\"T_7e6e8_row1_col2\" class=\"data row1 col2\" >0.323259</td>\n",
       "    </tr>\n",
       "    <tr>\n",
       "      <th id=\"T_7e6e8_level0_row2\" class=\"row_heading level0 row2\" >PC</th>\n",
       "      <td id=\"T_7e6e8_row2_col0\" class=\"data row2 col0\" >0.291148</td>\n",
       "      <td id=\"T_7e6e8_row2_col1\" class=\"data row2 col1\" >0.415579</td>\n",
       "      <td id=\"T_7e6e8_row2_col2\" class=\"data row2 col2\" >0.353364</td>\n",
       "    </tr>\n",
       "    <tr>\n",
       "      <th id=\"T_7e6e8_level0_row3\" class=\"row_heading level0 row3\" >REF</th>\n",
       "      <td id=\"T_7e6e8_row3_col0\" class=\"data row3 col0\" >3.093701</td>\n",
       "      <td id=\"T_7e6e8_row3_col1\" class=\"data row3 col1\" >4.017806</td>\n",
       "      <td id=\"T_7e6e8_row3_col2\" class=\"data row3 col2\" >3.555753</td>\n",
       "    </tr>\n",
       "  </tbody>\n",
       "</table>\n"
      ],
      "text/plain": [
       "<pandas.io.formats.style.Styler at 0x2a2f9b02d50>"
      ]
     },
     "execution_count": 61,
     "metadata": {},
     "output_type": "execute_result"
    }
   ],
   "source": [
    "forecasts_error_grouped(df_forecasts_historic, feature='cat1', time_column='month', target_value='venta', quantile='mean').style.applymap(lambda x: text_format(x))"
   ]
  },
  {
   "cell_type": "code",
   "execution_count": 62,
   "metadata": {},
   "outputs": [
    {
     "data": {
      "text/html": [
       "<style type=\"text/css\">\n",
       "#T_754d6_row0_col0, #T_754d6_row0_col1, #T_754d6_row0_col2, #T_754d6_row1_col0, #T_754d6_row1_col1, #T_754d6_row1_col2, #T_754d6_row2_col0, #T_754d6_row2_col1, #T_754d6_row2_col2, #T_754d6_row3_col1, #T_754d6_row4_col1, #T_754d6_row4_col2, #T_754d6_row5_col0, #T_754d6_row5_col1, #T_754d6_row5_col2, #T_754d6_row6_col0, #T_754d6_row6_col1, #T_754d6_row6_col2, #T_754d6_row8_col0, #T_754d6_row8_col1, #T_754d6_row8_col2, #T_754d6_row9_col0, #T_754d6_row9_col1, #T_754d6_row9_col2, #T_754d6_row10_col0, #T_754d6_row11_col0, #T_754d6_row11_col2, #T_754d6_row12_col0, #T_754d6_row12_col1, #T_754d6_row12_col2, #T_754d6_row13_col0, #T_754d6_row13_col1, #T_754d6_row13_col2, #T_754d6_row14_col1, #T_754d6_row14_col2 {\n",
       "  color: salmon;\n",
       "}\n",
       "#T_754d6_row3_col0, #T_754d6_row3_col2, #T_754d6_row4_col0, #T_754d6_row7_col0, #T_754d6_row7_col1, #T_754d6_row7_col2, #T_754d6_row10_col1, #T_754d6_row10_col2, #T_754d6_row11_col1, #T_754d6_row14_col0 {\n",
       "  color: green;\n",
       "}\n",
       "</style>\n",
       "<table id=\"T_754d6\">\n",
       "  <thead>\n",
       "    <tr>\n",
       "      <th class=\"index_name level0\" >month</th>\n",
       "      <th id=\"T_754d6_level0_col0\" class=\"col_heading level0 col0\" >2019-11</th>\n",
       "      <th id=\"T_754d6_level0_col1\" class=\"col_heading level0 col1\" >2019-12</th>\n",
       "      <th id=\"T_754d6_level0_col2\" class=\"col_heading level0 col2\" >mean_error</th>\n",
       "    </tr>\n",
       "    <tr>\n",
       "      <th class=\"index_name level0\" >cat2</th>\n",
       "      <th class=\"blank col0\" >&nbsp;</th>\n",
       "      <th class=\"blank col1\" >&nbsp;</th>\n",
       "      <th class=\"blank col2\" >&nbsp;</th>\n",
       "    </tr>\n",
       "  </thead>\n",
       "  <tbody>\n",
       "    <tr>\n",
       "      <th id=\"T_754d6_level0_row0\" class=\"row_heading level0 row0\" >ADEREZOS</th>\n",
       "      <td id=\"T_754d6_row0_col0\" class=\"data row0 col0\" >0.318900</td>\n",
       "      <td id=\"T_754d6_row0_col1\" class=\"data row0 col1\" >0.358890</td>\n",
       "      <td id=\"T_754d6_row0_col2\" class=\"data row0 col2\" >0.338895</td>\n",
       "    </tr>\n",
       "    <tr>\n",
       "      <th id=\"T_754d6_level0_row1\" class=\"row_heading level0 row1\" >CABELLO</th>\n",
       "      <td id=\"T_754d6_row1_col0\" class=\"data row1 col0\" >0.310943</td>\n",
       "      <td id=\"T_754d6_row1_col1\" class=\"data row1 col1\" >0.493116</td>\n",
       "      <td id=\"T_754d6_row1_col2\" class=\"data row1 col2\" >0.402029</td>\n",
       "    </tr>\n",
       "    <tr>\n",
       "      <th id=\"T_754d6_level0_row2\" class=\"row_heading level0 row2\" >DENTAL</th>\n",
       "      <td id=\"T_754d6_row2_col0\" class=\"data row2 col0\" >0.682319</td>\n",
       "      <td id=\"T_754d6_row2_col1\" class=\"data row2 col1\" >0.407414</td>\n",
       "      <td id=\"T_754d6_row2_col2\" class=\"data row2 col2\" >0.544866</td>\n",
       "    </tr>\n",
       "    <tr>\n",
       "      <th id=\"T_754d6_level0_row3\" class=\"row_heading level0 row3\" >DEOS</th>\n",
       "      <td id=\"T_754d6_row3_col0\" class=\"data row3 col0\" >0.268307</td>\n",
       "      <td id=\"T_754d6_row3_col1\" class=\"data row3 col1\" >0.315467</td>\n",
       "      <td id=\"T_754d6_row3_col2\" class=\"data row3 col2\" >0.291887</td>\n",
       "    </tr>\n",
       "    <tr>\n",
       "      <th id=\"T_754d6_level0_row4\" class=\"row_heading level0 row4\" >HOGAR</th>\n",
       "      <td id=\"T_754d6_row4_col0\" class=\"data row4 col0\" >0.251878</td>\n",
       "      <td id=\"T_754d6_row4_col1\" class=\"data row4 col1\" >0.367797</td>\n",
       "      <td id=\"T_754d6_row4_col2\" class=\"data row4 col2\" >0.309837</td>\n",
       "    </tr>\n",
       "    <tr>\n",
       "      <th id=\"T_754d6_level0_row5\" class=\"row_heading level0 row5\" >OTROS</th>\n",
       "      <td id=\"T_754d6_row5_col0\" class=\"data row5 col0\" >0.359995</td>\n",
       "      <td id=\"T_754d6_row5_col1\" class=\"data row5 col1\" >0.709885</td>\n",
       "      <td id=\"T_754d6_row5_col2\" class=\"data row5 col2\" >0.534940</td>\n",
       "    </tr>\n",
       "    <tr>\n",
       "      <th id=\"T_754d6_level0_row6\" class=\"row_heading level0 row6\" >PIEL1</th>\n",
       "      <td id=\"T_754d6_row6_col0\" class=\"data row6 col0\" >0.437722</td>\n",
       "      <td id=\"T_754d6_row6_col1\" class=\"data row6 col1\" >0.428517</td>\n",
       "      <td id=\"T_754d6_row6_col2\" class=\"data row6 col2\" >0.433120</td>\n",
       "    </tr>\n",
       "    <tr>\n",
       "      <th id=\"T_754d6_level0_row7\" class=\"row_heading level0 row7\" >PIEL2</th>\n",
       "      <td id=\"T_754d6_row7_col0\" class=\"data row7 col0\" >0.205620</td>\n",
       "      <td id=\"T_754d6_row7_col1\" class=\"data row7 col1\" >0.275279</td>\n",
       "      <td id=\"T_754d6_row7_col2\" class=\"data row7 col2\" >0.240449</td>\n",
       "    </tr>\n",
       "    <tr>\n",
       "      <th id=\"T_754d6_level0_row8\" class=\"row_heading level0 row8\" >PROFESIONAL</th>\n",
       "      <td id=\"T_754d6_row8_col0\" class=\"data row8 col0\" >0.478804</td>\n",
       "      <td id=\"T_754d6_row8_col1\" class=\"data row8 col1\" >0.501063</td>\n",
       "      <td id=\"T_754d6_row8_col2\" class=\"data row8 col2\" >0.489934</td>\n",
       "    </tr>\n",
       "    <tr>\n",
       "      <th id=\"T_754d6_level0_row9\" class=\"row_heading level0 row9\" >ROPA ACONDICIONADOR</th>\n",
       "      <td id=\"T_754d6_row9_col0\" class=\"data row9 col0\" >0.384644</td>\n",
       "      <td id=\"T_754d6_row9_col1\" class=\"data row9 col1\" >0.542472</td>\n",
       "      <td id=\"T_754d6_row9_col2\" class=\"data row9 col2\" >0.463558</td>\n",
       "    </tr>\n",
       "    <tr>\n",
       "      <th id=\"T_754d6_level0_row10\" class=\"row_heading level0 row10\" >ROPA LAVADO</th>\n",
       "      <td id=\"T_754d6_row10_col0\" class=\"data row10 col0\" >0.305659</td>\n",
       "      <td id=\"T_754d6_row10_col1\" class=\"data row10 col1\" >0.293927</td>\n",
       "      <td id=\"T_754d6_row10_col2\" class=\"data row10 col2\" >0.299793</td>\n",
       "    </tr>\n",
       "    <tr>\n",
       "      <th id=\"T_754d6_level0_row11\" class=\"row_heading level0 row11\" >ROPA MANCHAS</th>\n",
       "      <td id=\"T_754d6_row11_col0\" class=\"data row11 col0\" >0.608830</td>\n",
       "      <td id=\"T_754d6_row11_col1\" class=\"data row11 col1\" >0.230557</td>\n",
       "      <td id=\"T_754d6_row11_col2\" class=\"data row11 col2\" >0.419694</td>\n",
       "    </tr>\n",
       "    <tr>\n",
       "      <th id=\"T_754d6_level0_row12\" class=\"row_heading level0 row12\" >SOPAS Y CALDOS</th>\n",
       "      <td id=\"T_754d6_row12_col0\" class=\"data row12 col0\" >0.412040</td>\n",
       "      <td id=\"T_754d6_row12_col1\" class=\"data row12 col1\" >0.779022</td>\n",
       "      <td id=\"T_754d6_row12_col2\" class=\"data row12 col2\" >0.595531</td>\n",
       "    </tr>\n",
       "    <tr>\n",
       "      <th id=\"T_754d6_level0_row13\" class=\"row_heading level0 row13\" >TE</th>\n",
       "      <td id=\"T_754d6_row13_col0\" class=\"data row13 col0\" >3.093701</td>\n",
       "      <td id=\"T_754d6_row13_col1\" class=\"data row13 col1\" >4.017806</td>\n",
       "      <td id=\"T_754d6_row13_col2\" class=\"data row13 col2\" >3.555753</td>\n",
       "    </tr>\n",
       "    <tr>\n",
       "      <th id=\"T_754d6_level0_row14\" class=\"row_heading level0 row14\" >VAJILLA</th>\n",
       "      <td id=\"T_754d6_row14_col0\" class=\"data row14 col0\" >0.247030</td>\n",
       "      <td id=\"T_754d6_row14_col1\" class=\"data row14 col1\" >0.390389</td>\n",
       "      <td id=\"T_754d6_row14_col2\" class=\"data row14 col2\" >0.318710</td>\n",
       "    </tr>\n",
       "  </tbody>\n",
       "</table>\n"
      ],
      "text/plain": [
       "<pandas.io.formats.style.Styler at 0x2a2fef79ad0>"
      ]
     },
     "execution_count": 62,
     "metadata": {},
     "output_type": "execute_result"
    }
   ],
   "source": [
    "forecasts_error_grouped(df_forecasts_historic, feature='cat2', time_column='month', target_value='venta', quantile='mean').style.applymap(lambda x: text_format(x))"
   ]
  },
  {
   "cell_type": "markdown",
   "metadata": {},
   "source": [
    "- Evaluación por items principales"
   ]
  },
  {
   "cell_type": "code",
   "execution_count": 63,
   "metadata": {},
   "outputs": [],
   "source": [
    "items_relevantes = [\"20001\", \"20002\", \"20003\", \"20004\", \"20005\", \"20006\", \"20007\", \"20008\", \"20009\", \"20010\"]"
   ]
  },
  {
   "cell_type": "code",
   "execution_count": 64,
   "metadata": {},
   "outputs": [
    {
     "data": {
      "text/html": [
       "<style type=\"text/css\">\n",
       "#T_0aef2_row0_col0, #T_0aef2_row0_col1, #T_0aef2_row0_col2, #T_0aef2_row1_col0, #T_0aef2_row1_col2, #T_0aef2_row2_col0, #T_0aef2_row2_col1, #T_0aef2_row2_col2, #T_0aef2_row3_col0, #T_0aef2_row3_col1, #T_0aef2_row3_col2, #T_0aef2_row4_col0, #T_0aef2_row4_col1, #T_0aef2_row4_col2, #T_0aef2_row5_col0, #T_0aef2_row5_col1, #T_0aef2_row5_col2, #T_0aef2_row6_col0, #T_0aef2_row6_col1, #T_0aef2_row6_col2, #T_0aef2_row7_col0, #T_0aef2_row8_col0, #T_0aef2_row8_col1, #T_0aef2_row8_col2, #T_0aef2_row9_col0, #T_0aef2_row9_col2 {\n",
       "  color: green;\n",
       "}\n",
       "#T_0aef2_row1_col1, #T_0aef2_row7_col1, #T_0aef2_row7_col2, #T_0aef2_row9_col1 {\n",
       "  color: salmon;\n",
       "}\n",
       "</style>\n",
       "<table id=\"T_0aef2\">\n",
       "  <thead>\n",
       "    <tr>\n",
       "      <th class=\"blank level0\" >&nbsp;</th>\n",
       "      <th id=\"T_0aef2_level0_col0\" class=\"col_heading level0 col0\" >2019-11</th>\n",
       "      <th id=\"T_0aef2_level0_col1\" class=\"col_heading level0 col1\" >2019-12</th>\n",
       "      <th id=\"T_0aef2_level0_col2\" class=\"col_heading level0 col2\" >mean_error</th>\n",
       "    </tr>\n",
       "    <tr>\n",
       "      <th class=\"index_name level0\" >product_id</th>\n",
       "      <th class=\"blank col0\" >&nbsp;</th>\n",
       "      <th class=\"blank col1\" >&nbsp;</th>\n",
       "      <th class=\"blank col2\" >&nbsp;</th>\n",
       "    </tr>\n",
       "  </thead>\n",
       "  <tbody>\n",
       "    <tr>\n",
       "      <th id=\"T_0aef2_level0_row0\" class=\"row_heading level0 row0\" >20001</th>\n",
       "      <td id=\"T_0aef2_row0_col0\" class=\"data row0 col0\" >0.088894</td>\n",
       "      <td id=\"T_0aef2_row0_col1\" class=\"data row0 col1\" >0.020439</td>\n",
       "      <td id=\"T_0aef2_row0_col2\" class=\"data row0 col2\" >0.054666</td>\n",
       "    </tr>\n",
       "    <tr>\n",
       "      <th id=\"T_0aef2_level0_row1\" class=\"row_heading level0 row1\" >20002</th>\n",
       "      <td id=\"T_0aef2_row1_col0\" class=\"data row1 col0\" >0.091255</td>\n",
       "      <td id=\"T_0aef2_row1_col1\" class=\"data row1 col1\" >0.390945</td>\n",
       "      <td id=\"T_0aef2_row1_col2\" class=\"data row1 col2\" >0.241100</td>\n",
       "    </tr>\n",
       "    <tr>\n",
       "      <th id=\"T_0aef2_level0_row2\" class=\"row_heading level0 row2\" >20003</th>\n",
       "      <td id=\"T_0aef2_row2_col0\" class=\"data row2 col0\" >0.173704</td>\n",
       "      <td id=\"T_0aef2_row2_col1\" class=\"data row2 col1\" >0.063053</td>\n",
       "      <td id=\"T_0aef2_row2_col2\" class=\"data row2 col2\" >0.118378</td>\n",
       "    </tr>\n",
       "    <tr>\n",
       "      <th id=\"T_0aef2_level0_row3\" class=\"row_heading level0 row3\" >20004</th>\n",
       "      <td id=\"T_0aef2_row3_col0\" class=\"data row3 col0\" >0.234496</td>\n",
       "      <td id=\"T_0aef2_row3_col1\" class=\"data row3 col1\" >0.194027</td>\n",
       "      <td id=\"T_0aef2_row3_col2\" class=\"data row3 col2\" >0.214262</td>\n",
       "    </tr>\n",
       "    <tr>\n",
       "      <th id=\"T_0aef2_level0_row4\" class=\"row_heading level0 row4\" >20005</th>\n",
       "      <td id=\"T_0aef2_row4_col0\" class=\"data row4 col0\" >0.159404</td>\n",
       "      <td id=\"T_0aef2_row4_col1\" class=\"data row4 col1\" >0.060226</td>\n",
       "      <td id=\"T_0aef2_row4_col2\" class=\"data row4 col2\" >0.109815</td>\n",
       "    </tr>\n",
       "    <tr>\n",
       "      <th id=\"T_0aef2_level0_row5\" class=\"row_heading level0 row5\" >20006</th>\n",
       "      <td id=\"T_0aef2_row5_col0\" class=\"data row5 col0\" >0.289173</td>\n",
       "      <td id=\"T_0aef2_row5_col1\" class=\"data row5 col1\" >0.177205</td>\n",
       "      <td id=\"T_0aef2_row5_col2\" class=\"data row5 col2\" >0.233189</td>\n",
       "    </tr>\n",
       "    <tr>\n",
       "      <th id=\"T_0aef2_level0_row6\" class=\"row_heading level0 row6\" >20007</th>\n",
       "      <td id=\"T_0aef2_row6_col0\" class=\"data row6 col0\" >0.183968</td>\n",
       "      <td id=\"T_0aef2_row6_col1\" class=\"data row6 col1\" >0.045133</td>\n",
       "      <td id=\"T_0aef2_row6_col2\" class=\"data row6 col2\" >0.114551</td>\n",
       "    </tr>\n",
       "    <tr>\n",
       "      <th id=\"T_0aef2_level0_row7\" class=\"row_heading level0 row7\" >20008</th>\n",
       "      <td id=\"T_0aef2_row7_col0\" class=\"data row7 col0\" >0.117741</td>\n",
       "      <td id=\"T_0aef2_row7_col1\" class=\"data row7 col1\" >1.211405</td>\n",
       "      <td id=\"T_0aef2_row7_col2\" class=\"data row7 col2\" >0.664573</td>\n",
       "    </tr>\n",
       "    <tr>\n",
       "      <th id=\"T_0aef2_level0_row8\" class=\"row_heading level0 row8\" >20009</th>\n",
       "      <td id=\"T_0aef2_row8_col0\" class=\"data row8 col0\" >0.226116</td>\n",
       "      <td id=\"T_0aef2_row8_col1\" class=\"data row8 col1\" >0.118164</td>\n",
       "      <td id=\"T_0aef2_row8_col2\" class=\"data row8 col2\" >0.172140</td>\n",
       "    </tr>\n",
       "    <tr>\n",
       "      <th id=\"T_0aef2_level0_row9\" class=\"row_heading level0 row9\" >20010</th>\n",
       "      <td id=\"T_0aef2_row9_col0\" class=\"data row9 col0\" >0.075013</td>\n",
       "      <td id=\"T_0aef2_row9_col1\" class=\"data row9 col1\" >0.330316</td>\n",
       "      <td id=\"T_0aef2_row9_col2\" class=\"data row9 col2\" >0.202664</td>\n",
       "    </tr>\n",
       "  </tbody>\n",
       "</table>\n"
      ],
      "text/plain": [
       "<pandas.io.formats.style.Styler at 0x2a2fef92710>"
      ]
     },
     "execution_count": 64,
     "metadata": {},
     "output_type": "execute_result"
    }
   ],
   "source": [
    "# forecast_mean\n",
    "forecasts_error_item(df_forecasts_historic[df_forecasts_historic.product_id.isin(items_relevantes)], features=[], time_column='month', target_value='venta', quantile='mean').reset_index().rename_axis(None, axis=1).set_index(\"product_id\").style.applymap(text_format)"
   ]
  },
  {
   "cell_type": "code",
   "execution_count": 65,
   "metadata": {},
   "outputs": [
    {
     "data": {
      "text/html": [
       "<div>\n",
       "<style scoped>\n",
       "    .dataframe tbody tr th:only-of-type {\n",
       "        vertical-align: middle;\n",
       "    }\n",
       "\n",
       "    .dataframe tbody tr th {\n",
       "        vertical-align: top;\n",
       "    }\n",
       "\n",
       "    .dataframe thead th {\n",
       "        text-align: right;\n",
       "    }\n",
       "</style>\n",
       "<table border=\"1\" class=\"dataframe\">\n",
       "  <thead>\n",
       "    <tr style=\"text-align: right;\">\n",
       "      <th></th>\n",
       "      <th>periodo</th>\n",
       "      <th>month</th>\n",
       "      <th>product_id</th>\n",
       "      <th>cluster_id</th>\n",
       "      <th>venta</th>\n",
       "      <th>mean</th>\n",
       "      <th>cat1</th>\n",
       "      <th>cat2</th>\n",
       "      <th>cat3</th>\n",
       "      <th>brand</th>\n",
       "      <th>sku_size</th>\n",
       "    </tr>\n",
       "  </thead>\n",
       "  <tbody>\n",
       "    <tr>\n",
       "      <th>198611</th>\n",
       "      <td>2019-12-01</td>\n",
       "      <td>2019-12</td>\n",
       "      <td>20008</td>\n",
       "      <td>A</td>\n",
       "      <td>NaN</td>\n",
       "      <td>0.220247</td>\n",
       "      <td>HC</td>\n",
       "      <td>VAJILLA</td>\n",
       "      <td>Opaco</td>\n",
       "      <td>LIMPIEX</td>\n",
       "      <td>750.0</td>\n",
       "    </tr>\n",
       "    <tr>\n",
       "      <th>195643</th>\n",
       "      <td>2019-12-01</td>\n",
       "      <td>2019-12</td>\n",
       "      <td>20008</td>\n",
       "      <td>J</td>\n",
       "      <td>144.92924</td>\n",
       "      <td>326.576143</td>\n",
       "      <td>HC</td>\n",
       "      <td>VAJILLA</td>\n",
       "      <td>Opaco</td>\n",
       "      <td>LIMPIEX</td>\n",
       "      <td>750.0</td>\n",
       "    </tr>\n",
       "    <tr>\n",
       "      <th>194093</th>\n",
       "      <td>2019-12-01</td>\n",
       "      <td>2019-12</td>\n",
       "      <td>20008</td>\n",
       "      <td>F</td>\n",
       "      <td>2.73946</td>\n",
       "      <td>6.048355</td>\n",
       "      <td>HC</td>\n",
       "      <td>VAJILLA</td>\n",
       "      <td>Opaco</td>\n",
       "      <td>LIMPIEX</td>\n",
       "      <td>750.0</td>\n",
       "    </tr>\n",
       "    <tr>\n",
       "      <th>193827</th>\n",
       "      <td>2019-12-01</td>\n",
       "      <td>2019-12</td>\n",
       "      <td>20008</td>\n",
       "      <td>G</td>\n",
       "      <td>2.65580</td>\n",
       "      <td>11.201052</td>\n",
       "      <td>HC</td>\n",
       "      <td>VAJILLA</td>\n",
       "      <td>Opaco</td>\n",
       "      <td>LIMPIEX</td>\n",
       "      <td>750.0</td>\n",
       "    </tr>\n",
       "    <tr>\n",
       "      <th>200967</th>\n",
       "      <td>2019-12-01</td>\n",
       "      <td>2019-12</td>\n",
       "      <td>20008</td>\n",
       "      <td>E</td>\n",
       "      <td>1.63113</td>\n",
       "      <td>3.875645</td>\n",
       "      <td>HC</td>\n",
       "      <td>VAJILLA</td>\n",
       "      <td>Opaco</td>\n",
       "      <td>LIMPIEX</td>\n",
       "      <td>750.0</td>\n",
       "    </tr>\n",
       "    <tr>\n",
       "      <th>207973</th>\n",
       "      <td>2019-12-01</td>\n",
       "      <td>2019-12</td>\n",
       "      <td>20008</td>\n",
       "      <td>D</td>\n",
       "      <td>1.91344</td>\n",
       "      <td>2.291615</td>\n",
       "      <td>HC</td>\n",
       "      <td>VAJILLA</td>\n",
       "      <td>Opaco</td>\n",
       "      <td>LIMPIEX</td>\n",
       "      <td>750.0</td>\n",
       "    </tr>\n",
       "  </tbody>\n",
       "</table>\n",
       "</div>"
      ],
      "text/plain": [
       "          periodo    month product_id cluster_id      venta        mean cat1   \n",
       "198611 2019-12-01  2019-12      20008          A        NaN    0.220247   HC  \\\n",
       "195643 2019-12-01  2019-12      20008          J  144.92924  326.576143   HC   \n",
       "194093 2019-12-01  2019-12      20008          F    2.73946    6.048355   HC   \n",
       "193827 2019-12-01  2019-12      20008          G    2.65580   11.201052   HC   \n",
       "200967 2019-12-01  2019-12      20008          E    1.63113    3.875645   HC   \n",
       "207973 2019-12-01  2019-12      20008          D    1.91344    2.291615   HC   \n",
       "\n",
       "           cat2   cat3    brand  sku_size  \n",
       "198611  VAJILLA  Opaco  LIMPIEX     750.0  \n",
       "195643  VAJILLA  Opaco  LIMPIEX     750.0  \n",
       "194093  VAJILLA  Opaco  LIMPIEX     750.0  \n",
       "193827  VAJILLA  Opaco  LIMPIEX     750.0  \n",
       "200967  VAJILLA  Opaco  LIMPIEX     750.0  \n",
       "207973  VAJILLA  Opaco  LIMPIEX     750.0  "
      ]
     },
     "execution_count": 65,
     "metadata": {},
     "output_type": "execute_result"
    }
   ],
   "source": [
    "df_forecasts_historic[df_forecasts_historic.product_id == \"20008\"].sort_values(by = \"periodo\").tail(6)"
   ]
  }
 ],
 "metadata": {
  "kernelspec": {
   "display_name": "Python 3",
   "language": "python",
   "name": "python3"
  },
  "language_info": {
   "codemirror_mode": {
    "name": "ipython",
    "version": 3
   },
   "file_extension": ".py",
   "mimetype": "text/x-python",
   "name": "python",
   "nbconvert_exporter": "python",
   "pygments_lexer": "ipython3",
   "version": "3.11.2"
  }
 },
 "nbformat": 4,
 "nbformat_minor": 4
}
