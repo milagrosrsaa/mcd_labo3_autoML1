{
 "cells": [
  {
   "cell_type": "markdown",
   "metadata": {},
   "source": [
    "<center>\n",
    "  <h2>Trabajo Laboratorio de Implementación III - MCD Virtual Cohorte 2022</h2>\n",
    "  <h3>Forecasting para una Empresa de Consumo Masivo</h3>\n",
    "  <h4>Entrenamiento de predictor</h4>\n",
    "</center>"
   ]
  },
  {
   "cell_type": "code",
   "execution_count": 1,
   "metadata": {},
   "outputs": [],
   "source": [
    "# Importación librerias\n",
    "\n",
    "# !pip install awswrangler\n",
    "# !pip install boto3\n",
    "import boto3\n",
    "import awswrangler as wr\n",
    "import pandas as pd\n",
    "import numpy as np\n",
    "import warnings\n",
    "from datetime import datetime\n",
    "from dateutil.relativedelta import relativedelta\n",
    "warnings.filterwarnings(\"ignore\")"
   ]
  },
  {
   "cell_type": "code",
   "execution_count": 2,
   "metadata": {},
   "outputs": [
    {
     "name": "stdout",
     "output_type": "stream",
     "text": [
      "Fecha inicio historia 2017-01-01 00:00:00\n",
      "Fecha fin historia 2019-12-01 00:00:00\n",
      "Fecha futura (related time series) 2020-02-01 00:00:00\n"
     ]
    }
   ],
   "source": [
    "# Definición fechas\n",
    "\n",
    "date_start=datetime.strptime('2017-01-01', '%Y-%m-%d')\n",
    "date_end=datetime.strptime('2019-12-01', '%Y-%m-%d')\n",
    "forecast_length = 2\n",
    "date_future=date_end+relativedelta(months=forecast_length)\n",
    "years=range(2018, 2020)\n",
    "\n",
    "print(f\"Fecha inicio historia {date_start}\")\n",
    "print(f\"Fecha fin historia {date_end}\")\n",
    "print(f\"Fecha futura (related time series) {date_future}\")\n",
    "\n",
    "timestamp_format=\"yyyy-MM-dd\"\n",
    "dataset_frequency='M'\n",
    "\n",
    "# Versión modelo\n",
    "data_version = '2'\n",
    "grouped_cols = [\"product_id\", \"cluster_id\"]\n",
    "grouped_cols_name = \"product_cluster\""
   ]
  },
  {
   "cell_type": "code",
   "execution_count": 3,
   "metadata": {},
   "outputs": [],
   "source": [
    "# Conexiones AWS\n",
    "\n",
    "account_id=boto3.client('sts').get_caller_identity().get('Account')\n",
    "session = boto3.Session() \n",
    "forecast = session.client(service_name='forecast')\n",
    "region = forecast.meta.region_name\n",
    "forecastquery = session.client(service_name='forecastquery')\n",
    "role = f'arn:aws:iam::{account_id}:role/ForecastRole'"
   ]
  },
  {
   "cell_type": "code",
   "execution_count": 4,
   "metadata": {},
   "outputs": [],
   "source": [
    "# Qué valores predecir: media o percentiles\n",
    "quantiles=['mean']\n",
    "# Horizonte de predicción\n",
    "forecast_length = 2\n",
    "dataset_group_arn=f'arn:aws:forecast:us-east-1:{account_id}:dataset-group/modelo_{data_version}_{grouped_cols_name}'"
   ]
  },
  {
   "cell_type": "code",
   "execution_count": 5,
   "metadata": {},
   "outputs": [],
   "source": [
    "# Verificar comunicación con Amazon Forecast\n",
    "assert forecast.list_predictors()"
   ]
  },
  {
   "cell_type": "code",
   "execution_count": 6,
   "metadata": {},
   "outputs": [],
   "source": [
    "predictor_name_automl = f\"modelo_{data_version}_predictor\""
   ]
  },
  {
   "cell_type": "markdown",
   "metadata": {},
   "source": [
    "El siguiente código es para crear el predictor. Obtenemos error porque fue creado desde la UI para este primer modelo."
   ]
  },
  {
   "cell_type": "code",
   "execution_count": 11,
   "metadata": {},
   "outputs": [],
   "source": [
    "response = forecast.create_auto_predictor(\n",
    "    PredictorName=predictor_name_automl,\n",
    "    ForecastHorizon=forecast_length,\n",
    "    ForecastTypes=quantiles,\n",
    "    ForecastDimensions=[\"cluster_id\"],\n",
    "    ForecastFrequency=dataset_frequency,\n",
    "    DataConfig={\n",
    "        'DatasetGroupArn': dataset_group_arn,\n",
    "        'AttributeConfigs': [\n",
    "\t\t{\n",
    "\t\t\"AttributeName\": \"target_value\",\n",
    "\t\t\"Transformations\": {\n",
    "\t\t\t\"aggregation\": \"sum\",\n",
    "\t\t\t\"backfill\": \"zero\",\n",
    "\t\t\t\"frontfill\": \"none\",\n",
    "\t\t\t\"middlefill\": \"zero\"\n",
    "\t\t}\n",
    "\t\t}\n",
    "\t]}, \n",
    "    TimeAlignmentBoundary={\n",
    "        'DayOfMonth': 1\n",
    "    },\n",
    "    OptimizationMetric='MAPE',\n",
    "    ExplainPredictor=False\n",
    ")"
   ]
  },
  {
   "cell_type": "code",
   "execution_count": 12,
   "metadata": {},
   "outputs": [],
   "source": [
    "automl_predictor_arn_wape = response['PredictorArn']"
   ]
  },
  {
   "cell_type": "code",
   "execution_count": 13,
   "metadata": {},
   "outputs": [
    {
     "name": "stdout",
     "output_type": "stream",
     "text": [
      "Waiting for Predictor with ARN arn:aws:forecast:us-east-1:637423651905:predictor/modelo_2_predictor_01HZQRGFBR9PMEB0RNENW4X9BQ to become ACTIVE. \n",
      "Current Status:\n"
     ]
    },
    {
     "data": {
      "text/plain": [
       "'CREATE_PENDING'"
      ]
     },
     "execution_count": 13,
     "metadata": {},
     "output_type": "execute_result"
    }
   ],
   "source": [
    "print(f\"Waiting for Predictor with ARN {automl_predictor_arn_wape} to become ACTIVE. \\nCurrent Status:\")\n",
    "forecast.describe_auto_predictor(PredictorArn=automl_predictor_arn_wape)['Status']"
   ]
  },
  {
   "cell_type": "code",
   "execution_count": null,
   "metadata": {},
   "outputs": [],
   "source": []
  }
 ],
 "metadata": {
  "kernelspec": {
   "display_name": "Python 3",
   "language": "python",
   "name": "python3"
  },
  "language_info": {
   "codemirror_mode": {
    "name": "ipython",
    "version": 3
   },
   "file_extension": ".py",
   "mimetype": "text/x-python",
   "name": "python",
   "nbconvert_exporter": "python",
   "pygments_lexer": "ipython3",
   "version": "3.11.2"
  }
 },
 "nbformat": 4,
 "nbformat_minor": 4
}
