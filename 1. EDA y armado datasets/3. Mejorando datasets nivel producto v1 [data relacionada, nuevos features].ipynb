{
 "cells": [
  {
   "cell_type": "markdown",
   "metadata": {},
   "source": [
    "<center>\n",
    "  <h2>Trabajo Laboratorio de Implementación III - MCD Virtual Cohorte 2022</h2>\n",
    "  <h3>Forecasting para una Empresa de Consumo Masivo</h3>\n",
    "  <h4>Armado de Datasets - Mejora data relacionada a nivel producto</h4>\n",
    "</center>"
   ]
  },
  {
   "cell_type": "code",
   "execution_count": 1,
   "metadata": {},
   "outputs": [],
   "source": [
    "import pandas as pd\n",
    "import seaborn as sns\n",
    "import matplotlib.pyplot as plt\n",
    "import numpy as np\n",
    "import warnings\n",
    "from datetime import datetime, timedelta\n",
    "from dateutil.relativedelta import relativedelta\n",
    "warnings.filterwarnings(\"ignore\")\n",
    "\n",
    "date_start=datetime.strptime('2017-01-01', '%Y-%m-%d')\n",
    "date_end=datetime.strptime('2019-12-01', '%Y-%m-%d')\n",
    "forecast_length = 2\n",
    "date_future=date_end+relativedelta(months=forecast_length)\n",
    "years=range(2018, 2020)"
   ]
  },
  {
   "cell_type": "code",
   "execution_count": 2,
   "metadata": {},
   "outputs": [
    {
     "name": "stdout",
     "output_type": "stream",
     "text": [
      "Fecha inicio historia 2017-01-01 00:00:00\n",
      "Fecha fin historia 2019-12-01 00:00:00\n",
      "Fecha futura (related time series) 2020-02-01 00:00:00\n"
     ]
    }
   ],
   "source": [
    "print(f\"Fecha inicio historia {date_start}\")\n",
    "print(f\"Fecha fin historia {date_end}\")\n",
    "print(f\"Fecha futura (related time series) {date_future}\")"
   ]
  },
  {
   "cell_type": "markdown",
   "metadata": {},
   "source": [
    "- Skus a predecir"
   ]
  },
  {
   "cell_type": "code",
   "execution_count": 3,
   "metadata": {},
   "outputs": [],
   "source": [
    "skus_a_predecir = pd.read_csv(\"C:/Users/usuario/otros/Desktop\\MCD/6 Labo III/Forecasting Problem/Datasets/productos_a_predecir.txt\", delimiter='\\t')\n",
    "skus_a_predecir = skus_a_predecir.product_id.to_list()"
   ]
  },
  {
   "cell_type": "markdown",
   "metadata": {},
   "source": [
    "- Datos de ventas"
   ]
  },
  {
   "cell_type": "code",
   "execution_count": 4,
   "metadata": {},
   "outputs": [
    {
     "data": {
      "text/html": [
       "<div>\n",
       "<style scoped>\n",
       "    .dataframe tbody tr th:only-of-type {\n",
       "        vertical-align: middle;\n",
       "    }\n",
       "\n",
       "    .dataframe tbody tr th {\n",
       "        vertical-align: top;\n",
       "    }\n",
       "\n",
       "    .dataframe thead th {\n",
       "        text-align: right;\n",
       "    }\n",
       "</style>\n",
       "<table border=\"1\" class=\"dataframe\">\n",
       "  <thead>\n",
       "    <tr style=\"text-align: right;\">\n",
       "      <th></th>\n",
       "      <th>periodo</th>\n",
       "      <th>customer_id</th>\n",
       "      <th>product_id</th>\n",
       "      <th>plan_precios_cuidados</th>\n",
       "      <th>cust_request_qty</th>\n",
       "      <th>cust_request_tn</th>\n",
       "      <th>tn</th>\n",
       "    </tr>\n",
       "  </thead>\n",
       "  <tbody>\n",
       "    <tr>\n",
       "      <th>0</th>\n",
       "      <td>2017-01-01</td>\n",
       "      <td>10234</td>\n",
       "      <td>20524</td>\n",
       "      <td>0</td>\n",
       "      <td>2</td>\n",
       "      <td>0.053</td>\n",
       "      <td>0.053</td>\n",
       "    </tr>\n",
       "  </tbody>\n",
       "</table>\n",
       "</div>"
      ],
      "text/plain": [
       "     periodo  customer_id  product_id  plan_precios_cuidados   \n",
       "0 2017-01-01        10234       20524                      0  \\\n",
       "\n",
       "   cust_request_qty  cust_request_tn     tn  \n",
       "0                 2            0.053  0.053  "
      ]
     },
     "execution_count": 4,
     "metadata": {},
     "output_type": "execute_result"
    }
   ],
   "source": [
    "df_ventas = pd.read_csv(\"C:/Users/usuario/otros/Desktop\\MCD/6 Labo III/Forecasting Problem/Datasets/sell-in.txt\", delimiter='\\t')\n",
    "df_ventas['periodo'] = df_ventas['periodo'].astype(str)\n",
    "df_ventas['periodo'] = pd.to_datetime(df_ventas['periodo'], format='%Y%m')\n",
    "df_ventas = df_ventas[df_ventas.product_id.isin(skus_a_predecir)]\n",
    "df_ventas.head(1)"
   ]
  },
  {
   "cell_type": "code",
   "execution_count": 5,
   "metadata": {},
   "outputs": [
    {
     "name": "stdout",
     "output_type": "stream",
     "text": [
      "Cantidad productos finales a predecir: 780\n"
     ]
    }
   ],
   "source": [
    "print(f\"Cantidad productos finales a predecir: {len(df_ventas.product_id.drop_duplicates())}\")"
   ]
  },
  {
   "cell_type": "markdown",
   "metadata": {},
   "source": [
    "Dataset de ventas para predecir unicamente por periodo y producto:"
   ]
  },
  {
   "cell_type": "code",
   "execution_count": 6,
   "metadata": {},
   "outputs": [
    {
     "data": {
      "text/html": [
       "<div>\n",
       "<style scoped>\n",
       "    .dataframe tbody tr th:only-of-type {\n",
       "        vertical-align: middle;\n",
       "    }\n",
       "\n",
       "    .dataframe tbody tr th {\n",
       "        vertical-align: top;\n",
       "    }\n",
       "\n",
       "    .dataframe thead th {\n",
       "        text-align: right;\n",
       "    }\n",
       "</style>\n",
       "<table border=\"1\" class=\"dataframe\">\n",
       "  <thead>\n",
       "    <tr style=\"text-align: right;\">\n",
       "      <th></th>\n",
       "      <th>periodo</th>\n",
       "      <th>product_id</th>\n",
       "      <th>tn</th>\n",
       "    </tr>\n",
       "  </thead>\n",
       "  <tbody>\n",
       "    <tr>\n",
       "      <th>0</th>\n",
       "      <td>2017-01-01</td>\n",
       "      <td>20001</td>\n",
       "      <td>934.77222</td>\n",
       "    </tr>\n",
       "  </tbody>\n",
       "</table>\n",
       "</div>"
      ],
      "text/plain": [
       "     periodo  product_id         tn\n",
       "0 2017-01-01       20001  934.77222"
      ]
     },
     "execution_count": 6,
     "metadata": {},
     "output_type": "execute_result"
    }
   ],
   "source": [
    "df_ventas_product = df_ventas.groupby([\"periodo\", \"product_id\"])[\"tn\"].sum().reset_index()\n",
    "df_ventas_product.head(1)"
   ]
  },
  {
   "cell_type": "code",
   "execution_count": 7,
   "metadata": {},
   "outputs": [
    {
     "data": {
      "text/plain": [
       "periodo       0\n",
       "product_id    0\n",
       "tn            0\n",
       "dtype: int64"
      ]
     },
     "execution_count": 7,
     "metadata": {},
     "output_type": "execute_result"
    }
   ],
   "source": [
    "df_ventas_product.isna().sum()"
   ]
  },
  {
   "cell_type": "code",
   "execution_count": 8,
   "metadata": {},
   "outputs": [
    {
     "data": {
      "text/plain": [
       "True"
      ]
     },
     "execution_count": 8,
     "metadata": {},
     "output_type": "execute_result"
    }
   ],
   "source": [
    "df_ventas_product.tn.sum().round(1) == df_ventas.tn.sum().round(1) "
   ]
  },
  {
   "cell_type": "code",
   "execution_count": 9,
   "metadata": {},
   "outputs": [
    {
     "name": "stdout",
     "output_type": "stream",
     "text": [
      "Min periodo 2017-01-01 00:00:00\n",
      "Max periodo 2019-12-01 00:00:00\n",
      "Tipos por columna: \n",
      "periodo       datetime64[ns]\n",
      "product_id            object\n",
      "tn                   float64\n",
      "dtype: object\n"
     ]
    }
   ],
   "source": [
    "# Exportamos data de ventas product\n",
    "df_ventas_product_export = df_ventas_product[(df_ventas_product['periodo']>=date_start) & (df_ventas_product['periodo']<=date_end)]\n",
    "df_ventas_product_export['product_id'] = df_ventas_product_export['product_id'].astype(str)\n",
    "print(f\"Min periodo {df_ventas_product_export.periodo.min()}\")\n",
    "print(f\"Max periodo {df_ventas_product_export.periodo.max()}\")\n",
    "df_ventas_product_export.to_csv(\"C:/Users/usuario/otros/Desktop\\MCD/6 Labo III/Forecasting Problem/Datasets/df_ventas_product_v1.csv\", index=False, header=False)\n",
    "print(f\"Tipos por columna: \\n{df_ventas_product_export.dtypes}\")"
   ]
  },
  {
   "cell_type": "markdown",
   "metadata": {},
   "source": [
    "- Datos de producto"
   ]
  },
  {
   "cell_type": "code",
   "execution_count": 10,
   "metadata": {},
   "outputs": [
    {
     "data": {
      "text/html": [
       "<div>\n",
       "<style scoped>\n",
       "    .dataframe tbody tr th:only-of-type {\n",
       "        vertical-align: middle;\n",
       "    }\n",
       "\n",
       "    .dataframe tbody tr th {\n",
       "        vertical-align: top;\n",
       "    }\n",
       "\n",
       "    .dataframe thead th {\n",
       "        text-align: right;\n",
       "    }\n",
       "</style>\n",
       "<table border=\"1\" class=\"dataframe\">\n",
       "  <thead>\n",
       "    <tr style=\"text-align: right;\">\n",
       "      <th></th>\n",
       "      <th>cat1</th>\n",
       "      <th>cat2</th>\n",
       "      <th>cat3</th>\n",
       "      <th>brand</th>\n",
       "      <th>sku_size</th>\n",
       "      <th>product_id</th>\n",
       "    </tr>\n",
       "  </thead>\n",
       "  <tbody>\n",
       "    <tr>\n",
       "      <th>0</th>\n",
       "      <td>HC</td>\n",
       "      <td>ROPA LAVADO</td>\n",
       "      <td>Liquido</td>\n",
       "      <td>LIMPIEX</td>\n",
       "      <td>900</td>\n",
       "      <td>20280</td>\n",
       "    </tr>\n",
       "    <tr>\n",
       "      <th>1</th>\n",
       "      <td>HC</td>\n",
       "      <td>ROPA LAVADO</td>\n",
       "      <td>Liquido</td>\n",
       "      <td>LIMPIEX</td>\n",
       "      <td>450</td>\n",
       "      <td>20180</td>\n",
       "    </tr>\n",
       "    <tr>\n",
       "      <th>2</th>\n",
       "      <td>HC</td>\n",
       "      <td>ROPA LAVADO</td>\n",
       "      <td>Liquido</td>\n",
       "      <td>LIMPIEX</td>\n",
       "      <td>120</td>\n",
       "      <td>20332</td>\n",
       "    </tr>\n",
       "    <tr>\n",
       "      <th>3</th>\n",
       "      <td>HC</td>\n",
       "      <td>ROPA LAVADO</td>\n",
       "      <td>Liquido</td>\n",
       "      <td>LIMPIEX</td>\n",
       "      <td>450</td>\n",
       "      <td>20222</td>\n",
       "    </tr>\n",
       "    <tr>\n",
       "      <th>4</th>\n",
       "      <td>HC</td>\n",
       "      <td>ROPA LAVADO</td>\n",
       "      <td>Liquido</td>\n",
       "      <td>LIMPIEX</td>\n",
       "      <td>900</td>\n",
       "      <td>20288</td>\n",
       "    </tr>\n",
       "  </tbody>\n",
       "</table>\n",
       "</div>"
      ],
      "text/plain": [
       "  cat1         cat2     cat3    brand  sku_size  product_id\n",
       "0   HC  ROPA LAVADO  Liquido  LIMPIEX       900       20280\n",
       "1   HC  ROPA LAVADO  Liquido  LIMPIEX       450       20180\n",
       "2   HC  ROPA LAVADO  Liquido  LIMPIEX       120       20332\n",
       "3   HC  ROPA LAVADO  Liquido  LIMPIEX       450       20222\n",
       "4   HC  ROPA LAVADO  Liquido  LIMPIEX       900       20288"
      ]
     },
     "execution_count": 10,
     "metadata": {},
     "output_type": "execute_result"
    }
   ],
   "source": [
    "producto = pd.read_csv(\"C:/Users/usuario/otros/Desktop\\MCD/6 Labo III/Forecasting Problem/Datasets/tb_productos.txt\", delimiter='\\t')\n",
    "producto.head(5)"
   ]
  },
  {
   "cell_type": "code",
   "execution_count": 11,
   "metadata": {},
   "outputs": [
    {
     "name": "stdout",
     "output_type": "stream",
     "text": [
      "----ANALISIS DUPLICADOS-----\n",
      "Cantidad productos en maestro productos: 1262\n",
      "Cantidad productos en maestro productos sin repetidos: 1251\n",
      "Cantidad productos en maestro productos: 1251\n"
     ]
    }
   ],
   "source": [
    "print(\"----ANALISIS DUPLICADOS-----\")\n",
    "print(f\"Cantidad productos en maestro productos: {len(producto)}\")\n",
    "print(f\"Cantidad productos en maestro productos sin repetidos: {len(producto.product_id.drop_duplicates())}\")\n",
    "# Observamos que product_id duplicados tienen los mismos valores en las otras columnas, son duplicados y procedemos a eliminarlos \n",
    "producto = producto.drop_duplicates(subset = \"product_id\")\n",
    "print(f\"Cantidad productos en maestro productos: {len(producto)}\")"
   ]
  },
  {
   "cell_type": "code",
   "execution_count": 12,
   "metadata": {},
   "outputs": [
    {
     "name": "stdout",
     "output_type": "stream",
     "text": [
      "Cantidad productos finales a predecir: 780\n"
     ]
    }
   ],
   "source": [
    "producto = producto[producto.product_id.isin(skus_a_predecir)]\n",
    "print(f\"Cantidad productos finales a predecir: {len(producto)}\")"
   ]
  },
  {
   "cell_type": "code",
   "execution_count": 30,
   "metadata": {},
   "outputs": [
    {
     "name": "stdout",
     "output_type": "stream",
     "text": [
      "Tipos por columna \n",
      "product_id    object\n",
      "cat1          object\n",
      "cat2          object\n",
      "cat3          object\n",
      "brand         object\n",
      "sku_size       int64\n",
      "dtype: object\n"
     ]
    }
   ],
   "source": [
    "producto = producto[[\"product_id\", \"cat1\", \"cat2\", \"cat3\", \"brand\", \"sku_size\"]]\n",
    "producto['product_id'] = producto['product_id'].astype(str)\n",
    "producto.to_csv(\"C:/Users/usuario/otros/Desktop\\MCD/6 Labo III/Forecasting Problem/Datasets/df_products_v1.csv\", index=False, header=False)\n",
    "print(f\"Tipos por columna \\n{producto.dtypes}\")"
   ]
  },
  {
   "cell_type": "markdown",
   "metadata": {},
   "source": [
    "- Creación serie de tiempo relacionada"
   ]
  },
  {
   "cell_type": "markdown",
   "metadata": {},
   "source": [
    "Agregamos fechas faltantes para tener todos los puntos de historia y no sólo donde tenemos venta registrada"
   ]
  },
  {
   "cell_type": "code",
   "execution_count": 153,
   "metadata": {},
   "outputs": [],
   "source": [
    "def create_future_periods(df):\n",
    "    combination = df.groupby([i for i in ['product_id']])[\"periodo\"].apply(lambda s: pd.date_range(s.min(), date_future, freq='MS')).explode().reset_index()\n",
    "    result = pd.merge(combination, df, how = \"left\", on = [\"periodo\", \"product_id\"])\n",
    "    result = result[[\"periodo\", \"product_id\", \"tn\"]]\n",
    "    return result"
   ]
  },
  {
   "cell_type": "code",
   "execution_count": 154,
   "metadata": {},
   "outputs": [],
   "source": [
    "df_related_product_v1 = create_future_periods(df_ventas_product)"
   ]
  },
  {
   "cell_type": "markdown",
   "metadata": {},
   "source": [
    "Agregamos variable relativas a tiempo"
   ]
  },
  {
   "cell_type": "code",
   "execution_count": 155,
   "metadata": {},
   "outputs": [],
   "source": [
    "def time_features(df):\n",
    "    df_time_features = df.copy()\n",
    "    # Asegúrate de que la columna 'periodo' esté en formato datetime\n",
    "    df_time_features['periodo'] = pd.to_datetime(df_time_features['periodo'], format='%Y-%m-%d')\n",
    "    # Crear las columnas 'mes', 'cuatrimestre' y 'dias del mes\"\n",
    "    df_time_features['month'] = df_time_features['periodo'].dt.month\n",
    "    df_time_features['quarter'] = df_time_features['periodo'].dt.quarter\n",
    "    df_time_features['days_in_month']= df_time_features['periodo'].dt.daysinmonth\n",
    "    return df_time_features"
   ]
  },
  {
   "cell_type": "code",
   "execution_count": 156,
   "metadata": {},
   "outputs": [],
   "source": [
    "df_related_product_v2 = time_features(df_related_product_v1)"
   ]
  },
  {
   "cell_type": "markdown",
   "metadata": {},
   "source": [
    "Agregamos cantidad de sabados y domingos del mes"
   ]
  },
  {
   "cell_type": "code",
   "execution_count": 157,
   "metadata": {},
   "outputs": [
    {
     "data": {
      "text/html": [
       "<div>\n",
       "<style scoped>\n",
       "    .dataframe tbody tr th:only-of-type {\n",
       "        vertical-align: middle;\n",
       "    }\n",
       "\n",
       "    .dataframe tbody tr th {\n",
       "        vertical-align: top;\n",
       "    }\n",
       "\n",
       "    .dataframe thead th {\n",
       "        text-align: right;\n",
       "    }\n",
       "</style>\n",
       "<table border=\"1\" class=\"dataframe\">\n",
       "  <thead>\n",
       "    <tr style=\"text-align: right;\">\n",
       "      <th></th>\n",
       "      <th>periodo</th>\n",
       "      <th>sundays</th>\n",
       "      <th>saturdays</th>\n",
       "    </tr>\n",
       "  </thead>\n",
       "  <tbody>\n",
       "    <tr>\n",
       "      <th>0</th>\n",
       "      <td>2017-01-01</td>\n",
       "      <td>5</td>\n",
       "      <td>4</td>\n",
       "    </tr>\n",
       "    <tr>\n",
       "      <th>1</th>\n",
       "      <td>2017-02-01</td>\n",
       "      <td>4</td>\n",
       "      <td>4</td>\n",
       "    </tr>\n",
       "    <tr>\n",
       "      <th>2</th>\n",
       "      <td>2017-03-01</td>\n",
       "      <td>4</td>\n",
       "      <td>4</td>\n",
       "    </tr>\n",
       "    <tr>\n",
       "      <th>3</th>\n",
       "      <td>2017-04-01</td>\n",
       "      <td>5</td>\n",
       "      <td>5</td>\n",
       "    </tr>\n",
       "    <tr>\n",
       "      <th>4</th>\n",
       "      <td>2017-05-01</td>\n",
       "      <td>4</td>\n",
       "      <td>4</td>\n",
       "    </tr>\n",
       "  </tbody>\n",
       "</table>\n",
       "</div>"
      ],
      "text/plain": [
       "     periodo  sundays  saturdays\n",
       "0 2017-01-01        5          4\n",
       "1 2017-02-01        4          4\n",
       "2 2017-03-01        4          4\n",
       "3 2017-04-01        5          5\n",
       "4 2017-05-01        4          4"
      ]
     },
     "execution_count": 157,
     "metadata": {},
     "output_type": "execute_result"
    }
   ],
   "source": [
    "# Cantidad de domingos al mes\n",
    "sundays = pd.DataFrame(pd.date_range(start=pd.to_datetime(date_start), end=date_future + pd.offsets.MonthEnd(0)))\n",
    "# sundays = pd.DataFrame(pd.date_range(start=pd.to_datetime(date_start) - pd.DateOffset(years=1), end=date_future + pd.offsets.MonthEnd(0)))\n",
    "sundays.columns = [\"fecha\"]\n",
    "sundays[\"day_week\"] = pd.to_datetime(sundays['fecha'], format='%Y-%m-%d').dt.dayofweek\n",
    "sundays = sundays[sundays.day_week == 6].rename(columns = {\"day_week\":\"sundays\"})\n",
    "sundays = sundays.replace({6:1})\n",
    "sundays['periodo']=sundays['fecha'].apply(lambda x: x.replace(day=1))\n",
    "sundays = sundays.groupby([\"periodo\"])[\"sundays\"].sum().reset_index()\n",
    "sundays['periodo']=pd.to_datetime(sundays['periodo'], format='%Y-%m-%d')\n",
    "sundays[\"sundays\"] = sundays[\"sundays\"].astype(int)\n",
    "# Cantidad de sabados al mes\n",
    "saturdays = pd.DataFrame(pd.date_range(start=pd.to_datetime(date_start), end=date_future + pd.offsets.MonthEnd(0)))\n",
    "# saturdays = pd.DataFrame(pd.date_range(start=pd.to_datetime(date_start) - pd.DateOffset(years=1), end=date_future + pd.offsets.MonthEnd(0)))\n",
    "saturdays.columns = [\"fecha\"]\n",
    "saturdays[\"day_week\"] = pd.to_datetime(saturdays['fecha'], format='%Y-%m-%d').dt.dayofweek\n",
    "saturdays = saturdays[saturdays.day_week == 5].rename(columns = {\"day_week\":\"saturdays\"})\n",
    "saturdays = saturdays.replace({5:1})\n",
    "saturdays['periodo']=saturdays['fecha'].apply(lambda x: x.replace(day=1))\n",
    "saturdays = saturdays.groupby([\"periodo\"])[\"saturdays\"].sum().reset_index()\n",
    "saturdays[\"saturdays\"] = saturdays[\"saturdays\"].astype(int)\n",
    "saturdays['periodo']=pd.to_datetime(saturdays['periodo'], format='%Y-%m-%d')\n",
    "# DF conjunto\n",
    "sundays_saturdays = pd.merge(sundays, saturdays, how = \"inner\", on = \"periodo\")\n",
    "sundays_saturdays.head(5)"
   ]
  },
  {
   "cell_type": "code",
   "execution_count": 158,
   "metadata": {},
   "outputs": [],
   "source": [
    "df_related_product_v3 = pd.merge(df_related_product_v2, sundays_saturdays, how = \"left\", on = \"periodo\")"
   ]
  },
  {
   "cell_type": "markdown",
   "metadata": {},
   "source": [
    "- Agregamos desfasajes y lags de los últimos 12 meses"
   ]
  },
  {
   "cell_type": "code",
   "execution_count": 159,
   "metadata": {},
   "outputs": [],
   "source": [
    "def shift_series(df, columns_shift):\n",
    "    df_shift = df.copy()\n",
    "    df_shift = df_shift.sort_values(by=columns_shift + [\"periodo\"])\n",
    "    lags = range(1, 13)\n",
    "    for lag in lags:\n",
    "        df_shift[f'lag{lag}m'] = df_shift.groupby(columns_shift)['tn'].shift(lag)\n",
    "        deltas = range(1, 13) \n",
    "    for delta in deltas:\n",
    "        df_shift[f'delta{delta}'] = df_shift.groupby(columns_shift)['tn'].diff(periods=delta)\n",
    "    return df_shift"
   ]
  },
  {
   "cell_type": "code",
   "execution_count": 162,
   "metadata": {},
   "outputs": [
    {
     "data": {
      "text/plain": [
       "array([nan])"
      ]
     },
     "execution_count": 162,
     "metadata": {},
     "output_type": "execute_result"
    }
   ],
   "source": [
    "df_related_product_v4 = shift_series(df_related_product_v3, columns_shift = [\"product_id\"])\n",
    "# Los puntos de tn con nan durante el periodo de train, son rellenados con cero, para el futuro se quedan con nan\n",
    "df_related_product_v4[\"tn\"] = np.where(df_related_product_v4[\"periodo\"] <= date_end, df_related_product_v4[\"tn\"].fillna(0), df_related_product_v4[\"tn\"])\n",
    "df_related_product_v4[df_related_product_v4.periodo > date_end].tn.unique()"
   ]
  },
  {
   "cell_type": "markdown",
   "metadata": {},
   "source": [
    "Agregamos feature de % de ventas mensual sobre el total anual (por product_id) para recoger estacionalidad"
   ]
  },
  {
   "cell_type": "code",
   "execution_count": 171,
   "metadata": {},
   "outputs": [],
   "source": [
    "def calculate_monthly_percentage(df, columns_shift):\n",
    "    df_pesos = df.copy()\n",
    "    df_pesos[\"year\"] = df_pesos.periodo.dt.year\n",
    "    # Calcular el volumen total anual por product_id\n",
    "    annual_volume = df_pesos.groupby(columns_shift + ['year'])['tn'].sum().reset_index()\n",
    "    annual_volume.rename(columns={'tn': 'annual_tn'}, inplace=True)\n",
    "    # Unir el volumen anual de vuelta al DataFrame original\n",
    "    df_pesos = pd.merge(df_pesos, annual_volume, on=columns_shift + ['year'], how='left')\n",
    "    # Calcular el porcentaje del volumen mensual respecto al volumen anual (por año)\n",
    "    df_pesos['monthly_percentage'] = df_pesos['tn'] / df_pesos['annual_tn'] * 100\n",
    "    # Crear una columna shifted_monthly_percentage con el valor de monthly_percentage hace 12 meses\n",
    "    df_pesos['shifted_monthly_percentage'] = df_pesos.groupby(columns_shift)['monthly_percentage'].shift(12)\n",
    "    # Rellenar los NaN en monthly_percentage con los valores de shifted_monthly_percentage (serían los valores futuros)\n",
    "    df_pesos['monthly_percentage'] = df_pesos['monthly_percentage'].fillna(df_pesos['shifted_monthly_percentage'])\n",
    "    # Eliminar las columnas tn, shifted_monthly_percentage y year si no son necesarias\n",
    "    df_pesos = df_pesos.drop(columns=['shifted_monthly_percentage', 'year', 'annual_tn'])\n",
    "    df_pesos['monthly_percentage'] = df_pesos['monthly_percentage'].fillna(0)\n",
    "    return df_pesos"
   ]
  },
  {
   "cell_type": "code",
   "execution_count": 172,
   "metadata": {},
   "outputs": [],
   "source": [
    "df_related_product_v5 = calculate_monthly_percentage(df_related_product_v4, columns_shift = [\"product_id\"])"
   ]
  },
  {
   "cell_type": "markdown",
   "metadata": {},
   "source": [
    "Agregamos variables dummy que recogen outliers mínimos y máximos"
   ]
  },
  {
   "cell_type": "code",
   "execution_count": 182,
   "metadata": {},
   "outputs": [],
   "source": [
    "def calculate_sales_extreme_values_by_percentile_method(df, lower_quantile=0.05, upper_quantile=0.95, grouped_columns=[]):\n",
    "    '''Calculates sales extreme values for those that are \n",
    "    greater/less than a lower/upper percentile.\n",
    "    '''\n",
    "    def upperextreme(x):\n",
    "        '''Define Upper Extreme'''\n",
    "        return x.quantile(q=upper_quantile)\n",
    "    def lowerextreme(x):\n",
    "        '''Define Lower Extreme'''\n",
    "        return x.quantile(q=lower_quantile)\n",
    "    \n",
    "    # Calculate extreme values by grouped_columns\n",
    "    df_lower_upper_extremes = df.groupby(grouped_columns)[\"tn\"].agg([lowerextreme, upperextreme]).reset_index()\n",
    "    \n",
    "    # Add extreme value dummies\n",
    "    df = (df\n",
    "         .merge(df_lower_upper_extremes, on = grouped_columns)\n",
    "         .assign(\n",
    "             lowerextremepoint = lambda x: x.tn < x.lowerextreme,\n",
    "             upperextremepoint = lambda x: x.tn > x.upperextreme)\n",
    "         .assign(\n",
    "             lowerextremepoint = lambda x: x.lowerextremepoint.astype('int64'),\n",
    "             upperextremepoint = lambda x: x.upperextremepoint.astype('int64'))\n",
    "         .drop(columns = ['lowerextreme', 'upperextreme'])\n",
    "    )\n",
    "    # Seteamos valores nan para periodo futuro\n",
    "    df[\"lowerextremepoint\"] = np.where(df[\"periodo\"] <= date_end, df[\"lowerextremepoint\"], np.nan)\n",
    "    df[\"upperextremepoint\"] = np.where(df[\"periodo\"] <= date_end, df[\"upperextremepoint\"], np.nan)\n",
    "    return df"
   ]
  },
  {
   "cell_type": "code",
   "execution_count": 183,
   "metadata": {},
   "outputs": [],
   "source": [
    "df_related_product_v6 = calculate_sales_extreme_values_by_percentile_method(df_related_product_v5, \n",
    "                                                                            lower_quantile=0.05, \n",
    "                                                                            upper_quantile=0.95, \n",
    "                                                                            grouped_columns=[\"product_id\"])"
   ]
  },
  {
   "cell_type": "code",
   "execution_count": 184,
   "metadata": {},
   "outputs": [
    {
     "data": {
      "image/png": "[encoded data removed]",
      "text/plain": [
       "<Figure size 1200x600 with 1 Axes>"
      ]
     },
     "metadata": {},
     "output_type": "display_data"
    }
   ],
   "source": [
    "producto_select = df_related_product_v6[(df_related_product_v6.product_id == 20002)][[\"periodo\", \"tn\", \"lowerextremepoint\", \"upperextremepoint\"]]\n",
    "def plot_outliers(df):\n",
    "    '''\n",
    "    Grafica la serie de tiempo de tn, marcando con puntos rojos los lowerextremepoint y upperextremepoint.\n",
    "    \n",
    "    Parámetros:\n",
    "    df (pd.DataFrame): DataFrame con columnas ['periodo', 'tn', 'lowerextremepoint', 'upperextremepoint']\n",
    "    '''\n",
    "    # Convertir 'periodo' a tipo datetime si no lo está\n",
    "    if not pd.api.types.is_datetime64_any_dtype(df['periodo']):\n",
    "        df['periodo'] = pd.to_datetime(df['periodo'])\n",
    "    # Filtrar los puntos extremos\n",
    "    df_lower = df[df['lowerextremepoint'] == 1]\n",
    "    df_upper = df[df['upperextremepoint'] == 1]\n",
    "    # Graficar la serie de tiempo\n",
    "    plt.figure(figsize=(12, 6))\n",
    "    plt.plot(df['periodo'], df['tn'], color='gray', label='Ventas')\n",
    "    # Marcar los lowerextremepoint y upperextremepoint\n",
    "    plt.scatter(df_lower['periodo'], df_lower['tn'], color='red', label='Lower Outliers')\n",
    "    plt.scatter(df_upper['periodo'], df_upper['tn'], color='red', label='Upper Outliers')\n",
    "    # Añadir título y etiquetas\n",
    "    plt.title('Ventas con Outliers')\n",
    "    plt.xlabel('Periodo')\n",
    "    plt.ylabel('Ventas (tn)')\n",
    "    plt.legend()\n",
    "    # Mostrar la gráfica\n",
    "    plt.show()\n",
    "plot_outliers(producto_select)"
   ]
  },
  {
   "cell_type": "code",
   "execution_count": 185,
   "metadata": {},
   "outputs": [
    {
     "data": {
      "text/html": [
       "<div>\n",
       "<style scoped>\n",
       "    .dataframe tbody tr th:only-of-type {\n",
       "        vertical-align: middle;\n",
       "    }\n",
       "\n",
       "    .dataframe tbody tr th {\n",
       "        vertical-align: top;\n",
       "    }\n",
       "\n",
       "    .dataframe thead th {\n",
       "        text-align: right;\n",
       "    }\n",
       "</style>\n",
       "<table border=\"1\" class=\"dataframe\">\n",
       "  <thead>\n",
       "    <tr style=\"text-align: right;\">\n",
       "      <th></th>\n",
       "      <th>periodo</th>\n",
       "      <th>product_id</th>\n",
       "      <th>month</th>\n",
       "      <th>quarter</th>\n",
       "      <th>days_in_month</th>\n",
       "      <th>sundays</th>\n",
       "      <th>saturdays</th>\n",
       "      <th>lag1m</th>\n",
       "      <th>lag2m</th>\n",
       "      <th>lag3m</th>\n",
       "      <th>lag4m</th>\n",
       "      <th>lag5m</th>\n",
       "      <th>lag6m</th>\n",
       "      <th>lag7m</th>\n",
       "      <th>lag8m</th>\n",
       "      <th>lag9m</th>\n",
       "      <th>lag10m</th>\n",
       "      <th>lag11m</th>\n",
       "      <th>lag12m</th>\n",
       "      <th>delta1</th>\n",
       "      <th>delta2</th>\n",
       "      <th>delta3</th>\n",
       "      <th>delta4</th>\n",
       "      <th>delta5</th>\n",
       "      <th>delta6</th>\n",
       "      <th>delta7</th>\n",
       "      <th>delta8</th>\n",
       "      <th>delta9</th>\n",
       "      <th>delta10</th>\n",
       "      <th>delta11</th>\n",
       "      <th>delta12</th>\n",
       "      <th>monthly_percentage</th>\n",
       "      <th>lowerextremepoint</th>\n",
       "      <th>upperextremepoint</th>\n",
       "    </tr>\n",
       "  </thead>\n",
       "  <tbody>\n",
       "    <tr>\n",
       "      <th>0</th>\n",
       "      <td>2017-01-01</td>\n",
       "      <td>20001</td>\n",
       "      <td>1</td>\n",
       "      <td>1</td>\n",
       "      <td>31</td>\n",
       "      <td>5</td>\n",
       "      <td>4</td>\n",
       "      <td>NaN</td>\n",
       "      <td>NaN</td>\n",
       "      <td>NaN</td>\n",
       "      <td>NaN</td>\n",
       "      <td>NaN</td>\n",
       "      <td>NaN</td>\n",
       "      <td>NaN</td>\n",
       "      <td>NaN</td>\n",
       "      <td>NaN</td>\n",
       "      <td>NaN</td>\n",
       "      <td>NaN</td>\n",
       "      <td>NaN</td>\n",
       "      <td>NaN</td>\n",
       "      <td>NaN</td>\n",
       "      <td>NaN</td>\n",
       "      <td>NaN</td>\n",
       "      <td>NaN</td>\n",
       "      <td>NaN</td>\n",
       "      <td>NaN</td>\n",
       "      <td>NaN</td>\n",
       "      <td>NaN</td>\n",
       "      <td>NaN</td>\n",
       "      <td>NaN</td>\n",
       "      <td>NaN</td>\n",
       "      <td>6.310483</td>\n",
       "      <td>1.0</td>\n",
       "      <td>0.0</td>\n",
       "    </tr>\n",
       "    <tr>\n",
       "      <th>1</th>\n",
       "      <td>2017-02-01</td>\n",
       "      <td>20001</td>\n",
       "      <td>2</td>\n",
       "      <td>1</td>\n",
       "      <td>28</td>\n",
       "      <td>4</td>\n",
       "      <td>4</td>\n",
       "      <td>934.77222</td>\n",
       "      <td>NaN</td>\n",
       "      <td>NaN</td>\n",
       "      <td>NaN</td>\n",
       "      <td>NaN</td>\n",
       "      <td>NaN</td>\n",
       "      <td>NaN</td>\n",
       "      <td>NaN</td>\n",
       "      <td>NaN</td>\n",
       "      <td>NaN</td>\n",
       "      <td>NaN</td>\n",
       "      <td>NaN</td>\n",
       "      <td>-136.75602</td>\n",
       "      <td>NaN</td>\n",
       "      <td>NaN</td>\n",
       "      <td>NaN</td>\n",
       "      <td>NaN</td>\n",
       "      <td>NaN</td>\n",
       "      <td>NaN</td>\n",
       "      <td>NaN</td>\n",
       "      <td>NaN</td>\n",
       "      <td>NaN</td>\n",
       "      <td>NaN</td>\n",
       "      <td>NaN</td>\n",
       "      <td>5.387267</td>\n",
       "      <td>1.0</td>\n",
       "      <td>0.0</td>\n",
       "    </tr>\n",
       "    <tr>\n",
       "      <th>2</th>\n",
       "      <td>2017-03-01</td>\n",
       "      <td>20001</td>\n",
       "      <td>3</td>\n",
       "      <td>1</td>\n",
       "      <td>31</td>\n",
       "      <td>4</td>\n",
       "      <td>4</td>\n",
       "      <td>798.01620</td>\n",
       "      <td>934.77222</td>\n",
       "      <td>NaN</td>\n",
       "      <td>NaN</td>\n",
       "      <td>NaN</td>\n",
       "      <td>NaN</td>\n",
       "      <td>NaN</td>\n",
       "      <td>NaN</td>\n",
       "      <td>NaN</td>\n",
       "      <td>NaN</td>\n",
       "      <td>NaN</td>\n",
       "      <td>NaN</td>\n",
       "      <td>505.34151</td>\n",
       "      <td>368.58549</td>\n",
       "      <td>NaN</td>\n",
       "      <td>NaN</td>\n",
       "      <td>NaN</td>\n",
       "      <td>NaN</td>\n",
       "      <td>NaN</td>\n",
       "      <td>NaN</td>\n",
       "      <td>NaN</td>\n",
       "      <td>NaN</td>\n",
       "      <td>NaN</td>\n",
       "      <td>NaN</td>\n",
       "      <td>8.798738</td>\n",
       "      <td>0.0</td>\n",
       "      <td>0.0</td>\n",
       "    </tr>\n",
       "    <tr>\n",
       "      <th>3</th>\n",
       "      <td>2017-04-01</td>\n",
       "      <td>20001</td>\n",
       "      <td>4</td>\n",
       "      <td>2</td>\n",
       "      <td>30</td>\n",
       "      <td>5</td>\n",
       "      <td>5</td>\n",
       "      <td>1303.35771</td>\n",
       "      <td>798.01620</td>\n",
       "      <td>934.77222</td>\n",
       "      <td>NaN</td>\n",
       "      <td>NaN</td>\n",
       "      <td>NaN</td>\n",
       "      <td>NaN</td>\n",
       "      <td>NaN</td>\n",
       "      <td>NaN</td>\n",
       "      <td>NaN</td>\n",
       "      <td>NaN</td>\n",
       "      <td>NaN</td>\n",
       "      <td>-233.39641</td>\n",
       "      <td>271.94510</td>\n",
       "      <td>135.18908</td>\n",
       "      <td>NaN</td>\n",
       "      <td>NaN</td>\n",
       "      <td>NaN</td>\n",
       "      <td>NaN</td>\n",
       "      <td>NaN</td>\n",
       "      <td>NaN</td>\n",
       "      <td>NaN</td>\n",
       "      <td>NaN</td>\n",
       "      <td>NaN</td>\n",
       "      <td>7.223120</td>\n",
       "      <td>0.0</td>\n",
       "      <td>0.0</td>\n",
       "    </tr>\n",
       "    <tr>\n",
       "      <th>4</th>\n",
       "      <td>2017-05-01</td>\n",
       "      <td>20001</td>\n",
       "      <td>5</td>\n",
       "      <td>2</td>\n",
       "      <td>31</td>\n",
       "      <td>4</td>\n",
       "      <td>4</td>\n",
       "      <td>1069.96130</td>\n",
       "      <td>1303.35771</td>\n",
       "      <td>798.01620</td>\n",
       "      <td>934.77222</td>\n",
       "      <td>NaN</td>\n",
       "      <td>NaN</td>\n",
       "      <td>NaN</td>\n",
       "      <td>NaN</td>\n",
       "      <td>NaN</td>\n",
       "      <td>NaN</td>\n",
       "      <td>NaN</td>\n",
       "      <td>NaN</td>\n",
       "      <td>432.24002</td>\n",
       "      <td>198.84361</td>\n",
       "      <td>704.18512</td>\n",
       "      <td>567.4291</td>\n",
       "      <td>NaN</td>\n",
       "      <td>NaN</td>\n",
       "      <td>NaN</td>\n",
       "      <td>NaN</td>\n",
       "      <td>NaN</td>\n",
       "      <td>NaN</td>\n",
       "      <td>NaN</td>\n",
       "      <td>NaN</td>\n",
       "      <td>10.141096</td>\n",
       "      <td>0.0</td>\n",
       "      <td>0.0</td>\n",
       "    </tr>\n",
       "  </tbody>\n",
       "</table>\n",
       "</div>"
      ],
      "text/plain": [
       "     periodo  product_id  month  quarter  days_in_month  sundays  saturdays   \n",
       "0 2017-01-01       20001      1        1             31        5          4  \\\n",
       "1 2017-02-01       20001      2        1             28        4          4   \n",
       "2 2017-03-01       20001      3        1             31        4          4   \n",
       "3 2017-04-01       20001      4        2             30        5          5   \n",
       "4 2017-05-01       20001      5        2             31        4          4   \n",
       "\n",
       "        lag1m       lag2m      lag3m      lag4m  lag5m  lag6m  lag7m  lag8m   \n",
       "0         NaN         NaN        NaN        NaN    NaN    NaN    NaN    NaN  \\\n",
       "1   934.77222         NaN        NaN        NaN    NaN    NaN    NaN    NaN   \n",
       "2   798.01620   934.77222        NaN        NaN    NaN    NaN    NaN    NaN   \n",
       "3  1303.35771   798.01620  934.77222        NaN    NaN    NaN    NaN    NaN   \n",
       "4  1069.96130  1303.35771  798.01620  934.77222    NaN    NaN    NaN    NaN   \n",
       "\n",
       "   lag9m  lag10m  lag11m  lag12m     delta1     delta2     delta3    delta4   \n",
       "0    NaN     NaN     NaN     NaN        NaN        NaN        NaN       NaN  \\\n",
       "1    NaN     NaN     NaN     NaN -136.75602        NaN        NaN       NaN   \n",
       "2    NaN     NaN     NaN     NaN  505.34151  368.58549        NaN       NaN   \n",
       "3    NaN     NaN     NaN     NaN -233.39641  271.94510  135.18908       NaN   \n",
       "4    NaN     NaN     NaN     NaN  432.24002  198.84361  704.18512  567.4291   \n",
       "\n",
       "   delta5  delta6  delta7  delta8  delta9  delta10  delta11  delta12   \n",
       "0     NaN     NaN     NaN     NaN     NaN      NaN      NaN      NaN  \\\n",
       "1     NaN     NaN     NaN     NaN     NaN      NaN      NaN      NaN   \n",
       "2     NaN     NaN     NaN     NaN     NaN      NaN      NaN      NaN   \n",
       "3     NaN     NaN     NaN     NaN     NaN      NaN      NaN      NaN   \n",
       "4     NaN     NaN     NaN     NaN     NaN      NaN      NaN      NaN   \n",
       "\n",
       "   monthly_percentage  lowerextremepoint  upperextremepoint  \n",
       "0            6.310483                1.0                0.0  \n",
       "1            5.387267                1.0                0.0  \n",
       "2            8.798738                0.0                0.0  \n",
       "3            7.223120                0.0                0.0  \n",
       "4           10.141096                0.0                0.0  "
      ]
     },
     "execution_count": 185,
     "metadata": {},
     "output_type": "execute_result"
    }
   ],
   "source": [
    "df_related_product_v7 = df_related_product_v6.drop(columns=\"tn\")\n",
    "df_related_product_v7.head(5)"
   ]
  },
  {
   "cell_type": "code",
   "execution_count": 186,
   "metadata": {},
   "outputs": [
    {
     "data": {
      "text/plain": [
       "True"
      ]
     },
     "execution_count": 186,
     "metadata": {},
     "output_type": "execute_result"
    }
   ],
   "source": [
    "len(df_related_product_v7) == len(df_related_product_v1)"
   ]
  },
  {
   "cell_type": "code",
   "execution_count": 187,
   "metadata": {},
   "outputs": [
    {
     "name": "stdout",
     "output_type": "stream",
     "text": [
      "-------------------------\n",
      "Min periodo 2017-01-01 00:00:00\n",
      "Max periodo 2020-02-01 00:00:00\n",
      "Cantidad de productos 780\n",
      "-------------------------\n",
      "Tipos por columna \n",
      "periodo               datetime64[ns]\n",
      "product_id                    object\n",
      "month                          int32\n",
      "quarter                        int32\n",
      "days_in_month                  int32\n",
      "sundays                        int32\n",
      "saturdays                      int32\n",
      "lag1m                        float64\n",
      "lag2m                        float64\n",
      "lag3m                        float64\n",
      "lag4m                        float64\n",
      "lag5m                        float64\n",
      "lag6m                        float64\n",
      "lag7m                        float64\n",
      "lag8m                        float64\n",
      "lag9m                        float64\n",
      "lag10m                       float64\n",
      "lag11m                       float64\n",
      "lag12m                       float64\n",
      "delta1                       float64\n",
      "delta2                       float64\n",
      "delta3                       float64\n",
      "delta4                       float64\n",
      "delta5                       float64\n",
      "delta6                       float64\n",
      "delta7                       float64\n",
      "delta8                       float64\n",
      "delta9                       float64\n",
      "delta10                      float64\n",
      "delta11                      float64\n",
      "delta12                      float64\n",
      "monthly_percentage           float64\n",
      "lowerextremepoint            float64\n",
      "upperextremepoint            float64\n",
      "dtype: object\n",
      "-------------------------\n",
      "Cantidad de NAN values \n",
      "periodo                   0\n",
      "product_id                0\n",
      "month                     0\n",
      "quarter                   0\n",
      "days_in_month             0\n",
      "sundays                   0\n",
      "saturdays                 0\n",
      "lag1m                  1586\n",
      "lag2m                  1586\n",
      "lag3m                  2366\n",
      "lag4m                  3146\n",
      "lag5m                  3926\n",
      "lag6m                  4706\n",
      "lag7m                  5477\n",
      "lag8m                  6233\n",
      "lag9m                  6965\n",
      "lag10m                 7681\n",
      "lag11m                 8386\n",
      "lag12m                 9059\n",
      "delta1                 2387\n",
      "delta2                 3168\n",
      "delta3                 3948\n",
      "delta4                 4726\n",
      "delta5                 5496\n",
      "delta6                 6252\n",
      "delta7                 6983\n",
      "delta8                 7698\n",
      "delta9                 8402\n",
      "delta10                9075\n",
      "delta11                9735\n",
      "delta12               10390\n",
      "monthly_percentage        0\n",
      "lowerextremepoint      1560\n",
      "upperextremepoint      1560\n",
      "dtype: int64\n",
      "-------------------------\n"
     ]
    }
   ],
   "source": [
    "# Exportamos data relacionada, apertura por product\n",
    "# Nos aseguramos que cada serie temporal (por producto) comience en el mismo periodo que comienza en la serie de tiempo ppal de ventas\n",
    "df_min_period = df_ventas_product_export.groupby([\"product_id\"])[\"periodo\"].min().reset_index().rename(columns = {\"periodo\":\"min_periodo\"})\n",
    "df_related_product_v7['product_id'] = df_related_product_v7['product_id'].astype(str)\n",
    "df_related_product_export = pd.merge(df_related_product_v7, df_min_period, on='product_id')\n",
    "df_related_product_export = df_related_product_export[df_related_product_export['periodo'] >= df_related_product_export['min_periodo']]\n",
    "df_related_product_export = df_related_product_export.drop(columns=['min_periodo'])\n",
    "df_related_product_export = df_related_product_export[(df_related_product_export['periodo']<=date_future)]\n",
    "df_related_product_export.to_csv(\"C:/Users/usuario/otros/Desktop\\MCD/6 Labo III/Forecasting Problem/Datasets/df_related_product_v1.csv\", index=False, header=False)\n",
    "print(\"-------------------------\")\n",
    "print(f\"Min periodo {df_related_product_export.periodo.min()}\")\n",
    "print(f\"Max periodo {df_related_product_export.periodo.max()}\")\n",
    "print(f\"Cantidad de productos {len(df_related_product_export.product_id.unique())}\")\n",
    "print(\"-------------------------\")\n",
    "print(f\"Tipos por columna \\n{df_related_product_export.dtypes}\")\n",
    "print(\"-------------------------\")\n",
    "print(f\"Cantidad de NAN values \\n{df_related_product_export.isna().sum()}\")\n",
    "print(\"-------------------------\")"
   ]
  },
  {
   "cell_type": "code",
   "execution_count": 188,
   "metadata": {},
   "outputs": [
    {
     "data": {
      "text/plain": [
       "['periodo',\n",
       " 'product_id',\n",
       " 'month',\n",
       " 'quarter',\n",
       " 'days_in_month',\n",
       " 'sundays',\n",
       " 'saturdays',\n",
       " 'lag1m',\n",
       " 'lag2m',\n",
       " 'lag3m',\n",
       " 'lag4m',\n",
       " 'lag5m',\n",
       " 'lag6m',\n",
       " 'lag7m',\n",
       " 'lag8m',\n",
       " 'lag9m',\n",
       " 'lag10m',\n",
       " 'lag11m',\n",
       " 'lag12m',\n",
       " 'delta1',\n",
       " 'delta2',\n",
       " 'delta3',\n",
       " 'delta4',\n",
       " 'delta5',\n",
       " 'delta6',\n",
       " 'delta7',\n",
       " 'delta8',\n",
       " 'delta9',\n",
       " 'delta10',\n",
       " 'delta11',\n",
       " 'delta12',\n",
       " 'monthly_percentage',\n",
       " 'lowerextremepoint',\n",
       " 'upperextremepoint']"
      ]
     },
     "execution_count": 188,
     "metadata": {},
     "output_type": "execute_result"
    }
   ],
   "source": [
    "df_related_product_export.columns.to_list()"
   ]
  },
  {
   "cell_type": "markdown",
   "metadata": {},
   "source": [
    "Chequear que cada combinacion en el df relacionado comience en misma fecha que en df principal"
   ]
  },
  {
   "cell_type": "code",
   "execution_count": 189,
   "metadata": {},
   "outputs": [
    {
     "data": {
      "text/html": [
       "<div>\n",
       "<style scoped>\n",
       "    .dataframe tbody tr th:only-of-type {\n",
       "        vertical-align: middle;\n",
       "    }\n",
       "\n",
       "    .dataframe tbody tr th {\n",
       "        vertical-align: top;\n",
       "    }\n",
       "\n",
       "    .dataframe thead th {\n",
       "        text-align: right;\n",
       "    }\n",
       "</style>\n",
       "<table border=\"1\" class=\"dataframe\">\n",
       "  <thead>\n",
       "    <tr style=\"text-align: right;\">\n",
       "      <th></th>\n",
       "      <th>product_id</th>\n",
       "      <th>min_period_ventas</th>\n",
       "      <th>min_period_related</th>\n",
       "    </tr>\n",
       "  </thead>\n",
       "  <tbody>\n",
       "  </tbody>\n",
       "</table>\n",
       "</div>"
      ],
      "text/plain": [
       "Empty DataFrame\n",
       "Columns: [product_id, min_period_ventas, min_period_related]\n",
       "Index: []"
      ]
     },
     "execution_count": 189,
     "metadata": {},
     "output_type": "execute_result"
    }
   ],
   "source": [
    "fecha_min_ventas = df_ventas_product_export.groupby([\"product_id\"])[\"periodo\"].min().reset_index().rename(columns = {\"periodo\":\"min_period_ventas\"})\n",
    "fecha_min_related = df_related_product_export.groupby([\"product_id\"])[\"periodo\"].min().reset_index().rename(columns = {\"periodo\":\"min_period_related\"})\n",
    "merge_fecha_min = pd.merge(fecha_min_ventas, fecha_min_related, how = \"outer\", on = \"product_id\")\n",
    "merge_fecha_min[merge_fecha_min.min_period_ventas != merge_fecha_min.min_period_related]"
   ]
  }
 ],
 "metadata": {
  "kernelspec": {
   "display_name": "Python 3",
   "language": "python",
   "name": "python3"
  },
  "language_info": {
   "codemirror_mode": {
    "name": "ipython",
    "version": 3
   },
   "file_extension": ".py",
   "mimetype": "text/x-python",
   "name": "python",
   "nbconvert_exporter": "python",
   "pygments_lexer": "ipython3",
   "version": "3.11.2"
  }
 },
 "nbformat": 4,
 "nbformat_minor": 2
}
