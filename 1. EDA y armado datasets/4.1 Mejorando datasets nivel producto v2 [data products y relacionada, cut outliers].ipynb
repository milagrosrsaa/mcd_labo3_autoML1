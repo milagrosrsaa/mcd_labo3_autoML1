{
 "cells": [
  {
   "cell_type": "markdown",
   "metadata": {},
   "source": [
    "<center>\n",
    "  <h2>Trabajo Laboratorio de Implementación III - MCD Virtual Cohorte 2022</h2>\n",
    "  <h3>Forecasting para una Empresa de Consumo Masivo</h3>\n",
    "  <h4>Armado de Datasets</h4>\n",
    "</center>"
   ]
  },
  {
   "cell_type": "code",
   "execution_count": 260,
   "metadata": {},
   "outputs": [],
   "source": [
    "import pandas as pd\n",
    "import seaborn as sns\n",
    "import matplotlib.pyplot as plt\n",
    "import numpy as np\n",
    "import warnings\n",
    "from datetime import datetime, timedelta\n",
    "from dateutil.relativedelta import relativedelta\n",
    "warnings.filterwarnings(\"ignore\")\n",
    "\n",
    "date_start=datetime.strptime('2017-01-01', '%Y-%m-%d')\n",
    "date_end=datetime.strptime('2019-12-01', '%Y-%m-%d')\n",
    "forecast_length = 2\n",
    "date_future=date_end+relativedelta(months=forecast_length)\n",
    "years=range(2018, 2020)"
   ]
  },
  {
   "cell_type": "code",
   "execution_count": 261,
   "metadata": {},
   "outputs": [
    {
     "name": "stdout",
     "output_type": "stream",
     "text": [
      "Fecha inicio historia 2017-01-01 00:00:00\n",
      "Fecha fin historia 2019-12-01 00:00:00\n",
      "Fecha futura (related time series) 2020-02-01 00:00:00\n"
     ]
    }
   ],
   "source": [
    "print(f\"Fecha inicio historia {date_start}\")\n",
    "print(f\"Fecha fin historia {date_end}\")\n",
    "print(f\"Fecha futura (related time series) {date_future}\")"
   ]
  },
  {
   "cell_type": "markdown",
   "metadata": {},
   "source": [
    "- Skus a predecir"
   ]
  },
  {
   "cell_type": "code",
   "execution_count": 262,
   "metadata": {},
   "outputs": [],
   "source": [
    "skus_a_predecir = pd.read_csv(\"C:/Users/usuario/otros/Desktop\\MCD/6 Labo III/Forecasting Problem/Datasets/productos_a_predecir.txt\", delimiter='\\t')\n",
    "skus_a_predecir = skus_a_predecir.product_id.to_list()"
   ]
  },
  {
   "cell_type": "markdown",
   "metadata": {},
   "source": [
    "- Datos de ventas"
   ]
  },
  {
   "cell_type": "code",
   "execution_count": 263,
   "metadata": {},
   "outputs": [
    {
     "data": {
      "text/html": [
       "<div>\n",
       "<style scoped>\n",
       "    .dataframe tbody tr th:only-of-type {\n",
       "        vertical-align: middle;\n",
       "    }\n",
       "\n",
       "    .dataframe tbody tr th {\n",
       "        vertical-align: top;\n",
       "    }\n",
       "\n",
       "    .dataframe thead th {\n",
       "        text-align: right;\n",
       "    }\n",
       "</style>\n",
       "<table border=\"1\" class=\"dataframe\">\n",
       "  <thead>\n",
       "    <tr style=\"text-align: right;\">\n",
       "      <th></th>\n",
       "      <th>periodo</th>\n",
       "      <th>customer_id</th>\n",
       "      <th>product_id</th>\n",
       "      <th>plan_precios_cuidados</th>\n",
       "      <th>cust_request_qty</th>\n",
       "      <th>cust_request_tn</th>\n",
       "      <th>tn</th>\n",
       "    </tr>\n",
       "  </thead>\n",
       "  <tbody>\n",
       "    <tr>\n",
       "      <th>0</th>\n",
       "      <td>2017-01-01</td>\n",
       "      <td>10234</td>\n",
       "      <td>20524</td>\n",
       "      <td>0</td>\n",
       "      <td>2</td>\n",
       "      <td>0.053</td>\n",
       "      <td>0.053</td>\n",
       "    </tr>\n",
       "  </tbody>\n",
       "</table>\n",
       "</div>"
      ],
      "text/plain": [
       "     periodo  customer_id  product_id  plan_precios_cuidados   \n",
       "0 2017-01-01        10234       20524                      0  \\\n",
       "\n",
       "   cust_request_qty  cust_request_tn     tn  \n",
       "0                 2            0.053  0.053  "
      ]
     },
     "execution_count": 263,
     "metadata": {},
     "output_type": "execute_result"
    }
   ],
   "source": [
    "df_ventas = pd.read_csv(\"C:/Users/usuario/otros/Desktop\\MCD/6 Labo III/Forecasting Problem/Datasets/sell-in.txt\", delimiter='\\t')\n",
    "df_ventas['periodo'] = df_ventas['periodo'].astype(str)\n",
    "df_ventas['periodo'] = pd.to_datetime(df_ventas['periodo'], format='%Y%m')\n",
    "df_ventas = df_ventas[df_ventas.product_id.isin(skus_a_predecir)]\n",
    "df_ventas.head(1)"
   ]
  },
  {
   "cell_type": "code",
   "execution_count": 264,
   "metadata": {},
   "outputs": [
    {
     "name": "stdout",
     "output_type": "stream",
     "text": [
      "Cantidad productos finales a predecir: 780\n"
     ]
    }
   ],
   "source": [
    "print(f\"Cantidad productos finales a predecir: {len(df_ventas.product_id.drop_duplicates())}\")"
   ]
  },
  {
   "cell_type": "markdown",
   "metadata": {},
   "source": [
    "Dataset de ventas para predecir unicamente por periodo y producto:"
   ]
  },
  {
   "cell_type": "code",
   "execution_count": 265,
   "metadata": {},
   "outputs": [
    {
     "data": {
      "text/html": [
       "<div>\n",
       "<style scoped>\n",
       "    .dataframe tbody tr th:only-of-type {\n",
       "        vertical-align: middle;\n",
       "    }\n",
       "\n",
       "    .dataframe tbody tr th {\n",
       "        vertical-align: top;\n",
       "    }\n",
       "\n",
       "    .dataframe thead th {\n",
       "        text-align: right;\n",
       "    }\n",
       "</style>\n",
       "<table border=\"1\" class=\"dataframe\">\n",
       "  <thead>\n",
       "    <tr style=\"text-align: right;\">\n",
       "      <th></th>\n",
       "      <th>periodo</th>\n",
       "      <th>product_id</th>\n",
       "      <th>tn</th>\n",
       "    </tr>\n",
       "  </thead>\n",
       "  <tbody>\n",
       "    <tr>\n",
       "      <th>0</th>\n",
       "      <td>2017-01-01</td>\n",
       "      <td>20001</td>\n",
       "      <td>934.77222</td>\n",
       "    </tr>\n",
       "  </tbody>\n",
       "</table>\n",
       "</div>"
      ],
      "text/plain": [
       "     periodo  product_id         tn\n",
       "0 2017-01-01       20001  934.77222"
      ]
     },
     "execution_count": 265,
     "metadata": {},
     "output_type": "execute_result"
    }
   ],
   "source": [
    "df_ventas_product = df_ventas.groupby([\"periodo\", \"product_id\"])[\"tn\"].sum().reset_index()\n",
    "df_ventas_product.head(1)"
   ]
  },
  {
   "cell_type": "code",
   "execution_count": 266,
   "metadata": {},
   "outputs": [
    {
     "data": {
      "text/plain": [
       "periodo       0\n",
       "product_id    0\n",
       "tn            0\n",
       "dtype: int64"
      ]
     },
     "execution_count": 266,
     "metadata": {},
     "output_type": "execute_result"
    }
   ],
   "source": [
    "df_ventas_product.isna().sum()"
   ]
  },
  {
   "cell_type": "code",
   "execution_count": 267,
   "metadata": {},
   "outputs": [
    {
     "data": {
      "text/plain": [
       "True"
      ]
     },
     "execution_count": 267,
     "metadata": {},
     "output_type": "execute_result"
    }
   ],
   "source": [
    "df_ventas_product.tn.sum().round(1) == df_ventas.tn.sum().round(1) "
   ]
  },
  {
   "cell_type": "markdown",
   "metadata": {},
   "source": [
    "- Cortamos outliers"
   ]
  },
  {
   "cell_type": "code",
   "execution_count": 268,
   "metadata": {},
   "outputs": [],
   "source": [
    "# FUNCIÓN PARA IDENTIFICAR OUTLIERS MÁXIMOS Y LLEVAR LOS VALORES AL P95 DE LA DISTRIBUCION\n",
    "def fill_sales_extreme_upper_values_by_percentile_method(df, upper_quantile=0.95, grouped_columns=[]):\n",
    "    '''Calculates sales extreme values for those that are greater than an upper percentile\n",
    "    and fills upper outliers with the upper percentile value.\n",
    "    '''\n",
    "    def upperextreme(x):\n",
    "        '''Define Upper Extreme'''\n",
    "        return x.quantile(q=upper_quantile)\n",
    "    \n",
    "    # Calculate upper extreme values by grouped_columns\n",
    "    df_upper_extremes = df.groupby(grouped_columns)[\"tn\"].agg([upperextreme]).reset_index()\n",
    "    # Merge the upper extreme values back to the original dataframe\n",
    "    df = df.merge(df_upper_extremes, on=grouped_columns)\n",
    "    # Replace upper extreme values with upper quantile value\n",
    "    df['tn'] = np.where(df['tn'] > df['upperextreme'], df['upperextreme'], df['tn'])\n",
    "    # Drop the upper extreme value columns as they are no longer needed\n",
    "    df = df.drop(columns=['upperextreme'])\n",
    "    return df\n",
    "\n",
    "# Aplicación de la función\n",
    "df_ventas_product_cut_upper = fill_sales_extreme_upper_values_by_percentile_method(df_ventas_product, \n",
    "                                                                                   upper_quantile=0.95, \n",
    "                                                                                   grouped_columns=[\"product_id\"])"
   ]
  },
  {
   "cell_type": "code",
   "execution_count": 269,
   "metadata": {},
   "outputs": [
    {
     "name": "stdout",
     "output_type": "stream",
     "text": [
      "Min periodo 2017-01-01 00:00:00\n",
      "Max periodo 2019-12-01 00:00:00\n",
      "Tipos por columna: \n",
      "periodo       datetime64[ns]\n",
      "product_id            object\n",
      "tn                   float64\n",
      "dtype: object\n"
     ]
    }
   ],
   "source": [
    "# Exportamos data de ventas product ACOTADA por outliers EXTREMOS INFERIORES Y SUPERIORES\n",
    "df_ventas_product_export = df_ventas_product_cut_upper[(df_ventas_product_cut_upper['periodo']>=date_start) & (df_ventas_product_cut_upper['periodo']<=date_end)]\n",
    "df_ventas_product_export['product_id'] = df_ventas_product_export['product_id'].astype(str)\n",
    "print(f\"Min periodo {df_ventas_product_export.periodo.min()}\")\n",
    "print(f\"Max periodo {df_ventas_product_export.periodo.max()}\")\n",
    "df_ventas_product_export.to_csv(\"C:/Users/usuario/otros/Desktop\\MCD/6 Labo III/Forecasting Problem/Datasets/df_ventas_product_fill_extreme_values_095.csv\", index=False, header=False)\n",
    "print(f\"Tipos por columna: \\n{df_ventas_product_export.dtypes}\")"
   ]
  },
  {
   "cell_type": "markdown",
   "metadata": {},
   "source": [
    "- Datos de producto"
   ]
  },
  {
   "cell_type": "code",
   "execution_count": 270,
   "metadata": {},
   "outputs": [
    {
     "data": {
      "text/html": [
       "<div>\n",
       "<style scoped>\n",
       "    .dataframe tbody tr th:only-of-type {\n",
       "        vertical-align: middle;\n",
       "    }\n",
       "\n",
       "    .dataframe tbody tr th {\n",
       "        vertical-align: top;\n",
       "    }\n",
       "\n",
       "    .dataframe thead th {\n",
       "        text-align: right;\n",
       "    }\n",
       "</style>\n",
       "<table border=\"1\" class=\"dataframe\">\n",
       "  <thead>\n",
       "    <tr style=\"text-align: right;\">\n",
       "      <th></th>\n",
       "      <th>cat1</th>\n",
       "      <th>cat2</th>\n",
       "      <th>cat3</th>\n",
       "      <th>brand</th>\n",
       "      <th>sku_size</th>\n",
       "      <th>product_id</th>\n",
       "    </tr>\n",
       "  </thead>\n",
       "  <tbody>\n",
       "    <tr>\n",
       "      <th>0</th>\n",
       "      <td>HC</td>\n",
       "      <td>ROPA LAVADO</td>\n",
       "      <td>Liquido</td>\n",
       "      <td>LIMPIEX</td>\n",
       "      <td>900</td>\n",
       "      <td>20280</td>\n",
       "    </tr>\n",
       "    <tr>\n",
       "      <th>1</th>\n",
       "      <td>HC</td>\n",
       "      <td>ROPA LAVADO</td>\n",
       "      <td>Liquido</td>\n",
       "      <td>LIMPIEX</td>\n",
       "      <td>450</td>\n",
       "      <td>20180</td>\n",
       "    </tr>\n",
       "    <tr>\n",
       "      <th>2</th>\n",
       "      <td>HC</td>\n",
       "      <td>ROPA LAVADO</td>\n",
       "      <td>Liquido</td>\n",
       "      <td>LIMPIEX</td>\n",
       "      <td>120</td>\n",
       "      <td>20332</td>\n",
       "    </tr>\n",
       "    <tr>\n",
       "      <th>3</th>\n",
       "      <td>HC</td>\n",
       "      <td>ROPA LAVADO</td>\n",
       "      <td>Liquido</td>\n",
       "      <td>LIMPIEX</td>\n",
       "      <td>450</td>\n",
       "      <td>20222</td>\n",
       "    </tr>\n",
       "    <tr>\n",
       "      <th>4</th>\n",
       "      <td>HC</td>\n",
       "      <td>ROPA LAVADO</td>\n",
       "      <td>Liquido</td>\n",
       "      <td>LIMPIEX</td>\n",
       "      <td>900</td>\n",
       "      <td>20288</td>\n",
       "    </tr>\n",
       "  </tbody>\n",
       "</table>\n",
       "</div>"
      ],
      "text/plain": [
       "  cat1         cat2     cat3    brand  sku_size  product_id\n",
       "0   HC  ROPA LAVADO  Liquido  LIMPIEX       900       20280\n",
       "1   HC  ROPA LAVADO  Liquido  LIMPIEX       450       20180\n",
       "2   HC  ROPA LAVADO  Liquido  LIMPIEX       120       20332\n",
       "3   HC  ROPA LAVADO  Liquido  LIMPIEX       450       20222\n",
       "4   HC  ROPA LAVADO  Liquido  LIMPIEX       900       20288"
      ]
     },
     "execution_count": 270,
     "metadata": {},
     "output_type": "execute_result"
    }
   ],
   "source": [
    "producto = pd.read_csv(\"C:/Users/usuario/otros/Desktop\\MCD/6 Labo III/Forecasting Problem/Datasets/tb_productos.txt\", delimiter='\\t')\n",
    "producto.head(5)"
   ]
  },
  {
   "cell_type": "code",
   "execution_count": 271,
   "metadata": {},
   "outputs": [
    {
     "name": "stdout",
     "output_type": "stream",
     "text": [
      "----ANALISIS DUPLICADOS-----\n",
      "Cantidad productos en maestro productos: 1262\n",
      "Cantidad productos en maestro productos sin repetidos: 1251\n",
      "Cantidad productos en maestro productos: 1251\n"
     ]
    }
   ],
   "source": [
    "print(\"----ANALISIS DUPLICADOS-----\")\n",
    "print(f\"Cantidad productos en maestro productos: {len(producto)}\")\n",
    "print(f\"Cantidad productos en maestro productos sin repetidos: {len(producto.product_id.drop_duplicates())}\")\n",
    "# Observamos que product_id duplicados tienen los mismos valores en las otras columnas, son duplicados y procedemos a eliminarlos \n",
    "producto = producto.drop_duplicates(subset = \"product_id\")\n",
    "print(f\"Cantidad productos en maestro productos: {len(producto)}\")"
   ]
  },
  {
   "cell_type": "code",
   "execution_count": 272,
   "metadata": {},
   "outputs": [
    {
     "name": "stdout",
     "output_type": "stream",
     "text": [
      "Cantidad productos finales a predecir: 780\n"
     ]
    }
   ],
   "source": [
    "producto = producto[producto.product_id.isin(skus_a_predecir)]\n",
    "print(f\"Cantidad productos finales a predecir: {len(producto)}\")"
   ]
  },
  {
   "cell_type": "markdown",
   "metadata": {},
   "source": [
    "- Correlaciones de cada serie con productos top 10"
   ]
  },
  {
   "cell_type": "markdown",
   "metadata": {},
   "source": [
    "Los 10% más importantes contienen el 20% de las tn totales, analizamos la correlación de cada serie con ese top 10"
   ]
  },
  {
   "cell_type": "code",
   "execution_count": 273,
   "metadata": {},
   "outputs": [],
   "source": [
    "df_ventas_product_2019 = df_ventas_product[df_ventas_product.periodo.dt.year == 2019]\n",
    "df_ventas_product_2019_grouped = df_ventas_product_2019.groupby([\"product_id\"])[\"tn\"].sum()\n",
    "top_10_products = (df_ventas_product_2019_grouped / df_ventas_product_2019.tn.sum()) * 100\n",
    "top_10_products = top_10_products.reset_index().sort_values(by = \"tn\", ascending = False).head(10)\n",
    "top_10_products = top_10_products[\"product_id\"].to_list()"
   ]
  },
  {
   "cell_type": "code",
   "execution_count": 274,
   "metadata": {},
   "outputs": [
    {
     "data": {
      "text/html": [
       "<div>\n",
       "<style scoped>\n",
       "    .dataframe tbody tr th:only-of-type {\n",
       "        vertical-align: middle;\n",
       "    }\n",
       "\n",
       "    .dataframe tbody tr th {\n",
       "        vertical-align: top;\n",
       "    }\n",
       "\n",
       "    .dataframe thead th {\n",
       "        text-align: right;\n",
       "    }\n",
       "</style>\n",
       "<table border=\"1\" class=\"dataframe\">\n",
       "  <thead>\n",
       "    <tr style=\"text-align: right;\">\n",
       "      <th></th>\n",
       "      <th>product_id</th>\n",
       "      <th>corr_20001</th>\n",
       "      <th>corr_20002</th>\n",
       "      <th>corr_20003</th>\n",
       "      <th>corr_20005</th>\n",
       "      <th>corr_20004</th>\n",
       "      <th>corr_20009</th>\n",
       "      <th>corr_20032</th>\n",
       "      <th>corr_20006</th>\n",
       "      <th>corr_20007</th>\n",
       "      <th>corr_20010</th>\n",
       "    </tr>\n",
       "  </thead>\n",
       "  <tbody>\n",
       "    <tr>\n",
       "      <th>0</th>\n",
       "      <td>20001</td>\n",
       "      <td>1.000000</td>\n",
       "      <td>0.292781</td>\n",
       "      <td>0.040044</td>\n",
       "      <td>0.418139</td>\n",
       "      <td>0.235897</td>\n",
       "      <td>0.164754</td>\n",
       "      <td>0.016506</td>\n",
       "      <td>0.235667</td>\n",
       "      <td>0.226113</td>\n",
       "      <td>0.174968</td>\n",
       "    </tr>\n",
       "    <tr>\n",
       "      <th>1</th>\n",
       "      <td>20002</td>\n",
       "      <td>0.292781</td>\n",
       "      <td>1.000000</td>\n",
       "      <td>0.654610</td>\n",
       "      <td>0.307409</td>\n",
       "      <td>0.720955</td>\n",
       "      <td>0.067080</td>\n",
       "      <td>0.328798</td>\n",
       "      <td>0.360105</td>\n",
       "      <td>0.030957</td>\n",
       "      <td>0.185156</td>\n",
       "    </tr>\n",
       "    <tr>\n",
       "      <th>2</th>\n",
       "      <td>20003</td>\n",
       "      <td>0.040044</td>\n",
       "      <td>0.654610</td>\n",
       "      <td>1.000000</td>\n",
       "      <td>0.124172</td>\n",
       "      <td>0.664815</td>\n",
       "      <td>0.152551</td>\n",
       "      <td>0.483269</td>\n",
       "      <td>-0.168530</td>\n",
       "      <td>-0.378631</td>\n",
       "      <td>0.058513</td>\n",
       "    </tr>\n",
       "    <tr>\n",
       "      <th>3</th>\n",
       "      <td>20004</td>\n",
       "      <td>0.235897</td>\n",
       "      <td>0.720955</td>\n",
       "      <td>0.664815</td>\n",
       "      <td>0.692485</td>\n",
       "      <td>1.000000</td>\n",
       "      <td>0.372809</td>\n",
       "      <td>0.556129</td>\n",
       "      <td>-0.084853</td>\n",
       "      <td>0.003766</td>\n",
       "      <td>0.419989</td>\n",
       "    </tr>\n",
       "    <tr>\n",
       "      <th>4</th>\n",
       "      <td>20005</td>\n",
       "      <td>0.418139</td>\n",
       "      <td>0.307409</td>\n",
       "      <td>0.124172</td>\n",
       "      <td>1.000000</td>\n",
       "      <td>0.692485</td>\n",
       "      <td>0.479811</td>\n",
       "      <td>0.341879</td>\n",
       "      <td>-0.044414</td>\n",
       "      <td>0.203697</td>\n",
       "      <td>0.488491</td>\n",
       "    </tr>\n",
       "    <tr>\n",
       "      <th>...</th>\n",
       "      <td>...</td>\n",
       "      <td>...</td>\n",
       "      <td>...</td>\n",
       "      <td>...</td>\n",
       "      <td>...</td>\n",
       "      <td>...</td>\n",
       "      <td>...</td>\n",
       "      <td>...</td>\n",
       "      <td>...</td>\n",
       "      <td>...</td>\n",
       "      <td>...</td>\n",
       "    </tr>\n",
       "    <tr>\n",
       "      <th>775</th>\n",
       "      <td>21263</td>\n",
       "      <td>-0.265714</td>\n",
       "      <td>-0.177419</td>\n",
       "      <td>-0.197963</td>\n",
       "      <td>-0.734870</td>\n",
       "      <td>-0.453351</td>\n",
       "      <td>-0.241550</td>\n",
       "      <td>-0.224398</td>\n",
       "      <td>-0.059761</td>\n",
       "      <td>0.077890</td>\n",
       "      <td>-0.236078</td>\n",
       "    </tr>\n",
       "    <tr>\n",
       "      <th>776</th>\n",
       "      <td>21265</td>\n",
       "      <td>0.366056</td>\n",
       "      <td>0.272910</td>\n",
       "      <td>-0.342837</td>\n",
       "      <td>0.079827</td>\n",
       "      <td>-0.207902</td>\n",
       "      <td>-0.540198</td>\n",
       "      <td>-0.608804</td>\n",
       "      <td>0.901903</td>\n",
       "      <td>0.135442</td>\n",
       "      <td>-0.004080</td>\n",
       "    </tr>\n",
       "    <tr>\n",
       "      <th>777</th>\n",
       "      <td>21266</td>\n",
       "      <td>0.417087</td>\n",
       "      <td>0.289371</td>\n",
       "      <td>-0.328367</td>\n",
       "      <td>0.111039</td>\n",
       "      <td>-0.202629</td>\n",
       "      <td>-0.503188</td>\n",
       "      <td>-0.597295</td>\n",
       "      <td>0.895020</td>\n",
       "      <td>0.171336</td>\n",
       "      <td>0.015036</td>\n",
       "    </tr>\n",
       "    <tr>\n",
       "      <th>778</th>\n",
       "      <td>21267</td>\n",
       "      <td>0.267666</td>\n",
       "      <td>0.014517</td>\n",
       "      <td>-0.528666</td>\n",
       "      <td>0.033034</td>\n",
       "      <td>-0.136412</td>\n",
       "      <td>-0.169159</td>\n",
       "      <td>-0.428888</td>\n",
       "      <td>0.450743</td>\n",
       "      <td>0.382757</td>\n",
       "      <td>0.134982</td>\n",
       "    </tr>\n",
       "    <tr>\n",
       "      <th>779</th>\n",
       "      <td>21276</td>\n",
       "      <td>0.125975</td>\n",
       "      <td>-0.054478</td>\n",
       "      <td>-0.586776</td>\n",
       "      <td>-0.225944</td>\n",
       "      <td>-0.264473</td>\n",
       "      <td>-0.425742</td>\n",
       "      <td>-0.570319</td>\n",
       "      <td>0.682186</td>\n",
       "      <td>0.397129</td>\n",
       "      <td>0.268028</td>\n",
       "    </tr>\n",
       "  </tbody>\n",
       "</table>\n",
       "<p>780 rows × 11 columns</p>\n",
       "</div>"
      ],
      "text/plain": [
       "     product_id  corr_20001  corr_20002  corr_20003  corr_20005  corr_20004   \n",
       "0         20001    1.000000    0.292781    0.040044    0.418139    0.235897  \\\n",
       "1         20002    0.292781    1.000000    0.654610    0.307409    0.720955   \n",
       "2         20003    0.040044    0.654610    1.000000    0.124172    0.664815   \n",
       "3         20004    0.235897    0.720955    0.664815    0.692485    1.000000   \n",
       "4         20005    0.418139    0.307409    0.124172    1.000000    0.692485   \n",
       "..          ...         ...         ...         ...         ...         ...   \n",
       "775       21263   -0.265714   -0.177419   -0.197963   -0.734870   -0.453351   \n",
       "776       21265    0.366056    0.272910   -0.342837    0.079827   -0.207902   \n",
       "777       21266    0.417087    0.289371   -0.328367    0.111039   -0.202629   \n",
       "778       21267    0.267666    0.014517   -0.528666    0.033034   -0.136412   \n",
       "779       21276    0.125975   -0.054478   -0.586776   -0.225944   -0.264473   \n",
       "\n",
       "     corr_20009  corr_20032  corr_20006  corr_20007  corr_20010  \n",
       "0      0.164754    0.016506    0.235667    0.226113    0.174968  \n",
       "1      0.067080    0.328798    0.360105    0.030957    0.185156  \n",
       "2      0.152551    0.483269   -0.168530   -0.378631    0.058513  \n",
       "3      0.372809    0.556129   -0.084853    0.003766    0.419989  \n",
       "4      0.479811    0.341879   -0.044414    0.203697    0.488491  \n",
       "..          ...         ...         ...         ...         ...  \n",
       "775   -0.241550   -0.224398   -0.059761    0.077890   -0.236078  \n",
       "776   -0.540198   -0.608804    0.901903    0.135442   -0.004080  \n",
       "777   -0.503188   -0.597295    0.895020    0.171336    0.015036  \n",
       "778   -0.169159   -0.428888    0.450743    0.382757    0.134982  \n",
       "779   -0.425742   -0.570319    0.682186    0.397129    0.268028  \n",
       "\n",
       "[780 rows x 11 columns]"
      ]
     },
     "execution_count": 274,
     "metadata": {},
     "output_type": "execute_result"
    }
   ],
   "source": [
    "# Filtrar y pivotear los datos\n",
    "pivot_df = df_ventas_product_2019.pivot(index='periodo', columns='product_id', values='tn')\n",
    "# Crear un DataFrame para almacenar las correlaciones\n",
    "correlation_results = pd.DataFrame(index=pivot_df.columns)\n",
    "# Calcular la correlación de cada producto con cada uno de los top 10 productos\n",
    "for top_product in top_10_products:\n",
    "    correlations = pivot_df.corrwith(pivot_df[top_product])\n",
    "    correlation_results[\"corr_\" + str(top_product)] = correlations\n",
    "correlation_results = correlation_results.reset_index()\n",
    "correlation_results"
   ]
  },
  {
   "cell_type": "code",
   "execution_count": 275,
   "metadata": {},
   "outputs": [
    {
     "data": {
      "text/plain": [
       "780"
      ]
     },
     "execution_count": 275,
     "metadata": {},
     "output_type": "execute_result"
    }
   ],
   "source": [
    "len(producto)"
   ]
  },
  {
   "cell_type": "code",
   "execution_count": 276,
   "metadata": {},
   "outputs": [
    {
     "data": {
      "text/html": [
       "<div>\n",
       "<style scoped>\n",
       "    .dataframe tbody tr th:only-of-type {\n",
       "        vertical-align: middle;\n",
       "    }\n",
       "\n",
       "    .dataframe tbody tr th {\n",
       "        vertical-align: top;\n",
       "    }\n",
       "\n",
       "    .dataframe thead th {\n",
       "        text-align: right;\n",
       "    }\n",
       "</style>\n",
       "<table border=\"1\" class=\"dataframe\">\n",
       "  <thead>\n",
       "    <tr style=\"text-align: right;\">\n",
       "      <th></th>\n",
       "      <th>cat1</th>\n",
       "      <th>cat2</th>\n",
       "      <th>cat3</th>\n",
       "      <th>brand</th>\n",
       "      <th>sku_size</th>\n",
       "      <th>product_id</th>\n",
       "      <th>corr_20001</th>\n",
       "      <th>corr_20002</th>\n",
       "      <th>corr_20003</th>\n",
       "      <th>corr_20005</th>\n",
       "      <th>corr_20004</th>\n",
       "      <th>corr_20009</th>\n",
       "      <th>corr_20032</th>\n",
       "      <th>corr_20006</th>\n",
       "      <th>corr_20007</th>\n",
       "      <th>corr_20010</th>\n",
       "    </tr>\n",
       "  </thead>\n",
       "  <tbody>\n",
       "    <tr>\n",
       "      <th>0</th>\n",
       "      <td>HC</td>\n",
       "      <td>ROPA LAVADO</td>\n",
       "      <td>Liquido</td>\n",
       "      <td>LIMPIEX</td>\n",
       "      <td>900</td>\n",
       "      <td>20280</td>\n",
       "      <td>0.344376</td>\n",
       "      <td>0.251042</td>\n",
       "      <td>0.149971</td>\n",
       "      <td>0.056807</td>\n",
       "      <td>0.179661</td>\n",
       "      <td>0.107151</td>\n",
       "      <td>0.091045</td>\n",
       "      <td>-0.142871</td>\n",
       "      <td>0.511455</td>\n",
       "      <td>0.054308</td>\n",
       "    </tr>\n",
       "  </tbody>\n",
       "</table>\n",
       "</div>"
      ],
      "text/plain": [
       "  cat1         cat2     cat3    brand  sku_size  product_id  corr_20001   \n",
       "0   HC  ROPA LAVADO  Liquido  LIMPIEX       900       20280    0.344376  \\\n",
       "\n",
       "   corr_20002  corr_20003  corr_20005  corr_20004  corr_20009  corr_20032   \n",
       "0    0.251042    0.149971    0.056807    0.179661    0.107151    0.091045  \\\n",
       "\n",
       "   corr_20006  corr_20007  corr_20010  \n",
       "0   -0.142871    0.511455    0.054308  "
      ]
     },
     "execution_count": 276,
     "metadata": {},
     "output_type": "execute_result"
    }
   ],
   "source": [
    "producto = pd.merge(producto, correlation_results, how = \"inner\", on = \"product_id\")\n",
    "producto.head(1)"
   ]
  },
  {
   "cell_type": "code",
   "execution_count": 277,
   "metadata": {},
   "outputs": [
    {
     "data": {
      "text/plain": [
       "780"
      ]
     },
     "execution_count": 277,
     "metadata": {},
     "output_type": "execute_result"
    }
   ],
   "source": [
    "len(producto)"
   ]
  },
  {
   "cell_type": "markdown",
   "metadata": {},
   "source": [
    "- Exportamos data"
   ]
  },
  {
   "cell_type": "code",
   "execution_count": 278,
   "metadata": {},
   "outputs": [
    {
     "name": "stdout",
     "output_type": "stream",
     "text": [
      "Tipos por columna \n",
      "product_id     object\n",
      "cat1           object\n",
      "cat2           object\n",
      "cat3           object\n",
      "brand          object\n",
      "sku_size        int64\n",
      "corr_20001    float64\n",
      "corr_20002    float64\n",
      "corr_20003    float64\n",
      "corr_20005    float64\n",
      "corr_20004    float64\n",
      "corr_20009    float64\n",
      "corr_20032    float64\n",
      "corr_20006    float64\n",
      "corr_20007    float64\n",
      "corr_20010    float64\n",
      "dtype: object\n"
     ]
    }
   ],
   "source": [
    "producto = producto[[\"product_id\", \"cat1\", \"cat2\", \"cat3\", \"brand\", \"sku_size\"] + producto.filter(like='corr_').columns.tolist()]\n",
    "producto['product_id'] = producto['product_id'].astype(str)\n",
    "producto.to_csv(\"C:/Users/usuario/otros/Desktop\\MCD/6 Labo III/Forecasting Problem/Datasets/df_products_corr.csv\", index=False, header=False)\n",
    "print(f\"Tipos por columna \\n{producto.dtypes}\")"
   ]
  },
  {
   "cell_type": "markdown",
   "metadata": {},
   "source": [
    "- Creación serie de tiempo relacionada"
   ]
  },
  {
   "cell_type": "markdown",
   "metadata": {},
   "source": [
    "Agregamos fechas faltantes para tener todos los puntos de historia y no sólo donde tenemos venta registrada"
   ]
  },
  {
   "cell_type": "code",
   "execution_count": 279,
   "metadata": {},
   "outputs": [],
   "source": [
    "def create_future_periods(df):\n",
    "    combination = df.groupby([i for i in ['product_id']])[\"periodo\"].apply(lambda s: pd.date_range(s.min(), date_future, freq='MS')).explode().reset_index()\n",
    "    result = pd.merge(combination, df, how = \"left\", on = [\"periodo\", \"product_id\"])\n",
    "    result = result[[\"periodo\", \"product_id\", \"tn\"]]\n",
    "    return result"
   ]
  },
  {
   "cell_type": "code",
   "execution_count": 280,
   "metadata": {},
   "outputs": [],
   "source": [
    "df_related_product_v1 = create_future_periods(df_ventas_product_cut_upper)"
   ]
  },
  {
   "cell_type": "markdown",
   "metadata": {},
   "source": [
    "Agregamos variable relativas a tiempo"
   ]
  },
  {
   "cell_type": "code",
   "execution_count": 281,
   "metadata": {},
   "outputs": [],
   "source": [
    "def time_features(df):\n",
    "    df_time_features = df.copy()\n",
    "    # Asegúrate de que la columna 'periodo' esté en formato datetime\n",
    "    df_time_features['periodo'] = pd.to_datetime(df_time_features['periodo'], format='%Y-%m-%d')\n",
    "    # Crear las columnas 'mes', 'cuatrimestre' y 'dias del mes\"\n",
    "    df_time_features['month'] = df_time_features['periodo'].dt.month\n",
    "    df_time_features['quarter'] = df_time_features['periodo'].dt.quarter\n",
    "    df_time_features['days_in_month']= df_time_features['periodo'].dt.daysinmonth\n",
    "    return df_time_features"
   ]
  },
  {
   "cell_type": "code",
   "execution_count": 282,
   "metadata": {},
   "outputs": [],
   "source": [
    "df_related_product_v2 = time_features(df_related_product_v1)"
   ]
  },
  {
   "cell_type": "markdown",
   "metadata": {},
   "source": [
    "Agregamos cantidad de sabados y domingos del mes"
   ]
  },
  {
   "cell_type": "code",
   "execution_count": 283,
   "metadata": {},
   "outputs": [
    {
     "data": {
      "text/html": [
       "<div>\n",
       "<style scoped>\n",
       "    .dataframe tbody tr th:only-of-type {\n",
       "        vertical-align: middle;\n",
       "    }\n",
       "\n",
       "    .dataframe tbody tr th {\n",
       "        vertical-align: top;\n",
       "    }\n",
       "\n",
       "    .dataframe thead th {\n",
       "        text-align: right;\n",
       "    }\n",
       "</style>\n",
       "<table border=\"1\" class=\"dataframe\">\n",
       "  <thead>\n",
       "    <tr style=\"text-align: right;\">\n",
       "      <th></th>\n",
       "      <th>periodo</th>\n",
       "      <th>sundays</th>\n",
       "      <th>saturdays</th>\n",
       "    </tr>\n",
       "  </thead>\n",
       "  <tbody>\n",
       "    <tr>\n",
       "      <th>0</th>\n",
       "      <td>2017-01-01</td>\n",
       "      <td>5</td>\n",
       "      <td>4</td>\n",
       "    </tr>\n",
       "    <tr>\n",
       "      <th>1</th>\n",
       "      <td>2017-02-01</td>\n",
       "      <td>4</td>\n",
       "      <td>4</td>\n",
       "    </tr>\n",
       "    <tr>\n",
       "      <th>2</th>\n",
       "      <td>2017-03-01</td>\n",
       "      <td>4</td>\n",
       "      <td>4</td>\n",
       "    </tr>\n",
       "    <tr>\n",
       "      <th>3</th>\n",
       "      <td>2017-04-01</td>\n",
       "      <td>5</td>\n",
       "      <td>5</td>\n",
       "    </tr>\n",
       "    <tr>\n",
       "      <th>4</th>\n",
       "      <td>2017-05-01</td>\n",
       "      <td>4</td>\n",
       "      <td>4</td>\n",
       "    </tr>\n",
       "  </tbody>\n",
       "</table>\n",
       "</div>"
      ],
      "text/plain": [
       "     periodo  sundays  saturdays\n",
       "0 2017-01-01        5          4\n",
       "1 2017-02-01        4          4\n",
       "2 2017-03-01        4          4\n",
       "3 2017-04-01        5          5\n",
       "4 2017-05-01        4          4"
      ]
     },
     "execution_count": 283,
     "metadata": {},
     "output_type": "execute_result"
    }
   ],
   "source": [
    "# Cantidad de domingos al mes\n",
    "sundays = pd.DataFrame(pd.date_range(start=pd.to_datetime(date_start), end=date_future + pd.offsets.MonthEnd(0)))\n",
    "# sundays = pd.DataFrame(pd.date_range(start=pd.to_datetime(date_start) - pd.DateOffset(years=1), end=date_future + pd.offsets.MonthEnd(0)))\n",
    "sundays.columns = [\"fecha\"]\n",
    "sundays[\"day_week\"] = pd.to_datetime(sundays['fecha'], format='%Y-%m-%d').dt.dayofweek\n",
    "sundays = sundays[sundays.day_week == 6].rename(columns = {\"day_week\":\"sundays\"})\n",
    "sundays = sundays.replace({6:1})\n",
    "sundays['periodo']=sundays['fecha'].apply(lambda x: x.replace(day=1))\n",
    "sundays = sundays.groupby([\"periodo\"])[\"sundays\"].sum().reset_index()\n",
    "sundays['periodo']=pd.to_datetime(sundays['periodo'], format='%Y-%m-%d')\n",
    "sundays[\"sundays\"] = sundays[\"sundays\"].astype(int)\n",
    "# Cantidad de sabados al mes\n",
    "saturdays = pd.DataFrame(pd.date_range(start=pd.to_datetime(date_start), end=date_future + pd.offsets.MonthEnd(0)))\n",
    "# saturdays = pd.DataFrame(pd.date_range(start=pd.to_datetime(date_start) - pd.DateOffset(years=1), end=date_future + pd.offsets.MonthEnd(0)))\n",
    "saturdays.columns = [\"fecha\"]\n",
    "saturdays[\"day_week\"] = pd.to_datetime(saturdays['fecha'], format='%Y-%m-%d').dt.dayofweek\n",
    "saturdays = saturdays[saturdays.day_week == 5].rename(columns = {\"day_week\":\"saturdays\"})\n",
    "saturdays = saturdays.replace({5:1})\n",
    "saturdays['periodo']=saturdays['fecha'].apply(lambda x: x.replace(day=1))\n",
    "saturdays = saturdays.groupby([\"periodo\"])[\"saturdays\"].sum().reset_index()\n",
    "saturdays[\"saturdays\"] = saturdays[\"saturdays\"].astype(int)\n",
    "saturdays['periodo']=pd.to_datetime(saturdays['periodo'], format='%Y-%m-%d')\n",
    "# DF conjunto\n",
    "sundays_saturdays = pd.merge(sundays, saturdays, how = \"inner\", on = \"periodo\")\n",
    "sundays_saturdays.head(5)"
   ]
  },
  {
   "cell_type": "code",
   "execution_count": 284,
   "metadata": {},
   "outputs": [],
   "source": [
    "df_related_product_v3 = pd.merge(df_related_product_v2, sundays_saturdays, how = \"left\", on = \"periodo\")"
   ]
  },
  {
   "cell_type": "markdown",
   "metadata": {},
   "source": [
    "- Agregamos desfasajes y lags de los últimos 12 meses"
   ]
  },
  {
   "cell_type": "code",
   "execution_count": 285,
   "metadata": {},
   "outputs": [],
   "source": [
    "def shift_series(df, columns_shift):\n",
    "    df_shift = df.copy()\n",
    "    df_shift = df_shift.sort_values(by=columns_shift + [\"periodo\"])\n",
    "    lags = range(1, 13)\n",
    "    for lag in lags:\n",
    "        df_shift[f'lag{lag}m'] = df_shift.groupby(columns_shift)['tn'].shift(lag)\n",
    "        deltas = range(1, 13) \n",
    "    for delta in deltas:\n",
    "        df_shift[f'delta{delta}'] = df_shift.groupby(columns_shift)['tn'].diff(periods=delta)\n",
    "    return df_shift"
   ]
  },
  {
   "cell_type": "code",
   "execution_count": 286,
   "metadata": {},
   "outputs": [
    {
     "data": {
      "text/plain": [
       "array([nan])"
      ]
     },
     "execution_count": 286,
     "metadata": {},
     "output_type": "execute_result"
    }
   ],
   "source": [
    "df_related_product_v4 = shift_series(df_related_product_v3, columns_shift = [\"product_id\"])\n",
    "# Los puntos de tn con nan durante el periodo de train, son rellenados con cero, para el futuro se quedan con nan\n",
    "df_related_product_v4[\"tn\"] = np.where(df_related_product_v4[\"periodo\"] <= date_end, df_related_product_v4[\"tn\"].fillna(0), df_related_product_v4[\"tn\"])\n",
    "df_related_product_v4[df_related_product_v4.periodo > date_end].tn.unique()"
   ]
  },
  {
   "cell_type": "markdown",
   "metadata": {},
   "source": [
    "Agregamos feature de % de ventas mensual sobre el total anual (por product_id) para recoger estacionalidad"
   ]
  },
  {
   "cell_type": "code",
   "execution_count": 287,
   "metadata": {},
   "outputs": [],
   "source": [
    "def calculate_monthly_percentage(df, columns_shift):\n",
    "    df_pesos = df.copy()\n",
    "    df_pesos[\"year\"] = df_pesos.periodo.dt.year\n",
    "    # Calcular el volumen total anual por product_id\n",
    "    annual_volume = df_pesos.groupby(columns_shift + ['year'])['tn'].sum().reset_index()\n",
    "    annual_volume.rename(columns={'tn': 'annual_tn'}, inplace=True)\n",
    "    # Unir el volumen anual de vuelta al DataFrame original\n",
    "    df_pesos = pd.merge(df_pesos, annual_volume, on=columns_shift + ['year'], how='left')\n",
    "    # Calcular el porcentaje del volumen mensual respecto al volumen anual (por año)\n",
    "    df_pesos['monthly_percentage'] = df_pesos['tn'] / df_pesos['annual_tn'] * 100\n",
    "    # Crear una columna shifted_monthly_percentage con el valor de monthly_percentage hace 12 meses\n",
    "    df_pesos['shifted_monthly_percentage'] = df_pesos.groupby(columns_shift)['monthly_percentage'].shift(12)\n",
    "    # Rellenar los NaN en monthly_percentage con los valores de shifted_monthly_percentage (serían los valores futuros)\n",
    "    df_pesos['monthly_percentage'] = df_pesos['monthly_percentage'].fillna(df_pesos['shifted_monthly_percentage'])\n",
    "    # Eliminar las columnas tn, shifted_monthly_percentage y year si no son necesarias\n",
    "    df_pesos = df_pesos.drop(columns=['shifted_monthly_percentage', 'year', 'annual_tn'])\n",
    "    df_pesos['monthly_percentage'] = df_pesos['monthly_percentage'].fillna(0)\n",
    "    return df_pesos"
   ]
  },
  {
   "cell_type": "code",
   "execution_count": 288,
   "metadata": {},
   "outputs": [],
   "source": [
    "df_related_product_v5 = calculate_monthly_percentage(df_related_product_v4, columns_shift = [\"product_id\"])\n",
    "df_related_product_v5 = df_related_product_v5.drop(columns = \"tn\")"
   ]
  },
  {
   "cell_type": "code",
   "execution_count": 289,
   "metadata": {},
   "outputs": [
    {
     "data": {
      "text/plain": [
       "True"
      ]
     },
     "execution_count": 289,
     "metadata": {},
     "output_type": "execute_result"
    }
   ],
   "source": [
    "len(df_related_product_v5) == len(df_related_product_v1)"
   ]
  },
  {
   "cell_type": "markdown",
   "metadata": {},
   "source": [
    "- Agregamos series macro relacionadas"
   ]
  },
  {
   "cell_type": "code",
   "execution_count": 290,
   "metadata": {},
   "outputs": [
    {
     "data": {
      "text/plain": [
       "periodo    datetime64[ns]\n",
       "ipc               float64\n",
       "dtype: object"
      ]
     },
     "execution_count": 290,
     "metadata": {},
     "output_type": "execute_result"
    }
   ],
   "source": [
    "df_ipc = pd.read_csv(\"C:/Users/usuario/otros/Desktop\\MCD/6 Labo III/Forecasting Problem/Datasets/BCRA_inflacion_esperada_proximos_12_meses.csv\", sep=';')\n",
    "df_ipc = df_ipc.rename(columns = {\"Fecha\":\"periodo\", \"inflacion_esperada_12_meses\": \"ipc\"})\n",
    "df_ipc['periodo'] = pd.to_datetime(df_ipc['periodo'], format='%d/%m/%Y').dt.to_period('M').dt.to_timestamp()\n",
    "df_ipc.dtypes"
   ]
  },
  {
   "cell_type": "code",
   "execution_count": 291,
   "metadata": {},
   "outputs": [
    {
     "data": {
      "text/plain": [
       "periodo    datetime64[ns]\n",
       "dolar             float64\n",
       "dtype: object"
      ]
     },
     "execution_count": 291,
     "metadata": {},
     "output_type": "execute_result"
    }
   ],
   "source": [
    "import requests\n",
    "import json\n",
    "fecha_desde = \"2017-01-01\"\n",
    "fecha_hasta = \"2020-02-29\"\n",
    "url = f\"https://mercados.ambito.com//dolar/informal/grafico/{fecha_desde}/{fecha_hasta}\"\n",
    "response = requests.get(url)\n",
    "data = json.loads(response.text)\n",
    "df_dolar = pd.DataFrame(data)\n",
    "df_dolar.columns = [\"periodo\", \"dolar\"]\n",
    "df_dolar = df_dolar.iloc[1:, :]\n",
    "df_dolar['periodo'] = pd.to_datetime(df_dolar['periodo'], format='%d/%m/%Y').dt.to_period('M').dt.to_timestamp()\n",
    "df_dolar = df_dolar.groupby([\"periodo\"])[\"dolar\"].mean().reset_index()\n",
    "df_dolar[\"dolar\"] = df_dolar[\"dolar\"].astype(float)\n",
    "df_dolar.dtypes"
   ]
  },
  {
   "cell_type": "code",
   "execution_count": 292,
   "metadata": {},
   "outputs": [
    {
     "data": {
      "text/html": [
       "<div>\n",
       "<style scoped>\n",
       "    .dataframe tbody tr th:only-of-type {\n",
       "        vertical-align: middle;\n",
       "    }\n",
       "\n",
       "    .dataframe tbody tr th {\n",
       "        vertical-align: top;\n",
       "    }\n",
       "\n",
       "    .dataframe thead th {\n",
       "        text-align: right;\n",
       "    }\n",
       "</style>\n",
       "<table border=\"1\" class=\"dataframe\">\n",
       "  <thead>\n",
       "    <tr style=\"text-align: right;\">\n",
       "      <th></th>\n",
       "      <th>periodo</th>\n",
       "      <th>ipc</th>\n",
       "      <th>dolar</th>\n",
       "    </tr>\n",
       "  </thead>\n",
       "  <tbody>\n",
       "    <tr>\n",
       "      <th>0</th>\n",
       "      <td>2017-01-01</td>\n",
       "      <td>19.7</td>\n",
       "      <td>16.853182</td>\n",
       "    </tr>\n",
       "  </tbody>\n",
       "</table>\n",
       "</div>"
      ],
      "text/plain": [
       "     periodo   ipc      dolar\n",
       "0 2017-01-01  19.7  16.853182"
      ]
     },
     "execution_count": 292,
     "metadata": {},
     "output_type": "execute_result"
    }
   ],
   "source": [
    "df_macro = pd.merge(df_ipc, df_dolar, how =\"inner\", on = \"periodo\")\n",
    "df_macro.head(1)"
   ]
  },
  {
   "cell_type": "code",
   "execution_count": 293,
   "metadata": {},
   "outputs": [
    {
     "data": {
      "text/plain": [
       "(Timestamp('2017-01-01 00:00:00'), Timestamp('2020-02-01 00:00:00'))"
      ]
     },
     "execution_count": 293,
     "metadata": {},
     "output_type": "execute_result"
    }
   ],
   "source": [
    "df_macro.periodo.min(), df_macro.periodo.max()"
   ]
  },
  {
   "cell_type": "code",
   "execution_count": 294,
   "metadata": {},
   "outputs": [
    {
     "data": {
      "text/html": [
       "<div>\n",
       "<style scoped>\n",
       "    .dataframe tbody tr th:only-of-type {\n",
       "        vertical-align: middle;\n",
       "    }\n",
       "\n",
       "    .dataframe tbody tr th {\n",
       "        vertical-align: top;\n",
       "    }\n",
       "\n",
       "    .dataframe thead th {\n",
       "        text-align: right;\n",
       "    }\n",
       "</style>\n",
       "<table border=\"1\" class=\"dataframe\">\n",
       "  <thead>\n",
       "    <tr style=\"text-align: right;\">\n",
       "      <th></th>\n",
       "      <th>periodo</th>\n",
       "      <th>product_id</th>\n",
       "      <th>month</th>\n",
       "      <th>quarter</th>\n",
       "      <th>days_in_month</th>\n",
       "      <th>sundays</th>\n",
       "      <th>saturdays</th>\n",
       "      <th>lag1m</th>\n",
       "      <th>lag2m</th>\n",
       "      <th>lag3m</th>\n",
       "      <th>...</th>\n",
       "      <th>delta6</th>\n",
       "      <th>delta7</th>\n",
       "      <th>delta8</th>\n",
       "      <th>delta9</th>\n",
       "      <th>delta10</th>\n",
       "      <th>delta11</th>\n",
       "      <th>delta12</th>\n",
       "      <th>monthly_percentage</th>\n",
       "      <th>ipc</th>\n",
       "      <th>dolar</th>\n",
       "    </tr>\n",
       "  </thead>\n",
       "  <tbody>\n",
       "    <tr>\n",
       "      <th>0</th>\n",
       "      <td>2017-01-01</td>\n",
       "      <td>20001</td>\n",
       "      <td>1</td>\n",
       "      <td>1</td>\n",
       "      <td>31</td>\n",
       "      <td>5</td>\n",
       "      <td>4</td>\n",
       "      <td>NaN</td>\n",
       "      <td>NaN</td>\n",
       "      <td>NaN</td>\n",
       "      <td>...</td>\n",
       "      <td>NaN</td>\n",
       "      <td>NaN</td>\n",
       "      <td>NaN</td>\n",
       "      <td>NaN</td>\n",
       "      <td>NaN</td>\n",
       "      <td>NaN</td>\n",
       "      <td>NaN</td>\n",
       "      <td>6.310483</td>\n",
       "      <td>19.7</td>\n",
       "      <td>16.853182</td>\n",
       "    </tr>\n",
       "    <tr>\n",
       "      <th>1</th>\n",
       "      <td>2017-02-01</td>\n",
       "      <td>20001</td>\n",
       "      <td>2</td>\n",
       "      <td>1</td>\n",
       "      <td>28</td>\n",
       "      <td>4</td>\n",
       "      <td>4</td>\n",
       "      <td>934.77222</td>\n",
       "      <td>NaN</td>\n",
       "      <td>NaN</td>\n",
       "      <td>...</td>\n",
       "      <td>NaN</td>\n",
       "      <td>NaN</td>\n",
       "      <td>NaN</td>\n",
       "      <td>NaN</td>\n",
       "      <td>NaN</td>\n",
       "      <td>NaN</td>\n",
       "      <td>NaN</td>\n",
       "      <td>5.387267</td>\n",
       "      <td>19.5</td>\n",
       "      <td>16.425000</td>\n",
       "    </tr>\n",
       "    <tr>\n",
       "      <th>2</th>\n",
       "      <td>2017-03-01</td>\n",
       "      <td>20001</td>\n",
       "      <td>3</td>\n",
       "      <td>1</td>\n",
       "      <td>31</td>\n",
       "      <td>4</td>\n",
       "      <td>4</td>\n",
       "      <td>798.01620</td>\n",
       "      <td>934.77222</td>\n",
       "      <td>NaN</td>\n",
       "      <td>...</td>\n",
       "      <td>NaN</td>\n",
       "      <td>NaN</td>\n",
       "      <td>NaN</td>\n",
       "      <td>NaN</td>\n",
       "      <td>NaN</td>\n",
       "      <td>NaN</td>\n",
       "      <td>NaN</td>\n",
       "      <td>8.798738</td>\n",
       "      <td>18.4</td>\n",
       "      <td>16.062273</td>\n",
       "    </tr>\n",
       "    <tr>\n",
       "      <th>3</th>\n",
       "      <td>2017-04-01</td>\n",
       "      <td>20001</td>\n",
       "      <td>4</td>\n",
       "      <td>2</td>\n",
       "      <td>30</td>\n",
       "      <td>5</td>\n",
       "      <td>5</td>\n",
       "      <td>1303.35771</td>\n",
       "      <td>798.01620</td>\n",
       "      <td>934.77222</td>\n",
       "      <td>...</td>\n",
       "      <td>NaN</td>\n",
       "      <td>NaN</td>\n",
       "      <td>NaN</td>\n",
       "      <td>NaN</td>\n",
       "      <td>NaN</td>\n",
       "      <td>NaN</td>\n",
       "      <td>NaN</td>\n",
       "      <td>7.223120</td>\n",
       "      <td>17.5</td>\n",
       "      <td>15.921667</td>\n",
       "    </tr>\n",
       "    <tr>\n",
       "      <th>4</th>\n",
       "      <td>2017-05-01</td>\n",
       "      <td>20001</td>\n",
       "      <td>5</td>\n",
       "      <td>2</td>\n",
       "      <td>31</td>\n",
       "      <td>4</td>\n",
       "      <td>4</td>\n",
       "      <td>1069.96130</td>\n",
       "      <td>1303.35771</td>\n",
       "      <td>798.01620</td>\n",
       "      <td>...</td>\n",
       "      <td>NaN</td>\n",
       "      <td>NaN</td>\n",
       "      <td>NaN</td>\n",
       "      <td>NaN</td>\n",
       "      <td>NaN</td>\n",
       "      <td>NaN</td>\n",
       "      <td>NaN</td>\n",
       "      <td>10.141096</td>\n",
       "      <td>17.0</td>\n",
       "      <td>16.104762</td>\n",
       "    </tr>\n",
       "  </tbody>\n",
       "</table>\n",
       "<p>5 rows × 34 columns</p>\n",
       "</div>"
      ],
      "text/plain": [
       "     periodo  product_id  month  quarter  days_in_month  sundays  saturdays   \n",
       "0 2017-01-01       20001      1        1             31        5          4  \\\n",
       "1 2017-02-01       20001      2        1             28        4          4   \n",
       "2 2017-03-01       20001      3        1             31        4          4   \n",
       "3 2017-04-01       20001      4        2             30        5          5   \n",
       "4 2017-05-01       20001      5        2             31        4          4   \n",
       "\n",
       "        lag1m       lag2m      lag3m  ...  delta6  delta7  delta8  delta9   \n",
       "0         NaN         NaN        NaN  ...     NaN     NaN     NaN     NaN  \\\n",
       "1   934.77222         NaN        NaN  ...     NaN     NaN     NaN     NaN   \n",
       "2   798.01620   934.77222        NaN  ...     NaN     NaN     NaN     NaN   \n",
       "3  1303.35771   798.01620  934.77222  ...     NaN     NaN     NaN     NaN   \n",
       "4  1069.96130  1303.35771  798.01620  ...     NaN     NaN     NaN     NaN   \n",
       "\n",
       "   delta10  delta11  delta12  monthly_percentage   ipc      dolar  \n",
       "0      NaN      NaN      NaN            6.310483  19.7  16.853182  \n",
       "1      NaN      NaN      NaN            5.387267  19.5  16.425000  \n",
       "2      NaN      NaN      NaN            8.798738  18.4  16.062273  \n",
       "3      NaN      NaN      NaN            7.223120  17.5  15.921667  \n",
       "4      NaN      NaN      NaN           10.141096  17.0  16.104762  \n",
       "\n",
       "[5 rows x 34 columns]"
      ]
     },
     "execution_count": 294,
     "metadata": {},
     "output_type": "execute_result"
    }
   ],
   "source": [
    "df_related_product_v6 = pd.merge(df_related_product_v5, df_macro, how =\"left\", on = \"periodo\")\n",
    "df_related_product_v6.head(5)"
   ]
  },
  {
   "cell_type": "markdown",
   "metadata": {},
   "source": [
    "- Exportamos"
   ]
  },
  {
   "cell_type": "code",
   "execution_count": 295,
   "metadata": {},
   "outputs": [
    {
     "name": "stdout",
     "output_type": "stream",
     "text": [
      "-------------------------\n",
      "Min periodo 2017-01-01 00:00:00\n",
      "Max periodo 2020-02-01 00:00:00\n",
      "Cantidad de productos 780\n",
      "-------------------------\n",
      "Tipos por columna \n",
      "periodo               datetime64[ns]\n",
      "product_id                    object\n",
      "month                          int32\n",
      "quarter                        int32\n",
      "days_in_month                  int32\n",
      "sundays                        int32\n",
      "saturdays                      int32\n",
      "lag1m                        float64\n",
      "lag2m                        float64\n",
      "lag3m                        float64\n",
      "lag4m                        float64\n",
      "lag5m                        float64\n",
      "lag6m                        float64\n",
      "lag7m                        float64\n",
      "lag8m                        float64\n",
      "lag9m                        float64\n",
      "lag10m                       float64\n",
      "lag11m                       float64\n",
      "lag12m                       float64\n",
      "delta1                       float64\n",
      "delta2                       float64\n",
      "delta3                       float64\n",
      "delta4                       float64\n",
      "delta5                       float64\n",
      "delta6                       float64\n",
      "delta7                       float64\n",
      "delta8                       float64\n",
      "delta9                       float64\n",
      "delta10                      float64\n",
      "delta11                      float64\n",
      "delta12                      float64\n",
      "monthly_percentage           float64\n",
      "ipc                          float64\n",
      "dolar                        float64\n",
      "dtype: object\n",
      "-------------------------\n",
      "Cantidad de NAN values \n",
      "periodo                   0\n",
      "product_id                0\n",
      "month                     0\n",
      "quarter                   0\n",
      "days_in_month             0\n",
      "sundays                   0\n",
      "saturdays                 0\n",
      "lag1m                  1586\n",
      "lag2m                  1586\n",
      "lag3m                  2366\n",
      "lag4m                  3146\n",
      "lag5m                  3926\n",
      "lag6m                  4706\n",
      "lag7m                  5477\n",
      "lag8m                  6233\n",
      "lag9m                  6965\n",
      "lag10m                 7681\n",
      "lag11m                 8386\n",
      "lag12m                 9059\n",
      "delta1                 2387\n",
      "delta2                 3168\n",
      "delta3                 3948\n",
      "delta4                 4726\n",
      "delta5                 5496\n",
      "delta6                 6252\n",
      "delta7                 6983\n",
      "delta8                 7698\n",
      "delta9                 8402\n",
      "delta10                9075\n",
      "delta11                9735\n",
      "delta12               10390\n",
      "monthly_percentage        0\n",
      "ipc                       0\n",
      "dolar                     0\n",
      "dtype: int64\n",
      "-------------------------\n"
     ]
    }
   ],
   "source": [
    "# Exportamos data relacionada, apertura por product\n",
    "# Nos aseguramos que cada serie temporal (por producto) comience en el mismo periodo que comienza en la serie de tiempo ppal de ventas\n",
    "df_min_period = df_ventas_product_export.groupby([\"product_id\"])[\"periodo\"].min().reset_index().rename(columns = {\"periodo\":\"min_periodo\"})\n",
    "df_related_product_v6['product_id'] = df_related_product_v6['product_id'].astype(str)\n",
    "df_related_product_export = pd.merge(df_related_product_v6, df_min_period, on='product_id')\n",
    "df_related_product_export = df_related_product_export[df_related_product_export['periodo'] >= df_related_product_export['min_periodo']]\n",
    "df_related_product_export = df_related_product_export.drop(columns=['min_periodo'])\n",
    "df_related_product_export = df_related_product_export[(df_related_product_export['periodo']<=date_future)]\n",
    "df_related_product_export.to_csv(\"C:/Users/usuario/otros/Desktop\\MCD/6 Labo III/Forecasting Problem/Datasets/df_related_product_v2.csv\", index=False, header=False)\n",
    "print(\"-------------------------\")\n",
    "print(f\"Min periodo {df_related_product_export.periodo.min()}\")\n",
    "print(f\"Max periodo {df_related_product_export.periodo.max()}\")\n",
    "print(f\"Cantidad de productos {len(df_related_product_export.product_id.unique())}\")\n",
    "print(\"-------------------------\")\n",
    "print(f\"Tipos por columna \\n{df_related_product_export.dtypes}\")\n",
    "print(\"-------------------------\")\n",
    "print(f\"Cantidad de NAN values \\n{df_related_product_export.isna().sum()}\")\n",
    "print(\"-------------------------\")"
   ]
  },
  {
   "cell_type": "code",
   "execution_count": 296,
   "metadata": {},
   "outputs": [
    {
     "data": {
      "text/plain": [
       "['periodo',\n",
       " 'product_id',\n",
       " 'month',\n",
       " 'quarter',\n",
       " 'days_in_month',\n",
       " 'sundays',\n",
       " 'saturdays',\n",
       " 'lag1m',\n",
       " 'lag2m',\n",
       " 'lag3m',\n",
       " 'lag4m',\n",
       " 'lag5m',\n",
       " 'lag6m',\n",
       " 'lag7m',\n",
       " 'lag8m',\n",
       " 'lag9m',\n",
       " 'lag10m',\n",
       " 'lag11m',\n",
       " 'lag12m',\n",
       " 'delta1',\n",
       " 'delta2',\n",
       " 'delta3',\n",
       " 'delta4',\n",
       " 'delta5',\n",
       " 'delta6',\n",
       " 'delta7',\n",
       " 'delta8',\n",
       " 'delta9',\n",
       " 'delta10',\n",
       " 'delta11',\n",
       " 'delta12',\n",
       " 'monthly_percentage',\n",
       " 'ipc',\n",
       " 'dolar']"
      ]
     },
     "execution_count": 296,
     "metadata": {},
     "output_type": "execute_result"
    }
   ],
   "source": [
    "df_related_product_export.columns.to_list()"
   ]
  },
  {
   "cell_type": "markdown",
   "metadata": {},
   "source": [
    "Chequear que cada combinacion en el df relacionado comience en misma fecha que en df principal"
   ]
  },
  {
   "cell_type": "code",
   "execution_count": 297,
   "metadata": {},
   "outputs": [
    {
     "data": {
      "text/html": [
       "<div>\n",
       "<style scoped>\n",
       "    .dataframe tbody tr th:only-of-type {\n",
       "        vertical-align: middle;\n",
       "    }\n",
       "\n",
       "    .dataframe tbody tr th {\n",
       "        vertical-align: top;\n",
       "    }\n",
       "\n",
       "    .dataframe thead th {\n",
       "        text-align: right;\n",
       "    }\n",
       "</style>\n",
       "<table border=\"1\" class=\"dataframe\">\n",
       "  <thead>\n",
       "    <tr style=\"text-align: right;\">\n",
       "      <th></th>\n",
       "      <th>product_id</th>\n",
       "      <th>min_period_ventas</th>\n",
       "      <th>min_period_related</th>\n",
       "    </tr>\n",
       "  </thead>\n",
       "  <tbody>\n",
       "  </tbody>\n",
       "</table>\n",
       "</div>"
      ],
      "text/plain": [
       "Empty DataFrame\n",
       "Columns: [product_id, min_period_ventas, min_period_related]\n",
       "Index: []"
      ]
     },
     "execution_count": 297,
     "metadata": {},
     "output_type": "execute_result"
    }
   ],
   "source": [
    "fecha_min_ventas = df_ventas_product_export.groupby([\"product_id\"])[\"periodo\"].min().reset_index().rename(columns = {\"periodo\":\"min_period_ventas\"})\n",
    "fecha_min_related = df_related_product_export.groupby([\"product_id\"])[\"periodo\"].min().reset_index().rename(columns = {\"periodo\":\"min_period_related\"})\n",
    "merge_fecha_min = pd.merge(fecha_min_ventas, fecha_min_related, how = \"outer\", on = \"product_id\")\n",
    "merge_fecha_min[merge_fecha_min.min_period_ventas != merge_fecha_min.min_period_related]"
   ]
  }
 ],
 "metadata": {
  "kernelspec": {
   "display_name": "Python 3",
   "language": "python",
   "name": "python3"
  },
  "language_info": {
   "codemirror_mode": {
    "name": "ipython",
    "version": 3
   },
   "file_extension": ".py",
   "mimetype": "text/x-python",
   "name": "python",
   "nbconvert_exporter": "python",
   "pygments_lexer": "ipython3",
   "version": "3.11.2"
  }
 },
 "nbformat": 4,
 "nbformat_minor": 2
}
